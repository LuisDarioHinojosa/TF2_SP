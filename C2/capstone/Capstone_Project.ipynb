{
  "nbformat": 4,
  "nbformat_minor": 0,
  "metadata": {
    "kernelspec": {
      "display_name": "Python 3",
      "name": "python3"
    },
    "language_info": {
      "name": "python"
    },
    "colab": {
      "name": "Copia de Capstone Project.ipynb",
      "provenance": [],
      "collapsed_sections": []
    },
    "gpuClass": "standard",
    "accelerator": "GPU"
  },
  "cells": [
    {
      "cell_type": "markdown",
      "metadata": {
        "id": "vsX0L1sG1iZj"
      },
      "source": [
        "# Capstone Project\n",
        "## Neural translation model\n",
        "### Instructions\n",
        "\n",
        "In this notebook, you will create a neural network that translates from English to German. You will use concepts from throughout this course, including building more flexible model architectures, freezing layers, data processing pipeline and sequence modelling.\n",
        "\n",
        "This project is peer-assessed. Within this notebook you will find instructions in each section for how to complete the project. Pay close attention to the instructions as the peer review will be carried out according to a grading rubric that checks key parts of the project instructions. Feel free to add extra cells into the notebook as required.\n",
        "\n",
        "### How to submit\n",
        "\n",
        "When you have completed the Capstone project notebook, you will submit a pdf of the notebook for peer review. First ensure that the notebook has been fully executed from beginning to end, and all of the cell outputs are visible. This is important, as the grading rubric depends on the reviewer being able to view the outputs of your notebook. Save the notebook as a pdf (you could download the notebook with File -> Download .ipynb, open the notebook locally, and then File -> Download as -> PDF via LaTeX), and then submit this pdf for review.\n",
        "\n",
        "### Let's get started!\n",
        "\n",
        "We'll start by running some imports, and loading the dataset. For this project you are free to make further imports throughout the notebook as you wish. "
      ]
    },
    {
      "cell_type": "code",
      "metadata": {
        "id": "2VyTvxPN1iZn"
      },
      "source": [
        "import tensorflow as tf\n",
        "import tensorflow_hub as hub\n",
        "import unicodedata\n",
        "import re\n",
        "from IPython.display import Image\n",
        "\n",
        "from tensorflow.keras.preprocessing.text import Tokenizer\n",
        "import numpy as np\n",
        "from tensorflow.keras.preprocessing.sequence import pad_sequences\n",
        "from sklearn.model_selection import train_test_split\n",
        "from tensorflow.data import Dataset\n",
        "from tensorflow.keras.layers import Layer, Add, Input, Masking, LSTM, Dense,Embedding\n",
        "from tensorflow.keras.models import Model\n",
        "from tensorflow.keras.losses import SparseCategoricalCrossentropy\n",
        "from tensorflow.keras.optimizers import Adam\n",
        "from tensorflow.keras.metrics import Mean\n",
        "import matplotlib.pyplot as plt"
      ],
      "execution_count": 1,
      "outputs": []
    },
    {
      "cell_type": "markdown",
      "metadata": {
        "id": "wuIi4lAR1iZt"
      },
      "source": [
        "For the capstone project, you will use a language dataset from http://www.manythings.org/anki/ to build a neural translation model. This dataset consists of over 200,000 pairs of sentences in English and German. In order to make the training quicker, we will restrict to our dataset to 20,000 pairs. Feel free to change this if you wish - the size of the dataset used is not part of the grading rubric.\n",
        "\n",
        "Your goal is to develop a neural translation model from English to German, making use of a pre-trained English word embedding module."
      ]
    },
    {
      "cell_type": "markdown",
      "metadata": {
        "id": "pi9Dq6vv3FVO"
      },
      "source": [
        "#### Import the data\n",
        "\n",
        "The dataset is available for download as a zip file at the following link:\n",
        "\n",
        "https://drive.google.com/open?id=1KczOciG7sYY7SB9UlBeRP1T9659b121Q\n",
        "\n",
        "You should store the unzipped folder in Drive for use in this Colab notebook."
      ]
    },
    {
      "cell_type": "code",
      "metadata": {
        "id": "Nw99tEEQ3bKL",
        "colab": {
          "base_uri": "https://localhost:8080/"
        },
        "outputId": "522fe56c-229f-4b32-8343-891c4753ec4e"
      },
      "source": [
        "# Run this cell to connect to your Drive folder\n",
        "\n",
        "from google.colab import drive\n",
        "drive.mount('/content/gdrive')"
      ],
      "execution_count": 2,
      "outputs": [
        {
          "output_type": "stream",
          "name": "stdout",
          "text": [
            "Mounted at /content/gdrive\n"
          ]
        }
      ]
    },
    {
      "cell_type": "code",
      "metadata": {
        "id": "o8PetPpw1iZu"
      },
      "source": [
        "# Run this cell to load the dataset\n",
        "\n",
        "NUM_EXAMPLES = 20000\n",
        "data_examples = []\n",
        "with open('/content/gdrive/MyDrive/Datasets_TensorflowSP/capstone_2/deu.txt', 'r', encoding='utf8') as f:\n",
        "    for line in f.readlines():\n",
        "        if len(data_examples) < NUM_EXAMPLES:\n",
        "            data_examples.append(line)\n",
        "        else:\n",
        "            break"
      ],
      "execution_count": 3,
      "outputs": []
    },
    {
      "cell_type": "code",
      "metadata": {
        "id": "JumLjJ631iZy"
      },
      "source": [
        "# These functions preprocess English and German sentences\n",
        "\n",
        "def unicode_to_ascii(s):\n",
        "    return ''.join(c for c in unicodedata.normalize('NFD', s) if unicodedata.category(c) != 'Mn')\n",
        "\n",
        "def preprocess_sentence(sentence):\n",
        "    sentence = sentence.lower().strip()\n",
        "    sentence = re.sub(r\"ü\", 'ue', sentence)\n",
        "    sentence = re.sub(r\"ä\", 'ae', sentence)\n",
        "    sentence = re.sub(r\"ö\", 'oe', sentence)\n",
        "    sentence = re.sub(r'ß', 'ss', sentence)\n",
        "    \n",
        "    sentence = unicode_to_ascii(sentence)\n",
        "    sentence = re.sub(r\"([?.!,])\", r\" \\1 \", sentence)\n",
        "    sentence = re.sub(r\"[^a-z?.!,']+\", \" \", sentence)\n",
        "    sentence = re.sub(r'[\" \"]+', \" \", sentence)\n",
        "    \n",
        "    return sentence.strip()"
      ],
      "execution_count": 4,
      "outputs": []
    },
    {
      "cell_type": "markdown",
      "metadata": {
        "id": "XFJap-TW1iZ2"
      },
      "source": [
        "#### The custom translation model\n",
        "The following is a schematic of the custom translation model architecture you will develop in this project."
      ]
    },
    {
      "cell_type": "code",
      "metadata": {
        "id": "gBF1K2JN4RFJ",
        "colab": {
          "base_uri": "https://localhost:8080/",
          "height": 648
        },
        "outputId": "123f30cd-1adb-4c94-a526-30cf408e0355"
      },
      "source": [
        "# Run this cell to download and view a schematic diagram for the neural translation model\n",
        "\n",
        "!wget -q -O neural_translation_model.png --no-check-certificate \"https://docs.google.com/uc?export=download&id=1XsS1VlXoaEo-RbYNilJ9jcscNZvsSPmd\"\n",
        "Image(\"neural_translation_model.png\")"
      ],
      "execution_count": 5,
      "outputs": [
        {
          "output_type": "execute_result",
          "data": {
            "text/plain": [
              "<IPython.core.display.Image object>"
            ],
            "image/png": "[encoded data removed]"
          },
          "metadata": {},
          "execution_count": 5
        }
      ]
    },
    {
      "cell_type": "markdown",
      "metadata": {
        "id": "0fP7P-yK4RS7"
      },
      "source": [
        "The custom model consists of an encoder RNN and a decoder RNN. The encoder takes words of an English sentence as input, and uses a pre-trained word embedding to embed the words into a 128-dimensional space. To indicate the end of the input sentence, a special end token (in the same 128-dimensional space) is passed in as an input. This token is a TensorFlow Variable that is learned in the training phase (unlike the pre-trained word embedding, which is frozen).\n",
        "\n",
        "The decoder RNN takes the internal state of the encoder network as its initial state. A start token is passed in as the first input, which is embedded using a learned German word embedding. The decoder RNN then makes a prediction for the next German word, which during inference is then passed in as the following input, and this process is repeated until the special `<end>` token is emitted from the decoder."
      ]
    },
    {
      "cell_type": "markdown",
      "metadata": {
        "id": "z70nu6_01iZ3"
      },
      "source": [
        "## 1. Text preprocessing\n",
        "* Create separate lists of English and German sentences, and preprocess them using the `preprocess_sentence` function provided for you above.\n",
        "* Add a special `\"<start>\"` and `\"<end>\"` token to the beginning and end of every German sentence.\n",
        "* Use the Tokenizer class from the `tf.keras.preprocessing.text` module to tokenize the German sentences, ensuring that no character filters are applied. _Hint: use the Tokenizer's \"filter\" keyword argument._\n",
        "* Print out at least 5 randomly chosen examples of (preprocessed) English and German sentence pairs. For the German sentence, print out the text (with start and end tokens) as well as the tokenized sequence.\n",
        "* Pad the end of the tokenized German sequences with zeros, and batch the complete set of sequences into one numpy array."
      ]
    },
    {
      "cell_type": "code",
      "metadata": {
        "scrolled": true,
        "id": "9G20C4bk1iZ4",
        "colab": {
          "base_uri": "https://localhost:8080/"
        },
        "outputId": "8d320575-5b9f-49eb-e523-b9bd41c53c19"
      },
      "source": [
        "print(data_examples[0])"
      ],
      "execution_count": 6,
      "outputs": [
        {
          "output_type": "stream",
          "name": "stdout",
          "text": [
            "Hi.\tHallo!\tCC-BY 2.0 (France) Attribution: tatoeba.org #538123 (CM) & #380701 (cburgmer)\n",
            "\n"
          ]
        }
      ]
    },
    {
      "cell_type": "code",
      "metadata": {
        "id": "Sxwl-1rB1iZ8"
      },
      "source": [
        "# steps 1 and 2\n",
        "englishSamples = list()\n",
        "germanSamples = list()\n",
        "for example in data_examples:\n",
        "  eng,ger = example.split(\"\\t\")[:2]\n",
        "  eng = preprocess_sentence(eng)\n",
        "  ger = preprocess_sentence(ger)\n",
        "  ger = \"<start> \"+ger+\" <end>\"\n",
        "  englishSamples.append(eng)\n",
        "  germanSamples.append(ger)\n"
      ],
      "execution_count": 7,
      "outputs": []
    },
    {
      "cell_type": "code",
      "metadata": {
        "id": "WnIdqZFk1iaA"
      },
      "source": [
        "tokenizer = Tokenizer(num_words = None,lower = True,filters = '')"
      ],
      "execution_count": 8,
      "outputs": []
    },
    {
      "cell_type": "code",
      "metadata": {
        "id": "5UlnBdIK1iaE"
      },
      "source": [
        "# step 3\n",
        "tokenizer.fit_on_texts(germanSamples)\n",
        "gerTokens = tokenizer.texts_to_sequences(germanSamples)"
      ],
      "execution_count": 9,
      "outputs": []
    },
    {
      "cell_type": "code",
      "metadata": {
        "id": "ZGTaqt1t1iaI",
        "colab": {
          "base_uri": "https://localhost:8080/"
        },
        "outputId": "0616d17e-6ca3-4c26-e811-507d81bc0198"
      },
      "source": [
        "print(len(germanSamples))\n",
        "print(len(gerTokens))\n",
        "print(len(englishSamples))"
      ],
      "execution_count": 10,
      "outputs": [
        {
          "output_type": "stream",
          "name": "stdout",
          "text": [
            "20000\n",
            "20000\n",
            "20000\n"
          ]
        }
      ]
    },
    {
      "cell_type": "code",
      "metadata": {
        "id": "fqiO7HuQ1iaL",
        "colab": {
          "base_uri": "https://localhost:8080/"
        },
        "outputId": "cc54e613-c244-43a7-ee80-2517af57f765"
      },
      "source": [
        "# step 4\n",
        "indices = np.random.choice(20000,5)\n",
        "for index in indices:\n",
        "  eng = englishSamples[index]\n",
        "  ger = germanSamples[index]\n",
        "  token = gerTokens[index]\n",
        "  print(f\"English: {eng}\")\n",
        "  print(f\"German: {ger}\")\n",
        "  print(f\"Token: {token}\")\n"
      ],
      "execution_count": 11,
      "outputs": [
        {
          "output_type": "stream",
          "name": "stdout",
          "text": [
            "English: don't mind me .\n",
            "German: <start> beachtet mich gar nicht ! <end>\n",
            "Token: [1, 3542, 22, 1094, 12, 9, 2]\n",
            "English: it's about time .\n",
            "German: <start> es ist dann so weit . <end>\n",
            "Token: [1, 10, 6, 912, 70, 342, 3, 2]\n",
            "English: tom will explain .\n",
            "German: <start> tom wird es erklaeren . <end>\n",
            "Token: [1, 5, 48, 10, 1021, 3, 2]\n",
            "English: he raised his arm .\n",
            "German: <start> er hob seinen arm . <end>\n",
            "Token: [1, 14, 5546, 455, 297, 3, 2]\n",
            "English: tom dislikes me .\n",
            "German: <start> tom mag mich nicht . <end>\n",
            "Token: [1, 5, 51, 22, 12, 3, 2]\n"
          ]
        }
      ]
    },
    {
      "cell_type": "code",
      "source": [
        "# step 5\n",
        "germanPadding = pad_sequences(gerTokens,padding = \"post\")"
      ],
      "metadata": {
        "id": "DyooawxVytjT"
      },
      "execution_count": 12,
      "outputs": []
    },
    {
      "cell_type": "code",
      "source": [
        "print(germanPadding)"
      ],
      "metadata": {
        "colab": {
          "base_uri": "https://localhost:8080/"
        },
        "id": "c_sADmk9zoUH",
        "outputId": "6232fe47-6323-4c14-d950-05ba3d689756"
      },
      "execution_count": 13,
      "outputs": [
        {
          "output_type": "stream",
          "name": "stdout",
          "text": [
            "[[   1  405    9 ...    0    0    0]\n",
            " [   1 3155  663 ...    0    0    0]\n",
            " [   1  975    9 ...    0    0    0]\n",
            " ...\n",
            " [   1    4   15 ...    0    0    0]\n",
            " [   1    4   18 ...    0    0    0]\n",
            " [   1    4   18 ...    0    0    0]]\n"
          ]
        }
      ]
    },
    {
      "cell_type": "markdown",
      "metadata": {
        "id": "foL7Ihs21iaP"
      },
      "source": [
        "## 2. Prepare the data"
      ]
    },
    {
      "cell_type": "markdown",
      "metadata": {
        "id": "-9rCEE4z1iaQ"
      },
      "source": [
        "#### Load the embedding layer\n",
        "As part of the dataset preproceessing for this project, you will use a pre-trained English word embedding module from TensorFlow Hub. The URL for the module is https://tfhub.dev/google/tf2-preview/nnlm-en-dim128-with-normalization/1.\n",
        "\n",
        "This embedding takes a batch of text tokens in a 1-D tensor of strings as input. It then embeds the separate tokens into a 128-dimensional space. \n",
        "\n",
        "The code to load and test the embedding layer is provided for you below.\n",
        "\n",
        "**NB:** this model can also be used as a sentence embedding module. The module will process each token by removing punctuation and splitting on spaces. It then averages the word embeddings over a sentence to give a single embedding vector. However, we will use it only as a word embedding module, and will pass each word in the input sentence as a separate token."
      ]
    },
    {
      "cell_type": "code",
      "metadata": {
        "id": "ywZgobCh1iaR"
      },
      "source": [
        "# Load embedding module from Tensorflow Hub\n",
        "\n",
        "embedding_layer = hub.KerasLayer(\"https://tfhub.dev/google/tf2-preview/nnlm-en-dim128/1\", \n",
        "                                 output_shape=[128], input_shape=[], dtype=tf.string)"
      ],
      "execution_count": 14,
      "outputs": []
    },
    {
      "cell_type": "code",
      "metadata": {
        "id": "TiY8QEDp1iaV",
        "colab": {
          "base_uri": "https://localhost:8080/"
        },
        "outputId": "57572ebc-2ea6-41a3-bffe-82a12ac95354"
      },
      "source": [
        "# Test the layer\n",
        "\n",
        "embedding_layer(tf.constant([\"these\", \"aren't\", \"the\", \"droids\", \"you're\", \"looking\", \"for\"])).shape"
      ],
      "execution_count": 15,
      "outputs": [
        {
          "output_type": "execute_result",
          "data": {
            "text/plain": [
              "TensorShape([7, 128])"
            ]
          },
          "metadata": {},
          "execution_count": 15
        }
      ]
    },
    {
      "cell_type": "markdown",
      "metadata": {
        "id": "KjuzXc-z1iaY"
      },
      "source": [
        "You should now prepare the training and validation Datasets.\n",
        "\n",
        "* Create a random training and validation set split of the data, reserving e.g. 20% of the data for validation (NB: each English dataset example is a single sentence string, and each German dataset example is a sequence of padded integer tokens).\n",
        "* Load the training and validation sets into a tf.data.Dataset object, passing in a tuple of English and German data for both training and validation sets.\n",
        "* Create a function to map over the datasets that splits each English sentence at spaces. Apply this function to both Dataset objects using the map method. _Hint: look at the tf.strings.split function._\n",
        "* Create a function to map over the datasets that embeds each sequence of English words using the loaded embedding layer/model. Apply this function to both Dataset objects using the map method.\n",
        "* Create a function to filter out dataset examples where the English sentence is greater than or equal to than 13 (embedded) tokens in length. Apply this function to both Dataset objects using the filter method.\n",
        "* Create a function to map over the datasets that pads each English sequence of embeddings with some distinct padding value before the sequence, so that each sequence is length 13. Apply this function to both Dataset objects using the map method. _Hint: look at the tf.pad function. You can extract a Tensor shape using tf.shape; you might also find the tf.math.maximum function useful._\n",
        "* Batch both training and validation Datasets with a batch size of 16.\n",
        "* Print the `element_spec` property for the training and validation Datasets. \n",
        "* Using the Dataset `.take(1)` method, print the shape of the English data example from the training Dataset.\n",
        "* Using the Dataset `.take(1)` method, print the German data example Tensor from the validation Dataset."
      ]
    },
    {
      "cell_type": "code",
      "metadata": {
        "id": "Q-BUJOl_1iaZ"
      },
      "source": [
        "# step 1\n",
        "xTrain,xVal,yTrain,yVal = train_test_split(englishSamples,germanPadding,random_state = 0, test_size = 0.2)"
      ],
      "execution_count": 16,
      "outputs": []
    },
    {
      "cell_type": "code",
      "metadata": {
        "id": "4w6rM8Bl1iad"
      },
      "source": [
        "# step 2\n",
        "trainDataset = Dataset.from_tensor_slices((xTrain, yTrain))\n",
        "valDataset = Dataset.from_tensor_slices((xVal, yVal))"
      ],
      "execution_count": 17,
      "outputs": []
    },
    {
      "cell_type": "code",
      "metadata": {
        "id": "D7bn3mRs1iaj"
      },
      "source": [
        "\n",
        "def datasetPreprocessing(dataset):\n",
        "    def englisSplit(x, y):\n",
        "        return tf.strings.split(x, sep=\" \"), y\n",
        "    \n",
        "    def mbed(x ,y):\n",
        "        return embedding_layer(x), y\n",
        "    \n",
        "    def applyFilter(x, y):\n",
        "      return tf.less_equal(len(x), 13)\n",
        "\n",
        "    \n",
        "    def sequencePadding(x, y):\n",
        "        padding = [[13 - len(x), 0], [0, 0]]\n",
        "        return tf.pad(x, padding), y\n",
        "    \n",
        "    dataset = dataset.map(englisSplit)\n",
        "    dataset = dataset.map(mbed)\n",
        "    dataset = dataset.filter(applyFilter)\n",
        "    dataset = dataset.map(sequencePadding)\n",
        "    dataset = dataset.batch(16, drop_remainder=True)\n",
        "\n",
        "    return dataset\n",
        "\n",
        "\n"
      ],
      "execution_count": 18,
      "outputs": []
    },
    {
      "cell_type": "code",
      "source": [
        "trainDataset = datasetPreprocessing(trainDataset)\n",
        "valDataset = datasetPreprocessing(valDataset)"
      ],
      "metadata": {
        "id": "X7E-mjeyR1g2"
      },
      "execution_count": 19,
      "outputs": []
    },
    {
      "cell_type": "code",
      "metadata": {
        "id": "q0Fdso381ian",
        "colab": {
          "base_uri": "https://localhost:8080/"
        },
        "outputId": "e7b6d41d-c3ed-4e32-ab8e-1c4dcb18c3ca"
      },
      "source": [
        "# Print the element spec for each Dataset\n",
        "print(trainDataset.element_spec)\n",
        "print(valDataset.element_spec)"
      ],
      "execution_count": 20,
      "outputs": [
        {
          "output_type": "stream",
          "name": "stdout",
          "text": [
            "(TensorSpec(shape=(16, None, 128), dtype=tf.float32, name=None), TensorSpec(shape=(16, 14), dtype=tf.int32, name=None))\n",
            "(TensorSpec(shape=(16, None, 128), dtype=tf.float32, name=None), TensorSpec(shape=(16, 14), dtype=tf.int32, name=None))\n"
          ]
        }
      ]
    },
    {
      "cell_type": "code",
      "metadata": {
        "id": "bGqlxuqZ1ias",
        "colab": {
          "base_uri": "https://localhost:8080/"
        },
        "outputId": "7d1e2a9c-44a6-4d16-af3a-7b4fdb14513d"
      },
      "source": [
        "x, y = next(iter(trainDataset.take(1)))\n",
        "print(f\"English Training Shape: {x.shape}\")\n",
        "print(f\"German Token Validation Set: {y.shape}\")"
      ],
      "execution_count": 21,
      "outputs": [
        {
          "output_type": "stream",
          "name": "stdout",
          "text": [
            "English Training Shape: (16, 13, 128)\n",
            "German Token Validation Set: (16, 14)\n"
          ]
        }
      ]
    },
    {
      "cell_type": "code",
      "metadata": {
        "id": "MdqSXEoX1iav"
      },
      "source": [
        ""
      ],
      "execution_count": 21,
      "outputs": []
    },
    {
      "cell_type": "markdown",
      "metadata": {
        "id": "isIYhjq01iay"
      },
      "source": [
        "## 3. Create the custom layer\n",
        "You will now create a custom layer to add the learned end token embedding to the encoder model:"
      ]
    },
    {
      "cell_type": "code",
      "metadata": {
        "id": "e22f1Xyh6xvE",
        "colab": {
          "base_uri": "https://localhost:8080/",
          "height": 423
        },
        "outputId": "f25531bc-1131-4c18-8bf3-660f318887bb"
      },
      "source": [
        "# Run this cell to download and view a schematic diagram for the encoder model\n",
        "\n",
        "!wget -q -O neural_translation_model.png --no-check-certificate \"https://docs.google.com/uc?export=download&id=1JrtNOzUJDaOWrK4C-xv-4wUuZaI12sQI\"\n",
        "Image(\"neural_translation_model.png\")"
      ],
      "execution_count": 22,
      "outputs": [
        {
          "output_type": "execute_result",
          "data": {
            "text/plain": [
              "<IPython.core.display.Image object>"
            ],
            "image/png": "[encoded data removed]"
          },
          "metadata": {},
          "execution_count": 22
        }
      ]
    },
    {
      "cell_type": "markdown",
      "metadata": {
        "id": "M6gLIHG81iaz"
      },
      "source": [
        "You should now build the custom layer.\n",
        "* Using layer subclassing, create a custom layer that takes a batch of English data examples from one of the Datasets, and adds a learned embedded ‘end’ token to the end of each sequence. \n",
        "* This layer should create a TensorFlow Variable (that will be learned during training) that is 128-dimensional (the size of the embedding space). _Hint: you may find it helpful in the call method to use the tf.tile function to replicate the end token embedding across every element in the batch._\n",
        "* Using the Dataset `.take(1)` method, extract a batch of English data examples from the training Dataset and print the shape. Test the custom layer by calling the layer on the English data batch Tensor and print the resulting Tensor shape (the layer should increase the sequence length by one)."
      ]
    },
    {
      "cell_type": "code",
      "metadata": {
        "id": "yg9hjZz11ia0"
      },
      "source": [
        "class MbedLayer(Layer):\n",
        "  def __init__(self,**kwargs):\n",
        "    super(MbedLayer,self).__init__(**kwargs)\n",
        "    self.mbed = tf.Variable(initial_value=tf.random.uniform(shape=(128,)), trainable=True)\n",
        "  def call(self,input):\n",
        "    l = tf.tile(tf.reshape(self.mbed, shape=(1, 1, tf.shape(self.mbed)[0])),[tf.shape(input)[0], 1, 1])\n",
        "    #l = Add()([l,input])       \n",
        "    return tf.concat([tf.cast(input,tf.float32), tf.cast(l,tf.float32)], axis=1)"
      ],
      "execution_count": 23,
      "outputs": []
    },
    {
      "cell_type": "code",
      "metadata": {
        "id": "4PwI32O11ia3",
        "colab": {
          "base_uri": "https://localhost:8080/"
        },
        "outputId": "d39f4bc1-7ccc-4a43-ccc2-d269cbcf62bb"
      },
      "source": [
        "print(f\"batch before: {x.shape}\")\n",
        "print(f\"batch after: {MbedLayer()(x).shape}\")"
      ],
      "execution_count": 24,
      "outputs": [
        {
          "output_type": "stream",
          "name": "stdout",
          "text": [
            "batch before: (16, 13, 128)\n",
            "batch after: (16, 14, 128)\n"
          ]
        }
      ]
    },
    {
      "cell_type": "code",
      "metadata": {
        "id": "ebjK8PmL1ia6"
      },
      "source": [
        ""
      ],
      "execution_count": 24,
      "outputs": []
    },
    {
      "cell_type": "markdown",
      "metadata": {
        "id": "OAd3i4_y1ia-"
      },
      "source": [
        "## 4. Build the encoder network\n",
        "The encoder network follows the schematic diagram above. You should now build the RNN encoder model.\n",
        "* Using the functional API, build the encoder network according to the following spec:\n",
        "    * The model will take a batch of sequences of embedded English words as input, as given by the Dataset objects.\n",
        "    * The next layer in the encoder will be the custom layer you created previously, to add a learned end token embedding to the end of the English sequence.\n",
        "    * This is followed by a Masking layer, with the `mask_value` set to the distinct padding value you used when you padded the English sequences with the Dataset preprocessing above.\n",
        "    * The final layer is an LSTM layer with 512 units, which also returns the hidden and cell states.\n",
        "    * The encoder is a multi-output model. There should be two output Tensors of this model: the hidden state and cell states of the LSTM layer. The output of the LSTM layer is unused.\n",
        "* Using the Dataset `.take(1)` method, extract a batch of English data examples from the training Dataset and test the encoder model by calling it on the English data Tensor, and print the shape of the resulting Tensor outputs.\n",
        "* Print the model summary for the encoder network."
      ]
    },
    {
      "cell_type": "code",
      "metadata": {
        "id": "6R2LqbfV1ia_"
      },
      "source": [
        "def encode(inputShape):\n",
        "  input = Input(shape = inputShape)\n",
        "  h = MbedLayer()(input)\n",
        "  h = Masking(mask_value=0)(h)\n",
        "  out,hidden,cell = LSTM(512,return_state=True)(h)\n",
        "  model = Model(input,[hidden,cell])\n",
        "  return model"
      ],
      "execution_count": 25,
      "outputs": []
    },
    {
      "cell_type": "code",
      "metadata": {
        "id": "e5XW6NxL1ibC",
        "colab": {
          "base_uri": "https://localhost:8080/"
        },
        "outputId": "9fa80a00-0721-4f22-e35e-0168190b48b8"
      },
      "source": [
        "model = encode((13,128))\n",
        "model.summary()"
      ],
      "execution_count": 26,
      "outputs": [
        {
          "output_type": "stream",
          "name": "stdout",
          "text": [
            "Model: \"model\"\n",
            "_________________________________________________________________\n",
            " Layer (type)                Output Shape              Param #   \n",
            "=================================================================\n",
            " input_1 (InputLayer)        [(None, 13, 128)]         0         \n",
            "                                                                 \n",
            " mbed_layer_1 (MbedLayer)    (None, 14, 128)           128       \n",
            "                                                                 \n",
            " masking (Masking)           (None, 14, 128)           0         \n",
            "                                                                 \n",
            " lstm (LSTM)                 [(None, 512),             1312768   \n",
            "                              (None, 512),                       \n",
            "                              (None, 512)]                       \n",
            "                                                                 \n",
            "=================================================================\n",
            "Total params: 1,312,896\n",
            "Trainable params: 1,312,896\n",
            "Non-trainable params: 0\n",
            "_________________________________________________________________\n"
          ]
        }
      ]
    },
    {
      "cell_type": "code",
      "metadata": {
        "id": "jEk9ikVh1ibL",
        "colab": {
          "base_uri": "https://localhost:8080/"
        },
        "outputId": "f0aa2c49-188a-49e8-8f87-ce98574b6091"
      },
      "source": [
        "print(f\"model hidden state: {model(x)[0].shape}\")\n",
        "print(f\"model shaoe state: {model(x)[1].shape}\")\n"
      ],
      "execution_count": 27,
      "outputs": [
        {
          "output_type": "stream",
          "name": "stdout",
          "text": [
            "model hidden state: (16, 512)\n",
            "model shaoe state: (16, 512)\n"
          ]
        }
      ]
    },
    {
      "cell_type": "markdown",
      "metadata": {
        "id": "KvkzpCeZ1ibR"
      },
      "source": [
        "## 5. Build the decoder network\n",
        "The decoder network follows the schematic diagram below. "
      ]
    },
    {
      "cell_type": "code",
      "metadata": {
        "id": "yOjEb7cH7Y4S",
        "colab": {
          "base_uri": "https://localhost:8080/",
          "height": 501
        },
        "outputId": "c453683d-b65b-4a14-a280-4be26e3aa95a"
      },
      "source": [
        "# Run this cell to download and view a schematic diagram for the decoder model\n",
        "\n",
        "!wget -q -O neural_translation_model.png --no-check-certificate \"https://docs.google.com/uc?export=download&id=1DTeaXD8tA8RjkpVrB2mr9csSBOY4LQiW\"\n",
        "Image(\"neural_translation_model.png\")"
      ],
      "execution_count": 28,
      "outputs": [
        {
          "output_type": "execute_result",
          "data": {
            "text/plain": [
              "<IPython.core.display.Image object>"
            ],
            "image/png": "[encoded data removed]"
          },
          "metadata": {},
          "execution_count": 28
        }
      ]
    },
    {
      "cell_type": "markdown",
      "metadata": {
        "id": "VPBK8WGL1ibS"
      },
      "source": [
        "You should now build the RNN decoder model.\n",
        "* Using Model subclassing, build the decoder network according to the following spec:\n",
        "    * The initializer should create the following layers:\n",
        "        * An Embedding layer with vocabulary size set to the number of unique German tokens, embedding dimension 128, and set to mask zero values in the input.\n",
        "        * An LSTM layer with 512 units, that returns its hidden and cell states, and also returns sequences.\n",
        "        * A Dense layer with number of units equal to the number of unique German tokens, and no activation function.\n",
        "    * The call method should include the usual `inputs` argument, as well as the additional keyword arguments `hidden_state` and `cell_state`. The default value for these keyword arguments should be `None`.\n",
        "    * The call method should pass the inputs through the Embedding layer, and then through the LSTM layer. If the `hidden_state` and `cell_state` arguments are provided, these should be used for the initial state of the LSTM layer. _Hint: use the_ `initial_state` _keyword argument when calling the LSTM layer on its input._\n",
        "    * The call method should pass the LSTM output sequence through the Dense layer, and return the resulting Tensor, along with the hidden and cell states of the LSTM layer.\n",
        "* Using the Dataset `.take(1)` method, extract a batch of English and German data examples from the training Dataset. Test the decoder model by first calling the encoder model on the English data Tensor to get the hidden and cell states, and then call the decoder model on the German data Tensor and hidden and cell states, and print the shape of the resulting decoder Tensor outputs.\n",
        "* Print the model summary for the decoder network."
      ]
    },
    {
      "cell_type": "code",
      "metadata": {
        "id": "l50qhnXD1ibT"
      },
      "source": [
        "class Decode(Model):\n",
        "  def __init__(self,germanTokens,**kwargs):\n",
        "    super(Decode,self).__init__(**kwargs)\n",
        "    self.mbed = Embedding(germanTokens, 128, mask_zero=True)\n",
        "    self.lstm = LSTM(512,return_state=True,return_sequences=True)\n",
        "    self.dense = Dense(germanTokens)\n",
        "\n",
        "\n",
        "  def call(self,inputs,hiddenState = None,cellState = None):\n",
        "    h = self.mbed(inputs)\n",
        "    #     h, hidden, cell = self.lstm(inputs=h) if cellState is None and hiddenState is None else h, hidden, cell = self.lstm(inputs=h, initial_state=[hiddenState, cellState])\n",
        "    if cellState is None and hiddenState is None:\n",
        "      h, hidden, cell = self.lstm(inputs=h)\n",
        "    else:\n",
        "      h, hidden, cell = self.lstm(inputs=h, initial_state=[hiddenState, cellState])\n",
        "    h = self.dense(h)\n",
        "    return h, hidden, cell     \n"
      ],
      "execution_count": 29,
      "outputs": []
    },
    {
      "cell_type": "code",
      "source": [
        "gerVoc = len(tokenizer.word_index) + 1\n",
        "decoder = Decode(gerVoc)\n"
      ],
      "metadata": {
        "id": "5iirw1pBXyJS"
      },
      "execution_count": 30,
      "outputs": []
    },
    {
      "cell_type": "code",
      "metadata": {
        "id": "vG5CRIXV1ibi",
        "colab": {
          "base_uri": "https://localhost:8080/"
        },
        "outputId": "0451257b-b7ca-4f37-b1f9-d1cc63d48971"
      },
      "source": [
        "\n",
        "x,y = next(iter(trainDataset.take(1)))\n",
        "print(\"input shape-> \", x.shape)\n",
        "hs, cs = model(x)\n",
        "print(\"after encoding -> \", hs.shape, cs.shape)\n",
        "y, cs, hs = decoder(y, hs, cs)\n",
        "print(\"decoder stuff -> \", y.shape, cs.shape, hs.shape)"
      ],
      "execution_count": 31,
      "outputs": [
        {
          "output_type": "stream",
          "name": "stdout",
          "text": [
            "input shape->  (16, 13, 128)\n",
            "after encoding ->  (16, 512) (16, 512)\n",
            "decoder stuff ->  (16, 14, 5744) (16, 512) (16, 512)\n"
          ]
        }
      ]
    },
    {
      "cell_type": "markdown",
      "metadata": {
        "id": "pST9XGJ81ibo"
      },
      "source": [
        "## 6. Make a custom training loop\n",
        "You should now write a custom training loop to train your custom neural translation model.\n",
        "* Define a function that takes a Tensor batch of German data (as extracted from the training Dataset), and returns a tuple containing German inputs and outputs for the decoder model (refer to schematic diagram above).\n",
        "* Define a function that computes the forward and backward pass for your translation model. This function should take an English input, German input and German output as arguments, and should do the following:\n",
        "    * Pass the English input into the encoder, to get the hidden and cell states of the encoder LSTM.\n",
        "    * These hidden and cell states are then passed into the decoder, along with the German inputs, which returns a sequence of outputs (the hidden and cell state outputs of the decoder LSTM are unused in this function).\n",
        "    * The loss should then be computed between the decoder outputs and the German output function argument.\n",
        "    * The function returns the loss and gradients with respect to the encoder and decoder’s trainable variables.\n",
        "    * Decorate the function with `@tf.function`\n",
        "* Define and run a custom training loop for a number of epochs (for you to choose) that does the following:\n",
        "    * Iterates through the training dataset, and creates decoder inputs and outputs from the German sequences.\n",
        "    * Updates the parameters of the translation model using the gradients of the function above and an optimizer object.\n",
        "    * Every epoch, compute the validation loss on a number of batches from the validation and save the epoch training and validation losses.\n",
        "* Plot the learning curves for loss vs epoch for both training and validation sets.\n",
        "\n",
        "_Hint: This model is computationally demanding to train. The quality of the model or length of training is not a factor in the grading rubric. However, to obtain a better model we recommend using the GPU accelerator hardware on Colab._"
      ]
    },
    {
      "cell_type": "code",
      "source": [
        "def getTupples(sample):\n",
        "  return sample[:, :-1], sample[:, 1:]"
      ],
      "metadata": {
        "id": "i8F2rZh2GRw4"
      },
      "execution_count": 32,
      "outputs": []
    },
    {
      "cell_type": "code",
      "metadata": {
        "id": "7hJHbWqs1ibr"
      },
      "source": [
        "def resetModel(x,y,gerVoc):\n",
        "  encoderInputShape = tf.shape(x)[1:]\n",
        "  decoderInputShape = tf.shape(y[:,:-1])[1:]\n",
        "  encoder = encode(encoderInputShape)\n",
        "  decoder = Decode(gerVoc)\n",
        "  encoderInput = Input(encoderInputShape)\n",
        "  decoderInput = Input(decoderInputShape)\n",
        "  encHidden, encoderCell = encoder(encoderInput)\n",
        "  h, hidden, cell = decoder(decoderInput, encHidden, encoderCell)\n",
        "  model = Model(inputs=[encoderInput, decoderInput], outputs=h)\n",
        "  return model ,encoder,decoder\n"
      ],
      "execution_count": 33,
      "outputs": []
    },
    {
      "cell_type": "code",
      "metadata": {
        "id": "Vl5H06811ibx"
      },
      "source": [
        "\n",
        "@tf.function\n",
        "def computeGrandients(englishX,germanX, germanY):\n",
        "  with tf.GradientTape() as tape:\n",
        "    prediciton = model([englishX, germanX])\n",
        "    losses = loss(germanY, prediciton)\n",
        "    return losses, tape.gradient(losses, model.trainable_variables)\n",
        "    "
      ],
      "execution_count": 34,
      "outputs": []
    },
    {
      "cell_type": "code",
      "metadata": {
        "id": "MVWOYJ3l1ib1"
      },
      "source": [
        "\n",
        "def trainModel(model, trainDataset, testDataset, epochs, optimizer, loss):\n",
        "  trainLoss = list()\n",
        "  valLoss = list()\n",
        "\n",
        "  for epoch in range(epochs):\n",
        "    avgTrainLossEp = Mean()\n",
        "    avgValLossEp = Mean()\n",
        "    print(f\"Epoch: {epoch}\")\n",
        "\n",
        "    for x, y in trainDataset:\n",
        "      yIn, yOut = getTupples(y)\n",
        "      #losses, grads = computeGrandients(model,x, y_in, y_out)\n",
        "      losses, grads = computeGrandients(x, yIn, yOut)\n",
        "      optimizer.apply_gradients(zip(grads, model.trainable_variables))\n",
        "      avgTrainLossEp(losses)\n",
        "    trainLossResult = avgTrainLossEp.result()\n",
        "    trainLoss.append(trainLossResult)\n",
        "    print(f\"finish training batches -> Loss: {trainLossResult}\")\n",
        "\n",
        "\n",
        "\n",
        "    for x, y in testDataset.shuffle(200).take(100):\n",
        "      yIn, yOut = getTupples(y)\n",
        "      prediction = model([x, yIn])\n",
        "      losses = loss(yOut, prediction)\n",
        "      avgValLossEp(losses)\n",
        "    valLossResult = avgValLossEp.result()\n",
        "    valLoss.append(valLossResult)\n",
        "    print(f\"finished validation batches: Loss {valLossResult}\")\n",
        "\n",
        "  return trainLoss, valLoss"
      ],
      "execution_count": 35,
      "outputs": []
    },
    {
      "cell_type": "code",
      "source": [
        "loss = SparseCategoricalCrossentropy(from_logits=True)\n",
        "optimizer = Adam()\n"
      ],
      "metadata": {
        "id": "KX822W07uPHg"
      },
      "execution_count": 36,
      "outputs": []
    },
    {
      "cell_type": "code",
      "metadata": {
        "id": "Jvu4J4-u1ibu"
      },
      "source": [
        "x, y = next(iter(trainDataset))\n",
        "model,encoder,decoder = resetModel(x, y,gerVoc)"
      ],
      "execution_count": 37,
      "outputs": []
    },
    {
      "cell_type": "code",
      "metadata": {
        "id": "6VSmBdwT1ib4",
        "colab": {
          "base_uri": "https://localhost:8080/"
        },
        "outputId": "fb9530f7-f5cc-40a1-f0b2-8735581e1874"
      },
      "source": [
        "epochs = 10\n",
        "trainLoss, testLoss = trainModel(model, trainDataset, valDataset, epochs, optimizer, loss)"
      ],
      "execution_count": 38,
      "outputs": [
        {
          "output_type": "stream",
          "name": "stdout",
          "text": [
            "Epoch: 0\n",
            "finish training batches -> Loss: 5.409502983093262\n",
            "finished validation batches: Loss 4.755773067474365\n",
            "Epoch: 1\n",
            "finish training batches -> Loss: 4.272392272949219\n",
            "finished validation batches: Loss 3.9651761054992676\n",
            "Epoch: 2\n",
            "finish training batches -> Loss: 3.3921332359313965\n",
            "finished validation batches: Loss 3.245978355407715\n",
            "Epoch: 3\n",
            "finish training batches -> Loss: 2.58014178276062\n",
            "finished validation batches: Loss 2.5956296920776367\n",
            "Epoch: 4\n",
            "finish training batches -> Loss: 1.8426662683486938\n",
            "finished validation batches: Loss 1.996272325515747\n",
            "Epoch: 5\n",
            "finish training batches -> Loss: 1.223833441734314\n",
            "finished validation batches: Loss 1.5645374059677124\n",
            "Epoch: 6\n",
            "finish training batches -> Loss: 0.7870990037918091\n",
            "finished validation batches: Loss 1.3067388534545898\n",
            "Epoch: 7\n",
            "finish training batches -> Loss: 0.526637852191925\n",
            "finished validation batches: Loss 1.1686623096466064\n",
            "Epoch: 8\n",
            "finish training batches -> Loss: 0.37241753935813904\n",
            "finished validation batches: Loss 1.1209726333618164\n",
            "Epoch: 9\n",
            "finish training batches -> Loss: 0.2778944969177246\n",
            "finished validation batches: Loss 1.117326259613037\n"
          ]
        }
      ]
    },
    {
      "cell_type": "code",
      "metadata": {
        "id": "dpacst2F1ib7",
        "colab": {
          "base_uri": "https://localhost:8080/",
          "height": 367
        },
        "outputId": "ff98c4a4-9820-4ebe-8391-a5df41a0fc09"
      },
      "source": [
        "plt.figure(figsize=(10,5))\n",
        "plt.subplot(1,2,1)\n",
        "plt.plot(trainLoss)\n",
        "plt.title(\"Training Loss\")\n",
        "plt.ylabel(\"Loss\")\n",
        "plt.xlabel(\"Epoch\")\n",
        "plt.subplot(1,2,2)\n",
        "plt.title(\"Test Loss\")\n",
        "plt.plot(testLoss)\n",
        "plt.ylabel(\"Loss\")\n",
        "plt.xlabel(\"Epoch\")"
      ],
      "execution_count": 39,
      "outputs": [
        {
          "output_type": "execute_result",
          "data": {
            "text/plain": [
              "Text(0.5, 0, 'Epoch')"
            ]
          },
          "metadata": {},
          "execution_count": 39
        },
        {
          "output_type": "display_data",
          "data": {
            "text/plain": [
              "<Figure size 720x360 with 2 Axes>"
            ],
            "image/png": "[encoded data removed]"
          },
          "metadata": {
            "needs_background": "light"
          }
        }
      ]
    },
    {
      "cell_type": "markdown",
      "metadata": {
        "id": "xM2gvBM11ib-"
      },
      "source": [
        "## 7. Use the model to translate\n",
        "Now it's time to put your model into practice! You should run your translation for five randomly sampled English sentences from the dataset. For each sentence, the process is as follows:\n",
        "* Preprocess and embed the English sentence according to the model requirements.\n",
        "* Pass the embedded sentence through the encoder to get the encoder hidden and cell states.\n",
        "* Starting with the special  `\"<start>\"` token, use this token and the final encoder hidden and cell states to get the one-step prediction from the decoder, as well as the decoder’s updated hidden and cell states.\n",
        "* Create a loop to get the next step prediction and updated hidden and cell states from the decoder, using the most recent hidden and cell states. Terminate the loop when the `\"<end>\"` token is emitted, or when the sentence has reached a maximum length.\n",
        "* Decode the output token sequence into German text and print the English text and the model's German translation."
      ]
    },
    {
      "cell_type": "code",
      "metadata": {
        "id": "bGnQtE7L1icA"
      },
      "source": [
        "\n",
        "\n",
        "def tokenPreprocessing(sentence):\n",
        "  preproc = preprocess_sentence(sentence)\n",
        "  embedded = embedding_layer(tf.constant(preproc.split()))\n",
        "  paddings = ((13 - len(embedded), 0), (0, 0))\n",
        "  x = tf.pad(embedded, paddings=paddings)\n",
        "  x = tf.expand_dims(x, axis=0)\n",
        "  return encoder(x)\n",
        "\n"
      ],
      "execution_count": 40,
      "outputs": []
    },
    {
      "cell_type": "code",
      "source": [
        "def performTranslation(sentence, max_sequence):\n",
        "  startToken = tf.constant(tokenizer.texts_to_sequences(['<start> ']), dtype='int64')\n",
        "  endTolen = tf.constant(tokenizer.texts_to_sequences([' <end>']), dtype='int64')\n",
        "  token = startToken\n",
        "  outputTokens = list()\n",
        "\n",
        "  hidden, cell = tokenPreprocessing(sentence)  \n",
        "  while tf.not_equal(token, endTolen) and len(outputTokens) < max_sequence:\n",
        "    h, hidden, cell = decoder(token, hiddenState=hidden, cellState=cell)\n",
        "    token = tf.random.categorical(h[0], num_samples=1)\n",
        "    if tf.not_equal(token, endTolen): outputTokens.append(token.numpy()[0][0])\n",
        "  return tokenizer.sequences_to_texts([outputTokens])[0]\n",
        "\n",
        "\n",
        "\n",
        "  "
      ],
      "metadata": {
        "id": "9OrYR4WYG0w-"
      },
      "execution_count": 41,
      "outputs": []
    },
    {
      "cell_type": "code",
      "metadata": {
        "id": "Unk60cEy1icI",
        "colab": {
          "base_uri": "https://localhost:8080/"
        },
        "outputId": "5b4ae98f-6b4c-4351-91ff-eaa83edfdfdd"
      },
      "source": [
        "translations = 10\n",
        "for index in np.random.choice(range(len(englishSamples)), replace=False, size=translations):\n",
        "  print('english text: \\n', englishSamples[index])\n",
        "  print('german translation: \\n', germanSamples[index])\n",
        "  print('german prediction: \\n', performTranslation(englishSamples[index], 10))\n",
        "  print(\"\\n\")"
      ],
      "execution_count": 42,
      "outputs": [
        {
          "output_type": "stream",
          "name": "stdout",
          "text": [
            "english text: \n",
            " you're innocent .\n",
            "german translation: \n",
            " <start> du bist unschuldig . <end>\n",
            "german prediction: \n",
            " du bist komisch .\n",
            "\n",
            "\n",
            "english text: \n",
            " tom looks strong .\n",
            "german translation: \n",
            " <start> tom sieht stark aus . <end>\n",
            "german prediction: \n",
            " tom sieht einsam aus .\n",
            "\n",
            "\n",
            "english text: \n",
            " add more water .\n",
            "german translation: \n",
            " <start> geben sie mehr wasser dazu . <end>\n",
            "german prediction: \n",
            " gebt langsam !\n",
            "\n",
            "\n",
            "english text: \n",
            " how heavy are you ?\n",
            "german translation: \n",
            " <start> wie schwer sind sie ? <end>\n",
            "german prediction: \n",
            " wie cool ist sie ?\n",
            "\n",
            "\n",
            "english text: \n",
            " i'm going fishing .\n",
            "german translation: \n",
            " <start> ich gehe angeln . <end>\n",
            "german prediction: \n",
            " ich werde aufhoeren .\n",
            "\n",
            "\n",
            "english text: \n",
            " come forward .\n",
            "german translation: \n",
            " <start> treten sie vor . <end>\n",
            "german prediction: \n",
            " kommen sie herein .\n",
            "\n",
            "\n",
            "english text: \n",
            " war is bad .\n",
            "german translation: \n",
            " <start> krieg ist schlecht . <end>\n",
            "german prediction: \n",
            " krieg ist den hoelle .\n",
            "\n",
            "\n",
            "english text: \n",
            " there's no sugar .\n",
            "german translation: \n",
            " <start> es ist kein zucker da . <end>\n",
            "german prediction: \n",
            " es gibt keine zweifel .\n",
            "\n",
            "\n",
            "english text: \n",
            " tom scored twice .\n",
            "german translation: \n",
            " <start> tom traf zweimal . <end>\n",
            "german prediction: \n",
            " tom verirrte sich .\n",
            "\n",
            "\n",
            "english text: \n",
            " please follow me .\n",
            "german translation: \n",
            " <start> folgen sie mir bitte . <end>\n",
            "german prediction: \n",
            " folgen sie mir bitte folgen .\n",
            "\n",
            "\n"
          ]
        }
      ]
    }
  ]
}