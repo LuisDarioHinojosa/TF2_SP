{
  "cells": [
    {
      "cell_type": "code",
      "execution_count": 2,
      "metadata": {
        "id": "665rPIRCTiZA",
        "colab": {
          "base_uri": "https://localhost:8080/"
        },
        "outputId": "a9104097-7a58-4763-eccd-cc62cb91d074"
      },
      "outputs": [
        {
          "output_type": "stream",
          "name": "stdout",
          "text": [
            "2.8.2\n"
          ]
        }
      ],
      "source": [
        "import tensorflow as tf\n",
        "print(tf.__version__)"
      ]
    },
    {
      "cell_type": "markdown",
      "metadata": {
        "id": "yvtg7BehTiZG"
      },
      "source": [
        "# Model subclassing and custom training loops"
      ]
    },
    {
      "cell_type": "markdown",
      "metadata": {
        "id": "c5Kpk_LUTiZH"
      },
      "source": [
        " ## Coding tutorials\n",
        " #### [1. Model subclassing](#coding_tutorial_1)\n",
        " #### [2. Custom layers](#coding_tutorial_2)\n",
        " #### [3. Automatic differentiation](#coding_tutorial_3)\n",
        " #### [4. Custom training loops](#coding_tutorial_4)\n",
        " #### [5. tf.function decorator](#coding_tutorial_5)"
      ]
    },
    {
      "cell_type": "markdown",
      "metadata": {
        "id": "-yNeAMQ6TiZI"
      },
      "source": [
        "***\n",
        "<a id=\"coding_tutorial_1\"></a>\n",
        "## Model subclassing"
      ]
    },
    {
      "cell_type": "code",
      "execution_count": 3,
      "metadata": {
        "id": "L8GXVWTiTiZJ"
      },
      "outputs": [],
      "source": [
        "from tensorflow.keras.models import Model\n",
        "from tensorflow.keras.layers import Dense, Dropout, Softmax, concatenate"
      ]
    },
    {
      "cell_type": "markdown",
      "metadata": {
        "id": "NIRFVfIgTiZL"
      },
      "source": [
        "#### Create a simple model using the model subclassing API"
      ]
    },
    {
      "cell_type": "code",
      "execution_count": 4,
      "metadata": {
        "id": "xW6ZT-CbTiZL"
      },
      "outputs": [],
      "source": [
        "# Build the model\n",
        "\n",
        "class MyModel(Model):\n",
        "  def __init__(self,**kwargs):\n",
        "    super(MyModel,self).__init__(**kwargs)\n",
        "    self.dense1 = Dense(64,activation = \"relu\")\n",
        "    self.dense2 = Dense(10)\n",
        "    self.dense3 = Dense(5)\n",
        "    self.softmax = Softmax()\n",
        "    \n",
        "  def call(self,inputs,training = False):\n",
        "    h = self.dense1(inputs)\n",
        "    x1 = self.dense2(inputs)\n",
        "    x2 =self.dense3(x1)\n",
        "    concat = concatenate([h,x2])\n",
        "    return self.softmax(concat)\n"
      ]
    },
    {
      "cell_type": "code",
      "execution_count": 5,
      "metadata": {
        "id": "-VZ8LWSETiZN",
        "colab": {
          "base_uri": "https://localhost:8080/"
        },
        "outputId": "a555678e-c213-40a2-d628-1a91fae09b9c"
      },
      "outputs": [
        {
          "output_type": "stream",
          "name": "stdout",
          "text": [
            "Model: \"my_model\"\n",
            "_________________________________________________________________\n",
            " Layer (type)                Output Shape              Param #   \n",
            "=================================================================\n",
            " dense (Dense)               multiple                  704       \n",
            "                                                                 \n",
            " dense_1 (Dense)             multiple                  110       \n",
            "                                                                 \n",
            " dense_2 (Dense)             multiple                  55        \n",
            "                                                                 \n",
            " softmax (Softmax)           multiple                  0         \n",
            "                                                                 \n",
            "=================================================================\n",
            "Total params: 869\n",
            "Trainable params: 869\n",
            "Non-trainable params: 0\n",
            "_________________________________________________________________\n"
          ]
        }
      ],
      "source": [
        "# Print the model summary\n",
        "\n",
        "model = MyModel()\n",
        "model(tf.random.uniform([1,10]))\n",
        "model.summary()"
      ]
    },
    {
      "cell_type": "markdown",
      "metadata": {
        "id": "_0rKNPcxTiZO"
      },
      "source": [
        "***\n",
        "<a id=\"coding_tutorial_2\"></a>\n",
        "## Custom layers"
      ]
    },
    {
      "cell_type": "code",
      "execution_count": 6,
      "metadata": {
        "id": "8E5uqQFvTiZP"
      },
      "outputs": [],
      "source": [
        "from tensorflow.keras.models import Model\n",
        "from tensorflow.keras.layers import Layer, Softmax"
      ]
    },
    {
      "cell_type": "markdown",
      "metadata": {
        "id": "cnumf9bjTiZQ"
      },
      "source": [
        "#### Create custom layers"
      ]
    },
    {
      "cell_type": "code",
      "execution_count": 7,
      "metadata": {
        "id": "uZPOJiwiTiZQ",
        "colab": {
          "base_uri": "https://localhost:8080/"
        },
        "outputId": "6ba51730-9759-4395-b4aa-cc2e4500d8ef"
      },
      "outputs": [
        {
          "output_type": "stream",
          "name": "stdout",
          "text": [
            "[<tf.Variable 'Variable:0' shape=(5, 3) dtype=float32, numpy=\n",
            "array([[ 0.07705584, -0.01111135,  0.04018033],\n",
            "       [-0.03767795,  0.0185003 , -0.06294332],\n",
            "       [ 0.00591625,  0.0253395 ,  0.08154193],\n",
            "       [ 0.00739776, -0.00632676,  0.04342369],\n",
            "       [ 0.019563  ,  0.01180282, -0.00687873]], dtype=float32)>, <tf.Variable 'Variable:0' shape=(3,) dtype=float32, numpy=array([0., 0., 0.], dtype=float32)>]\n",
            "tf.Tensor([[0.0722549  0.03820451 0.09532389]], shape=(1, 3), dtype=float32)\n"
          ]
        }
      ],
      "source": [
        "# Create a custom layer\n",
        "class MyLayer(Layer):\n",
        "  def __init__(self,units,inputDims):\n",
        "    super(MyLayer,self).__init__()\n",
        "    self.w = self.add_weight(shape = (inputDims,units),initializer = \"random_normal\")\n",
        "    self.b = self.add_weight(shape = (units,),initializer = \"zeros\")\n",
        "\n",
        "  def call(self,inputs):\n",
        "    return tf.matmul(inputs, self.w)+self.b\n",
        "\n",
        "layer = MyLayer(3,5)\n",
        "x = tf.ones((1,5))\n",
        "print(layer.weights)\n",
        "print(layer(x))"
      ]
    },
    {
      "cell_type": "code",
      "execution_count": 8,
      "metadata": {
        "id": "fdK_IH2mTiZR"
      },
      "outputs": [],
      "source": [
        "# Specify trainable weights\n",
        "class MyLayer(Layer):\n",
        "  def __init__(self,units,inputDims):\n",
        "    super(MyLayer,self).__init__()\n",
        "    self.w = self.add_weight(shape = (inputDims,units),initializer = \"random_normal\",trainable = False)\n",
        "    self.b = self.add_weight(shape = (units,),initializer = \"zeros\",trainable = False)\n",
        "\n",
        "  def call(self,inputs):\n",
        "    return tf.matmul(inputs, self.w)+self.b\n",
        "\n",
        "layer = MyLayer(3,5)\n"
      ]
    },
    {
      "cell_type": "code",
      "execution_count": 9,
      "metadata": {
        "id": "R3xU84-nTiZR",
        "colab": {
          "base_uri": "https://localhost:8080/"
        },
        "outputId": "de17724e-06c2-4ac1-d6a0-503bce559062"
      },
      "outputs": [
        {
          "output_type": "stream",
          "name": "stdout",
          "text": [
            "trainable weights: 0\n",
            "non-trainable weights: 2\n"
          ]
        }
      ],
      "source": [
        "print('trainable weights:', len(layer.trainable_weights))\n",
        "print('non-trainable weights:', len(layer.non_trainable_weights))"
      ]
    },
    {
      "cell_type": "code",
      "execution_count": 10,
      "metadata": {
        "id": "Kt6h8tnPTiZS"
      },
      "outputs": [],
      "source": [
        "# Create a custom layer to accumulate means of output values\n",
        "\n",
        "class MyLayerMean(Layer):\n",
        "  def __init__(self,units,inputDims):\n",
        "    super(MyLayerMean,self).__init__()\n",
        "    self.w = self.add_weight(shape = (inputDims,units),initializer = \"random_normal\")\n",
        "    self.b = self.add_weight(shape = (units,),initializer = \"zeros\")\n",
        "    \n",
        "    self.sum_activation = tf.Variable(initial_value=tf.zeros((units,)),trainable = False)\n",
        "    \n",
        "    self.number_call = tf.Variable(initial_value=0,trainable = False)\n",
        "\n",
        "  def call(self,inputs):\n",
        "    activations = tf.matmul(inputs, self.w)+self.b\n",
        "    self.sum_activation.assign_add(tf.reduce_sum(activations,axis = 0))\n",
        "    self.number_call.assign_add(inputs.shape[0])\n",
        "    return activations, self.sum_activation / tf.cast(self.number_call,tf.float32)\n",
        "dense_layer = MyLayerMean(3,5)\n"
      ]
    },
    {
      "cell_type": "code",
      "execution_count": 11,
      "metadata": {
        "id": "lobAhHGWTiZS",
        "colab": {
          "base_uri": "https://localhost:8080/"
        },
        "outputId": "0cb5295f-fa42-4f93-eda7-e596502ea2b7"
      },
      "outputs": [
        {
          "output_type": "stream",
          "name": "stdout",
          "text": [
            "[-0.09147885  0.09124653  0.20067364]\n"
          ]
        }
      ],
      "source": [
        "# Test the layer\n",
        "\n",
        "y, activation_means = dense_layer(tf.ones((1, 5)))\n",
        "print(activation_means.numpy())"
      ]
    },
    {
      "cell_type": "code",
      "execution_count": 12,
      "metadata": {
        "id": "qZKT_43MTiZT"
      },
      "outputs": [],
      "source": [
        "# Create a Dropout layer as a custom layer\n",
        "\n",
        "class MyDropout(Layer):\n",
        "\n",
        "    def __init__(self, rate):\n",
        "        super(MyDropout, self).__init__()\n",
        "        self.rate = rate\n",
        "        \n",
        "    def call(self, inputs):\n",
        "        # Define forward pass for dropout layer\n",
        "        return tf.nn.dropout(inputs,rate = self.rate)"
      ]
    },
    {
      "cell_type": "markdown",
      "metadata": {
        "id": "CncE7G6zTiZT"
      },
      "source": [
        "#### Implement the custom layers into a model"
      ]
    },
    {
      "cell_type": "code",
      "execution_count": 13,
      "metadata": {
        "id": "DAaN6vUCTiZT"
      },
      "outputs": [],
      "source": [
        "# Build the model using custom layers with the model subclassing API\n",
        "\n",
        "class MyModel(Model):\n",
        "\n",
        "    def __init__(self, units_1, input_dim_1, units_2, units_3):\n",
        "        super(MyModel, self).__init__()\n",
        "        # Define layers\n",
        "        self.layer_1 = MyLayer(units_1,input_dim_1)\n",
        "        self.dropout_1 = MyDropout(0.5)\n",
        "        self.layer_2 = MyLayer(units_2,units_1)\n",
        "        self.dropout_2 = MyDropout(0.5)\n",
        "        self.layer_3 = MyLayer(units_3,units_2)\n",
        "        self.softmax = Softmax()\n",
        "           \n",
        "    def call(self, inputs):\n",
        "        # Define forward pass\n",
        "        x = self.layer_1(inputs)\n",
        "        x = tf.nn.relu(x)\n",
        "        x = self.dropout_1(x)\n",
        "        x = self.layer_2(x)\n",
        "        x = tf.nn.relu(x)\n",
        "        x = self.dropout_2(x)\n",
        "        x = self.layer_3(x)\n",
        "    \n",
        "\n",
        "        return self.softmax(x)"
      ]
    },
    {
      "cell_type": "code",
      "execution_count": 14,
      "metadata": {
        "id": "Q2Rg-uNoTiZT",
        "colab": {
          "base_uri": "https://localhost:8080/"
        },
        "outputId": "bf07fec1-136b-41f5-c557-430dc1439943"
      },
      "outputs": [
        {
          "output_type": "stream",
          "name": "stdout",
          "text": [
            "tf.Tensor(\n",
            "[[0.01055356 0.0176762  0.04983538 0.01777932 0.02773542 0.02256783\n",
            "  0.04136223 0.01154938 0.01128027 0.03585746 0.01528318 0.02357849\n",
            "  0.016093   0.00504128 0.04727622 0.01991954 0.0036967  0.05156229\n",
            "  0.03497791 0.00229967 0.00861586 0.02591063 0.00839982 0.0109137\n",
            "  0.01755381 0.02309939 0.02363761 0.08620748 0.03016732 0.02084296\n",
            "  0.01319804 0.01197576 0.04744769 0.00778707 0.00962299 0.01040424\n",
            "  0.01363367 0.01458175 0.01123722 0.00653941 0.00482008 0.04689329\n",
            "  0.01145005 0.00731616 0.0360981  0.02572064]], shape=(1, 46), dtype=float32)\n",
            "Model: \"my_model_1\"\n",
            "_________________________________________________________________\n",
            " Layer (type)                Output Shape              Param #   \n",
            "=================================================================\n",
            " my_layer_2 (MyLayer)        multiple                  640064    \n",
            "                                                                 \n",
            " my_dropout (MyDropout)      multiple                  0         \n",
            "                                                                 \n",
            " my_layer_3 (MyLayer)        multiple                  4160      \n",
            "                                                                 \n",
            " my_dropout_1 (MyDropout)    multiple                  0         \n",
            "                                                                 \n",
            " my_layer_4 (MyLayer)        multiple                  2990      \n",
            "                                                                 \n",
            " softmax_1 (Softmax)         multiple                  0         \n",
            "                                                                 \n",
            "=================================================================\n",
            "Total params: 647,214\n",
            "Trainable params: 0\n",
            "Non-trainable params: 647,214\n",
            "_________________________________________________________________\n"
          ]
        }
      ],
      "source": [
        "# Instantiate a model object\n",
        "\n",
        "model = MyModel(64,10000,64,46)\n",
        "print(model(tf.ones((1, 10000))))\n",
        "model.summary()"
      ]
    },
    {
      "cell_type": "markdown",
      "metadata": {
        "id": "WbtntSsrTiZU"
      },
      "source": [
        "***\n",
        "<a id=\"coding_tutorial_3\"></a>\n",
        "## Automatic differentiation"
      ]
    },
    {
      "cell_type": "code",
      "execution_count": 15,
      "metadata": {
        "id": "zBwXDoI6TiZU"
      },
      "outputs": [],
      "source": [
        "import numpy as np\n",
        "import matplotlib.pyplot as plt"
      ]
    },
    {
      "cell_type": "markdown",
      "metadata": {
        "id": "XQlf7ZSvTiZU"
      },
      "source": [
        "#### Create synthetic data"
      ]
    },
    {
      "cell_type": "code",
      "execution_count": 16,
      "metadata": {
        "id": "I5ha2uVcTiZV",
        "colab": {
          "base_uri": "https://localhost:8080/",
          "height": 0
        },
        "outputId": "4e46f48c-bbb9-4d06-ee72-352667bf5ac0"
      },
      "outputs": [
        {
          "output_type": "execute_result",
          "data": {
            "text/plain": [
              "[<matplotlib.lines.Line2D at 0x7fabf0ba8a10>]"
            ]
          },
          "metadata": {},
          "execution_count": 16
        },
        {
          "output_type": "display_data",
          "data": {
            "text/plain": [
              "<Figure size 432x288 with 1 Axes>"
            ],
            "image/png": "[encoded data removed]"
          },
          "metadata": {
            "needs_background": "light"
          }
        }
      ],
      "source": [
        "# Create data from a noise contaminated linear model\n",
        "\n",
        "def MakeNoisyData(m, b, n=20):\n",
        "    x = tf.random.uniform(shape=(n,))\n",
        "    noise = tf.random.normal(shape=(len(x),), stddev=0.1)\n",
        "    y = m * x + b + noise\n",
        "    return x, y\n",
        "\n",
        "m=1\n",
        "b=2\n",
        "x_train, y_train = MakeNoisyData(m,b)\n",
        "plt.plot(x_train, y_train, 'b.')"
      ]
    },
    {
      "cell_type": "markdown",
      "metadata": {
        "id": "TSyDaOmzTiZV"
      },
      "source": [
        "#### Define a linear regression model"
      ]
    },
    {
      "cell_type": "code",
      "execution_count": 17,
      "metadata": {
        "id": "G1wn9znuTiZV"
      },
      "outputs": [],
      "source": [
        "from tensorflow.keras.layers import Layer"
      ]
    },
    {
      "cell_type": "code",
      "execution_count": 18,
      "metadata": {
        "id": "Ww54brrETiZV",
        "colab": {
          "base_uri": "https://localhost:8080/"
        },
        "outputId": "06302c11-96d4-488c-a365-3dfb5ab1532a"
      },
      "outputs": [
        {
          "output_type": "stream",
          "name": "stdout",
          "text": [
            "tf.Tensor(\n",
            "[-0.00775013 -0.022584   -0.00678179 -0.01837941 -0.01832289 -0.02732364\n",
            " -0.00585553 -0.00976469 -0.02699817 -0.01352161 -0.0095206  -0.004815\n",
            " -0.00260625 -0.01315751 -0.01279261 -0.02468034 -0.02003573 -0.02675952\n",
            " -0.01821574 -0.01622231], shape=(20,), dtype=float32)\n",
            "[<tf.Variable 'Variable:0' shape=(1,) dtype=float32, numpy=array([-0.02905369], dtype=float32)>, <tf.Variable 'Variable:0' shape=(1,) dtype=float32, numpy=array([0.], dtype=float32)>]\n"
          ]
        }
      ],
      "source": [
        "# Build a custom layer for the linear regression model\n",
        "class LinearLayer(Layer):\n",
        "  def __init__(self):\n",
        "    super(LinearLayer,self).__init__()\n",
        "    self.m = self.add_weight(shape = (1,),initializer = \"random_normal\")\n",
        "    self.b = self.add_weight(shape = (1,),initializer = \"zeros\")\n",
        "\n",
        "  def call(self,inputs):\n",
        "    return self.m*inputs+self.b\n",
        "\n",
        "linear_regression = LinearLayer()\n",
        "\n",
        "print(linear_regression(x_train))\n",
        "print(linear_regression.weights)"
      ]
    },
    {
      "cell_type": "markdown",
      "metadata": {
        "id": "8KhZvJlMTiZW"
      },
      "source": [
        "#### Define the loss function"
      ]
    },
    {
      "cell_type": "code",
      "execution_count": 19,
      "metadata": {
        "id": "R02LPPPVTiZW",
        "colab": {
          "base_uri": "https://localhost:8080/"
        },
        "outputId": "a8a537de-0880-40ab-a43e-520a8ce72f23"
      },
      "outputs": [
        {
          "output_type": "stream",
          "name": "stdout",
          "text": [
            "Starting loss 6.6502542\n"
          ]
        }
      ],
      "source": [
        "# Define the mean squared error loss function\n",
        "\n",
        "def SquaredError(y_pred, y_true):\n",
        "    return tf.reduce_mean(tf.square(y_pred - y_true)) \n",
        "\n",
        "starting_loss = SquaredError(linear_regression(x_train), y_train)\n",
        "print(\"Starting loss\", starting_loss.numpy())"
      ]
    },
    {
      "cell_type": "markdown",
      "metadata": {
        "id": "NqpJJljsTiZW"
      },
      "source": [
        "#### Train and plot the model"
      ]
    },
    {
      "cell_type": "code",
      "execution_count": 20,
      "metadata": {
        "id": "7VUq-vk0TiZW",
        "colab": {
          "base_uri": "https://localhost:8080/"
        },
        "outputId": "dbb85327-834c-4228-b00b-a7591b21914d"
      },
      "outputs": [
        {
          "output_type": "stream",
          "name": "stdout",
          "text": [
            "Step: 0, Loss: 6.650254249572754\n",
            "Step: 1, Loss: 5.570696830749512\n",
            "Step: 2, Loss: 4.681635856628418\n",
            "Step: 3, Loss: 3.950357437133789\n",
            "Step: 4, Loss: 3.3496909141540527\n",
            "Step: 5, Loss: 2.857074499130249\n",
            "Step: 6, Loss: 2.4537835121154785\n",
            "Step: 7, Loss: 2.1242785453796387\n",
            "Step: 8, Loss: 1.8556712865829468\n",
            "Step: 9, Loss: 1.6372753381729126\n",
            "Step: 10, Loss: 1.4602354764938354\n",
            "Step: 11, Loss: 1.317216157913208\n",
            "Step: 12, Loss: 1.2021448612213135\n",
            "Step: 13, Loss: 1.1099978685379028\n",
            "Step: 14, Loss: 1.0366214513778687\n",
            "Step: 15, Loss: 0.9785841703414917\n",
            "Step: 16, Loss: 0.9330543279647827\n",
            "Step: 17, Loss: 0.8976961970329285\n",
            "Step: 18, Loss: 0.8705862164497375\n",
            "Step: 19, Loss: 0.8501416444778442\n",
            "Step: 20, Loss: 0.8350620269775391\n",
            "Step: 21, Loss: 0.8242810368537903\n",
            "Step: 22, Loss: 0.8169244527816772\n",
            "Step: 23, Loss: 0.8122786283493042\n",
            "Step: 24, Loss: 0.8097610473632812\n"
          ]
        }
      ],
      "source": [
        "# Implement a gradient descent training loop for the linear regression model\n",
        "\n",
        "learningRate = 0.05\n",
        "steps = 25\n",
        "\n",
        "for i in range(steps):\n",
        "  with tf.GradientTape() as tape:\n",
        "    predictions = linear_regression(x_train)\n",
        "    loss = SquaredError(predictions,y_train)\n",
        "  gradients = tape.gradient(loss,linear_regression.trainable_variables)\n",
        "  \n",
        "  # update the values\n",
        "  linear_regression.m.assign_sub(learningRate*gradients[0])\n",
        "  linear_regression.m.assign_sub(learningRate*gradients[1])\n",
        "\n",
        "  print(f\"Step: {i}, Loss: {loss.numpy()}\")"
      ]
    },
    {
      "cell_type": "code",
      "execution_count": 21,
      "metadata": {
        "id": "T_70Kl0iTiZX",
        "colab": {
          "base_uri": "https://localhost:8080/",
          "height": 0
        },
        "outputId": "7fc2d08f-a137-4433-9519-a58d5737b50a"
      },
      "outputs": [
        {
          "output_type": "stream",
          "name": "stdout",
          "text": [
            "m:1,  trained m:[4.0686274]\n",
            "b:2,  trained b:[0.]\n"
          ]
        },
        {
          "output_type": "execute_result",
          "data": {
            "text/plain": [
              "[<matplotlib.lines.Line2D at 0x7fabf0b11210>]"
            ]
          },
          "metadata": {},
          "execution_count": 21
        },
        {
          "output_type": "display_data",
          "data": {
            "text/plain": [
              "<Figure size 432x288 with 1 Axes>"
            ],
            "image/png": "[encoded data removed]"
          },
          "metadata": {
            "needs_background": "light"
          }
        }
      ],
      "source": [
        "# Plot the learned regression model\n",
        "\n",
        "print(\"m:{},  trained m:{}\".format(m,linear_regression.m.numpy()))\n",
        "print(\"b:{},  trained b:{}\".format(b,linear_regression.b.numpy()))\n",
        "\n",
        "plt.plot(x_train, y_train, 'b.')\n",
        "\n",
        "x_linear_regression=np.linspace(min(x_train), max(x_train),50)\n",
        "plt.plot(x_linear_regression, linear_regression.m*x_linear_regression+linear_regression.b, 'r.')\n",
        "\n"
      ]
    },
    {
      "cell_type": "markdown",
      "metadata": {
        "id": "XyJIGjQATiZX"
      },
      "source": [
        "***\n",
        "<a id=\"coding_tutorial_4\"></a>\n",
        "## Custom training loops"
      ]
    },
    {
      "cell_type": "code",
      "execution_count": 22,
      "metadata": {
        "id": "mOQAo-TDTiZX"
      },
      "outputs": [],
      "source": [
        "import numpy as np\n",
        "import matplotlib.pyplot as plt\n",
        "import time"
      ]
    },
    {
      "cell_type": "markdown",
      "metadata": {
        "id": "34YUA5fUTiZX"
      },
      "source": [
        "#### Build the model"
      ]
    },
    {
      "cell_type": "code",
      "execution_count": 23,
      "metadata": {
        "id": "UXBP2SixTiZX"
      },
      "outputs": [],
      "source": [
        "from tensorflow.keras.models import Model\n",
        "from tensorflow.keras.layers import Layer, Softmax"
      ]
    },
    {
      "cell_type": "code",
      "execution_count": 24,
      "metadata": {
        "id": "xSAACpVSTiZX"
      },
      "outputs": [],
      "source": [
        "# Define the custom layers and model\n",
        "class MyLayer(Layer):\n",
        "  def __init__(self,units):\n",
        "    super(MyLayer,self).__init__()\n",
        "    self.units = units\n",
        "  \n",
        "  def build(self,inputShape):\n",
        "    self.w = self.add_weight(shape = (inputShape[-1],self.units),initializer = \"random_normal\",name = \"kernel\")\n",
        "    self.b = self.add_weight(shape = (self.units,),initializer = \"zeros\",name = \"bias\")\n",
        "\n",
        "  def call(self,inputs):\n",
        "    return tf.matmul(inputs, self.w)+self.b\n",
        "\n",
        "  \n",
        "  \n",
        "class MyDropout(Layer):\n",
        "\n",
        "    def __init__(self, rate):\n",
        "        super(MyDropout, self).__init__()\n",
        "        self.rate = rate\n",
        "        \n",
        "    def call(self, inputs):\n",
        "        # Define forward pass for dropout layer\n",
        "        return tf.nn.dropout(inputs,rate = self.rate)\n",
        "\n",
        "\n",
        "class MyModel(Model):\n",
        "\n",
        "    def __init__(self, units_1, units_2, units_3):\n",
        "        super(MyModel, self).__init__()\n",
        "        # Define layers\n",
        "        self.layer_1 = MyLayer(units_1)\n",
        "        self.dropout_1 = MyDropout(0.5)\n",
        "        self.layer_2 = MyLayer(units_2)\n",
        "        self.dropout_2 = MyDropout(0.5)\n",
        "        self.layer_3 = MyLayer(units_3)\n",
        "        self.softmax = Softmax()\n",
        "           \n",
        "    def call(self, inputs):\n",
        "        # Define forward pass\n",
        "        x = self.layer_1(inputs)\n",
        "        x = tf.nn.relu(x)\n",
        "        x = self.dropout_1(x)\n",
        "        x = self.layer_2(x)\n",
        "        x = tf.nn.relu(x)\n",
        "        x = self.dropout_2(x)\n",
        "        x = self.layer_3(x)\n",
        "    \n",
        "\n",
        "        return self.softmax(x)\n"
      ]
    },
    {
      "cell_type": "code",
      "source": [
        "model = MyModel(64,64,46)\n",
        "print(model(tf.ones((1,10000))))\n",
        "model.summary()"
      ],
      "metadata": {
        "colab": {
          "base_uri": "https://localhost:8080/"
        },
        "id": "WHI5FZrBAajf",
        "outputId": "79631e93-055e-4743-c60c-24f5702efb5f"
      },
      "execution_count": 25,
      "outputs": [
        {
          "output_type": "stream",
          "name": "stdout",
          "text": [
            "tf.Tensor(\n",
            "[[0.00997406 0.01140567 0.00803512 0.01555743 0.01760133 0.00729194\n",
            "  0.00525358 0.05707031 0.13311131 0.02194216 0.01155957 0.01171729\n",
            "  0.00350899 0.02274533 0.00712322 0.0053566  0.00971175 0.0127149\n",
            "  0.00578149 0.07049251 0.02944323 0.01171053 0.00894546 0.00658756\n",
            "  0.13061707 0.00814172 0.00828188 0.02108954 0.02258013 0.00565349\n",
            "  0.04618431 0.02006023 0.0183202  0.00374321 0.0251832  0.0085782\n",
            "  0.03960604 0.03291143 0.01151669 0.02175734 0.01114392 0.01909716\n",
            "  0.01064264 0.00450433 0.01410483 0.01164112]], shape=(1, 46), dtype=float32)\n",
            "Model: \"my_model_2\"\n",
            "_________________________________________________________________\n",
            " Layer (type)                Output Shape              Param #   \n",
            "=================================================================\n",
            " my_layer_5 (MyLayer)        multiple                  640064    \n",
            "                                                                 \n",
            " my_dropout_2 (MyDropout)    multiple                  0         \n",
            "                                                                 \n",
            " my_layer_6 (MyLayer)        multiple                  4160      \n",
            "                                                                 \n",
            " my_dropout_3 (MyDropout)    multiple                  0         \n",
            "                                                                 \n",
            " my_layer_7 (MyLayer)        multiple                  2990      \n",
            "                                                                 \n",
            " softmax_2 (Softmax)         multiple                  0         \n",
            "                                                                 \n",
            "=================================================================\n",
            "Total params: 647,214\n",
            "Trainable params: 647,214\n",
            "Non-trainable params: 0\n",
            "_________________________________________________________________\n"
          ]
        }
      ]
    },
    {
      "cell_type": "markdown",
      "metadata": {
        "id": "Qtv1gNrPTiZY"
      },
      "source": [
        "#### Load the reuters dataset and define the class_names "
      ]
    },
    {
      "cell_type": "code",
      "execution_count": 26,
      "metadata": {
        "id": "lBjPQnEYTiZY",
        "colab": {
          "base_uri": "https://localhost:8080/"
        },
        "outputId": "098717b6-d9f2-4608-cf52-c5a4b96d7d8d"
      },
      "outputs": [
        {
          "output_type": "stream",
          "name": "stdout",
          "text": [
            "Downloading data from https://storage.googleapis.com/tensorflow/tf-keras-datasets/reuters.npz\n",
            "2113536/2110848 [==============================] - 0s 0us/step\n",
            "2121728/2110848 [==============================] - 0s 0us/step\n"
          ]
        }
      ],
      "source": [
        "# Load the dataset\n",
        "\n",
        "from tensorflow.keras.datasets import reuters\n",
        "\n",
        "(train_data, train_labels), (test_data, test_labels) = reuters.load_data(num_words=10000)\n",
        "\n",
        "class_names = ['cocoa','grain','veg-oil','earn','acq','wheat','copper','housing','money-supply',\n",
        "   'coffee','sugar','trade','reserves','ship','cotton','carcass','crude','nat-gas',\n",
        "   'cpi','money-fx','interest','gnp','meal-feed','alum','oilseed','gold','tin',\n",
        "   'strategic-metal','livestock','retail','ipi','iron-steel','rubber','heat','jobs',\n",
        "   'lei','bop','zinc','orange','pet-chem','dlr','gas','silver','wpi','hog','lead']"
      ]
    },
    {
      "cell_type": "code",
      "execution_count": 27,
      "metadata": {
        "id": "NbaaC0Y_TiZY",
        "colab": {
          "base_uri": "https://localhost:8080/"
        },
        "outputId": "ac9be178-2e34-43b3-e1b6-2d624ce27466"
      },
      "outputs": [
        {
          "output_type": "stream",
          "name": "stdout",
          "text": [
            "Label: earn\n"
          ]
        }
      ],
      "source": [
        "# Print the class of the first sample\n",
        "\n",
        "print(\"Label: {}\".format(class_names[train_labels[0]]))"
      ]
    },
    {
      "cell_type": "markdown",
      "metadata": {
        "id": "P0W8yO_WTiZY"
      },
      "source": [
        "#### Get the dataset word index"
      ]
    },
    {
      "cell_type": "code",
      "execution_count": 28,
      "metadata": {
        "id": "xwRWxWOeTiZY",
        "colab": {
          "base_uri": "https://localhost:8080/"
        },
        "outputId": "64c87dd0-7efb-40e0-dbef-a17999f9a1c0"
      },
      "outputs": [
        {
          "output_type": "stream",
          "name": "stdout",
          "text": [
            "Downloading data from https://storage.googleapis.com/tensorflow/tf-keras-datasets/reuters_word_index.json\n",
            "557056/550378 [==============================] - 0s 0us/step\n",
            "565248/550378 [==============================] - 0s 0us/step\n"
          ]
        }
      ],
      "source": [
        "# Load the Reuters word index\n",
        "\n",
        "word_to_index = reuters.get_word_index()\n",
        "\n",
        "invert_word_index = dict([(value, key) for (key, value) in word_to_index.items()])\n",
        "text_news = ' '.join([invert_word_index.get(i - 3, '?') for i in train_data[0]])"
      ]
    },
    {
      "cell_type": "code",
      "execution_count": 29,
      "metadata": {
        "id": "zBqzZMlbTiZY",
        "colab": {
          "base_uri": "https://localhost:8080/"
        },
        "outputId": "6209d02f-77ec-4d77-96cf-9bb35459703c"
      },
      "outputs": [
        {
          "output_type": "stream",
          "name": "stdout",
          "text": [
            "? ? ? said as a result of its december acquisition of space co it expects earnings per share in 1987 of 1 15 to 1 30 dlrs per share up from 70 cts in 1986 the company said pretax net should rise to nine to 10 mln dlrs from six mln dlrs in 1986 and rental operation revenues to 19 to 22 mln dlrs from 12 5 mln dlrs it said cash flow per share this year should be 2 50 to three dlrs reuter 3\n"
          ]
        }
      ],
      "source": [
        "# Print the first data example sentence\n",
        "\n",
        "print(text_news)"
      ]
    },
    {
      "cell_type": "markdown",
      "metadata": {
        "id": "Qvl_o0maTiZZ"
      },
      "source": [
        "#### Preprocess the data"
      ]
    },
    {
      "cell_type": "code",
      "execution_count": 30,
      "metadata": {
        "id": "Mmwy6yN1TiZZ",
        "colab": {
          "base_uri": "https://localhost:8080/"
        },
        "outputId": "2f2e337e-47bf-4388-e697-0a027e511f47"
      },
      "outputs": [
        {
          "output_type": "stream",
          "name": "stdout",
          "text": [
            "Shape of x_train: (8982, 10000)\n",
            "Shape of x_test: (2246, 10000)\n"
          ]
        }
      ],
      "source": [
        "# Define a function that encodes the data into a 'bag of words' representation\n",
        "\n",
        "def bag_of_words(text_samples, elements=10000):\n",
        "    output = np.zeros((len(text_samples), elements))\n",
        "    for i, word in enumerate(text_samples):\n",
        "        output[i, word] = 1.\n",
        "    return output\n",
        "\n",
        "x_train = bag_of_words(train_data)\n",
        "x_test = bag_of_words(test_data)\n",
        "\n",
        "print(\"Shape of x_train:\", x_train.shape)\n",
        "print(\"Shape of x_test:\", x_test.shape)"
      ]
    },
    {
      "cell_type": "markdown",
      "metadata": {
        "id": "OMX7Q3zlTiZZ"
      },
      "source": [
        "#### Define the loss function and optimizer\n",
        "\n"
      ]
    },
    {
      "cell_type": "code",
      "execution_count": 31,
      "metadata": {
        "id": "PMdwiUIMTiZZ"
      },
      "outputs": [],
      "source": [
        "# Define the categorical cross entropy loss and Adam optimizer\n",
        "\n",
        "loss_object = tf.keras.losses.SparseCategoricalCrossentropy()\n",
        "\n",
        "def loss(model, x, y, wd):\n",
        "    kernel_variables = []\n",
        "    for l in model.layers:\n",
        "        for w in l.weights:\n",
        "            if 'kernel' in w.name:\n",
        "                kernel_variables.append(w)\n",
        "    wd_penalty = wd * tf.reduce_sum([tf.reduce_sum(tf.square(k)) for k in kernel_variables])\n",
        "    y_ = model(x)\n",
        "    return loss_object(y_true=y, y_pred=y_) + wd_penalty\n",
        "\n",
        "optimizer = tf.keras.optimizers.Adam(learning_rate=0.001)"
      ]
    },
    {
      "cell_type": "markdown",
      "metadata": {
        "id": "3FIII9tXTiZZ"
      },
      "source": [
        "#### Train the model"
      ]
    },
    {
      "cell_type": "code",
      "execution_count": 32,
      "metadata": {
        "id": "AwpTYL-JTiZZ"
      },
      "outputs": [],
      "source": [
        "# Define a function to compute the forward and backward pass\n",
        "\n",
        "def grad(model, inputs, targets, wd):\n",
        "    with tf.GradientTape() as tape:\n",
        "        loss_value = loss(model, inputs, targets, wd)\n",
        "    return loss_value, tape.gradient(loss_value, model.trainable_variables)"
      ]
    },
    {
      "cell_type": "code",
      "execution_count": 33,
      "metadata": {
        "id": "eVU6DdMyTiZa",
        "colab": {
          "base_uri": "https://localhost:8080/"
        },
        "outputId": "72068dce-2f6d-4c32-f5ba-0da8759487de"
      },
      "outputs": [
        {
          "output_type": "stream",
          "name": "stdout",
          "text": [
            "Duration :174.000\n"
          ]
        }
      ],
      "source": [
        "# Implement the training loop\n",
        "\n",
        "from tensorflow.keras.utils import to_categorical\n",
        "\n",
        "start_time = time.time()\n",
        "trainDataset = tf.data.Dataset.from_tensor_slices((x_train,train_labels))\n",
        "trainDataset = trainDataset.batch(32)\n",
        "    \n",
        "trainLossResults = list()\n",
        "trainAccuracyResults = list()\n",
        "\n",
        "numEpochs = 10\n",
        "weightDecay = 0.005\n",
        "\n",
        "for epoch in range(numEpochs):\n",
        "  epochLossAvg = tf.keras.metrics.Mean()\n",
        "  epochAccuracy = tf.keras.metrics.CategoricalAccuracy()\n",
        "\n",
        "  for x,y in trainDataset:\n",
        "    lossValue,grads = grad(model,x,y,weightDecay)\n",
        "    optimizer.apply_gradients(zip(grads,model.trainable_variables))   \n",
        "\n",
        "    epochLossAvg(lossValue)\n",
        "    epochAccuracy(to_categorical(y),model(x))\n",
        "\n",
        "  trainLossResults.append(epochLossAvg.result())\n",
        "  trainAccuracyResults.append(epochAccuracy.result())\n",
        "print(\"Duration :{:.3f}\".format(time.time() - start_time))"
      ]
    },
    {
      "cell_type": "markdown",
      "metadata": {
        "id": "QNR9avPwTiZa"
      },
      "source": [
        "#### Evaluate the model"
      ]
    },
    {
      "cell_type": "code",
      "execution_count": 34,
      "metadata": {
        "id": "hZq7WmT1TiZa"
      },
      "outputs": [],
      "source": [
        "# Create a Dataset object for the test set\n",
        "\n",
        "test_dataset = tf.data.Dataset.from_tensor_slices((x_test, test_labels))\n",
        "test_dataset = test_dataset.batch(32)"
      ]
    },
    {
      "cell_type": "code",
      "execution_count": 35,
      "metadata": {
        "id": "-CTlseo-TiZa"
      },
      "outputs": [],
      "source": [
        "# Collect average loss and accuracy\n",
        "\n",
        "epoch_loss_avg = tf.keras.metrics.Mean()\n",
        "epoch_accuracy = tf.keras.metrics.CategoricalAccuracy()"
      ]
    },
    {
      "cell_type": "code",
      "execution_count": 36,
      "metadata": {
        "id": "xzoOEUqJTiZa",
        "colab": {
          "base_uri": "https://localhost:8080/"
        },
        "outputId": "13f999cc-870d-469b-ea80-a2bfbad715d0"
      },
      "outputs": [
        {
          "output_type": "stream",
          "name": "stdout",
          "text": [
            "Test loss: 1.837\n",
            "Test accuracy: 67.275%\n"
          ]
        }
      ],
      "source": [
        "# Loop over the test set and print scores\n",
        "\n",
        "from tensorflow.keras.utils import to_categorical\n",
        "\n",
        "for x, y in test_dataset:\n",
        "    # Optimize the model\n",
        "    loss_value = loss(model, x, y, weightDecay)    \n",
        "    # Compute current loss\n",
        "    epoch_loss_avg(loss_value)  \n",
        "    # Compare predicted label to actual label\n",
        "    epoch_accuracy(to_categorical(y), model(x))\n",
        "\n",
        "print(\"Test loss: {:.3f}\".format(epoch_loss_avg.result().numpy()))\n",
        "print(\"Test accuracy: {:.3%}\".format(epoch_accuracy.result().numpy()))"
      ]
    },
    {
      "cell_type": "markdown",
      "metadata": {
        "id": "kiTw7y2dTiZa"
      },
      "source": [
        "#### Plot the learning curves"
      ]
    },
    {
      "cell_type": "code",
      "execution_count": 37,
      "metadata": {
        "id": "iBVwIcz5TiZa",
        "colab": {
          "base_uri": "https://localhost:8080/",
          "height": 558
        },
        "outputId": "0b80f264-38be-40c9-9a33-3e5454dc4c1d"
      },
      "outputs": [
        {
          "output_type": "display_data",
          "data": {
            "text/plain": [
              "<Figure size 864x576 with 2 Axes>"
            ],
            "image/png": "[encoded data removed]"
          },
          "metadata": {
            "needs_background": "light"
          }
        }
      ],
      "source": [
        "# Plot the training loss and accuracy\n",
        "\n",
        "fig, axes = plt.subplots(2, sharex=True, figsize=(12, 8))\n",
        "fig.suptitle('Training Metrics')\n",
        "\n",
        "axes[0].set_ylabel(\"Loss\", fontsize=14)\n",
        "axes[0].plot(trainLossResults)\n",
        "\n",
        "axes[1].set_ylabel(\"Accuracy\", fontsize=14)\n",
        "axes[1].set_xlabel(\"Epoch\", fontsize=14)\n",
        "axes[1].plot(trainAccuracyResults)\n",
        "plt.show()"
      ]
    },
    {
      "cell_type": "markdown",
      "metadata": {
        "id": "4hIedHF9TiZb"
      },
      "source": [
        "#### Predict from the model"
      ]
    },
    {
      "cell_type": "code",
      "execution_count": 38,
      "metadata": {
        "id": "kERJAQitTiZb",
        "colab": {
          "base_uri": "https://localhost:8080/"
        },
        "outputId": "03f5910e-06ef-4da5-f0c3-b23959c02220"
      },
      "outputs": [
        {
          "output_type": "stream",
          "name": "stdout",
          "text": [
            "Prediction: earn\n",
            "     Label: earn\n"
          ]
        }
      ],
      "source": [
        "# Get the model prediction for an example input\n",
        "\n",
        "predicted_label = np.argmax(model(x_train[np.newaxis,0]),axis=1)[0]\n",
        "print(\"Prediction: {}\".format(class_names[predicted_label]))\n",
        "print(\"     Label: {}\".format(class_names[train_labels[0]]))"
      ]
    },
    {
      "cell_type": "markdown",
      "metadata": {
        "id": "mSLuf3fDTiZb"
      },
      "source": [
        "***\n",
        "<a id=\"coding_tutorial_5\"></a>\n",
        "## tf.function decorator"
      ]
    },
    {
      "cell_type": "code",
      "execution_count": 39,
      "metadata": {
        "id": "YEItoypLTiZb"
      },
      "outputs": [],
      "source": [
        "from tensorflow.keras.models import Model\n",
        "from tensorflow.keras.layers import Layer, Softmax\n",
        "from tensorflow.keras.utils import to_categorical\n",
        "from tensorflow.keras.datasets import reuters\n",
        "import numpy as np\n",
        "import matplotlib.pyplot as plt\n",
        "import time"
      ]
    },
    {
      "cell_type": "markdown",
      "metadata": {
        "id": "xC6GlFztTiZb"
      },
      "source": [
        "#### Build the model"
      ]
    },
    {
      "cell_type": "code",
      "execution_count": 40,
      "metadata": {
        "id": "qUTI9OS7TiZc",
        "colab": {
          "base_uri": "https://localhost:8080/"
        },
        "outputId": "bba4b89a-678b-456b-b0e5-a08e4ecf870e"
      },
      "outputs": [
        {
          "output_type": "stream",
          "name": "stdout",
          "text": [
            "tf.Tensor(\n",
            "[[0.01971685 0.02177261 0.0299465  0.02406283 0.03473226 0.03398922\n",
            "  0.00817528 0.01769962 0.01933081 0.02579015 0.01302897 0.02127078\n",
            "  0.01781498 0.00985426 0.01825376 0.03465918 0.0256993  0.02110226\n",
            "  0.01388365 0.02783031 0.0175219  0.03527462 0.01633338 0.01478754\n",
            "  0.0225337  0.01118274 0.0252644  0.04274861 0.02552569 0.01575677\n",
            "  0.03760099 0.02645899 0.01237936 0.01619678 0.0189606  0.01318871\n",
            "  0.02956114 0.01813688 0.01952634 0.01658857 0.01816759 0.01853152\n",
            "  0.02369259 0.01679155 0.02074333 0.0279321 ]], shape=(1, 46), dtype=float32)\n",
            "Model: \"my_model_3\"\n",
            "_________________________________________________________________\n",
            " Layer (type)                Output Shape              Param #   \n",
            "=================================================================\n",
            " my_layer_8 (MyLayer)        multiple                  640064    \n",
            "                                                                 \n",
            " my_dropout_4 (MyDropout)    multiple                  0         \n",
            "                                                                 \n",
            " my_layer_9 (MyLayer)        multiple                  4160      \n",
            "                                                                 \n",
            " my_dropout_5 (MyDropout)    multiple                  0         \n",
            "                                                                 \n",
            " my_layer_10 (MyLayer)       multiple                  2990      \n",
            "                                                                 \n",
            " softmax_3 (Softmax)         multiple                  0         \n",
            "                                                                 \n",
            "=================================================================\n",
            "Total params: 647,214\n",
            "Trainable params: 647,214\n",
            "Non-trainable params: 0\n",
            "_________________________________________________________________\n"
          ]
        }
      ],
      "source": [
        "# Initialize a new model\n",
        "# Define the custom layers and model\n",
        "class MyLayer(Layer):\n",
        "  def __init__(self,units):\n",
        "    super(MyLayer,self).__init__()\n",
        "    self.units = units\n",
        "  \n",
        "  def build(self,inputShape):\n",
        "    self.w = self.add_weight(shape = (inputShape[-1],self.units),initializer = \"random_normal\",name = \"kernel\")\n",
        "    self.b = self.add_weight(shape = (self.units,),initializer = \"zeros\",name = \"bias\")\n",
        "\n",
        "  def call(self,inputs):\n",
        "    return tf.matmul(inputs, self.w)+self.b\n",
        "\n",
        "  \n",
        "  \n",
        "class MyDropout(Layer):\n",
        "\n",
        "    def __init__(self, rate):\n",
        "        super(MyDropout, self).__init__()\n",
        "        self.rate = rate\n",
        "        \n",
        "    def call(self, inputs):\n",
        "        # Define forward pass for dropout layer\n",
        "        return tf.nn.dropout(inputs,rate = self.rate)\n",
        "\n",
        "\n",
        "class MyModel(Model):\n",
        "\n",
        "    def __init__(self, units_1, units_2, units_3):\n",
        "        super(MyModel, self).__init__()\n",
        "        # Define layers\n",
        "        self.layer_1 = MyLayer(units_1)\n",
        "        self.dropout_1 = MyDropout(0.5)\n",
        "        self.layer_2 = MyLayer(units_2)\n",
        "        self.dropout_2 = MyDropout(0.5)\n",
        "        self.layer_3 = MyLayer(units_3)\n",
        "        self.softmax = Softmax()\n",
        "           \n",
        "    def call(self, inputs):\n",
        "        # Define forward pass\n",
        "        x = self.layer_1(inputs)\n",
        "        x = tf.nn.relu(x)\n",
        "        x = self.dropout_1(x)\n",
        "        x = self.layer_2(x)\n",
        "        x = tf.nn.relu(x)\n",
        "        x = self.dropout_2(x)\n",
        "        x = self.layer_3(x)\n",
        "    \n",
        "\n",
        "        return self.softmax(x)\n",
        "\n",
        "model = MyModel(64,64,46)\n",
        "print(model(tf.ones((1,10000))))\n",
        "model.summary()"
      ]
    },
    {
      "cell_type": "markdown",
      "metadata": {
        "id": "SwBKdaLDTiZc"
      },
      "source": [
        "#### Redefine the grad function using the @tf.function decorator"
      ]
    },
    {
      "cell_type": "code",
      "execution_count": 41,
      "metadata": {
        "id": "BR8dHTuLTiZc"
      },
      "outputs": [],
      "source": [
        "# Use the @tf.function decorator\n",
        "@tf.function\n",
        "def grad(model, inputs, targets, wd):\n",
        "    with tf.GradientTape() as tape:\n",
        "        loss_value = loss(model, inputs, targets, wd)\n",
        "    return loss_value, tape.gradient(loss_value, model.trainable_variables)"
      ]
    },
    {
      "cell_type": "markdown",
      "metadata": {
        "id": "8P2G0Sd5TiZc"
      },
      "source": [
        "#### Train the model"
      ]
    },
    {
      "cell_type": "code",
      "execution_count": 42,
      "metadata": {
        "id": "gJju4Iq1TiZc",
        "colab": {
          "base_uri": "https://localhost:8080/"
        },
        "outputId": "5a8731cc-dbf4-43d1-86df-85da1e74d7fe"
      },
      "outputs": [
        {
          "output_type": "stream",
          "name": "stdout",
          "text": [
            "Duration :88.917\n"
          ]
        }
      ],
      "source": [
        "# Re-run the training loop\n",
        "\n",
        "from tensorflow.keras.utils import to_categorical\n",
        "\n",
        "start_time = time.time()\n",
        "trainDataset = tf.data.Dataset.from_tensor_slices((x_train,train_labels))\n",
        "trainDataset = trainDataset.batch(32)\n",
        "    \n",
        "trainLossResults = list()\n",
        "trainAccuracyResults = list()\n",
        "\n",
        "numEpochs = 10\n",
        "weightDecay = 0.005\n",
        "\n",
        "for epoch in range(numEpochs):\n",
        "  epochLossAvg = tf.keras.metrics.Mean()\n",
        "  epochAccuracy = tf.keras.metrics.CategoricalAccuracy()\n",
        "\n",
        "  for x,y in trainDataset:\n",
        "    lossValue,grads = grad(model,x,y,weightDecay)\n",
        "    optimizer.apply_gradients(zip(grads,model.trainable_variables))   \n",
        "\n",
        "    epochLossAvg(lossValue)\n",
        "    epochAccuracy(to_categorical(y),model(x))\n",
        "\n",
        "  trainLossResults.append(epochLossAvg.result())\n",
        "  trainAccuracyResults.append(epochAccuracy.result())\n",
        "print(\"Duration :{:.3f}\".format(time.time() - start_time))"
      ]
    },
    {
      "cell_type": "markdown",
      "metadata": {
        "id": "IEq7y4c0TiZc"
      },
      "source": [
        "#### Print the autograph code"
      ]
    },
    {
      "cell_type": "code",
      "execution_count": 43,
      "metadata": {
        "id": "gfYE6e9lTiZc",
        "colab": {
          "base_uri": "https://localhost:8080/"
        },
        "outputId": "960cc80d-bc64-4da0-d9b7-c78f50f8c54c"
      },
      "outputs": [
        {
          "output_type": "stream",
          "name": "stdout",
          "text": [
            "def tf__grad(model, inputs, targets, wd):\n",
            "    with ag__.FunctionScope('grad', 'fscope', ag__.ConversionOptions(recursive=True, user_requested=True, optional_features=(), internal_convert_user_code=True)) as fscope:\n",
            "        do_return = False\n",
            "        retval_ = ag__.UndefinedReturnValue()\n",
            "        with ag__.ld(tf).GradientTape() as tape:\n",
            "            loss_value = ag__.converted_call(ag__.ld(loss), (ag__.ld(model), ag__.ld(inputs), ag__.ld(targets), ag__.ld(wd)), None, fscope)\n",
            "        try:\n",
            "            do_return = True\n",
            "            retval_ = (ag__.ld(loss_value), ag__.converted_call(ag__.ld(tape).gradient, (ag__.ld(loss_value), ag__.ld(model).trainable_variables), None, fscope))\n",
            "        except:\n",
            "            do_return = False\n",
            "            raise\n",
            "        return fscope.ret(retval_, do_return)\n",
            "\n"
          ]
        }
      ],
      "source": [
        "# Use tf.autograph.to_code to see the generated code\n",
        "\n",
        "print(tf.autograph.to_code(grad.python_function))"
      ]
    },
    {
      "cell_type": "code",
      "source": [
        ""
      ],
      "metadata": {
        "id": "QPgUu1Ug1v5N"
      },
      "execution_count": 43,
      "outputs": []
    }
  ],
  "metadata": {
    "kernelspec": {
      "display_name": "Python 3",
      "language": "python",
      "name": "python3"
    },
    "language_info": {
      "codemirror_mode": {
        "name": "ipython",
        "version": 3
      },
      "file_extension": ".py",
      "mimetype": "text/x-python",
      "name": "python",
      "nbconvert_exporter": "python",
      "pygments_lexer": "ipython3",
      "version": "3.7.1"
    },
    "colab": {
      "name": "Copia de Coding TutorialC2W4.ipynb",
      "provenance": [],
      "collapsed_sections": [
        "CncE7G6zTiZT",
        "XQlf7ZSvTiZU",
        "TSyDaOmzTiZV",
        "8KhZvJlMTiZW",
        "NqpJJljsTiZW",
        "kiTw7y2dTiZa",
        "4hIedHF9TiZb",
        "xC6GlFztTiZb",
        "SwBKdaLDTiZc",
        "8P2G0Sd5TiZc",
        "IEq7y4c0TiZc"
      ]
    },
    "gpuClass": "standard"
  },
  "nbformat": 4,
  "nbformat_minor": 0
}