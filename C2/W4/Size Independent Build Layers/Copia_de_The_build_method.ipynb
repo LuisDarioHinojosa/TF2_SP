{
  "cells": [
    {
      "cell_type": "markdown",
      "metadata": {
        "id": "8uqIJKTTgMCq"
      },
      "source": [
        "# Flexible input shapes for custom layers\n",
        "In this reading you will learn how to use the build method to allow custom layers to work with flexible sized inputs."
      ]
    },
    {
      "cell_type": "code",
      "execution_count": 1,
      "metadata": {
        "id": "9acNjbQIgMCt",
        "colab": {
          "base_uri": "https://localhost:8080/"
        },
        "outputId": "61861907-98a6-4bed-a973-dc094aee6a1a"
      },
      "outputs": [
        {
          "output_type": "stream",
          "name": "stdout",
          "text": [
            "2.8.2\n"
          ]
        }
      ],
      "source": [
        "import tensorflow as tf\n",
        "print(tf.__version__)"
      ]
    },
    {
      "cell_type": "markdown",
      "metadata": {
        "id": "4jQatWnTgMCv"
      },
      "source": [
        "## Fix the input shape in the custom layer"
      ]
    },
    {
      "cell_type": "markdown",
      "metadata": {
        "id": "V3iG94j0gMCx"
      },
      "source": [
        "Previously, you have created custom layers by initialising all variables in the `__init__` method. For instance, you defined a dense layer called `MyLayer` as follows:"
      ]
    },
    {
      "cell_type": "code",
      "execution_count": 2,
      "metadata": {
        "id": "85TbjUkLgMCy"
      },
      "outputs": [],
      "source": [
        "# Create a custom layer\n",
        "\n",
        "from tensorflow.keras.layers import Layer\n",
        "\n",
        "class MyLayer(Layer):\n",
        "\n",
        "    def __init__(self, units, input_dim, **kwargs):\n",
        "        super(MyLayer, self).__init__(**kwargs)\n",
        "        self.w = self.add_weight(shape=(input_dim, units),\n",
        "                             initializer='random_normal')\n",
        "        self.b = self.add_weight(shape=(units,),\n",
        "                             initializer='zeros')\n",
        "        \n",
        "    def call(self, inputs):\n",
        "        return tf.matmul(inputs, self.w)+self.b"
      ]
    },
    {
      "cell_type": "markdown",
      "metadata": {
        "id": "L4wfTqYFgMCz"
      },
      "source": [
        "Notice that the required arguments for the `__init__` method are the number of units in the dense layer (`units`) and the input size (`input_dim`). This means that you need to fix these two arguments when you instantiate the layer."
      ]
    },
    {
      "cell_type": "code",
      "execution_count": 3,
      "metadata": {
        "id": "VgVzl_bggMC0"
      },
      "outputs": [],
      "source": [
        "#  Create a custom layer with 3 units and input dimension of 5\n",
        "\n",
        "dense_layer = MyLayer(3, 5) "
      ]
    },
    {
      "cell_type": "markdown",
      "metadata": {
        "id": "-ikEP8lOgMC0"
      },
      "source": [
        "Since the input size has been fixed to be 5, this custom layer can only take inputs of that size. For example, we can call the layer as follows:"
      ]
    },
    {
      "cell_type": "code",
      "execution_count": 4,
      "metadata": {
        "id": "imzS0yhagMC0",
        "colab": {
          "base_uri": "https://localhost:8080/"
        },
        "outputId": "ef17141d-ccf3-4517-af8b-a902dc93ffc6"
      },
      "outputs": [
        {
          "output_type": "stream",
          "name": "stdout",
          "text": [
            "tf.Tensor([[ 0.01872708 -0.06533093 -0.2815344 ]], shape=(1, 3), dtype=float32)\n"
          ]
        }
      ],
      "source": [
        "# Call the custom layer on a Tensor input of ones\n",
        "\n",
        "x = tf.ones((1,5))\n",
        "print(dense_layer(x))"
      ]
    },
    {
      "cell_type": "markdown",
      "metadata": {
        "id": "dFggTet6gMC1"
      },
      "source": [
        "However, forcing the input shape (and therefore the shape of the weights) to be fixed when the layer is instantiated is unnecessary, and it may be more convenient to only do this later on, after the model has been defined. \n",
        "\n",
        "For example, in some cases you may not know the input shape at the model building time. We have come across this concept before when building models with the Sequential API. If the `input_shape` argument is omitted, the weights will only be created when an input is passed into the model."
      ]
    },
    {
      "cell_type": "markdown",
      "metadata": {
        "id": "lvSbftZBgMC1"
      },
      "source": [
        "## Allow a flexible input shape in the custom layer"
      ]
    },
    {
      "cell_type": "markdown",
      "metadata": {
        "id": "Pdo-SjaMgMC1"
      },
      "source": [
        "You can delay the weight creation by using the `build` method to define the weights. The `build` method is executed when the `__call__` method is called, meaning the weights are only created only the layer is called with a specific input.\n",
        "\n",
        "The `build` method has a required argument `input_shape`, which can be used to define the shapes of the layer weights."
      ]
    },
    {
      "cell_type": "code",
      "execution_count": 5,
      "metadata": {
        "id": "a0ZqzQrngMC2"
      },
      "outputs": [],
      "source": [
        "# Rewrite the custom layer with lazy weight creation\n",
        "\n",
        "class MyLayer(Layer):\n",
        "\n",
        "    def __init__(self, units, **kwargs):\n",
        "        super(MyLayer, self).__init__(**kwargs)\n",
        "        self.units = units\n",
        "    \n",
        "    def build(self, input_shape):\n",
        "        self.w = self.add_weight(shape=(input_shape[-1], self.units),\n",
        "                                 initializer='random_normal')\n",
        "        self.b = self.add_weight(shape=(self.units,),\n",
        "                                 initializer='zeros')\n",
        "    def call(self, inputs):\n",
        "        return tf.matmul(inputs, self.w)+self.b"
      ]
    },
    {
      "cell_type": "markdown",
      "metadata": {
        "id": "pkaVEGEsgMC2"
      },
      "source": [
        "Now, when you instantiate the layer, you only need to specify the number of units in the dense layer (`units`), and not the input size (`input_dim`)."
      ]
    },
    {
      "cell_type": "markdown",
      "metadata": {
        "id": "hytVdCf_gMC2"
      },
      "source": [
        "### Create a custom layer with flexible input size"
      ]
    },
    {
      "cell_type": "code",
      "execution_count": 6,
      "metadata": {
        "id": "c0HNhUp8gMC2"
      },
      "outputs": [],
      "source": [
        "#  Create a custom layer with 3 units\n",
        "\n",
        "dense_layer = MyLayer(3) "
      ]
    },
    {
      "cell_type": "markdown",
      "metadata": {
        "id": "6DrWFZATgMC3"
      },
      "source": [
        "This layer can now be called on an input of any size, at which point the layer weights will be created and the input size will be fixed."
      ]
    },
    {
      "cell_type": "code",
      "execution_count": 7,
      "metadata": {
        "id": "tR2CP-UAgMC3",
        "colab": {
          "base_uri": "https://localhost:8080/"
        },
        "outputId": "ee9ef29b-51ac-4ab7-a7a5-3393d7da933d"
      },
      "outputs": [
        {
          "output_type": "stream",
          "name": "stdout",
          "text": [
            "tf.Tensor([[-0.2085158   0.08391897 -0.04811198]], shape=(1, 3), dtype=float32)\n"
          ]
        }
      ],
      "source": [
        "# Call the custom layer on a Tensor input of ones of size 5\n",
        "\n",
        "x = tf.ones((1,5))\n",
        "print(dense_layer(x))"
      ]
    },
    {
      "cell_type": "code",
      "execution_count": 8,
      "metadata": {
        "id": "ZLITUYlJgMC3",
        "colab": {
          "base_uri": "https://localhost:8080/"
        },
        "outputId": "ec1dc2f0-1269-4369-863d-413185e2a8fb"
      },
      "outputs": [
        {
          "output_type": "execute_result",
          "data": {
            "text/plain": [
              "[<tf.Variable 'my_layer_1/Variable:0' shape=(5, 3) dtype=float32, numpy=\n",
              " array([[-0.03985269, -0.01013328, -0.03430228],\n",
              "        [-0.04314464,  0.03252216, -0.08563901],\n",
              "        [-0.02962976,  0.04126124, -0.02572442],\n",
              "        [-0.02239713,  0.01982618,  0.04861478],\n",
              "        [-0.07349158,  0.00044268,  0.04893896]], dtype=float32)>,\n",
              " <tf.Variable 'my_layer_1/Variable:0' shape=(3,) dtype=float32, numpy=array([0., 0., 0.], dtype=float32)>]"
            ]
          },
          "metadata": {},
          "execution_count": 8
        }
      ],
      "source": [
        "# Print the layer weights\n",
        "\n",
        "dense_layer.weights"
      ]
    },
    {
      "cell_type": "markdown",
      "metadata": {
        "id": "oVOFfN1KgMC3"
      },
      "source": [
        "### Create a new custom layer and pass in a different sized input"
      ]
    },
    {
      "cell_type": "code",
      "execution_count": 9,
      "metadata": {
        "id": "7b3vHfGagMC3"
      },
      "outputs": [],
      "source": [
        "#  Create a new custom layer with 3 units\n",
        "\n",
        "dense_layer = MyLayer(3) "
      ]
    },
    {
      "cell_type": "code",
      "execution_count": 10,
      "metadata": {
        "id": "B5QfFGo3gMC3",
        "colab": {
          "base_uri": "https://localhost:8080/"
        },
        "outputId": "56124f77-4265-490d-a8cc-2000d69fd7f1"
      },
      "outputs": [
        {
          "output_type": "stream",
          "name": "stdout",
          "text": [
            "tf.Tensor([[-0.13108984 -0.07567648 -0.08906029]], shape=(1, 3), dtype=float32)\n"
          ]
        }
      ],
      "source": [
        "# Call the custom layer on a Tensor input of ones of size 4\n",
        "\n",
        "x = tf.ones((1,4))\n",
        "print(dense_layer(x))"
      ]
    },
    {
      "cell_type": "code",
      "execution_count": 11,
      "metadata": {
        "id": "jUZihQOPgMC4",
        "colab": {
          "base_uri": "https://localhost:8080/"
        },
        "outputId": "6f518e05-d306-495d-9b7c-2efd7745c7c5"
      },
      "outputs": [
        {
          "output_type": "execute_result",
          "data": {
            "text/plain": [
              "[<tf.Variable 'my_layer_2/Variable:0' shape=(4, 3) dtype=float32, numpy=\n",
              " array([[-0.06107006,  0.01557104,  0.02573607],\n",
              "        [ 0.01701863, -0.0090236 ,  0.03777729],\n",
              "        [-0.09679338, -0.01963515, -0.05598412],\n",
              "        [ 0.00975498, -0.06258877, -0.09658953]], dtype=float32)>,\n",
              " <tf.Variable 'my_layer_2/Variable:0' shape=(3,) dtype=float32, numpy=array([0., 0., 0.], dtype=float32)>]"
            ]
          },
          "metadata": {},
          "execution_count": 11
        }
      ],
      "source": [
        "# Print the layer weights\n",
        "\n",
        "dense_layer.weights"
      ]
    },
    {
      "cell_type": "markdown",
      "metadata": {
        "id": "o_XhcWsKgMC4"
      },
      "source": [
        "Note that the code for creating a custom layer object is identical, but the shape of the weights in the layer depend on the size of the input passed to the layer."
      ]
    },
    {
      "cell_type": "markdown",
      "metadata": {
        "id": "zO4X12IvgMC4"
      },
      "source": [
        "## Flexible input shapes in models"
      ]
    },
    {
      "cell_type": "markdown",
      "metadata": {
        "id": "Ru3jNgYggMC4"
      },
      "source": [
        "Deferring the weight creation until the layer is called is also useful when using the custom layer as an intermediate layer inside a larger model. In this case you may want to create several custom layer objects in the model, and it is tedious to keep track of the input shape that each of the custom layers needs. \n",
        "\n",
        "By deferring the weight creation as above, the input shape can be inferred from the output of the previous layer."
      ]
    },
    {
      "cell_type": "code",
      "execution_count": 12,
      "metadata": {
        "id": "sNxycYdigMC4"
      },
      "outputs": [],
      "source": [
        "# Create a model using the custom layer\n",
        "\n",
        "from tensorflow.keras.models import Model\n",
        "from tensorflow.keras.layers import Softmax\n",
        "\n",
        "class MyModel(Model):\n",
        "\n",
        "    def __init__(self, units_1, units_2, **kwargs):\n",
        "        super(MyModel, self).__init__(**kwargs)\n",
        "        self.layer_1 = MyLayer(units_1)\n",
        "        self.layer_2 = MyLayer(units_2)\n",
        "\n",
        "    def call(self, inputs):\n",
        "        x = self.layer_1(inputs)\n",
        "        x = tf.nn.relu(x)\n",
        "        x = self.layer_2(x)\n",
        "        return Softmax()(x)"
      ]
    },
    {
      "cell_type": "markdown",
      "metadata": {
        "id": "3IQ28IpwgMC5"
      },
      "source": [
        "In the above model definition, the custom layer `MyLayer` is used twice. Notice that each instance of the custom layer object can have a different input size, depending on the arguments used to create the model and the inputs passed into the model"
      ]
    },
    {
      "cell_type": "code",
      "execution_count": 13,
      "metadata": {
        "id": "cNPG8fksgMC5"
      },
      "outputs": [],
      "source": [
        "# Create a custom model object\n",
        "\n",
        "model = MyModel(units_1=32, units_2=10)"
      ]
    },
    {
      "cell_type": "markdown",
      "metadata": {
        "id": "q2r_SVZTgMC5"
      },
      "source": [
        "We can create and initialise all of the weights of the model by passing in an example Tensor input."
      ]
    },
    {
      "cell_type": "code",
      "execution_count": 14,
      "metadata": {
        "id": "ufAQWgUngMC5"
      },
      "outputs": [],
      "source": [
        "# Create and initialize all of the model weights\n",
        "\n",
        "_ = model(tf.ones((1, 100)))"
      ]
    },
    {
      "cell_type": "code",
      "execution_count": 15,
      "metadata": {
        "id": "_UrQMHy1gMC6",
        "colab": {
          "base_uri": "https://localhost:8080/"
        },
        "outputId": "95acb3ca-5685-4dee-b075-144c7a142fb4"
      },
      "outputs": [
        {
          "output_type": "stream",
          "name": "stdout",
          "text": [
            "Model: \"my_model\"\n",
            "_________________________________________________________________\n",
            " Layer (type)                Output Shape              Param #   \n",
            "=================================================================\n",
            " my_layer_3 (MyLayer)        multiple                  3232      \n",
            "                                                                 \n",
            " my_layer_4 (MyLayer)        multiple                  330       \n",
            "                                                                 \n",
            "=================================================================\n",
            "Total params: 3,562\n",
            "Trainable params: 3,562\n",
            "Non-trainable params: 0\n",
            "_________________________________________________________________\n"
          ]
        }
      ],
      "source": [
        "# Print the model summary\n",
        "\n",
        "model.summary()"
      ]
    },
    {
      "cell_type": "markdown",
      "metadata": {
        "id": "GwS2PBxWgMC6"
      },
      "source": [
        "## Further reading and resources \n",
        "* https://www.tensorflow.org/guide/keras/custom_layers_and_models#best_practice_deferring_weight_creation_until_the_shape_of_the_inputs_is_known"
      ]
    }
  ],
  "metadata": {
    "kernelspec": {
      "display_name": "Python 3",
      "language": "python",
      "name": "python3"
    },
    "language_info": {
      "codemirror_mode": {
        "name": "ipython",
        "version": 3
      },
      "file_extension": ".py",
      "mimetype": "text/x-python",
      "name": "python",
      "nbconvert_exporter": "python",
      "pygments_lexer": "ipython3",
      "version": "3.7.1"
    },
    "colab": {
      "name": "Copia de The build method.ipynb",
      "provenance": []
    }
  },
  "nbformat": 4,
  "nbformat_minor": 0
}