{
  "nbformat": 4,
  "nbformat_minor": 0,
  "metadata": {
    "kernelspec": {
      "display_name": "Python 3",
      "language": "python",
      "name": "python3"
    },
    "language_info": {
      "codemirror_mode": {
        "name": "ipython",
        "version": 3
      },
      "file_extension": ".py",
      "mimetype": "text/x-python",
      "name": "python",
      "nbconvert_exporter": "python",
      "pygments_lexer": "ipython3",
      "version": "3.7.1"
    },
    "colab": {
      "name": "Copia de Coding Tutorial.ipynb",
      "provenance": [],
      "collapsed_sections": [
        "YwoQHX7sqySy",
        "-dsVcPrkqyS3",
        "TX4Pa-mhqyS8",
        "qVUEl_FuqyVM",
        "MV74vXBYqyVb"
      ]
    }
  },
  "cells": [
    {
      "cell_type": "code",
      "metadata": {
        "id": "zx3E09_-qySM",
        "colab": {
          "base_uri": "https://localhost:8080/"
        },
        "outputId": "a3066964-be2b-4b31-f92e-7457a3ce321d"
      },
      "source": [
        "import tensorflow as tf\n",
        "import tensorflow_probability as tfp\n",
        "tfd = tfp.distributions\n",
        "tfb = tfp.bijectors\n",
        "tfpl = tfp.layers\n",
        "\n",
        "print(\"TF version:\", tf.__version__)\n",
        "print(\"TFP version:\", tfp.__version__)"
      ],
      "execution_count": null,
      "outputs": [
        {
          "output_type": "stream",
          "name": "stdout",
          "text": [
            "TF version: 2.8.2\n",
            "TFP version: 0.16.0\n"
          ]
        }
      ]
    },
    {
      "cell_type": "code",
      "metadata": {
        "id": "gphvfXHHqySR"
      },
      "source": [
        "import numpy as np\n",
        "import pandas as pd\n",
        "import matplotlib.pyplot as plt"
      ],
      "execution_count": null,
      "outputs": []
    },
    {
      "cell_type": "markdown",
      "metadata": {
        "id": "rLPDgg2wqySU"
      },
      "source": [
        "# Bijectors and normalising flows"
      ]
    },
    {
      "cell_type": "markdown",
      "metadata": {
        "id": "N3qO9kPxqySV"
      },
      "source": [
        " ## Coding tutorials\n",
        " #### [1. Bijectors](#coding_tutorial_1)\n",
        " #### [2. The TransformedDistribution class](#coding_tutorial_2)\n",
        " #### [3. Subclassing bijectors](#coding_tutorial_3)\n",
        " #### [4. Normalising flows](#coding_tutorial_4)"
      ]
    },
    {
      "cell_type": "markdown",
      "metadata": {
        "id": "DG5tqsTrqySV"
      },
      "source": [
        "***\n",
        "<a id=\"coding_tutorial_1\"></a>\n",
        "## Bijectors"
      ]
    },
    {
      "cell_type": "code",
      "metadata": {
        "id": "YJ8lkWUbqySW"
      },
      "source": [
        "# Define base distribution\n",
        "normal = tfd.Normal(loc = 0, scale = 1.)\n"
      ],
      "execution_count": null,
      "outputs": []
    },
    {
      "cell_type": "code",
      "metadata": {
        "id": "5uJ7uomKqySZ"
      },
      "source": [
        "# Sample from base distribution\n",
        "n = 1000\n",
        "z = normal.sample(n)\n"
      ],
      "execution_count": null,
      "outputs": []
    },
    {
      "cell_type": "markdown",
      "metadata": {
        "id": "-NnivmlaqySc"
      },
      "source": [
        "### Scale and shift bijector"
      ]
    },
    {
      "cell_type": "code",
      "metadata": {
        "id": "qf5C5iRBqySd"
      },
      "source": [
        "# Define scale and shift\n",
        "\n",
        "scale = 4.5\n",
        "shift = 7"
      ],
      "execution_count": null,
      "outputs": []
    },
    {
      "cell_type": "code",
      "metadata": {
        "id": "BUsrueO0qySf"
      },
      "source": [
        "# Define chain bijector\n",
        "\n",
        "scale_and_shift = tfb.Chain([tfb.Shift(shift),tfb.Scale(scale)])"
      ],
      "execution_count": null,
      "outputs": []
    },
    {
      "cell_type": "code",
      "metadata": {
        "id": "RCEgLBz7qySi"
      },
      "source": [
        "# We can also use call methods\n",
        "\n",
        "scale_tranf = tfb.Scale(scale)\n",
        "shift_tranf = tfb.Shift(shift)\n",
        "scale_and_shift = shift_tranf(scale_tranf) "
      ],
      "execution_count": null,
      "outputs": []
    },
    {
      "cell_type": "code",
      "metadata": {
        "id": "qSXf4yGhqySm"
      },
      "source": [
        "# Apply the forward transformation\n",
        "x = scale_and_shift.forward(z)\n"
      ],
      "execution_count": null,
      "outputs": []
    },
    {
      "cell_type": "code",
      "metadata": {
        "id": "hrJAn2BcqySo",
        "colab": {
          "base_uri": "https://localhost:8080/"
        },
        "outputId": "a7429b7c-a5a2-4948-800c-e4de78bb9c86"
      },
      "source": [
        "# Check the forward transformation\n",
        "\n",
        "tf.norm(x-(scale*z-shift))"
      ],
      "execution_count": null,
      "outputs": [
        {
          "output_type": "execute_result",
          "data": {
            "text/plain": [
              "<tf.Tensor: shape=(), dtype=float32, numpy=442.71887>"
            ]
          },
          "metadata": {},
          "execution_count": 9
        }
      ]
    },
    {
      "cell_type": "markdown",
      "metadata": {
        "id": "HzUkVbu7qySs"
      },
      "source": [
        "#### Plots"
      ]
    },
    {
      "cell_type": "code",
      "metadata": {
        "id": "IXWKCQOKqySt",
        "colab": {
          "base_uri": "https://localhost:8080/",
          "height": 265
        },
        "outputId": "52908e22-abb4-40fa-b39d-ed52cb2b4aaf"
      },
      "source": [
        "# Plot z density\n",
        "\n",
        "plt.hist(z,bins = 50, density = True)\n",
        "plt.show()"
      ],
      "execution_count": null,
      "outputs": [
        {
          "output_type": "display_data",
          "data": {
            "text/plain": [
              "<Figure size 432x288 with 1 Axes>"
            ],
            "image/png": "[encoded data removed]"
          },
          "metadata": {
            "needs_background": "light"
          }
        }
      ]
    },
    {
      "cell_type": "code",
      "metadata": {
        "id": "b6jaxQfyqySv",
        "colab": {
          "base_uri": "https://localhost:8080/",
          "height": 265
        },
        "outputId": "5780e3f4-1661-41af-9622-d5b5ce0239ef"
      },
      "source": [
        "# Plot x density\n",
        "plt.hist(x, bins = 60,density = True)\n",
        "plt.show()"
      ],
      "execution_count": null,
      "outputs": [
        {
          "output_type": "display_data",
          "data": {
            "text/plain": [
              "<Figure size 432x288 with 1 Axes>"
            ],
            "image/png": "[encoded data removed]"
          },
          "metadata": {
            "needs_background": "light"
          }
        }
      ]
    },
    {
      "cell_type": "markdown",
      "metadata": {
        "id": "YwoQHX7sqySy"
      },
      "source": [
        "#### Inverse transformation"
      ]
    },
    {
      "cell_type": "code",
      "metadata": {
        "id": "OaTMta04qySy"
      },
      "source": [
        "# Apply inverse transformation\n",
        "\n",
        "inv_x = scale_and_shift.inverse(x)"
      ],
      "execution_count": null,
      "outputs": []
    },
    {
      "cell_type": "code",
      "metadata": {
        "id": "lA-aZWb7qyS1",
        "colab": {
          "base_uri": "https://localhost:8080/"
        },
        "outputId": "931eec74-f8dc-4ff8-e339-f368dcc9fcd3"
      },
      "source": [
        "# Check inverse transformation\n",
        "\n",
        "tf.norm(inv_x-z)"
      ],
      "execution_count": null,
      "outputs": [
        {
          "output_type": "execute_result",
          "data": {
            "text/plain": [
              "<tf.Tensor: shape=(), dtype=float32, numpy=0.0>"
            ]
          },
          "metadata": {},
          "execution_count": 13
        }
      ]
    },
    {
      "cell_type": "markdown",
      "metadata": {
        "id": "-dsVcPrkqyS3"
      },
      "source": [
        "#### Log probability"
      ]
    },
    {
      "cell_type": "code",
      "metadata": {
        "id": "gOT_fEIcqyS3",
        "colab": {
          "base_uri": "https://localhost:8080/"
        },
        "outputId": "e7d825cc-c8dd-458e-b165-5e486121f7a4"
      },
      "source": [
        "# Compute log prob for x\n",
        "\n",
        "log_prob_x = normal.log_prob(z) - scale_and_shift.forward_log_det_jacobian(z,event_ndims = 0)\n",
        "log_prob_x"
      ],
      "execution_count": null,
      "outputs": [
        {
          "output_type": "execute_result",
          "data": {
            "text/plain": [
              "<tf.Tensor: shape=(1000,), dtype=float32, numpy=\n",
              "array([ -2.4313972,  -2.451502 ,  -3.1412172,  -3.6754045,  -2.554174 ,\n",
              "        -3.1141634,  -3.157748 ,  -2.737832 ,  -2.6121738,  -2.4562333,\n",
              "        -2.4275227,  -4.3900843,  -2.4803362,  -2.6986356,  -2.4894338,\n",
              "        -6.0509963,  -3.5744894,  -2.4653723,  -2.7489066,  -4.38476  ,\n",
              "        -3.4173717,  -2.4581258,  -2.423501 ,  -3.2237706,  -2.474238 ,\n",
              "        -4.745294 ,  -2.4642758,  -2.779081 ,  -3.5726547,  -2.7243383,\n",
              "        -5.3665347,  -3.872519 ,  -2.8859158,  -2.6618605,  -2.483903 ,\n",
              "        -3.8431487,  -2.4319077,  -3.265283 ,  -2.4234934,  -2.4793773,\n",
              "        -2.6276627,  -2.5541234,  -5.9510436,  -3.369236 ,  -4.1232395,\n",
              "        -2.4230168,  -3.5857816,  -4.1755037,  -2.4255745,  -5.8927646,\n",
              "        -2.4252715,  -2.6103055,  -3.164163 ,  -4.5772333,  -2.429932 ,\n",
              "        -2.4762652,  -2.5977235,  -2.4339347,  -3.3667984,  -3.227292 ,\n",
              "        -3.5451453,  -2.9357142,  -2.6824894,  -2.6716356,  -3.0825257,\n",
              "        -3.379139 ,  -2.7200608,  -3.5495725,  -3.22299  ,  -2.6008172,\n",
              "        -4.16523  ,  -3.3264704,  -2.596012 ,  -2.460701 ,  -3.5102394,\n",
              "        -3.215109 ,  -2.4271293,  -2.9817107,  -2.4235895,  -4.6887064,\n",
              "        -2.6999526,  -2.5150228,  -2.5237236,  -2.9160838,  -4.5299764,\n",
              "        -2.767597 ,  -2.9717374,  -2.4829283,  -4.9025593,  -2.526699 ,\n",
              "        -2.7282944,  -2.6302564,  -2.6407456,  -3.9059772,  -2.600867 ,\n",
              "        -2.8033469,  -3.9227262,  -2.8532798,  -2.8681948,  -3.088509 ,\n",
              "        -2.423089 ,  -2.5087988,  -2.5744567,  -2.9074807,  -4.8146586,\n",
              "        -2.5204148,  -2.5044756,  -2.5055842,  -3.5460763,  -2.4761097,\n",
              "        -2.4234066,  -3.76618  ,  -2.6530874,  -3.0450802,  -2.4304228,\n",
              "        -3.1165614,  -4.3626585,  -4.6907625,  -2.4297533,  -2.461092 ,\n",
              "        -2.4871662,  -2.4413006,  -2.6918416,  -2.5066848,  -2.4292536,\n",
              "        -2.4733076,  -2.4295218,  -2.506924 ,  -2.4805226,  -2.7669206,\n",
              "        -2.6273766,  -2.4468918,  -2.8151479,  -2.5497618,  -2.4707992,\n",
              "        -3.1513348,  -2.6324162,  -5.9656153,  -2.4875667,  -2.5850885,\n",
              "        -2.5597775,  -2.539489 ,  -2.7443397,  -3.3852105,  -3.701346 ,\n",
              "        -2.8813722,  -3.923624 ,  -2.8027668,  -2.4546123,  -2.8012767,\n",
              "        -2.86295  ,  -3.078824 ,  -2.8948207,  -2.6965084,  -3.0470881,\n",
              "        -2.4249718,  -3.4315512,  -3.6413193,  -3.2266817,  -2.4902592,\n",
              "        -2.4251492,  -2.6427336,  -2.8286238,  -3.1357508,  -2.596695 ,\n",
              "        -2.4314132,  -2.5234256,  -2.5190344,  -3.4482636,  -2.6738834,\n",
              "        -5.889428 ,  -2.428761 ,  -3.276821 ,  -2.4333496,  -2.4401495,\n",
              "        -3.3663945,  -2.6143782,  -4.840709 ,  -2.4232814,  -2.6035352,\n",
              "        -2.4342294,  -2.46036  ,  -2.4426866,  -2.450966 ,  -2.629426 ,\n",
              "        -2.6108155,  -3.1003857,  -2.940943 ,  -3.843896 ,  -4.4892397,\n",
              "        -2.8786995,  -4.191539 ,  -2.974605 ,  -2.5934107,  -3.226242 ,\n",
              "        -2.739428 ,  -2.5442758,  -2.514091 ,  -2.829658 ,  -3.1195018,\n",
              "        -2.5824723,  -3.0488095,  -3.0820072,  -2.8436089,  -2.531304 ,\n",
              "        -3.0495453,  -2.5942388,  -3.0049167,  -2.425355 ,  -2.6422796,\n",
              "        -2.4252856,  -3.1447587,  -3.7243984,  -2.524671 ,  -2.702457 ,\n",
              "        -2.6688564,  -3.4167345,  -3.6754894,  -6.147961 ,  -3.282151 ,\n",
              "        -2.610442 ,  -2.4363017,  -2.553375 ,  -5.2512927,  -2.7453637,\n",
              "        -2.8854525,  -2.4240837,  -2.75567  ,  -2.5832834,  -2.6193895,\n",
              "        -2.4738584,  -2.5400195,  -2.431743 ,  -2.4274778,  -2.4263515,\n",
              "        -2.4332392,  -2.456513 ,  -2.7267647,  -3.1973405,  -2.7773883,\n",
              "        -2.6025934,  -2.4464827,  -2.4961567,  -2.6106715,  -2.811062 ,\n",
              "        -2.6830592,  -3.3728323,  -2.4230428,  -4.208326 ,  -2.447327 ,\n",
              "        -2.446066 ,  -3.7377312,  -2.453244 ,  -2.9290268,  -2.5705588,\n",
              "        -2.6582909,  -2.7752209,  -2.4828045,  -3.7278466,  -2.4261327,\n",
              "        -2.4485767,  -2.5665803,  -3.9533412,  -2.6786714,  -2.628821 ,\n",
              "        -2.6220944,  -2.6635184,  -2.630073 ,  -3.5948992,  -3.660668 ,\n",
              "        -3.530314 ,  -2.42779  ,  -2.4320784,  -3.9963899,  -2.5580964,\n",
              "        -2.423443 ,  -2.6020923,  -2.6143317,  -2.5126443,  -2.5181448,\n",
              "        -2.4709795,  -3.425265 ,  -4.1246786,  -3.5699496,  -2.933392 ,\n",
              "        -2.6019855,  -3.4918213,  -2.6082835,  -2.5063505,  -2.4861822,\n",
              "        -2.59021  ,  -2.4391515,  -2.4462209,  -4.0176744,  -3.4884639,\n",
              "        -2.9760547,  -2.8328557,  -2.4467025,  -2.5195808,  -2.4408424,\n",
              "        -2.674941 ,  -3.236017 ,  -2.6230621,  -2.6827042,  -3.0805082,\n",
              "        -2.6932096,  -2.5811586,  -2.4230385,  -2.480958 ,  -2.7181716,\n",
              "        -3.167281 ,  -2.776857 ,  -2.4321485,  -4.4047976,  -2.8106127,\n",
              "        -2.507246 ,  -2.4312387,  -2.8461843,  -2.6533296,  -2.4362762,\n",
              "        -5.23394  ,  -2.4351177, -10.44293  ,  -2.6281347,  -2.449421 ,\n",
              "        -2.7674427,  -2.4642324,  -4.249345 ,  -2.6584852,  -2.4288337,\n",
              "        -2.4674275,  -2.9917607,  -2.7123349,  -3.8496442,  -2.7118547,\n",
              "        -2.9735086,  -4.7792945,  -2.4645865,  -3.0894773,  -2.8600097,\n",
              "        -2.8356078,  -2.4525778,  -2.5166726,  -2.7055526,  -2.4265099,\n",
              "        -2.587436 ,  -2.5701358,  -4.2474084,  -2.6551652,  -3.5523272,\n",
              "        -2.5036845,  -2.4232016,  -2.5273182,  -3.0889115,  -2.9135878,\n",
              "        -3.7483666,  -2.4306583,  -3.127849 ,  -3.166862 ,  -2.4575093,\n",
              "        -3.2984216,  -2.905655 ,  -3.861751 ,  -2.5995052,  -3.1526814,\n",
              "        -2.4619675,  -7.6951056,  -3.4282079,  -2.424528 ,  -3.5256615,\n",
              "        -2.7630174,  -6.118832 ,  -3.5687175,  -2.423036 ,  -4.2298183,\n",
              "        -3.4218352,  -2.6574032,  -2.8216252,  -2.7842553,  -3.2848191,\n",
              "        -2.4471807,  -2.431547 ,  -2.425048 ,  -5.8760424,  -2.4726875,\n",
              "        -2.4248812,  -2.430407 ,  -2.5215547,  -2.484628 ,  -3.1537435,\n",
              "        -2.8956907,  -2.8312697,  -2.4231622,  -2.9474978,  -3.5170097,\n",
              "        -3.2082736,  -2.8466134,  -4.4089375,  -3.7618458,  -2.5739238,\n",
              "        -2.431714 ,  -4.702352 ,  -3.4458005,  -3.3028822,  -2.433929 ,\n",
              "        -2.6904392,  -2.4419618,  -2.755498 ,  -2.7432883,  -2.5670109,\n",
              "        -2.4522133,  -2.66376  ,  -3.9676638,  -2.9764354,  -2.9732437,\n",
              "        -2.7590728,  -2.490602 ,  -2.5135226,  -3.0319374,  -2.6359694,\n",
              "        -2.5621603,  -2.7924244,  -2.4497228,  -3.601499 ,  -3.1680129,\n",
              "        -2.4459238,  -3.195081 ,  -2.7956967,  -2.6489978,  -2.5518258,\n",
              "        -2.7344117,  -2.776021 ,  -4.0260305,  -2.4235423,  -2.444847 ,\n",
              "        -2.9285667,  -2.460929 ,  -2.4457998,  -2.5859592,  -4.1278276,\n",
              "        -2.4504979,  -2.5585783,  -2.4251676,  -2.6962245,  -2.4300377,\n",
              "        -2.4293914,  -2.6015964,  -2.573299 ,  -2.4467945,  -2.8776824,\n",
              "        -2.453247 ,  -2.4987817,  -2.7088363,  -2.431337 ,  -2.6118684,\n",
              "        -3.2025325,  -4.5388193,  -2.4771042,  -2.4668546,  -2.5277374,\n",
              "        -2.7660296,  -2.8656054,  -3.6145816,  -3.1027079,  -4.4781146,\n",
              "        -3.7526262,  -3.4045677,  -3.3006692,  -2.492241 ,  -2.7258945,\n",
              "        -2.542109 ,  -2.6158729,  -2.5201268,  -2.4298532,  -2.4484363,\n",
              "        -2.913021 ,  -2.78478  ,  -2.660599 ,  -2.8076124,  -2.4388032,\n",
              "        -2.5431995,  -2.9141924,  -2.424313 ,  -2.5067859,  -2.632809 ,\n",
              "        -2.818685 ,  -4.664324 ,  -2.5466187,  -2.729817 ,  -2.5124378,\n",
              "        -2.6623812,  -2.541714 ,  -2.4766867,  -2.4756434,  -2.4529872,\n",
              "        -2.4428382,  -2.7043972,  -2.9460776,  -2.631278 ,  -2.8105316,\n",
              "        -2.4268894,  -3.4030943,  -2.9320607,  -2.5605168,  -4.2562513,\n",
              "        -2.453975 ,  -4.297744 ,  -2.4236803,  -2.4885721,  -2.6014671,\n",
              "        -2.4390996,  -2.4262626,  -3.0088677,  -3.7219858,  -2.5014737,\n",
              "        -2.7730944,  -3.9259825,  -2.4235106,  -2.4232101,  -2.5319014,\n",
              "        -2.7952857,  -2.7708392,  -2.5435467,  -3.1910527,  -2.7687712,\n",
              "        -3.2361174,  -3.0371032,  -2.5295541,  -2.5261765,  -2.810803 ,\n",
              "        -2.8269408,  -2.872871 ,  -4.709433 ,  -2.7674754,  -2.567633 ,\n",
              "        -3.083859 ,  -3.599    ,  -3.9535248,  -2.56922  ,  -3.0645225,\n",
              "        -2.4542444,  -4.677971 ,  -2.4492824,  -2.562904 ,  -2.648016 ,\n",
              "        -3.453589 ,  -4.0859847,  -2.7876287,  -2.707485 ,  -2.425005 ,\n",
              "        -3.2033966,  -2.4389648,  -2.4744585,  -3.245234 ,  -2.4246678,\n",
              "        -2.787142 ,  -2.446031 ,  -2.4244182,  -2.7205985,  -2.9852068,\n",
              "        -2.9701252,  -2.4744935,  -2.4823728,  -5.2260585,  -3.8623219,\n",
              "        -2.835338 ,  -3.5283732,  -2.4775681,  -3.2651393,  -2.480996 ,\n",
              "        -2.593815 ,  -2.4604716,  -2.5063198,  -2.4992738,  -2.509859 ,\n",
              "        -2.4449654,  -2.8361578,  -2.4240298,  -3.9110713,  -3.055413 ,\n",
              "        -2.5686603,  -2.587637 ,  -2.682031 ,  -2.6974542,  -2.4309828,\n",
              "        -2.633994 ,  -3.6460862,  -2.605129 ,  -2.4246552,  -2.4984887,\n",
              "        -2.8252206,  -2.7197704,  -2.9751525,  -2.78583  ,  -2.7643256,\n",
              "        -2.4268045,  -3.117237 ,  -2.4423661,  -2.6092384,  -3.9408321,\n",
              "        -2.5241256,  -5.624302 ,  -2.97053  ,  -3.4704144,  -2.4255912,\n",
              "        -2.843486 ,  -2.4271772,  -2.6763759,  -2.426776 ,  -3.8042345,\n",
              "        -5.263367 ,  -2.427621 ,  -2.497205 ,  -3.6363926,  -2.426239 ,\n",
              "        -2.5874314,  -3.3415914,  -2.4254446,  -2.8065162,  -3.8670213,\n",
              "        -2.45358  ,  -4.930431 ,  -3.1337328,  -2.425688 ,  -3.4834828,\n",
              "        -2.426489 ,  -2.4566703,  -3.0949874,  -2.4431143,  -2.6748338,\n",
              "        -2.4787228,  -3.0905097,  -6.44235  ,  -3.646448 ,  -2.7572684,\n",
              "        -3.1522913,  -3.902886 ,  -2.508802 ,  -2.578825 ,  -2.5677571,\n",
              "        -2.495516 ,  -2.5493875,  -4.219007 ,  -2.633111 ,  -3.1690593,\n",
              "        -2.779491 ,  -2.4363787,  -2.4279056,  -3.1783648,  -2.981974 ,\n",
              "        -5.5866747,  -2.4231155,  -2.9007764,  -3.236081 ,  -3.0219712,\n",
              "        -3.310541 ,  -2.4727776,  -2.4683216,  -2.52433  ,  -3.490909 ,\n",
              "        -2.4569182,  -2.4306588,  -2.5306678,  -2.4606395,  -2.871298 ,\n",
              "        -3.1029587,  -2.4375813,  -2.5887356,  -3.0774286,  -2.423028 ,\n",
              "        -3.3677251,  -3.6220548,  -2.5900607,  -2.8427665,  -3.3006692,\n",
              "        -3.5806725,  -2.6402025,  -3.0270991,  -3.697815 ,  -2.4267237,\n",
              "        -2.6572714,  -2.9485872,  -2.5882134,  -2.619813 ,  -2.9432633,\n",
              "        -2.430107 ,  -3.136704 ,  -2.5317347,  -2.9543543,  -2.436735 ,\n",
              "        -2.4469483,  -2.4237204,  -2.790603 ,  -3.674926 ,  -3.7783952,\n",
              "        -2.6725698,  -2.7508528,  -2.426312 ,  -2.4254768,  -2.7265203,\n",
              "        -2.8795714,  -2.9322822,  -2.4474757,  -3.1278906,  -2.5917377,\n",
              "        -2.4447632,  -2.444252 ,  -2.490519 ,  -3.002237 ,  -2.8561814,\n",
              "        -2.6451812,  -2.473444 ,  -2.4404845,  -2.658279 ,  -2.59474  ,\n",
              "        -2.888113 ,  -3.2296593,  -3.0979314,  -3.2490637,  -2.6733086,\n",
              "        -2.5147264,  -2.5779195,  -2.448132 ,  -4.581746 ,  -4.0252175,\n",
              "        -3.8049302,  -3.8707361,  -2.995872 ,  -2.442184 ,  -2.768601 ,\n",
              "        -2.4877048,  -2.475787 ,  -2.908071 ,  -2.493269 ,  -2.5206   ,\n",
              "        -2.476494 ,  -2.7112384,  -2.4429374,  -2.529696 ,  -2.4239116,\n",
              "        -2.431027 ,  -3.2654786,  -2.5029542,  -4.1918283,  -2.8153548,\n",
              "        -2.7849207,  -3.8337874,  -2.551279 ,  -2.74927  ,  -3.0204692,\n",
              "        -4.1134953,  -3.195627 ,  -3.3849266,  -2.426606 ,  -3.2143857,\n",
              "        -2.626444 ,  -3.0530772,  -5.231997 ,  -4.8792934,  -2.5299237,\n",
              "        -2.8904662,  -2.437989 ,  -2.5550585,  -2.545714 ,  -3.7782855,\n",
              "        -2.431936 ,  -2.4231791,  -5.8779907,  -2.4234269,  -2.8403134,\n",
              "        -2.5814786,  -3.3594983,  -2.4296682,  -2.9973993,  -2.4364126,\n",
              "        -3.5711434,  -2.518333 ,  -2.788394 ,  -2.5575578,  -5.8715334,\n",
              "        -2.4778516,  -2.4281309,  -2.6908474,  -2.4830012,  -2.4256206,\n",
              "        -2.6434412,  -2.5268574,  -2.4654748,  -2.7758527,  -4.984701 ,\n",
              "        -2.4952307,  -2.4353437,  -2.4518783,  -2.4584444,  -3.5558643,\n",
              "        -3.1419795,  -3.9125905,  -2.4849517,  -2.4402685,  -3.3739054,\n",
              "        -3.5267932,  -2.586598 ,  -3.4960976,  -2.4463806,  -3.3303947,\n",
              "        -2.4243872,  -2.44945  ,  -2.6568418,  -2.4466424,  -2.58656  ,\n",
              "        -2.5832832,  -2.4400718,  -2.4604836,  -2.8770967,  -2.47656  ,\n",
              "        -2.6239948,  -2.4251418,  -2.423632 ,  -2.8928668,  -2.7803392,\n",
              "        -2.6964612,  -2.506186 ,  -2.4410262,  -2.4396696,  -3.1151743,\n",
              "        -2.8045793,  -2.5312076,  -2.600391 ,  -2.924064 ,  -2.574097 ,\n",
              "        -2.9316893,  -3.3802645,  -2.4391975,  -4.4781213,  -2.4715173,\n",
              "        -4.320149 ,  -2.7795851,  -3.464569 ,  -2.597286 ,  -2.4997232,\n",
              "        -2.4519196,  -2.6013575,  -2.4607558,  -3.1739101,  -2.795157 ,\n",
              "        -2.710186 ,  -2.8259883,  -2.4731548,  -2.5714808,  -4.1006517,\n",
              "        -2.8432727,  -3.4273696,  -2.7645574,  -2.4388995,  -2.4232333,\n",
              "        -2.7836733,  -2.4394915,  -2.624064 ,  -2.5542035,  -2.4413872,\n",
              "        -2.7014318,  -3.1592278,  -3.7024953,  -3.0487182,  -2.6492443,\n",
              "        -2.5488112,  -2.528486 ,  -3.644102 ,  -2.436923 ,  -2.4350111,\n",
              "        -2.9380894,  -2.475698 ,  -2.9941728,  -2.588152 ,  -2.6630464,\n",
              "        -2.5140328,  -2.482744 ,  -2.5032408,  -2.503604 ,  -2.9424946,\n",
              "        -2.4393172,  -2.520081 ,  -2.4237769,  -4.6671243,  -3.6703453,\n",
              "        -2.568901 ,  -2.8008957,  -3.26282  ,  -2.4286456,  -4.191017 ,\n",
              "        -2.5907779,  -2.4230165,  -2.7627854,  -4.1464176,  -2.57436  ,\n",
              "        -2.4327765,  -2.8148844,  -3.179628 ,  -2.4244614,  -2.748427 ,\n",
              "        -2.7145495,  -2.6734886,  -3.2482212,  -2.5536284,  -2.5675168,\n",
              "        -4.4776764,  -2.584219 ,  -2.6995125,  -2.5458646,  -2.4274411,\n",
              "        -2.5455608,  -2.4722776,  -2.5465875,  -2.4341931,  -3.3611546,\n",
              "        -2.572276 ,  -4.12354  ,  -2.584825 ,  -2.5326838,  -2.636465 ,\n",
              "        -2.465419 ,  -2.424158 ,  -4.052342 ,  -2.9026408,  -2.5714371,\n",
              "        -3.163407 ,  -2.4230669,  -2.5170672,  -2.4270542,  -2.6479235,\n",
              "        -2.5056195,  -2.4493546,  -2.4866807,  -2.4334402,  -2.4477568,\n",
              "        -2.9297173,  -2.695243 ,  -3.5443745,  -3.045607 ,  -2.9526684,\n",
              "        -3.005525 ,  -2.4481776,  -2.4380121,  -3.2547214,  -2.459968 ,\n",
              "        -5.055002 ,  -2.8723505,  -2.5241132,  -2.9855614,  -2.5983806,\n",
              "        -3.940687 ,  -3.121759 ,  -2.5410595,  -2.4869666,  -2.5617137,\n",
              "        -3.0625587,  -3.7632568,  -2.509227 ,  -2.917961 ,  -2.425709 ,\n",
              "        -2.4973059,  -2.5605574,  -2.4287   ,  -3.02467  ,  -3.722762 ,\n",
              "        -3.0505764,  -2.649105 ,  -3.2717152,  -2.4337778,  -2.4620035,\n",
              "        -3.0600152,  -2.4369423,  -2.4537396,  -2.4942036,  -3.705096 ,\n",
              "        -3.5052989,  -2.4619353,  -5.4320507,  -2.759987 ,  -3.0963824,\n",
              "        -2.6880074,  -2.849105 ,  -3.7081594,  -2.804213 ,  -2.4351761,\n",
              "        -2.6312127,  -2.9127998,  -3.6064875,  -2.459984 ,  -2.6246822,\n",
              "        -4.132498 ,  -2.425011 ,  -2.866723 ,  -2.841967 ,  -2.5552788,\n",
              "        -2.548698 ,  -2.6656265,  -2.4278178,  -3.5841243,  -2.5179176],\n",
              "      dtype=float32)>"
            ]
          },
          "metadata": {},
          "execution_count": 14
        }
      ]
    },
    {
      "cell_type": "code",
      "metadata": {
        "id": "d59VoBnuqyS6",
        "colab": {
          "base_uri": "https://localhost:8080/"
        },
        "outputId": "3902ecb5-ecaa-4185-8bce-8386b946cdf3"
      },
      "source": [
        "# We can also use the inverse transformation\n",
        "\n",
        "log_prob_x = (normal.log_prob(scale_and_shift.inverse(x)) + scale_and_shift.inverse_log_det_jacobian(x,event_ndims=0))\n",
        "log_prob_x"
      ],
      "execution_count": null,
      "outputs": [
        {
          "output_type": "execute_result",
          "data": {
            "text/plain": [
              "<tf.Tensor: shape=(1000,), dtype=float32, numpy=\n",
              "array([ -2.4313972,  -2.451502 ,  -3.1412172,  -3.6754045,  -2.554174 ,\n",
              "        -3.1141634,  -3.157748 ,  -2.737832 ,  -2.6121738,  -2.4562333,\n",
              "        -2.4275227,  -4.3900843,  -2.4803362,  -2.6986356,  -2.4894338,\n",
              "        -6.0509963,  -3.5744894,  -2.4653723,  -2.7489066,  -4.38476  ,\n",
              "        -3.4173717,  -2.4581258,  -2.423501 ,  -3.2237706,  -2.474238 ,\n",
              "        -4.745294 ,  -2.4642758,  -2.779081 ,  -3.5726547,  -2.7243383,\n",
              "        -5.3665347,  -3.872519 ,  -2.8859158,  -2.6618605,  -2.483903 ,\n",
              "        -3.8431487,  -2.4319077,  -3.265283 ,  -2.4234934,  -2.4793773,\n",
              "        -2.6276627,  -2.5541234,  -5.9510436,  -3.369236 ,  -4.1232395,\n",
              "        -2.4230168,  -3.5857816,  -4.1755037,  -2.4255745,  -5.8927646,\n",
              "        -2.4252715,  -2.6103055,  -3.164163 ,  -4.5772333,  -2.429932 ,\n",
              "        -2.4762652,  -2.5977235,  -2.4339347,  -3.3667984,  -3.227292 ,\n",
              "        -3.5451453,  -2.9357142,  -2.6824894,  -2.6716356,  -3.0825257,\n",
              "        -3.379139 ,  -2.7200608,  -3.5495725,  -3.22299  ,  -2.6008172,\n",
              "        -4.16523  ,  -3.3264704,  -2.596012 ,  -2.460701 ,  -3.5102394,\n",
              "        -3.215109 ,  -2.4271293,  -2.9817107,  -2.4235895,  -4.6887064,\n",
              "        -2.6999526,  -2.5150228,  -2.5237236,  -2.9160838,  -4.5299764,\n",
              "        -2.767597 ,  -2.9717374,  -2.4829283,  -4.9025593,  -2.526699 ,\n",
              "        -2.7282944,  -2.6302564,  -2.6407456,  -3.9059772,  -2.600867 ,\n",
              "        -2.8033469,  -3.9227262,  -2.8532798,  -2.8681948,  -3.088509 ,\n",
              "        -2.423089 ,  -2.5087988,  -2.5744567,  -2.9074807,  -4.8146586,\n",
              "        -2.5204148,  -2.5044756,  -2.5055842,  -3.5460763,  -2.4761097,\n",
              "        -2.4234066,  -3.76618  ,  -2.6530874,  -3.0450802,  -2.4304228,\n",
              "        -3.1165614,  -4.3626585,  -4.6907625,  -2.4297533,  -2.461092 ,\n",
              "        -2.4871662,  -2.4413006,  -2.6918416,  -2.5066848,  -2.4292536,\n",
              "        -2.4733076,  -2.4295218,  -2.506924 ,  -2.4805226,  -2.7669206,\n",
              "        -2.6273766,  -2.4468918,  -2.8151479,  -2.5497618,  -2.4707992,\n",
              "        -3.1513348,  -2.6324162,  -5.9656153,  -2.4875667,  -2.5850885,\n",
              "        -2.5597775,  -2.539489 ,  -2.7443397,  -3.3852105,  -3.701346 ,\n",
              "        -2.8813722,  -3.923624 ,  -2.8027668,  -2.4546123,  -2.8012767,\n",
              "        -2.86295  ,  -3.078824 ,  -2.8948207,  -2.6965084,  -3.0470881,\n",
              "        -2.4249718,  -3.4315512,  -3.6413193,  -3.2266817,  -2.4902592,\n",
              "        -2.4251492,  -2.6427336,  -2.8286238,  -3.1357508,  -2.596695 ,\n",
              "        -2.4314132,  -2.5234256,  -2.5190344,  -3.4482636,  -2.6738834,\n",
              "        -5.889428 ,  -2.428761 ,  -3.276821 ,  -2.4333496,  -2.4401495,\n",
              "        -3.3663945,  -2.6143782,  -4.840709 ,  -2.4232814,  -2.6035352,\n",
              "        -2.4342294,  -2.46036  ,  -2.4426866,  -2.450966 ,  -2.629426 ,\n",
              "        -2.6108155,  -3.1003857,  -2.940943 ,  -3.843896 ,  -4.4892397,\n",
              "        -2.8786995,  -4.191539 ,  -2.974605 ,  -2.5934107,  -3.226242 ,\n",
              "        -2.739428 ,  -2.5442758,  -2.514091 ,  -2.829658 ,  -3.1195018,\n",
              "        -2.5824723,  -3.0488095,  -3.0820072,  -2.8436089,  -2.531304 ,\n",
              "        -3.0495453,  -2.5942388,  -3.0049167,  -2.425355 ,  -2.6422796,\n",
              "        -2.4252856,  -3.1447587,  -3.7243984,  -2.524671 ,  -2.702457 ,\n",
              "        -2.6688564,  -3.4167345,  -3.6754894,  -6.147961 ,  -3.282151 ,\n",
              "        -2.610442 ,  -2.4363017,  -2.553375 ,  -5.2512927,  -2.7453637,\n",
              "        -2.8854525,  -2.4240837,  -2.75567  ,  -2.5832834,  -2.6193895,\n",
              "        -2.4738584,  -2.5400195,  -2.431743 ,  -2.4274778,  -2.4263515,\n",
              "        -2.4332392,  -2.456513 ,  -2.7267647,  -3.1973405,  -2.7773883,\n",
              "        -2.6025934,  -2.4464827,  -2.4961567,  -2.6106715,  -2.811062 ,\n",
              "        -2.6830592,  -3.3728323,  -2.4230428,  -4.208326 ,  -2.447327 ,\n",
              "        -2.446066 ,  -3.7377312,  -2.453244 ,  -2.9290268,  -2.5705588,\n",
              "        -2.6582909,  -2.7752209,  -2.4828045,  -3.7278466,  -2.4261327,\n",
              "        -2.4485767,  -2.5665803,  -3.9533412,  -2.6786714,  -2.628821 ,\n",
              "        -2.6220944,  -2.6635184,  -2.630073 ,  -3.5948992,  -3.660668 ,\n",
              "        -3.530314 ,  -2.42779  ,  -2.4320784,  -3.9963899,  -2.5580964,\n",
              "        -2.423443 ,  -2.6020923,  -2.6143317,  -2.5126443,  -2.5181448,\n",
              "        -2.4709795,  -3.425265 ,  -4.1246786,  -3.5699496,  -2.933392 ,\n",
              "        -2.6019855,  -3.4918213,  -2.6082835,  -2.5063505,  -2.4861822,\n",
              "        -2.59021  ,  -2.4391515,  -2.4462209,  -4.0176744,  -3.4884639,\n",
              "        -2.9760547,  -2.8328557,  -2.4467025,  -2.5195808,  -2.4408424,\n",
              "        -2.674941 ,  -3.236017 ,  -2.6230621,  -2.6827042,  -3.0805082,\n",
              "        -2.6932096,  -2.5811586,  -2.4230385,  -2.480958 ,  -2.7181716,\n",
              "        -3.167281 ,  -2.776857 ,  -2.4321485,  -4.4047976,  -2.8106127,\n",
              "        -2.507246 ,  -2.4312387,  -2.8461843,  -2.6533296,  -2.4362762,\n",
              "        -5.23394  ,  -2.4351177, -10.44293  ,  -2.6281347,  -2.449421 ,\n",
              "        -2.7674427,  -2.4642324,  -4.249345 ,  -2.6584852,  -2.4288337,\n",
              "        -2.4674275,  -2.9917607,  -2.7123349,  -3.8496442,  -2.7118547,\n",
              "        -2.9735086,  -4.7792945,  -2.4645865,  -3.0894773,  -2.8600097,\n",
              "        -2.8356078,  -2.4525778,  -2.5166726,  -2.7055526,  -2.4265099,\n",
              "        -2.587436 ,  -2.5701358,  -4.2474084,  -2.6551652,  -3.5523272,\n",
              "        -2.5036845,  -2.4232016,  -2.5273182,  -3.0889115,  -2.9135878,\n",
              "        -3.7483666,  -2.4306583,  -3.127849 ,  -3.166862 ,  -2.4575093,\n",
              "        -3.2984216,  -2.905655 ,  -3.861751 ,  -2.5995052,  -3.1526814,\n",
              "        -2.4619675,  -7.6951056,  -3.4282079,  -2.424528 ,  -3.5256615,\n",
              "        -2.7630174,  -6.118832 ,  -3.5687175,  -2.423036 ,  -4.2298183,\n",
              "        -3.4218352,  -2.6574032,  -2.8216252,  -2.7842553,  -3.2848191,\n",
              "        -2.4471807,  -2.431547 ,  -2.425048 ,  -5.8760424,  -2.4726875,\n",
              "        -2.4248812,  -2.430407 ,  -2.5215547,  -2.484628 ,  -3.1537435,\n",
              "        -2.8956907,  -2.8312697,  -2.4231622,  -2.9474978,  -3.5170097,\n",
              "        -3.2082736,  -2.8466134,  -4.4089375,  -3.7618458,  -2.5739238,\n",
              "        -2.431714 ,  -4.702352 ,  -3.4458005,  -3.3028822,  -2.433929 ,\n",
              "        -2.6904392,  -2.4419618,  -2.755498 ,  -2.7432883,  -2.5670109,\n",
              "        -2.4522133,  -2.66376  ,  -3.9676638,  -2.9764354,  -2.9732437,\n",
              "        -2.7590728,  -2.490602 ,  -2.5135226,  -3.0319374,  -2.6359694,\n",
              "        -2.5621603,  -2.7924244,  -2.4497228,  -3.601499 ,  -3.1680129,\n",
              "        -2.4459238,  -3.195081 ,  -2.7956967,  -2.6489978,  -2.5518258,\n",
              "        -2.7344117,  -2.776021 ,  -4.0260305,  -2.4235423,  -2.444847 ,\n",
              "        -2.9285667,  -2.460929 ,  -2.4457998,  -2.5859592,  -4.1278276,\n",
              "        -2.4504979,  -2.5585783,  -2.4251676,  -2.6962245,  -2.4300377,\n",
              "        -2.4293914,  -2.6015964,  -2.573299 ,  -2.4467945,  -2.8776824,\n",
              "        -2.453247 ,  -2.4987817,  -2.7088363,  -2.431337 ,  -2.6118684,\n",
              "        -3.2025325,  -4.5388193,  -2.4771042,  -2.4668546,  -2.5277374,\n",
              "        -2.7660296,  -2.8656054,  -3.6145816,  -3.1027079,  -4.4781146,\n",
              "        -3.7526262,  -3.4045677,  -3.3006692,  -2.492241 ,  -2.7258945,\n",
              "        -2.542109 ,  -2.6158729,  -2.5201268,  -2.4298532,  -2.4484363,\n",
              "        -2.913021 ,  -2.78478  ,  -2.660599 ,  -2.8076124,  -2.4388032,\n",
              "        -2.5431995,  -2.9141924,  -2.424313 ,  -2.5067859,  -2.632809 ,\n",
              "        -2.818685 ,  -4.664324 ,  -2.5466187,  -2.729817 ,  -2.5124378,\n",
              "        -2.6623812,  -2.541714 ,  -2.4766867,  -2.4756434,  -2.4529872,\n",
              "        -2.4428382,  -2.7043972,  -2.9460776,  -2.631278 ,  -2.8105316,\n",
              "        -2.4268894,  -3.4030943,  -2.9320607,  -2.5605168,  -4.2562513,\n",
              "        -2.453975 ,  -4.297744 ,  -2.4236803,  -2.4885721,  -2.6014671,\n",
              "        -2.4390996,  -2.4262626,  -3.0088677,  -3.7219858,  -2.5014737,\n",
              "        -2.7730944,  -3.9259825,  -2.4235106,  -2.4232101,  -2.5319014,\n",
              "        -2.7952857,  -2.7708392,  -2.5435467,  -3.1910527,  -2.7687712,\n",
              "        -3.2361174,  -3.0371032,  -2.5295541,  -2.5261765,  -2.810803 ,\n",
              "        -2.8269408,  -2.872871 ,  -4.709433 ,  -2.7674754,  -2.567633 ,\n",
              "        -3.083859 ,  -3.599    ,  -3.9535248,  -2.56922  ,  -3.0645225,\n",
              "        -2.4542444,  -4.677971 ,  -2.4492824,  -2.562904 ,  -2.648016 ,\n",
              "        -3.453589 ,  -4.0859847,  -2.7876287,  -2.707485 ,  -2.425005 ,\n",
              "        -3.2033966,  -2.4389648,  -2.4744585,  -3.245234 ,  -2.4246678,\n",
              "        -2.787142 ,  -2.446031 ,  -2.4244182,  -2.7205985,  -2.9852068,\n",
              "        -2.9701252,  -2.4744935,  -2.4823728,  -5.2260585,  -3.8623219,\n",
              "        -2.835338 ,  -3.5283732,  -2.4775681,  -3.2651393,  -2.480996 ,\n",
              "        -2.593815 ,  -2.4604716,  -2.5063198,  -2.4992738,  -2.509859 ,\n",
              "        -2.4449654,  -2.8361578,  -2.4240298,  -3.9110713,  -3.055413 ,\n",
              "        -2.5686603,  -2.587637 ,  -2.682031 ,  -2.6974542,  -2.4309828,\n",
              "        -2.633994 ,  -3.6460862,  -2.605129 ,  -2.4246552,  -2.4984887,\n",
              "        -2.8252206,  -2.7197704,  -2.9751525,  -2.78583  ,  -2.7643256,\n",
              "        -2.4268045,  -3.117237 ,  -2.4423661,  -2.6092384,  -3.9408321,\n",
              "        -2.5241256,  -5.624302 ,  -2.97053  ,  -3.4704144,  -2.4255912,\n",
              "        -2.843486 ,  -2.4271772,  -2.6763759,  -2.426776 ,  -3.8042345,\n",
              "        -5.263367 ,  -2.427621 ,  -2.497205 ,  -3.6363926,  -2.426239 ,\n",
              "        -2.5874314,  -3.3415914,  -2.4254446,  -2.8065162,  -3.8670213,\n",
              "        -2.45358  ,  -4.930431 ,  -3.1337328,  -2.425688 ,  -3.4834828,\n",
              "        -2.426489 ,  -2.4566703,  -3.0949874,  -2.4431143,  -2.6748338,\n",
              "        -2.4787228,  -3.0905097,  -6.44235  ,  -3.646448 ,  -2.7572684,\n",
              "        -3.1522913,  -3.902886 ,  -2.508802 ,  -2.578825 ,  -2.5677571,\n",
              "        -2.495516 ,  -2.5493875,  -4.219007 ,  -2.633111 ,  -3.1690593,\n",
              "        -2.779491 ,  -2.4363787,  -2.4279056,  -3.1783648,  -2.981974 ,\n",
              "        -5.5866747,  -2.4231155,  -2.9007764,  -3.236081 ,  -3.0219712,\n",
              "        -3.310541 ,  -2.4727776,  -2.4683216,  -2.52433  ,  -3.490909 ,\n",
              "        -2.4569182,  -2.4306588,  -2.5306678,  -2.4606395,  -2.871298 ,\n",
              "        -3.1029587,  -2.4375813,  -2.5887356,  -3.0774286,  -2.423028 ,\n",
              "        -3.3677251,  -3.6220548,  -2.5900607,  -2.8427665,  -3.3006692,\n",
              "        -3.5806725,  -2.6402025,  -3.0270991,  -3.697815 ,  -2.4267237,\n",
              "        -2.6572714,  -2.9485872,  -2.5882134,  -2.619813 ,  -2.9432633,\n",
              "        -2.430107 ,  -3.136704 ,  -2.5317347,  -2.9543543,  -2.436735 ,\n",
              "        -2.4469483,  -2.4237204,  -2.790603 ,  -3.674926 ,  -3.7783952,\n",
              "        -2.6725698,  -2.7508528,  -2.426312 ,  -2.4254768,  -2.7265203,\n",
              "        -2.8795714,  -2.9322822,  -2.4474757,  -3.1278906,  -2.5917377,\n",
              "        -2.4447632,  -2.444252 ,  -2.490519 ,  -3.002237 ,  -2.8561814,\n",
              "        -2.6451812,  -2.473444 ,  -2.4404845,  -2.658279 ,  -2.59474  ,\n",
              "        -2.888113 ,  -3.2296593,  -3.0979314,  -3.2490637,  -2.6733086,\n",
              "        -2.5147264,  -2.5779195,  -2.448132 ,  -4.581746 ,  -4.0252175,\n",
              "        -3.8049302,  -3.8707361,  -2.995872 ,  -2.442184 ,  -2.768601 ,\n",
              "        -2.4877048,  -2.475787 ,  -2.908071 ,  -2.493269 ,  -2.5206   ,\n",
              "        -2.476494 ,  -2.7112384,  -2.4429374,  -2.529696 ,  -2.4239116,\n",
              "        -2.431027 ,  -3.2654786,  -2.5029542,  -4.1918283,  -2.8153548,\n",
              "        -2.7849207,  -3.8337874,  -2.551279 ,  -2.74927  ,  -3.0204692,\n",
              "        -4.1134953,  -3.195627 ,  -3.3849266,  -2.426606 ,  -3.2143857,\n",
              "        -2.626444 ,  -3.0530772,  -5.231997 ,  -4.8792934,  -2.5299237,\n",
              "        -2.8904662,  -2.437989 ,  -2.5550585,  -2.545714 ,  -3.7782855,\n",
              "        -2.431936 ,  -2.4231791,  -5.8779907,  -2.4234269,  -2.8403134,\n",
              "        -2.5814786,  -3.3594983,  -2.4296682,  -2.9973993,  -2.4364126,\n",
              "        -3.5711434,  -2.518333 ,  -2.788394 ,  -2.5575578,  -5.8715334,\n",
              "        -2.4778516,  -2.4281309,  -2.6908474,  -2.4830012,  -2.4256206,\n",
              "        -2.6434412,  -2.5268574,  -2.4654748,  -2.7758527,  -4.984701 ,\n",
              "        -2.4952307,  -2.4353437,  -2.4518783,  -2.4584444,  -3.5558643,\n",
              "        -3.1419795,  -3.9125905,  -2.4849517,  -2.4402685,  -3.3739054,\n",
              "        -3.5267932,  -2.586598 ,  -3.4960976,  -2.4463806,  -3.3303947,\n",
              "        -2.4243872,  -2.44945  ,  -2.6568418,  -2.4466424,  -2.58656  ,\n",
              "        -2.5832832,  -2.4400718,  -2.4604836,  -2.8770967,  -2.47656  ,\n",
              "        -2.6239948,  -2.4251418,  -2.423632 ,  -2.8928668,  -2.7803392,\n",
              "        -2.6964612,  -2.506186 ,  -2.4410262,  -2.4396696,  -3.1151743,\n",
              "        -2.8045793,  -2.5312076,  -2.600391 ,  -2.924064 ,  -2.574097 ,\n",
              "        -2.9316893,  -3.3802645,  -2.4391975,  -4.4781213,  -2.4715173,\n",
              "        -4.320149 ,  -2.7795851,  -3.464569 ,  -2.597286 ,  -2.4997232,\n",
              "        -2.4519196,  -2.6013575,  -2.4607558,  -3.1739101,  -2.795157 ,\n",
              "        -2.710186 ,  -2.8259883,  -2.4731548,  -2.5714808,  -4.1006517,\n",
              "        -2.8432727,  -3.4273696,  -2.7645574,  -2.4388995,  -2.4232333,\n",
              "        -2.7836733,  -2.4394915,  -2.624064 ,  -2.5542035,  -2.4413872,\n",
              "        -2.7014318,  -3.1592278,  -3.7024953,  -3.0487182,  -2.6492443,\n",
              "        -2.5488112,  -2.528486 ,  -3.644102 ,  -2.436923 ,  -2.4350111,\n",
              "        -2.9380894,  -2.475698 ,  -2.9941728,  -2.588152 ,  -2.6630464,\n",
              "        -2.5140328,  -2.482744 ,  -2.5032408,  -2.503604 ,  -2.9424946,\n",
              "        -2.4393172,  -2.520081 ,  -2.4237769,  -4.6671243,  -3.6703453,\n",
              "        -2.568901 ,  -2.8008957,  -3.26282  ,  -2.4286456,  -4.191017 ,\n",
              "        -2.5907779,  -2.4230165,  -2.7627854,  -4.1464176,  -2.57436  ,\n",
              "        -2.4327765,  -2.8148844,  -3.179628 ,  -2.4244614,  -2.748427 ,\n",
              "        -2.7145495,  -2.6734886,  -3.2482212,  -2.5536284,  -2.5675168,\n",
              "        -4.4776764,  -2.584219 ,  -2.6995125,  -2.5458646,  -2.4274411,\n",
              "        -2.5455608,  -2.4722776,  -2.5465875,  -2.4341931,  -3.3611546,\n",
              "        -2.572276 ,  -4.12354  ,  -2.584825 ,  -2.5326838,  -2.636465 ,\n",
              "        -2.465419 ,  -2.424158 ,  -4.052342 ,  -2.9026408,  -2.5714371,\n",
              "        -3.163407 ,  -2.4230669,  -2.5170672,  -2.4270542,  -2.6479235,\n",
              "        -2.5056195,  -2.4493546,  -2.4866807,  -2.4334402,  -2.4477568,\n",
              "        -2.9297173,  -2.695243 ,  -3.5443745,  -3.045607 ,  -2.9526684,\n",
              "        -3.005525 ,  -2.4481776,  -2.4380121,  -3.2547214,  -2.459968 ,\n",
              "        -5.055002 ,  -2.8723505,  -2.5241132,  -2.9855614,  -2.5983806,\n",
              "        -3.940687 ,  -3.121759 ,  -2.5410595,  -2.4869666,  -2.5617137,\n",
              "        -3.0625587,  -3.7632568,  -2.509227 ,  -2.917961 ,  -2.425709 ,\n",
              "        -2.4973059,  -2.5605574,  -2.4287   ,  -3.02467  ,  -3.722762 ,\n",
              "        -3.0505764,  -2.649105 ,  -3.2717152,  -2.4337778,  -2.4620035,\n",
              "        -3.0600152,  -2.4369423,  -2.4537396,  -2.4942036,  -3.705096 ,\n",
              "        -3.5052989,  -2.4619353,  -5.4320507,  -2.759987 ,  -3.0963824,\n",
              "        -2.6880074,  -2.849105 ,  -3.7081594,  -2.804213 ,  -2.4351761,\n",
              "        -2.6312127,  -2.9127998,  -3.6064875,  -2.459984 ,  -2.6246822,\n",
              "        -4.132498 ,  -2.425011 ,  -2.866723 ,  -2.841967 ,  -2.5552788,\n",
              "        -2.548698 ,  -2.6656265,  -2.4278178,  -3.5841243,  -2.5179176],\n",
              "      dtype=float32)>"
            ]
          },
          "metadata": {},
          "execution_count": 15
        }
      ]
    },
    {
      "cell_type": "markdown",
      "metadata": {
        "id": "TX4Pa-mhqyS8"
      },
      "source": [
        "### Broadcasting"
      ]
    },
    {
      "cell_type": "code",
      "metadata": {
        "id": "Bylt-_zRqyS9"
      },
      "source": [
        "x = tf.random.normal(shape=(100, 1))"
      ],
      "execution_count": null,
      "outputs": []
    },
    {
      "cell_type": "code",
      "metadata": {
        "id": "ETxaa6c7qyS_",
        "colab": {
          "base_uri": "https://localhost:8080/"
        },
        "outputId": "6184d867-7984-4052-85c4-d06f08180637"
      },
      "source": [
        "# Softfloor bijector\n",
        "\n",
        "softfloor = tfb.Softfloor(temperature = 0.01)\n",
        "y = softfloor.forward(x)\n",
        "y.shape"
      ],
      "execution_count": null,
      "outputs": [
        {
          "output_type": "execute_result",
          "data": {
            "text/plain": [
              "TensorShape([100, 1])"
            ]
          },
          "metadata": {},
          "execution_count": 17
        }
      ]
    },
    {
      "cell_type": "code",
      "metadata": {
        "id": "w39w_c3WqyTB",
        "colab": {
          "base_uri": "https://localhost:8080/"
        },
        "outputId": "9aab6928-8099-4c85-b42e-aa2ba1dc4325"
      },
      "source": [
        "# Softfloor bijector using broadcasting\n",
        "\n",
        "softfloor = tfb.Softfloor(temperature = [0.2,1.0])\n",
        "y = softfloor.forward(x)\n",
        "print(y.shape)"
      ],
      "execution_count": null,
      "outputs": [
        {
          "output_type": "stream",
          "name": "stdout",
          "text": [
            "(100, 2)\n"
          ]
        }
      ]
    },
    {
      "cell_type": "code",
      "metadata": {
        "id": "kTZoiF1AqyTE"
      },
      "source": [
        "# Softfloor bijector using broadcasting\n",
        "\n",
        "softfloor = tfb.Softfloor(temperature = [0.01,0.1,1.0])"
      ],
      "execution_count": null,
      "outputs": []
    },
    {
      "cell_type": "code",
      "metadata": {
        "id": "AwiBI1xsqyTG"
      },
      "source": [
        "# Plot routine\n",
        "\n",
        "def _plot(nparams, bijector, params, x):\n",
        "    bijector_params = tuple(getattr(bijector, name) for name in params)\n",
        "    upper_params = [name[0].upper() + name[1:] for name in params]\n",
        "    fig = plt.figure(figsize=(14, 5))\n",
        "    lines = plt.plot(np.tile(x, nparams), bijector.forward(x))\n",
        "    for l in zip(lines, *bijector_params):\n",
        "        labels = \": {:.2f}, \".join(upper_params) + ': {:.2f}'\n",
        "        l[0].set_label(labels.format(*l[1:]))\n",
        "    plt.legend()\n",
        "    plt.show()"
      ],
      "execution_count": null,
      "outputs": []
    },
    {
      "cell_type": "code",
      "metadata": {
        "id": "eBwXfWLHqyTI",
        "colab": {
          "base_uri": "https://localhost:8080/"
        },
        "outputId": "8371d52c-e257-4c87-a3ae-80d0ad183b78"
      },
      "source": [
        "# Plot\n",
        "\n",
        "x = np.linspace(-2, 2, 2000)[..., np.newaxis]\n",
        "_plot(3,softfloor,[\"temperature\"],x)"
      ],
      "execution_count": null,
      "outputs": [
        {
          "output_type": "display_data",
          "data": {
            "text/plain": [
              "<Figure size 1008x360 with 1 Axes>"
            ],
            "image/png": "[encoded data removed]"
          },
          "metadata": {
            "needs_background": "light"
          }
        }
      ]
    },
    {
      "cell_type": "code",
      "metadata": {
        "id": "U1aJ0CZ0qyTK"
      },
      "source": [
        "# Gumbel bijector using broadcasting\n",
        "exps = tfb.GumbelCDF(loc = [0.5,1,1.5,2,3],scale = [1,2,2,3,4])\n"
      ],
      "execution_count": null,
      "outputs": []
    },
    {
      "cell_type": "code",
      "metadata": {
        "id": "KK904tTZqyTM",
        "colab": {
          "base_uri": "https://localhost:8080/"
        },
        "outputId": "e00eaeaf-d34e-4d73-8591-af1ff3efab32"
      },
      "source": [
        "# Plot\n",
        "\n",
        "x = np.linspace(-10, 10, 2000, dtype=np.float32)[..., np.newaxis]\n",
        "_plot(5,exps,[\"loc\",\"scale\"],x)\n"
      ],
      "execution_count": null,
      "outputs": [
        {
          "output_type": "display_data",
          "data": {
            "text/plain": [
              "<Figure size 1008x360 with 1 Axes>"
            ],
            "image/png": "[encoded data removed]"
          },
          "metadata": {
            "needs_background": "light"
          }
        }
      ]
    },
    {
      "cell_type": "markdown",
      "metadata": {
        "id": "OZ-2ibBFqyTP"
      },
      "source": [
        "***\n",
        "<a id=\"coding_tutorial_2\"></a>\n",
        "## The TransformedDistribution class"
      ]
    },
    {
      "cell_type": "markdown",
      "metadata": {
        "id": "bWIFwTDdqyTP"
      },
      "source": [
        "### TransformedDistribution"
      ]
    },
    {
      "cell_type": "code",
      "metadata": {
        "id": "MkC4skb3qyTP"
      },
      "source": [
        "# Parameters\n",
        "\n",
        "n = 10000\n",
        "loc = 0\n",
        "scale = 0.5"
      ],
      "execution_count": null,
      "outputs": []
    },
    {
      "cell_type": "code",
      "metadata": {
        "id": "jTAecDzMqyTS"
      },
      "source": [
        "# Normal distribution\n",
        "\n",
        "normal = tfd.Normal(loc=loc, scale=scale)"
      ],
      "execution_count": null,
      "outputs": []
    },
    {
      "cell_type": "code",
      "metadata": {
        "id": "MYxeM2L9qyTV",
        "colab": {
          "base_uri": "https://localhost:8080/"
        },
        "outputId": "5292492b-6e2a-41aa-f0de-7201e762032c"
      },
      "source": [
        "# Display event and batch shape\n",
        "\n",
        "print('batch shape: ', normal.batch_shape)\n",
        "print('event shape: ', normal.event_shape)"
      ],
      "execution_count": null,
      "outputs": [
        {
          "output_type": "stream",
          "name": "stdout",
          "text": [
            "batch shape:  ()\n",
            "event shape:  ()\n"
          ]
        }
      ]
    },
    {
      "cell_type": "code",
      "metadata": {
        "id": "FTnmDabyqyTW"
      },
      "source": [
        "# Exponential bijector\n",
        "exp = tfb.Exp()\n"
      ],
      "execution_count": null,
      "outputs": []
    },
    {
      "cell_type": "code",
      "metadata": {
        "id": "bRUNwCsDqyTY"
      },
      "source": [
        "# Log normal transformed distribution using exp and normal bijectors\n",
        "\n",
        "log_normal_td = exp(normal)"
      ],
      "execution_count": null,
      "outputs": []
    },
    {
      "cell_type": "code",
      "metadata": {
        "id": "klj7vbeoqyTb",
        "colab": {
          "base_uri": "https://localhost:8080/"
        },
        "outputId": "482bfa72-70d7-451e-c6b8-51e7b06e3c21"
      },
      "source": [
        "# Display event and batch shape\n",
        "print('batch_shape: ', log_normal_td.batch_shape)\n",
        "print('batch_shape: ', log_normal_td.event_shape)\n"
      ],
      "execution_count": null,
      "outputs": [
        {
          "output_type": "stream",
          "name": "stdout",
          "text": [
            "batch_shape:  ()\n",
            "batch_shape:  ()\n"
          ]
        }
      ]
    },
    {
      "cell_type": "code",
      "metadata": {
        "id": "PuuSQJMxqyTf"
      },
      "source": [
        "# Base distribution\n",
        "z = normal.sample(n)\n"
      ],
      "execution_count": null,
      "outputs": []
    },
    {
      "cell_type": "markdown",
      "metadata": {
        "id": "fjaV0vv8qyTh"
      },
      "source": [
        "#### Plots"
      ]
    },
    {
      "cell_type": "code",
      "metadata": {
        "id": "5vsevwMmqyTh",
        "colab": {
          "base_uri": "https://localhost:8080/",
          "height": 265
        },
        "outputId": "ea26f970-14eb-49dc-e9c9-a92f4a43f97b"
      },
      "source": [
        "# Plot z density\n",
        "\n",
        "plt.hist(z,bins = 100,density = False)\n",
        "plt.show()"
      ],
      "execution_count": null,
      "outputs": [
        {
          "output_type": "display_data",
          "data": {
            "text/plain": [
              "<Figure size 432x288 with 1 Axes>"
            ],
            "image/png": "[encoded data removed]"
          },
          "metadata": {
            "needs_background": "light"
          }
        }
      ]
    },
    {
      "cell_type": "code",
      "metadata": {
        "id": "Upg79Mg5qyTj"
      },
      "source": [
        "# Transformed distribution\n",
        "\n",
        "x =  log_normal_td.sample(n)"
      ],
      "execution_count": null,
      "outputs": []
    },
    {
      "cell_type": "code",
      "metadata": {
        "id": "GPbS_5vhqyTl",
        "colab": {
          "base_uri": "https://localhost:8080/",
          "height": 265
        },
        "outputId": "e5f15c8c-6f22-484f-f89d-3854ed224c0f"
      },
      "source": [
        "# Plot x density\n",
        "\n",
        "plt.hist(x,bins = 100,density = True)\n",
        "plt.show()"
      ],
      "execution_count": null,
      "outputs": [
        {
          "output_type": "display_data",
          "data": {
            "text/plain": [
              "<Figure size 432x288 with 1 Axes>"
            ],
            "image/png": "[encoded data removed]"
          },
          "metadata": {
            "needs_background": "light"
          }
        }
      ]
    },
    {
      "cell_type": "code",
      "metadata": {
        "id": "TIF-JCclqyTm"
      },
      "source": [
        "# Define log normal distribution\n",
        "\n",
        "log_normal = tfd.LogNormal(loc = loc,scale = scale)"
      ],
      "execution_count": null,
      "outputs": []
    },
    {
      "cell_type": "code",
      "metadata": {
        "id": "SphofY4BqyTp"
      },
      "source": [
        "# Sample log_normal\n",
        "\n",
        "l = log_normal.sample(n)\n"
      ],
      "execution_count": null,
      "outputs": []
    },
    {
      "cell_type": "code",
      "metadata": {
        "id": "QByGzaCxqyTs",
        "colab": {
          "base_uri": "https://localhost:8080/",
          "height": 265
        },
        "outputId": "aeb430b3-19ca-489d-da1b-36f763b559da"
      },
      "source": [
        "# Plot l density\n",
        "\n",
        "plt.hist(l,bins = 100, density = True)\n",
        "plt.show()"
      ],
      "execution_count": null,
      "outputs": [
        {
          "output_type": "display_data",
          "data": {
            "text/plain": [
              "<Figure size 432x288 with 1 Axes>"
            ],
            "image/png": "[encoded data removed]"
          },
          "metadata": {
            "needs_background": "light"
          }
        }
      ]
    },
    {
      "cell_type": "markdown",
      "metadata": {
        "id": "YYtqzyA-qyTt"
      },
      "source": [
        "#### Log probability"
      ]
    },
    {
      "cell_type": "code",
      "metadata": {
        "id": "l9Frh0AIqyTu"
      },
      "source": [
        "# Log prob of LogNormal\n",
        "log_prob = log_normal.log_prob(x)\n"
      ],
      "execution_count": null,
      "outputs": []
    },
    {
      "cell_type": "code",
      "metadata": {
        "id": "K-xNVY4jqyTv"
      },
      "source": [
        "# Log prob of log normal transformed distribution\n",
        "\n",
        "log_prob_td = log_normal_td.log_prob(x)"
      ],
      "execution_count": null,
      "outputs": []
    },
    {
      "cell_type": "code",
      "metadata": {
        "id": "JinGI17bqyTx",
        "colab": {
          "base_uri": "https://localhost:8080/"
        },
        "outputId": "c9950db6-5ef4-40cd-e933-9ed1fcd2424e"
      },
      "source": [
        "# Check log probs\n",
        "tf.norm(log_prob-log_prob_td)\n"
      ],
      "execution_count": null,
      "outputs": [
        {
          "output_type": "execute_result",
          "data": {
            "text/plain": [
              "<tf.Tensor: shape=(), dtype=float32, numpy=0.0>"
            ]
          },
          "metadata": {},
          "execution_count": 39
        }
      ]
    },
    {
      "cell_type": "markdown",
      "metadata": {
        "id": "oEjWcd6KqyT0"
      },
      "source": [
        "### Event shape and batch shape"
      ]
    },
    {
      "cell_type": "code",
      "metadata": {
        "id": "YNPyJmH8qyT0"
      },
      "source": [
        "# Set a scaling lower triangular matrix\n",
        "\n",
        "trill = tf.random.normal((2,4,4))\n",
        "scale_low_tri = tf.linalg.LinearOperatorLowerTriangular(trill)"
      ],
      "execution_count": null,
      "outputs": []
    },
    {
      "cell_type": "code",
      "metadata": {
        "id": "feEjq5cJqyT2",
        "colab": {
          "base_uri": "https://localhost:8080/"
        },
        "outputId": "a7281a34-1b88-47b8-aad2-1f454f4a25db"
      },
      "source": [
        "# View of scale_low_tri\n",
        "scale_low_tri.to_dense()\n"
      ],
      "execution_count": null,
      "outputs": [
        {
          "output_type": "execute_result",
          "data": {
            "text/plain": [
              "<tf.Tensor: shape=(2, 4, 4), dtype=float32, numpy=\n",
              "array([[[ 0.07305935,  0.        ,  0.        ,  0.        ],\n",
              "        [ 0.444393  ,  0.411897  ,  0.        ,  0.        ],\n",
              "        [-0.08424646,  0.3865127 , -0.5089124 ,  0.        ],\n",
              "        [ 2.1299431 , -0.48570386, -1.5687943 , -1.3045237 ]],\n",
              "\n",
              "       [[-0.19566885,  0.        ,  0.        ,  0.        ],\n",
              "        [-0.5555295 ,  2.117247  ,  0.        ,  0.        ],\n",
              "        [-0.689849  ,  0.4902457 , -1.0896817 ,  0.        ],\n",
              "        [-0.3874665 , -2.5636961 , -0.17641893, -1.3139085 ]]],\n",
              "      dtype=float32)>"
            ]
          },
          "metadata": {},
          "execution_count": 41
        }
      ]
    },
    {
      "cell_type": "code",
      "metadata": {
        "id": "0Hql45GcqyT6"
      },
      "source": [
        "# Define scale linear operator\n",
        "scale_line_op = tfb.ScaleMatvecLinearOperator(scale_low_tri)\n"
      ],
      "execution_count": null,
      "outputs": []
    },
    {
      "cell_type": "code",
      "metadata": {
        "id": "ph0lmqLIqyT7",
        "colab": {
          "base_uri": "https://localhost:8080/"
        },
        "outputId": "f374c4a1-eee1-4b19-91a0-ab53f6156893"
      },
      "source": [
        "# Define scale linear operator transformed distribution with a batch and event shape\n",
        "\n",
        "mvn = tfd.TransformedDistribution(\n",
        "  tfd.Sample(\n",
        "    tfd.Normal(loc=0., scale=1.),\n",
        "    sample_shape=[4]),\n",
        "  tfb.ScaleMatvecTriL(scale_tril=scale_low_tri)\n",
        ")\n",
        "print(mvn)"
      ],
      "execution_count": null,
      "outputs": [
        {
          "output_type": "stream",
          "name": "stdout",
          "text": [
            "tfp.distributions.TransformedDistribution(\"scale_matvec_trilSampleNormal\", batch_shape=[], event_shape=[4], dtype=float32)\n"
          ]
        }
      ]
    },
    {
      "cell_type": "code",
      "metadata": {
        "id": "fBojWcgzqyT-",
        "colab": {
          "base_uri": "https://localhost:8080/"
        },
        "outputId": "451ee9f9-7215-404c-d3d6-15af4dd345c7"
      },
      "source": [
        "# Display event and batch shape\n",
        "\n",
        "print(mvn.batch_shape,mvn.event_shape)"
      ],
      "execution_count": null,
      "outputs": [
        {
          "output_type": "stream",
          "name": "stdout",
          "text": [
            "() (4,)\n"
          ]
        }
      ]
    },
    {
      "cell_type": "code",
      "metadata": {
        "id": "UclD1H7AqyUA"
      },
      "source": [
        "# Sample\n",
        "\n"
      ],
      "execution_count": null,
      "outputs": []
    },
    {
      "cell_type": "code",
      "metadata": {
        "id": "yTYmhzYzqyUC"
      },
      "source": [
        "# Define a MultivariateNormalLinearOperator distribution\n",
        "\n"
      ],
      "execution_count": null,
      "outputs": []
    },
    {
      "cell_type": "code",
      "metadata": {
        "id": "tlpVFOG1qyUE"
      },
      "source": [
        "# Display event and batch shape\n",
        "\n"
      ],
      "execution_count": null,
      "outputs": []
    },
    {
      "cell_type": "code",
      "metadata": {
        "id": "ApRuznulqyUF"
      },
      "source": [
        "# Sample\n",
        "\n"
      ],
      "execution_count": null,
      "outputs": []
    },
    {
      "cell_type": "code",
      "metadata": {
        "id": "LeGt0xwGqyUJ"
      },
      "source": [
        "# Check\n",
        "\n"
      ],
      "execution_count": null,
      "outputs": []
    },
    {
      "cell_type": "markdown",
      "metadata": {
        "id": "FShWrkqaqyUN"
      },
      "source": [
        "***\n",
        "<a id=\"coding_tutorial_3\"></a>\n",
        "## Subclassing bijectors"
      ]
    },
    {
      "cell_type": "code",
      "metadata": {
        "id": "mfApknEiqyUN"
      },
      "source": [
        "# Define a new bijector: Cubic\n",
        "\n",
        "class Cubic(tfb.Bijector):\n",
        "\n",
        "    def __init__(self, a, b, validate_args=False, name='Cubic'):\n",
        "        self.a = tf.cast(a, tf.float32)\n",
        "        self.b = tf.cast(b, tf.float32)\n",
        "        if validate_args:\n",
        "            assert tf.reduce_mean(tf.cast(tf.math.greater_equal(tf.abs(self.a), 1e-5), tf.float32)) == 1.0\n",
        "            assert tf.reduce_mean(tf.cast(tf.math.greater_equal(tf.abs(self.b), 1e-5), tf.float32)) == 1.0\n",
        "        super(Cubic, self).__init__(\n",
        "            validate_args=validate_args, forward_min_event_ndims=0, name=name)\n",
        "        \n",
        "    def _forward(self,x):\n",
        "      x = tf.cast(x,tf.float32)\n",
        "      return tf.squeeze(tf.pow(self.a*x+self.b,3))\n",
        "\n",
        "\n",
        "    def _inverse(self,y):\n",
        "      y = tf.cast(y,tf.float32)\n",
        "      return (tf.math.sign(y)*tf.pow(tf.abs(y),1/3)-self.b)/self.a\n",
        "    def _forward_log_det_jacobian(self,x):\n",
        "      y = tf.cast(x,tf.float32)\n",
        "      return tf.math.log(3.*tf.abs(self.a))+2.*tf.math.log(tf.abs(self.a*x+self.b))"
      ],
      "execution_count": null,
      "outputs": []
    },
    {
      "cell_type": "code",
      "metadata": {
        "id": "61v6_UadqyUO"
      },
      "source": [
        "# Cubic bijector\n",
        "cubic = Cubic([-1.0,2.0],[-1.0,0.4],validate_args = True)\n"
      ],
      "execution_count": null,
      "outputs": []
    },
    {
      "cell_type": "code",
      "metadata": {
        "id": "dP0KVSPAqyUQ"
      },
      "source": [
        "# Apply forward transformation\n",
        "x=tf.constant([[1,2],[3,4]])\n",
        "y = cubic.forward(x)"
      ],
      "execution_count": null,
      "outputs": []
    },
    {
      "cell_type": "code",
      "metadata": {
        "id": "-JOM7vN5qyUR",
        "colab": {
          "base_uri": "https://localhost:8080/"
        },
        "outputId": "b2df6263-496b-47e9-9235-62d514176c03"
      },
      "source": [
        "# Check inverse\n",
        "\n",
        "np.linalg.norm(x-cubic.inverse(y))"
      ],
      "execution_count": null,
      "outputs": [
        {
          "output_type": "execute_result",
          "data": {
            "text/plain": [
              "0.0"
            ]
          },
          "metadata": {},
          "execution_count": 53
        }
      ]
    },
    {
      "cell_type": "markdown",
      "metadata": {
        "id": "q6Fm70pBqyUU"
      },
      "source": [
        "#### Function plots"
      ]
    },
    {
      "cell_type": "code",
      "metadata": {
        "id": "qacTwL10qyUV",
        "colab": {
          "base_uri": "https://localhost:8080/",
          "height": 300
        },
        "outputId": "aa986d51-bf15-4ab3-cd56-dca3baf28455"
      },
      "source": [
        "# Plot the forward transformation\n",
        "\n",
        "x = np.linspace(-10, 10, 500).reshape(-1, 1)\n",
        "plt.plot(x,cubic.forward(x))"
      ],
      "execution_count": null,
      "outputs": [
        {
          "output_type": "execute_result",
          "data": {
            "text/plain": [
              "[<matplotlib.lines.Line2D at 0x7f1ce3d1b050>,\n",
              " <matplotlib.lines.Line2D at 0x7f1ce31d3410>]"
            ]
          },
          "metadata": {},
          "execution_count": 54
        },
        {
          "output_type": "display_data",
          "data": {
            "text/plain": [
              "<Figure size 432x288 with 1 Axes>"
            ],
            "image/png": "[encoded data removed]"
          },
          "metadata": {
            "needs_background": "light"
          }
        }
      ]
    },
    {
      "cell_type": "code",
      "metadata": {
        "id": "DflIQl4zqyUW",
        "colab": {
          "base_uri": "https://localhost:8080/"
        },
        "outputId": "032e2235-a004-4fb7-b65b-36f4bfc0cad0"
      },
      "source": [
        "# Display shape\n",
        "print(cubic.forward(x).shape)\n"
      ],
      "execution_count": null,
      "outputs": [
        {
          "output_type": "stream",
          "name": "stdout",
          "text": [
            "(500, 2)\n"
          ]
        }
      ]
    },
    {
      "cell_type": "code",
      "metadata": {
        "id": "uAwqKnCfqyUZ",
        "colab": {
          "base_uri": "https://localhost:8080/",
          "height": 300
        },
        "outputId": "5ca7d1c4-acd7-446b-84b2-7e8684b13d84"
      },
      "source": [
        "# Plot the inverse\n",
        "\n",
        "plt.plot(x,cubic.inverse(x))"
      ],
      "execution_count": null,
      "outputs": [
        {
          "output_type": "execute_result",
          "data": {
            "text/plain": [
              "[<matplotlib.lines.Line2D at 0x7f1ce319a2d0>,\n",
              " <matplotlib.lines.Line2D at 0x7f1ce3147cd0>]"
            ]
          },
          "metadata": {},
          "execution_count": 56
        },
        {
          "output_type": "display_data",
          "data": {
            "text/plain": [
              "<Figure size 432x288 with 1 Axes>"
            ],
            "image/png": "[encoded data removed]"
          },
          "metadata": {
            "needs_background": "light"
          }
        }
      ]
    },
    {
      "cell_type": "code",
      "metadata": {
        "id": "-GEn9ID8qyUb",
        "colab": {
          "base_uri": "https://localhost:8080/",
          "height": 300
        },
        "outputId": "440a6019-2a91-4256-f5ff-b1af58f9f0fa"
      },
      "source": [
        "# Plot the forward log Jacobian determinant\n",
        "x = tf.cast(x,tf.float32)\n",
        "plt.plot(x,cubic.forward_log_det_jacobian(x,event_ndims=0))"
      ],
      "execution_count": null,
      "outputs": [
        {
          "output_type": "execute_result",
          "data": {
            "text/plain": [
              "[<matplotlib.lines.Line2D at 0x7f1ce31190d0>,\n",
              " <matplotlib.lines.Line2D at 0x7f1ce30d0190>]"
            ]
          },
          "metadata": {},
          "execution_count": 57
        },
        {
          "output_type": "display_data",
          "data": {
            "text/plain": [
              "<Figure size 432x288 with 1 Axes>"
            ],
            "image/png": "[encoded data removed]"
          },
          "metadata": {
            "needs_background": "light"
          }
        }
      ]
    },
    {
      "cell_type": "code",
      "metadata": {
        "id": "OjCMa4EUqyUd",
        "colab": {
          "base_uri": "https://localhost:8080/",
          "height": 300
        },
        "outputId": "8222f756-b8e4-4d36-d467-f540ad2af90f"
      },
      "source": [
        "# Plot the inverse log Jacobian determinant\n",
        "\n",
        "plt.plot(x,cubic.inverse_log_det_jacobian(x,event_ndims=0))"
      ],
      "execution_count": null,
      "outputs": [
        {
          "output_type": "execute_result",
          "data": {
            "text/plain": [
              "[<matplotlib.lines.Line2D at 0x7f1ce30b1410>,\n",
              " <matplotlib.lines.Line2D at 0x7f1ce3043f10>]"
            ]
          },
          "metadata": {},
          "execution_count": 58
        },
        {
          "output_type": "display_data",
          "data": {
            "text/plain": [
              "<Figure size 432x288 with 1 Axes>"
            ],
            "image/png": "[encoded data removed]"
          },
          "metadata": {
            "needs_background": "light"
          }
        }
      ]
    },
    {
      "cell_type": "markdown",
      "metadata": {
        "id": "fw7wNX9hqyUf"
      },
      "source": [
        "#### TransformedDistribution and plots"
      ]
    },
    {
      "cell_type": "code",
      "metadata": {
        "id": "FmdHPhMGqyUf"
      },
      "source": [
        "# Create a transformed distribution with Cubic\n",
        "\n",
        "normal = tfd.Normal(loc = 0, scale = 1)\n",
        "cubed_normal = tfd.TransformedDistribution(normal,cubic)"
      ],
      "execution_count": null,
      "outputs": []
    },
    {
      "cell_type": "code",
      "metadata": {
        "id": "vogUAeM4qyUg",
        "colab": {
          "base_uri": "https://localhost:8080/",
          "height": 363
        },
        "outputId": "9349b1b7-03ef-4389-8dde-5c2f8ce95ad7"
      },
      "source": [
        "# Sample cubed_normal\n",
        "\n",
        "n = 100\n",
        "g = cubed_normal.sample(n)\n",
        "g.shape"
      ],
      "execution_count": null,
      "outputs": [
        {
          "output_type": "error",
          "ename": "InvalidArgumentError",
          "evalue": "ignored",
          "traceback": [
            "\u001b[0;31m---------------------------------------------------------------------------\u001b[0m",
            "\u001b[0;31mInvalidArgumentError\u001b[0m                      Traceback (most recent call last)",
            "\u001b[0;32m<ipython-input-60-3c6a47595120>\u001b[0m in \u001b[0;36m<module>\u001b[0;34m()\u001b[0m\n\u001b[1;32m      2\u001b[0m \u001b[0;34m\u001b[0m\u001b[0m\n\u001b[1;32m      3\u001b[0m \u001b[0mn\u001b[0m \u001b[0;34m=\u001b[0m \u001b[0;36m100\u001b[0m\u001b[0;34m\u001b[0m\u001b[0;34m\u001b[0m\u001b[0m\n\u001b[0;32m----> 4\u001b[0;31m \u001b[0mg\u001b[0m \u001b[0;34m=\u001b[0m \u001b[0mcubed_normal\u001b[0m\u001b[0;34m.\u001b[0m\u001b[0msample\u001b[0m\u001b[0;34m(\u001b[0m\u001b[0mn\u001b[0m\u001b[0;34m)\u001b[0m\u001b[0;34m\u001b[0m\u001b[0;34m\u001b[0m\u001b[0m\n\u001b[0m\u001b[1;32m      5\u001b[0m \u001b[0mg\u001b[0m\u001b[0;34m.\u001b[0m\u001b[0mshape\u001b[0m\u001b[0;34m\u001b[0m\u001b[0;34m\u001b[0m\u001b[0m\n",
            "\u001b[0;32m/usr/local/lib/python3.7/dist-packages/tensorflow_probability/python/distributions/distribution.py\u001b[0m in \u001b[0;36msample\u001b[0;34m(self, sample_shape, seed, name, **kwargs)\u001b[0m\n\u001b[1;32m   1232\u001b[0m     \"\"\"\n\u001b[1;32m   1233\u001b[0m     \u001b[0;32mwith\u001b[0m \u001b[0mself\u001b[0m\u001b[0;34m.\u001b[0m\u001b[0m_name_and_control_scope\u001b[0m\u001b[0;34m(\u001b[0m\u001b[0mname\u001b[0m\u001b[0;34m)\u001b[0m\u001b[0;34m:\u001b[0m\u001b[0;34m\u001b[0m\u001b[0;34m\u001b[0m\u001b[0m\n\u001b[0;32m-> 1234\u001b[0;31m       \u001b[0;32mreturn\u001b[0m \u001b[0mself\u001b[0m\u001b[0;34m.\u001b[0m\u001b[0m_call_sample_n\u001b[0m\u001b[0;34m(\u001b[0m\u001b[0msample_shape\u001b[0m\u001b[0;34m,\u001b[0m \u001b[0mseed\u001b[0m\u001b[0;34m,\u001b[0m \u001b[0;34m**\u001b[0m\u001b[0mkwargs\u001b[0m\u001b[0;34m)\u001b[0m\u001b[0;34m\u001b[0m\u001b[0;34m\u001b[0m\u001b[0m\n\u001b[0m\u001b[1;32m   1235\u001b[0m \u001b[0;34m\u001b[0m\u001b[0m\n\u001b[1;32m   1236\u001b[0m   \u001b[0;32mdef\u001b[0m \u001b[0m_call_sample_and_log_prob\u001b[0m\u001b[0;34m(\u001b[0m\u001b[0mself\u001b[0m\u001b[0;34m,\u001b[0m \u001b[0msample_shape\u001b[0m\u001b[0;34m,\u001b[0m \u001b[0mseed\u001b[0m\u001b[0;34m,\u001b[0m \u001b[0;34m**\u001b[0m\u001b[0mkwargs\u001b[0m\u001b[0;34m)\u001b[0m\u001b[0;34m:\u001b[0m\u001b[0;34m\u001b[0m\u001b[0;34m\u001b[0m\u001b[0m\n",
            "\u001b[0;32m/usr/local/lib/python3.7/dist-packages/tensorflow_probability/python/distributions/transformed_distribution.py\u001b[0m in \u001b[0;36m_call_sample_n\u001b[0;34m(self, sample_shape, seed, **kwargs)\u001b[0m\n\u001b[1;32m    330\u001b[0m     \u001b[0;31m# work, it is imperative that this is the last modification to the\u001b[0m\u001b[0;34m\u001b[0m\u001b[0;34m\u001b[0m\u001b[0;34m\u001b[0m\u001b[0m\n\u001b[1;32m    331\u001b[0m     \u001b[0;31m# returned result.\u001b[0m\u001b[0;34m\u001b[0m\u001b[0;34m\u001b[0m\u001b[0;34m\u001b[0m\u001b[0m\n\u001b[0;32m--> 332\u001b[0;31m     \u001b[0;32mreturn\u001b[0m \u001b[0mself\u001b[0m\u001b[0;34m.\u001b[0m\u001b[0mbijector\u001b[0m\u001b[0;34m.\u001b[0m\u001b[0mforward\u001b[0m\u001b[0;34m(\u001b[0m\u001b[0mx\u001b[0m\u001b[0;34m,\u001b[0m \u001b[0;34m**\u001b[0m\u001b[0mbijector_kwargs\u001b[0m\u001b[0;34m)\u001b[0m\u001b[0;34m\u001b[0m\u001b[0;34m\u001b[0m\u001b[0m\n\u001b[0m\u001b[1;32m    333\u001b[0m \u001b[0;34m\u001b[0m\u001b[0m\n\u001b[1;32m    334\u001b[0m   \u001b[0;32mdef\u001b[0m \u001b[0m_sample_and_log_prob\u001b[0m\u001b[0;34m(\u001b[0m\u001b[0mself\u001b[0m\u001b[0;34m,\u001b[0m \u001b[0msample_shape\u001b[0m\u001b[0;34m,\u001b[0m \u001b[0mseed\u001b[0m\u001b[0;34m,\u001b[0m \u001b[0;34m**\u001b[0m\u001b[0mkwargs\u001b[0m\u001b[0;34m)\u001b[0m\u001b[0;34m:\u001b[0m\u001b[0;34m\u001b[0m\u001b[0;34m\u001b[0m\u001b[0m\n",
            "\u001b[0;32m/usr/local/lib/python3.7/dist-packages/tensorflow_probability/python/bijectors/bijector.py\u001b[0m in \u001b[0;36mforward\u001b[0;34m(self, x, name, **kwargs)\u001b[0m\n\u001b[1;32m   1366\u001b[0m       \u001b[0mNotImplementedError\u001b[0m\u001b[0;34m:\u001b[0m \u001b[0;32mif\u001b[0m\u001b[0;31m \u001b[0m\u001b[0;31m`\u001b[0m\u001b[0m_forward\u001b[0m\u001b[0;31m`\u001b[0m \u001b[0;32mis\u001b[0m \u001b[0;32mnot\u001b[0m \u001b[0mimplemented\u001b[0m\u001b[0;34m.\u001b[0m\u001b[0;34m\u001b[0m\u001b[0;34m\u001b[0m\u001b[0m\n\u001b[1;32m   1367\u001b[0m     \"\"\"\n\u001b[0;32m-> 1368\u001b[0;31m     \u001b[0;32mreturn\u001b[0m \u001b[0mself\u001b[0m\u001b[0;34m.\u001b[0m\u001b[0m_call_forward\u001b[0m\u001b[0;34m(\u001b[0m\u001b[0mx\u001b[0m\u001b[0;34m,\u001b[0m \u001b[0mname\u001b[0m\u001b[0;34m,\u001b[0m \u001b[0;34m**\u001b[0m\u001b[0mkwargs\u001b[0m\u001b[0;34m)\u001b[0m\u001b[0;34m\u001b[0m\u001b[0;34m\u001b[0m\u001b[0m\n\u001b[0m\u001b[1;32m   1369\u001b[0m \u001b[0;34m\u001b[0m\u001b[0m\n\u001b[1;32m   1370\u001b[0m   \u001b[0;34m@\u001b[0m\u001b[0mclassmethod\u001b[0m\u001b[0;34m\u001b[0m\u001b[0;34m\u001b[0m\u001b[0m\n",
            "\u001b[0;32m/usr/local/lib/python3.7/dist-packages/tensorflow_probability/python/bijectors/bijector.py\u001b[0m in \u001b[0;36m_call_forward\u001b[0;34m(self, x, name, **kwargs)\u001b[0m\n\u001b[1;32m   1348\u001b[0m       \u001b[0;32mif\u001b[0m \u001b[0;32mnot\u001b[0m \u001b[0mself\u001b[0m\u001b[0;34m.\u001b[0m\u001b[0m_is_injective\u001b[0m\u001b[0;34m:\u001b[0m  \u001b[0;31m# No caching for non-injective\u001b[0m\u001b[0;34m\u001b[0m\u001b[0;34m\u001b[0m\u001b[0m\n\u001b[1;32m   1349\u001b[0m         \u001b[0;32mreturn\u001b[0m \u001b[0mself\u001b[0m\u001b[0;34m.\u001b[0m\u001b[0m_forward\u001b[0m\u001b[0;34m(\u001b[0m\u001b[0mx\u001b[0m\u001b[0;34m,\u001b[0m \u001b[0;34m**\u001b[0m\u001b[0mkwargs\u001b[0m\u001b[0;34m)\u001b[0m\u001b[0;34m\u001b[0m\u001b[0;34m\u001b[0m\u001b[0m\n\u001b[0;32m-> 1350\u001b[0;31m       \u001b[0;32mreturn\u001b[0m \u001b[0mself\u001b[0m\u001b[0;34m.\u001b[0m\u001b[0m_cache\u001b[0m\u001b[0;34m.\u001b[0m\u001b[0mforward\u001b[0m\u001b[0;34m(\u001b[0m\u001b[0mx\u001b[0m\u001b[0;34m,\u001b[0m \u001b[0;34m**\u001b[0m\u001b[0mkwargs\u001b[0m\u001b[0;34m)\u001b[0m\u001b[0;34m\u001b[0m\u001b[0;34m\u001b[0m\u001b[0m\n\u001b[0m\u001b[1;32m   1351\u001b[0m \u001b[0;34m\u001b[0m\u001b[0m\n\u001b[1;32m   1352\u001b[0m   \u001b[0;32mdef\u001b[0m \u001b[0mforward\u001b[0m\u001b[0;34m(\u001b[0m\u001b[0mself\u001b[0m\u001b[0;34m,\u001b[0m \u001b[0mx\u001b[0m\u001b[0;34m,\u001b[0m \u001b[0mname\u001b[0m\u001b[0;34m=\u001b[0m\u001b[0;34m'forward'\u001b[0m\u001b[0;34m,\u001b[0m \u001b[0;34m**\u001b[0m\u001b[0mkwargs\u001b[0m\u001b[0;34m)\u001b[0m\u001b[0;34m:\u001b[0m\u001b[0;34m\u001b[0m\u001b[0;34m\u001b[0m\u001b[0m\n",
            "\u001b[0;32m/usr/local/lib/python3.7/dist-packages/tensorflow_probability/python/internal/cache_util.py\u001b[0m in \u001b[0;36mforward\u001b[0;34m(self, x, **kwargs)\u001b[0m\n\u001b[1;32m    332\u001b[0m       \u001b[0mThe\u001b[0m \u001b[0moutput\u001b[0m \u001b[0mof\u001b[0m \u001b[0mthe\u001b[0m \u001b[0mbijector\u001b[0m\u001b[0;31m'\u001b[0m\u001b[0ms\u001b[0m\u001b[0;31m \u001b[0m\u001b[0;31m`\u001b[0m\u001b[0m_forward\u001b[0m\u001b[0;31m`\u001b[0m \u001b[0mmethod\u001b[0m\u001b[0;34m,\u001b[0m \u001b[0;32mor\u001b[0m \u001b[0ma\u001b[0m \u001b[0mcached\u001b[0m \u001b[0mresult\u001b[0m\u001b[0;34m.\u001b[0m\u001b[0;34m\u001b[0m\u001b[0;34m\u001b[0m\u001b[0m\n\u001b[1;32m    333\u001b[0m     \"\"\"\n\u001b[0;32m--> 334\u001b[0;31m     \u001b[0;32mreturn\u001b[0m \u001b[0mself\u001b[0m\u001b[0;34m.\u001b[0m\u001b[0m_lookup\u001b[0m\u001b[0;34m(\u001b[0m\u001b[0mx\u001b[0m\u001b[0;34m,\u001b[0m \u001b[0mself\u001b[0m\u001b[0;34m.\u001b[0m\u001b[0m_forward_name\u001b[0m\u001b[0;34m,\u001b[0m \u001b[0mself\u001b[0m\u001b[0;34m.\u001b[0m\u001b[0m_inverse_name\u001b[0m\u001b[0;34m,\u001b[0m \u001b[0;34m**\u001b[0m\u001b[0mkwargs\u001b[0m\u001b[0;34m)\u001b[0m\u001b[0;34m\u001b[0m\u001b[0;34m\u001b[0m\u001b[0m\n\u001b[0m\u001b[1;32m    335\u001b[0m \u001b[0;34m\u001b[0m\u001b[0m\n\u001b[1;32m    336\u001b[0m   \u001b[0;32mdef\u001b[0m \u001b[0minverse\u001b[0m\u001b[0;34m(\u001b[0m\u001b[0mself\u001b[0m\u001b[0;34m,\u001b[0m \u001b[0my\u001b[0m\u001b[0;34m,\u001b[0m \u001b[0;34m**\u001b[0m\u001b[0mkwargs\u001b[0m\u001b[0;34m)\u001b[0m\u001b[0;34m:\u001b[0m\u001b[0;34m\u001b[0m\u001b[0;34m\u001b[0m\u001b[0m\n",
            "\u001b[0;32m/usr/local/lib/python3.7/dist-packages/tensorflow_probability/python/internal/cache_util.py\u001b[0m in \u001b[0;36m_lookup\u001b[0;34m(self, input, forward_name, inverse_name, **kwargs)\u001b[0m\n\u001b[1;32m    491\u001b[0m       output = nest.map_structure(\n\u001b[1;32m    492\u001b[0m           \u001b[0m_containerize\u001b[0m\u001b[0;34m,\u001b[0m\u001b[0;34m\u001b[0m\u001b[0;34m\u001b[0m\u001b[0m\n\u001b[0;32m--> 493\u001b[0;31m           self._invoke(input, forward_name, kwargs, attrs))\n\u001b[0m\u001b[1;32m    494\u001b[0m       output_ref = WeakStructRef(\n\u001b[1;32m    495\u001b[0m           \u001b[0moutput\u001b[0m\u001b[0;34m,\u001b[0m\u001b[0;34m\u001b[0m\u001b[0;34m\u001b[0m\u001b[0m\n",
            "\u001b[0;32m/usr/local/lib/python3.7/dist-packages/tensorflow_probability/python/internal/cache_util.py\u001b[0m in \u001b[0;36m_invoke\u001b[0;34m(self, input, fn_name, kwargs, attributes)\u001b[0m\n\u001b[1;32m    530\u001b[0m   \u001b[0;32mdef\u001b[0m \u001b[0m_invoke\u001b[0m\u001b[0;34m(\u001b[0m\u001b[0mself\u001b[0m\u001b[0;34m,\u001b[0m \u001b[0minput\u001b[0m\u001b[0;34m,\u001b[0m \u001b[0mfn_name\u001b[0m\u001b[0;34m,\u001b[0m \u001b[0mkwargs\u001b[0m\u001b[0;34m,\u001b[0m \u001b[0mattributes\u001b[0m\u001b[0;34m)\u001b[0m\u001b[0;34m:\u001b[0m  \u001b[0;31m# pylint: disable=unused-argument\u001b[0m\u001b[0;34m\u001b[0m\u001b[0;34m\u001b[0m\u001b[0m\n\u001b[1;32m    531\u001b[0m     \u001b[0;34m\"\"\"Invokes the wrapped function. Override to customize behavior.\"\"\"\u001b[0m\u001b[0;34m\u001b[0m\u001b[0;34m\u001b[0m\u001b[0m\n\u001b[0;32m--> 532\u001b[0;31m     \u001b[0;32mreturn\u001b[0m \u001b[0mgetattr\u001b[0m\u001b[0;34m(\u001b[0m\u001b[0mself\u001b[0m\u001b[0;34m.\u001b[0m\u001b[0mbijector\u001b[0m\u001b[0;34m,\u001b[0m \u001b[0mfn_name\u001b[0m\u001b[0;34m)\u001b[0m\u001b[0;34m(\u001b[0m\u001b[0minput\u001b[0m\u001b[0;34m,\u001b[0m \u001b[0;34m**\u001b[0m\u001b[0mkwargs\u001b[0m\u001b[0;34m)\u001b[0m\u001b[0;34m\u001b[0m\u001b[0;34m\u001b[0m\u001b[0m\n\u001b[0m\u001b[1;32m    533\u001b[0m \u001b[0;34m\u001b[0m\u001b[0m\n\u001b[1;32m    534\u001b[0m   \u001b[0;32mdef\u001b[0m \u001b[0mclear\u001b[0m\u001b[0;34m(\u001b[0m\u001b[0mself\u001b[0m\u001b[0;34m)\u001b[0m\u001b[0;34m:\u001b[0m\u001b[0;34m\u001b[0m\u001b[0;34m\u001b[0m\u001b[0m\n",
            "\u001b[0;32m<ipython-input-50-eff3451629f6>\u001b[0m in \u001b[0;36m_forward\u001b[0;34m(self, x)\u001b[0m\n\u001b[1;32m     14\u001b[0m     \u001b[0;32mdef\u001b[0m \u001b[0m_forward\u001b[0m\u001b[0;34m(\u001b[0m\u001b[0mself\u001b[0m\u001b[0;34m,\u001b[0m\u001b[0mx\u001b[0m\u001b[0;34m)\u001b[0m\u001b[0;34m:\u001b[0m\u001b[0;34m\u001b[0m\u001b[0;34m\u001b[0m\u001b[0m\n\u001b[1;32m     15\u001b[0m       \u001b[0mx\u001b[0m \u001b[0;34m=\u001b[0m \u001b[0mtf\u001b[0m\u001b[0;34m.\u001b[0m\u001b[0mcast\u001b[0m\u001b[0;34m(\u001b[0m\u001b[0mx\u001b[0m\u001b[0;34m,\u001b[0m\u001b[0mtf\u001b[0m\u001b[0;34m.\u001b[0m\u001b[0mfloat32\u001b[0m\u001b[0;34m)\u001b[0m\u001b[0;34m\u001b[0m\u001b[0;34m\u001b[0m\u001b[0m\n\u001b[0;32m---> 16\u001b[0;31m       \u001b[0;32mreturn\u001b[0m \u001b[0mtf\u001b[0m\u001b[0;34m.\u001b[0m\u001b[0msqueeze\u001b[0m\u001b[0;34m(\u001b[0m\u001b[0mtf\u001b[0m\u001b[0;34m.\u001b[0m\u001b[0mpow\u001b[0m\u001b[0;34m(\u001b[0m\u001b[0mself\u001b[0m\u001b[0;34m.\u001b[0m\u001b[0ma\u001b[0m\u001b[0;34m*\u001b[0m\u001b[0mx\u001b[0m\u001b[0;34m+\u001b[0m\u001b[0mself\u001b[0m\u001b[0;34m.\u001b[0m\u001b[0mb\u001b[0m\u001b[0;34m,\u001b[0m\u001b[0;36m3\u001b[0m\u001b[0;34m)\u001b[0m\u001b[0;34m)\u001b[0m\u001b[0;34m\u001b[0m\u001b[0;34m\u001b[0m\u001b[0m\n\u001b[0m\u001b[1;32m     17\u001b[0m \u001b[0;34m\u001b[0m\u001b[0m\n\u001b[1;32m     18\u001b[0m \u001b[0;34m\u001b[0m\u001b[0m\n",
            "\u001b[0;32m/usr/local/lib/python3.7/dist-packages/tensorflow/python/util/traceback_utils.py\u001b[0m in \u001b[0;36merror_handler\u001b[0;34m(*args, **kwargs)\u001b[0m\n\u001b[1;32m    151\u001b[0m     \u001b[0;32mexcept\u001b[0m \u001b[0mException\u001b[0m \u001b[0;32mas\u001b[0m \u001b[0me\u001b[0m\u001b[0;34m:\u001b[0m\u001b[0;34m\u001b[0m\u001b[0;34m\u001b[0m\u001b[0m\n\u001b[1;32m    152\u001b[0m       \u001b[0mfiltered_tb\u001b[0m \u001b[0;34m=\u001b[0m \u001b[0m_process_traceback_frames\u001b[0m\u001b[0;34m(\u001b[0m\u001b[0me\u001b[0m\u001b[0;34m.\u001b[0m\u001b[0m__traceback__\u001b[0m\u001b[0;34m)\u001b[0m\u001b[0;34m\u001b[0m\u001b[0;34m\u001b[0m\u001b[0m\n\u001b[0;32m--> 153\u001b[0;31m       \u001b[0;32mraise\u001b[0m \u001b[0me\u001b[0m\u001b[0;34m.\u001b[0m\u001b[0mwith_traceback\u001b[0m\u001b[0;34m(\u001b[0m\u001b[0mfiltered_tb\u001b[0m\u001b[0;34m)\u001b[0m \u001b[0;32mfrom\u001b[0m \u001b[0;32mNone\u001b[0m\u001b[0;34m\u001b[0m\u001b[0;34m\u001b[0m\u001b[0m\n\u001b[0m\u001b[1;32m    154\u001b[0m     \u001b[0;32mfinally\u001b[0m\u001b[0;34m:\u001b[0m\u001b[0;34m\u001b[0m\u001b[0;34m\u001b[0m\u001b[0m\n\u001b[1;32m    155\u001b[0m       \u001b[0;32mdel\u001b[0m \u001b[0mfiltered_tb\u001b[0m\u001b[0;34m\u001b[0m\u001b[0;34m\u001b[0m\u001b[0m\n",
            "\u001b[0;32m/usr/local/lib/python3.7/dist-packages/tensorflow/python/framework/ops.py\u001b[0m in \u001b[0;36mraise_from_not_ok_status\u001b[0;34m(e, name)\u001b[0m\n\u001b[1;32m   7184\u001b[0m \u001b[0;32mdef\u001b[0m \u001b[0mraise_from_not_ok_status\u001b[0m\u001b[0;34m(\u001b[0m\u001b[0me\u001b[0m\u001b[0;34m,\u001b[0m \u001b[0mname\u001b[0m\u001b[0;34m)\u001b[0m\u001b[0;34m:\u001b[0m\u001b[0;34m\u001b[0m\u001b[0;34m\u001b[0m\u001b[0m\n\u001b[1;32m   7185\u001b[0m   \u001b[0me\u001b[0m\u001b[0;34m.\u001b[0m\u001b[0mmessage\u001b[0m \u001b[0;34m+=\u001b[0m \u001b[0;34m(\u001b[0m\u001b[0;34m\" name: \"\u001b[0m \u001b[0;34m+\u001b[0m \u001b[0mname\u001b[0m \u001b[0;32mif\u001b[0m \u001b[0mname\u001b[0m \u001b[0;32mis\u001b[0m \u001b[0;32mnot\u001b[0m \u001b[0;32mNone\u001b[0m \u001b[0;32melse\u001b[0m \u001b[0;34m\"\"\u001b[0m\u001b[0;34m)\u001b[0m\u001b[0;34m\u001b[0m\u001b[0;34m\u001b[0m\u001b[0m\n\u001b[0;32m-> 7186\u001b[0;31m   \u001b[0;32mraise\u001b[0m \u001b[0mcore\u001b[0m\u001b[0;34m.\u001b[0m\u001b[0m_status_to_exception\u001b[0m\u001b[0;34m(\u001b[0m\u001b[0me\u001b[0m\u001b[0;34m)\u001b[0m \u001b[0;32mfrom\u001b[0m \u001b[0;32mNone\u001b[0m  \u001b[0;31m# pylint: disable=protected-access\u001b[0m\u001b[0;34m\u001b[0m\u001b[0;34m\u001b[0m\u001b[0m\n\u001b[0m\u001b[1;32m   7187\u001b[0m \u001b[0;34m\u001b[0m\u001b[0m\n\u001b[1;32m   7188\u001b[0m \u001b[0;34m\u001b[0m\u001b[0m\n",
            "\u001b[0;31mInvalidArgumentError\u001b[0m: Incompatible shapes: [2] vs. [100] [Op:Mul]"
          ]
        }
      ]
    },
    {
      "cell_type": "code",
      "metadata": {
        "id": "_z33eU-iqyUi"
      },
      "source": [
        "# Plot histograms\n",
        "\n",
        "plt.figure(figsize=(12, 4))\n",
        "plt.subplot(1, 2, 1)\n",
        "plt.hist(g[..., 0], bins=50, density=True)\n",
        "plt.subplot(1, 2, 2)\n",
        "plt.hist(g[..., 1], bins=50, density=True)\n",
        "plt.show()"
      ],
      "execution_count": null,
      "outputs": []
    },
    {
      "cell_type": "code",
      "metadata": {
        "id": "RlnwzvOxqyUj"
      },
      "source": [
        "# Make contour plot\n",
        "\n",
        "xx = np.linspace(-0.5, 0.5, 100)\n",
        "yy = np.linspace(-0.5, 0.5, 100)\n",
        "X, Y = np.meshgrid(xx, yy)\n",
        "\n",
        "fig,ax=plt.subplots(1,1)\n",
        "Z = cubed_normal.prob(np.dstack((X, Y)))\n",
        "cp = ax.contourf(X, Y, Z)\n",
        "fig.colorbar(cp) # Add a colorbar to a plot\n",
        "ax.set_title('Filled Contours Plot')\n",
        "ax.set_xlabel('x')\n",
        "ax.set_ylabel('y')\n",
        "plt.show()"
      ],
      "execution_count": null,
      "outputs": []
    },
    {
      "cell_type": "code",
      "metadata": {
        "id": "ehElEd0FqyUl"
      },
      "source": [
        "# Create a transformed distribution with the inverse of Cube\n",
        "\n"
      ],
      "execution_count": null,
      "outputs": []
    },
    {
      "cell_type": "code",
      "metadata": {
        "id": "6KYCX9P1qyUm"
      },
      "source": [
        "# Samble inv_cubed_normal\n",
        "\n"
      ],
      "execution_count": null,
      "outputs": []
    },
    {
      "cell_type": "code",
      "metadata": {
        "id": "t49rULQ_qyUn"
      },
      "source": [
        "# Make contour plot\n",
        "\n",
        "xx = np.linspace(-3.0, 3.0, 100)\n",
        "yy = np.linspace(-2.0, 2.0, 100)\n",
        "X, Y = np.meshgrid(xx, yy)\n",
        "\n",
        "fig,ax=plt.subplots(1,1)\n",
        "Z = inv_cubed_normal.prob(np.dstack((X, Y)))\n",
        "cp = ax.contourf(X, Y, Z)\n",
        "fig.colorbar(cp) # Add a colorbar to a plot\n",
        "ax.set_title('Filled Contours Plot')\n",
        "ax.set_xlabel('x')\n",
        "ax.set_ylabel('y')\n",
        "plt.show()"
      ],
      "execution_count": null,
      "outputs": []
    },
    {
      "cell_type": "code",
      "metadata": {
        "id": "fTyvYmUHqyUp"
      },
      "source": [
        "# Plot histograms\n",
        "\n",
        "plt.figure(figsize=(12, 4))\n",
        "plt.subplot(1, 2, 1)\n",
        "plt.hist(g[..., 0], bins=50, density=True)\n",
        "plt.subplot(1, 2, 2)\n",
        "plt.hist(g[..., 1], bins=50, density=True)\n",
        "plt.show()"
      ],
      "execution_count": null,
      "outputs": []
    },
    {
      "cell_type": "markdown",
      "metadata": {
        "id": "fHx5KxujqyUq"
      },
      "source": [
        "#### Training the bijector"
      ]
    },
    {
      "cell_type": "code",
      "metadata": {
        "id": "J7VvHu5CqyUs"
      },
      "source": [
        "# Create a mixture of four Gaussians\n",
        "\n"
      ],
      "execution_count": null,
      "outputs": []
    },
    {
      "cell_type": "code",
      "metadata": {
        "id": "nmqyyHeTqyUt"
      },
      "source": [
        "# Create the dataset\n",
        "\n",
        "x_train = mix_gauss.sample(10000)\n",
        "x_train = tf.data.Dataset.from_tensor_slices(x_train)\n",
        "x_train = x_train.batch(128)\n",
        "\n",
        "x_valid = mix_gauss.sample(1000)\n",
        "x_valid = tf.data.Dataset.from_tensor_slices(x_valid)\n",
        "x_valid = x_valid.batch(128)\n",
        "\n",
        "print(x_train.element_spec)\n",
        "print(x_valid.element_spec)"
      ],
      "execution_count": null,
      "outputs": []
    },
    {
      "cell_type": "code",
      "metadata": {
        "id": "JMno9UzMqyUu"
      },
      "source": [
        "# Plot the data distribution\n",
        "\n"
      ],
      "execution_count": null,
      "outputs": []
    },
    {
      "cell_type": "code",
      "metadata": {
        "id": "4LH4I4KVqyUw"
      },
      "source": [
        "# Make a trainable bijector\n",
        "\n"
      ],
      "execution_count": null,
      "outputs": []
    },
    {
      "cell_type": "code",
      "metadata": {
        "id": "WG6crdTvqyUx"
      },
      "source": [
        "# Make a trainable transformed distribution\n",
        "\n"
      ],
      "execution_count": null,
      "outputs": []
    },
    {
      "cell_type": "code",
      "metadata": {
        "id": "Hr6-oaz8qyUy"
      },
      "source": [
        "# Plot the data and learned distributions\n",
        "\n"
      ],
      "execution_count": null,
      "outputs": []
    },
    {
      "cell_type": "code",
      "metadata": {
        "id": "zdxDCN9aqyU0"
      },
      "source": [
        "# Train the bijector\n",
        "\n",
        "num_epochs = 10\n",
        "opt = tf.keras.optimizers.Adam()\n",
        "train_losses = []\n",
        "valid_losses = []\n",
        "\n",
        "for epoch in range(num_epochs):\n",
        "    print(\"Epoch {}...\".format(epoch))\n",
        "    train_loss = tf.keras.metrics.Mean()\n",
        "    val_loss = tf.keras.metrics.Mean()\n",
        "    for train_batch in x_train:\n",
        "        with tf.GradientTape() as tape:\n",
        "            tape.watch(trainable_inv_cubic.trainable_variables)\n",
        "            loss = -trainable_dist.log_prob(train_batch)\n",
        "        train_loss(loss)\n",
        "        grads = tape.gradient(loss, trainable_inv_cubic.trainable_variables)\n",
        "        opt.apply_gradients(zip(grads, trainable_inv_cubic.trainable_variables))\n",
        "    train_losses.append(train_loss.result().numpy())\n",
        "        \n",
        "    # Validation\n",
        "    for valid_batch in x_valid:\n",
        "        loss = -trainable_dist.log_prob(valid_batch)\n",
        "        val_loss(loss)\n",
        "    valid_losses.append(val_loss.result().numpy())"
      ],
      "execution_count": null,
      "outputs": []
    },
    {
      "cell_type": "code",
      "metadata": {
        "id": "n-90MDohqyU1"
      },
      "source": [
        "# Plot the learning curves\n",
        "\n",
        "plt.plot(train_losses, label='train')\n",
        "plt.plot(valid_losses, label='valid')\n",
        "plt.legend()\n",
        "plt.xlabel(\"Epochs\")\n",
        "plt.ylabel(\"Negative log likelihood\")\n",
        "plt.title(\"Training and validation loss curves\")\n",
        "plt.show()"
      ],
      "execution_count": null,
      "outputs": []
    },
    {
      "cell_type": "code",
      "metadata": {
        "id": "wZF_T5-aqyU3"
      },
      "source": [
        "# Plot the data and learned distributions\n",
        "\n"
      ],
      "execution_count": null,
      "outputs": []
    },
    {
      "cell_type": "code",
      "metadata": {
        "id": "W498x2lrqyU4"
      },
      "source": [
        "# Display trainable variables\n",
        "\n"
      ],
      "execution_count": null,
      "outputs": []
    },
    {
      "cell_type": "markdown",
      "metadata": {
        "id": "_ggueBWOqyU5"
      },
      "source": [
        "***\n",
        "<a id=\"coding_tutorial_4\"></a>\n",
        "## Normalising flows"
      ]
    },
    {
      "cell_type": "code",
      "metadata": {
        "id": "lf4w-RPtqyU7"
      },
      "source": [
        "# Load dataset\n",
        "\n",
        "from sklearn import datasets\n",
        "from sklearn.preprocessing import StandardScaler\n",
        "n_samples = 1000\n",
        "noisy_moons = datasets.make_moons(n_samples=n_samples, noise=.05)\n",
        "X, y = noisy_moons\n",
        "X_data = StandardScaler().fit_transform(X)\n",
        "xlim, ylim = [-2, 2], [-2, 2]"
      ],
      "execution_count": null,
      "outputs": []
    },
    {
      "cell_type": "code",
      "metadata": {
        "id": "EoSWeEBLqyU8",
        "colab": {
          "base_uri": "https://localhost:8080/",
          "height": 358
        },
        "outputId": "59f8adfe-94fa-44b1-aec4-056899a48aef"
      },
      "source": [
        "# Plot with labels\n",
        "\n",
        "y_label = y.astype(np.bool)\n",
        "X_train, Y_train = X_data[..., 0], X_data[..., 1]\n",
        "plt.scatter(X_train[y_label], Y_train[y_label], s=10, color='blue')\n",
        "plt.scatter(X_train[y_label == False], Y_train[y_label == False], s=10, color='red')\n",
        "plt.legend(['label: 1', 'label: 0'])\n",
        "plt.xlim(xlim)\n",
        "plt.ylim(ylim)"
      ],
      "execution_count": null,
      "outputs": [
        {
          "output_type": "stream",
          "name": "stderr",
          "text": [
            "/usr/local/lib/python3.7/dist-packages/ipykernel_launcher.py:3: DeprecationWarning: `np.bool` is a deprecated alias for the builtin `bool`. To silence this warning, use `bool` by itself. Doing this will not modify any behavior and is safe. If you specifically wanted the numpy scalar type, use `np.bool_` here.\n",
            "Deprecated in NumPy 1.20; for more details and guidance: https://numpy.org/devdocs/release/1.20.0-notes.html#deprecations\n",
            "  This is separate from the ipykernel package so we can avoid doing imports until\n"
          ]
        },
        {
          "output_type": "execute_result",
          "data": {
            "text/plain": [
              "(-2.0, 2.0)"
            ]
          },
          "metadata": {},
          "execution_count": 62
        },
        {
          "output_type": "display_data",
          "data": {
            "text/plain": [
              "<Figure size 432x288 with 1 Axes>"
            ],
            "image/png": "[encoded data removed]"
          },
          "metadata": {
            "needs_background": "light"
          }
        }
      ]
    },
    {
      "cell_type": "code",
      "metadata": {
        "id": "1S5R9vFsqyU-"
      },
      "source": [
        "# Define base distribution\n",
        "\n",
        "base_distribution = tfd.Normal(loc = 0, scale = 1)"
      ],
      "execution_count": null,
      "outputs": []
    },
    {
      "cell_type": "code",
      "metadata": {
        "id": "yukChitnqyVA"
      },
      "source": [
        "# Define the trainable distribution\n",
        "\n"
      ],
      "execution_count": null,
      "outputs": []
    },
    {
      "cell_type": "code",
      "metadata": {
        "id": "HNuYzlWfqyVC"
      },
      "source": [
        "from mpl_toolkits.axes_grid1 import make_axes_locatable\n",
        "from tensorflow.compat.v1 import logging\n",
        "logging.set_verbosity(logging.ERROR)"
      ],
      "execution_count": null,
      "outputs": []
    },
    {
      "cell_type": "code",
      "metadata": {
        "id": "0H9N-DsPqyVD"
      },
      "source": [
        "# Define a plot contour routine\n",
        "\n",
        "def plot_contour_prob(dist, rows=1, title=[''], scale_fig=4):\n",
        "    cols = int(len(dist) / rows)\n",
        "    xx = np.linspace(-5.0, 5.0, 100)\n",
        "    yy = np.linspace(-5.0, 5.0, 100)\n",
        "    X, Y = np.meshgrid(xx, yy)\n",
        "\n",
        "    fig, ax = plt.subplots(rows, cols, figsize=(scale_fig * cols, scale_fig * rows))\n",
        "    fig.tight_layout(pad=4.5)\n",
        "\n",
        "    i = 0\n",
        "    for r in range(rows):\n",
        "        for c in range(cols):\n",
        "            Z = dist[i].prob(np.dstack((X, Y)))\n",
        "            if len(dist) == 1:\n",
        "                axi = ax\n",
        "            elif rows == 1:\n",
        "                axi = ax[c]\n",
        "            else:\n",
        "                axi = ax[r, c]\n",
        "\n",
        "            # Plot contour\n",
        "            p = axi.contourf(X, Y, Z)\n",
        "\n",
        "            # Add a colorbar\n",
        "            divider = make_axes_locatable(axi)\n",
        "            cax = divider.append_axes(\"right\", size=\"5%\", pad=0.1)\n",
        "            cbar = fig.colorbar(p, cax=cax)\n",
        "\n",
        "            # Set title and labels\n",
        "            axi.set_title('Filled Contours Plot: ' + str(title[i]))\n",
        "            axi.set_xlabel('x')\n",
        "            axi.set_ylabel('y')\n",
        "\n",
        "            i += 1\n",
        "    plt.show()"
      ],
      "execution_count": null,
      "outputs": []
    },
    {
      "cell_type": "code",
      "metadata": {
        "id": "44oF42rqqyVE"
      },
      "source": [
        "# Plot contour\n",
        "\n"
      ],
      "execution_count": null,
      "outputs": []
    },
    {
      "cell_type": "code",
      "metadata": {
        "id": "72Wq79I-qyVH"
      },
      "source": [
        "from tensorflow.keras.layers import Input\n",
        "from tensorflow.keras import Model"
      ],
      "execution_count": null,
      "outputs": []
    },
    {
      "cell_type": "code",
      "metadata": {
        "id": "OcDJOfGvqyVI"
      },
      "source": [
        "# Make samples\n",
        "\n"
      ],
      "execution_count": null,
      "outputs": []
    },
    {
      "cell_type": "code",
      "metadata": {
        "id": "OGIJqluXqyVK"
      },
      "source": [
        "# Define a scatter plot routine for the bijectors\n",
        "\n",
        "def _plot(results, rows=1, legend=False):\n",
        "    cols = int(len(results) / rows)\n",
        "    f, arr = plt.subplots(rows, cols, figsize=(4 * cols, 4 * rows))\n",
        "    i = 0\n",
        "    for r in range(rows):\n",
        "        for c in range(cols):\n",
        "            res = results[i]\n",
        "            X, Y = res[..., 0].numpy(), res[..., 1].numpy()\n",
        "            if rows == 1:\n",
        "                p = arr[c]\n",
        "            else:\n",
        "                p = arr[r, c]\n",
        "            p.scatter(X, Y, s=10, color='red')\n",
        "            p.set_xlim([-5, 5])\n",
        "            p.set_ylim([-5, 5])\n",
        "            p.set_title(names[i])\n",
        "            \n",
        "            i += 1"
      ],
      "execution_count": null,
      "outputs": []
    },
    {
      "cell_type": "code",
      "metadata": {
        "id": "7XJkvd0DqyVL"
      },
      "source": [
        "# Plot\n",
        "\n"
      ],
      "execution_count": null,
      "outputs": []
    },
    {
      "cell_type": "markdown",
      "metadata": {
        "id": "qVUEl_FuqyVM"
      },
      "source": [
        "#### Training a MaskedAutoregressiveFlow bijector"
      ]
    },
    {
      "cell_type": "code",
      "metadata": {
        "id": "XcKcNND0qyVM"
      },
      "source": [
        "from tensorflow.keras.callbacks import LambdaCallback"
      ],
      "execution_count": null,
      "outputs": []
    },
    {
      "cell_type": "code",
      "metadata": {
        "id": "X9xg-02vqyVO"
      },
      "source": [
        "# Define a training routine\n",
        "\n",
        "def train_dist_routine(trainable_distribution, n_epochs=200, batch_size=None, n_disp=100):\n",
        "    x_ = Input(shape=(2,), dtype=tf.float32)\n",
        "    log_prob_ = trainable_distribution.log_prob(x_)\n",
        "    model = Model(x_, log_prob_)\n",
        "\n",
        "    model.compile(optimizer=tf.optimizers.Adam(),\n",
        "                  loss=lambda _, log_prob: -log_prob)\n",
        "\n",
        "    ns = X_data.shape[0]\n",
        "    if batch_size is None:\n",
        "        batch_size = ns\n",
        "\n",
        "    # Display the loss every n_disp epoch\n",
        "    epoch_callback = LambdaCallback(\n",
        "        on_epoch_end=lambda epoch, logs: \n",
        "                        print('\\n Epoch {}/{}'.format(epoch+1, n_epochs, logs),\n",
        "                              '\\n\\t ' + (': {:.4f}, '.join(logs.keys()) + ': {:.4f}').format(*logs.values()))\n",
        "                                       if epoch % n_disp == 0 else False \n",
        "    )\n",
        "\n",
        "\n",
        "    history = model.fit(x=X_data,\n",
        "                        y=np.zeros((ns, 0), dtype=np.float32),\n",
        "                        batch_size=batch_size,\n",
        "                        epochs=n_epochs,\n",
        "                        validation_split=0.2,\n",
        "                        shuffle=True,\n",
        "                        verbose=False,\n",
        "                        callbacks=[epoch_callback])\n",
        "    return history"
      ],
      "execution_count": null,
      "outputs": []
    },
    {
      "cell_type": "code",
      "metadata": {
        "id": "fFbqlQsDqyVP"
      },
      "source": [
        "# Train the distribution\n",
        "\n"
      ],
      "execution_count": null,
      "outputs": []
    },
    {
      "cell_type": "code",
      "metadata": {
        "id": "UYqVhr02qyVR"
      },
      "source": [
        "# Get losses\n",
        "\n",
        "train_losses = history.history['loss']\n",
        "valid_losses = history.history['val_loss']"
      ],
      "execution_count": null,
      "outputs": []
    },
    {
      "cell_type": "code",
      "metadata": {
        "id": "c_r1WhYMqyVS"
      },
      "source": [
        "# Plot loss vs epoch\n",
        "\n",
        "plt.plot(train_losses, label='train')\n",
        "plt.plot(valid_losses, label='valid')\n",
        "plt.legend()\n",
        "plt.xlabel(\"Epochs\")\n",
        "plt.ylabel(\"Negative log likelihood\")\n",
        "plt.title(\"Training and validation loss curves\")\n",
        "plt.show()"
      ],
      "execution_count": null,
      "outputs": []
    },
    {
      "cell_type": "code",
      "metadata": {
        "id": "Kt8EddLxqyVU"
      },
      "source": [
        "# Make samples\n",
        "\n"
      ],
      "execution_count": null,
      "outputs": []
    },
    {
      "cell_type": "code",
      "metadata": {
        "id": "wLDj22cMqyVW"
      },
      "source": [
        "# Plot\n",
        "\n"
      ],
      "execution_count": null,
      "outputs": []
    },
    {
      "cell_type": "code",
      "metadata": {
        "id": "paVq1v0hqyVY"
      },
      "source": [
        "# Define a plot routine\n",
        "\n",
        "def visualize_training_data(samples):\n",
        "    f, arr = plt.subplots(1, 2, figsize=(15, 6))\n",
        "    names = ['Data', 'Trainable']\n",
        "    samples = [tf.constant(X_data), samples[-1]]\n",
        "\n",
        "    for i in range(2):\n",
        "        res = samples[i]\n",
        "        X, Y = res[..., 0].numpy(), res[..., 1].numpy()\n",
        "        arr[i].scatter(X, Y, s=10, color='red')\n",
        "        arr[i].set_xlim([-2, 2])\n",
        "        arr[i].set_ylim([-2, 2])\n",
        "        arr[i].set_title(names[i])\n",
        "\n",
        "visualize_training_data(samples)"
      ],
      "execution_count": null,
      "outputs": []
    },
    {
      "cell_type": "code",
      "metadata": {
        "id": "M4cLbKdeqyVa"
      },
      "source": [
        "# Plot contour\n",
        "\n"
      ],
      "execution_count": null,
      "outputs": []
    },
    {
      "cell_type": "markdown",
      "metadata": {
        "id": "MV74vXBYqyVb"
      },
      "source": [
        "#### Training a chain of MaskedAutoregressiveFlow bijectors"
      ]
    },
    {
      "cell_type": "code",
      "metadata": {
        "id": "CY-wC-KlqyVb"
      },
      "source": [
        "# Define a more expressive model\n",
        "\n"
      ],
      "execution_count": null,
      "outputs": []
    },
    {
      "cell_type": "code",
      "metadata": {
        "id": "NJpc214EqyVc"
      },
      "source": [
        "# Define the trainable distribution\n",
        "\n"
      ],
      "execution_count": null,
      "outputs": []
    },
    {
      "cell_type": "code",
      "metadata": {
        "id": "-BpDIWDYqyVd"
      },
      "source": [
        "# Make samples\n",
        "\n",
        "def make_samples():\n",
        "    x = base_distribution.sample((1000, 2))\n",
        "    samples = [x]\n",
        "    names = [base_distribution.name]\n",
        "    for bijector in reversed(trainable_distribution.bijector.bijectors):\n",
        "        x = bijector.forward(x)\n",
        "        samples.append(x)\n",
        "        names.append(bijector.name)\n",
        "    return names, samples\n",
        "\n",
        "names, samples = make_samples()"
      ],
      "execution_count": null,
      "outputs": []
    },
    {
      "cell_type": "code",
      "metadata": {
        "id": "vULwOEnBqyVf"
      },
      "source": [
        "# Plot\n",
        "\n"
      ],
      "execution_count": null,
      "outputs": []
    },
    {
      "cell_type": "code",
      "metadata": {
        "id": "bD3Iv--OqyVg"
      },
      "source": [
        "# Plot\n",
        "\n"
      ],
      "execution_count": null,
      "outputs": []
    },
    {
      "cell_type": "code",
      "metadata": {
        "id": "ODoyDXHVqyVh"
      },
      "source": [
        "# Train the distribution\n",
        "\n"
      ],
      "execution_count": null,
      "outputs": []
    },
    {
      "cell_type": "code",
      "metadata": {
        "id": "87-MiD_EqyVj"
      },
      "source": [
        "# Get losses\n",
        "\n",
        "train_losses = history.history['loss']\n",
        "valid_losses = history.history['val_loss']"
      ],
      "execution_count": null,
      "outputs": []
    },
    {
      "cell_type": "code",
      "metadata": {
        "id": "uq9fFP7kqyVk"
      },
      "source": [
        "# Plot loss vs epoch\n",
        "\n",
        "plt.plot(train_losses, label='train')\n",
        "plt.plot(valid_losses, label='valid')\n",
        "plt.legend()\n",
        "plt.xlabel(\"Epochs\")\n",
        "plt.ylabel(\"Negative log likelihood\")\n",
        "plt.title(\"Training and validation loss curves\")\n",
        "plt.show()"
      ],
      "execution_count": null,
      "outputs": []
    },
    {
      "cell_type": "code",
      "metadata": {
        "id": "swTZ4Db_qyVl"
      },
      "source": [
        "# Make samples and plot\n",
        "\n"
      ],
      "execution_count": null,
      "outputs": []
    },
    {
      "cell_type": "code",
      "metadata": {
        "id": "nNp-Kq7ZqyVm"
      },
      "source": [
        "# Plot\n",
        "\n"
      ],
      "execution_count": null,
      "outputs": []
    },
    {
      "cell_type": "code",
      "metadata": {
        "id": "fer7CuS4qyVo"
      },
      "source": [
        "# Plot\n",
        "\n"
      ],
      "execution_count": null,
      "outputs": []
    }
  ]
}