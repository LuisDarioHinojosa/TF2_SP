{
  "cells": [
    {
      "cell_type": "code",
      "execution_count": 1,
      "metadata": {
        "colab": {
          "base_uri": "https://localhost:8080/"
        },
        "id": "R97EJj9Ckz6m",
        "outputId": "2eca30cb-4d25-416f-b336-4163f3c2faec"
      },
      "outputs": [
        {
          "output_type": "stream",
          "name": "stdout",
          "text": [
            "TF version: 2.8.2\n",
            "TFP version: 0.16.0\n"
          ]
        }
      ],
      "source": [
        "import tensorflow as tf\n",
        "import tensorflow_probability as tfp\n",
        "tfd = tfp.distributions\n",
        "\n",
        "print(\"TF version:\", tf.__version__)\n",
        "print(\"TFP version:\", tfp.__version__)"
      ]
    },
    {
      "cell_type": "code",
      "execution_count": 2,
      "metadata": {
        "id": "4_6a2dBjkz60"
      },
      "outputs": [],
      "source": [
        "# Additional imports and setting fixed random seed to have reproducibility\n",
        "\n",
        "import matplotlib.pyplot as plt\n",
        "import numpy as np\n",
        "tf.random.set_seed(123)"
      ]
    },
    {
      "cell_type": "markdown",
      "metadata": {
        "id": "RQlMxfGGkz62"
      },
      "source": [
        "# Tensorflow Distributions"
      ]
    },
    {
      "cell_type": "markdown",
      "metadata": {
        "id": "RChvSknvkz6-"
      },
      "source": [
        "## Coding Tutorials\n",
        "#### 1. [Univariate Distributions](#univariate_distributions)\n",
        "#### 2. [Multivariate Distributions](#multivariate_distributions)\n",
        "#### 3. [The Independent Distribution](#the_independent_distribution)\n",
        "#### 4. [Sampling and log probs](#sampling_and_log_probs)\n",
        "#### 5. [Trainable Distributions](#trainable_distributions)"
      ]
    },
    {
      "cell_type": "markdown",
      "metadata": {
        "id": "CdUsloNskz6_"
      },
      "source": [
        "***\n",
        "## Univariate distributions\n",
        "<a id='univariate_distributions'></a>"
      ]
    },
    {
      "cell_type": "code",
      "execution_count": 3,
      "metadata": {
        "colab": {
          "base_uri": "https://localhost:8080/"
        },
        "id": "E2A5g9vskz7A",
        "outputId": "3cd71a35-c0ae-4618-a772-fc262aca75b9"
      },
      "outputs": [
        {
          "output_type": "execute_result",
          "data": {
            "text/plain": [
              "<tfp.distributions.Normal 'Normal' batch_shape=[] event_shape=[] dtype=float32>"
            ]
          },
          "metadata": {},
          "execution_count": 3
        }
      ],
      "source": [
        "# Create a normal distribution from Tensorflow Distributions\n",
        "normal = tfd.Normal(loc = 0, scale = 1)\n",
        "normal"
      ]
    },
    {
      "cell_type": "code",
      "execution_count": 4,
      "metadata": {
        "colab": {
          "base_uri": "https://localhost:8080/"
        },
        "id": "riaIvKwakz7D",
        "outputId": "8584ca87-9c5e-4970-a2c4-530b64ddd3c6"
      },
      "outputs": [
        {
          "output_type": "execute_result",
          "data": {
            "text/plain": [
              "<tf.Tensor: shape=(), dtype=float32, numpy=-0.89808375>"
            ]
          },
          "metadata": {},
          "execution_count": 4
        }
      ],
      "source": [
        "# Sample from the chosen distribution...\n",
        "normal.sample()\n"
      ]
    },
    {
      "cell_type": "code",
      "execution_count": 5,
      "metadata": {
        "colab": {
          "base_uri": "https://localhost:8080/"
        },
        "id": "XuAFNuHckz7E",
        "outputId": "375067af-88e8-43f2-e833-9048a130ca54"
      },
      "outputs": [
        {
          "output_type": "execute_result",
          "data": {
            "text/plain": [
              "<tf.Tensor: shape=(5,), dtype=float32, numpy=\n",
              "array([ 0.33875433,  0.3449861 , -0.6605785 , -0.28549942,  0.43852386],\n",
              "      dtype=float32)>"
            ]
          },
          "metadata": {},
          "execution_count": 5
        }
      ],
      "source": [
        "# ... or sample multiple times\n",
        "\n",
        "normal.sample(5)"
      ]
    },
    {
      "cell_type": "code",
      "execution_count": 6,
      "metadata": {
        "colab": {
          "base_uri": "https://localhost:8080/"
        },
        "id": "pDV0iSiVkz7H",
        "outputId": "fe2abd8a-3325-4ef8-f462-444df9e36c6f"
      },
      "outputs": [
        {
          "output_type": "execute_result",
          "data": {
            "text/plain": [
              "<tf.Tensor: shape=(), dtype=float32, numpy=0.3989423>"
            ]
          },
          "metadata": {},
          "execution_count": 6
        }
      ],
      "source": [
        "# Obtain value of probability's density\n",
        "normal.prob(0)\n"
      ]
    },
    {
      "cell_type": "code",
      "execution_count": 7,
      "metadata": {
        "colab": {
          "base_uri": "https://localhost:8080/"
        },
        "id": "OqGpJQgekz7K",
        "outputId": "5779f34e-a18d-4a52-a38e-999655874b22"
      },
      "outputs": [
        {
          "output_type": "execute_result",
          "data": {
            "text/plain": [
              "<tf.Tensor: shape=(), dtype=float32, numpy=-0.9189385>"
            ]
          },
          "metadata": {},
          "execution_count": 7
        }
      ],
      "source": [
        "# Obtain value of logprobability\n",
        "normal.log_prob(0)\n"
      ]
    },
    {
      "cell_type": "code",
      "execution_count": 8,
      "metadata": {
        "colab": {
          "base_uri": "https://localhost:8080/"
        },
        "id": "PV2Rvfu9kz7N",
        "outputId": "bca5addb-09ec-455a-a2c9-cc8d06440c92"
      },
      "outputs": [
        {
          "output_type": "execute_result",
          "data": {
            "text/plain": [
              "-0.9189385"
            ]
          },
          "metadata": {},
          "execution_count": 8
        }
      ],
      "source": [
        "# Verify that this really is the log of the probability\n",
        "np.log(normal.prob(0))\n"
      ]
    },
    {
      "cell_type": "code",
      "execution_count": 9,
      "metadata": {
        "colab": {
          "base_uri": "https://localhost:8080/",
          "height": 265
        },
        "id": "6RIXOaeZkz7O",
        "outputId": "39de9fd1-54ec-46d8-e770-f0e2cbe8d0e5"
      },
      "outputs": [
        {
          "output_type": "display_data",
          "data": {
            "text/plain": [
              "<Figure size 432x288 with 1 Axes>"
            ],
            "image/png": "[encoded data removed]"
          },
          "metadata": {
            "needs_background": "light"
          }
        }
      ],
      "source": [
        "# Plot a histogram, approximating the density\n",
        "\n",
        "plt.hist(normal.sample(10000), bins=50, density=True)\n",
        "plt.show()"
      ]
    },
    {
      "cell_type": "code",
      "execution_count": 10,
      "metadata": {
        "colab": {
          "base_uri": "https://localhost:8080/",
          "height": 265
        },
        "id": "j8UF_AYQkz7P",
        "outputId": "b251066a-9adb-48ef-8d25-ccdcb96c8993"
      },
      "outputs": [
        {
          "output_type": "display_data",
          "data": {
            "text/plain": [
              "<Figure size 432x288 with 1 Axes>"
            ],
            "image/png": "[encoded data removed]"
          },
          "metadata": {
            "needs_background": "light"
          }
        }
      ],
      "source": [
        "# Do the same for the exponential distribution\n",
        "exponential = tfd.Exponential(rate = 1)\n",
        "plt.hist(exponential.sample(10000),bins = 50, density = True)\n",
        "plt.show()\n"
      ]
    },
    {
      "cell_type": "code",
      "execution_count": 11,
      "metadata": {
        "colab": {
          "base_uri": "https://localhost:8080/"
        },
        "id": "pRPFPnpukz7Q",
        "outputId": "b39ae6e8-95be-4cfa-e62f-133f9e1f1b6c"
      },
      "outputs": [
        {
          "output_type": "execute_result",
          "data": {
            "text/plain": [
              "<tf.Tensor: shape=(10,), dtype=float32, numpy=\n",
              "array([0.3179616 , 0.9595855 , 0.6190708 , 1.3738598 , 1.6796894 ,\n",
              "       0.40142855, 1.6830153 , 1.78942   , 0.38126466, 0.5528394 ],\n",
              "      dtype=float32)>"
            ]
          },
          "metadata": {},
          "execution_count": 11
        }
      ],
      "source": [
        "# Sample as before\n",
        "\n",
        "exponential.sample(10)"
      ]
    },
    {
      "cell_type": "code",
      "execution_count": 12,
      "metadata": {
        "colab": {
          "base_uri": "https://localhost:8080/"
        },
        "id": "pEt0BqY4kz7S",
        "outputId": "4c52e5d6-ca09-47d3-8349-a3a10c5ae21f"
      },
      "outputs": [
        {
          "output_type": "execute_result",
          "data": {
            "text/plain": [
              "<tf.Tensor: shape=(10,), dtype=int32, numpy=array([0, 1, 1, 0, 0, 1, 1, 0, 1, 1], dtype=int32)>"
            ]
          },
          "metadata": {},
          "execution_count": 12
        }
      ],
      "source": [
        "# Create a Bernoulli distribution (discrete)\n",
        "\n",
        "bern = tfd.Bernoulli(probs = 0.8)\n",
        "bern.sample(10)"
      ]
    },
    {
      "cell_type": "markdown",
      "metadata": {
        "id": "FZEy3mi_kz7T"
      },
      "source": [
        "#### A word of caution on discrete distributions"
      ]
    },
    {
      "cell_type": "code",
      "execution_count": 13,
      "metadata": {
        "colab": {
          "base_uri": "https://localhost:8080/"
        },
        "id": "yPgiRKK_kz7X",
        "outputId": "37c0daa0-e9c0-4050-8540-a8a3e02090ab"
      },
      "outputs": [
        {
          "output_type": "stream",
          "name": "stdout",
          "text": [
            "prob result 0.20000000298023224 for k = 0 \n",
            "prob result 0.4000000059604645 for k = 0.5 \n",
            "prob result 0.800000011920929 for k = 1 \n",
            "prob result 0.05000000074505806 for k = -1 \n"
          ]
        }
      ],
      "source": [
        "# Calculate Bernoulli prob and see that 0.5 and -1 do not give the correct probability!\n",
        "\n",
        "for k in [0,0.5,1,-1]:\n",
        "    print('prob result {} for k = {} '.format(bern.prob(k),k))"
      ]
    },
    {
      "cell_type": "code",
      "execution_count": 14,
      "metadata": {
        "id": "ayCrU6HPkz7Y"
      },
      "outputs": [],
      "source": [
        "# Replicate the scores to see what is occurring under the hood\n",
        "\n",
        "def my_bernoulli(p_success, k):\n",
        "    return np.power(p_success,k)*np.power((1-p_success),(1-k))"
      ]
    },
    {
      "cell_type": "code",
      "execution_count": 15,
      "metadata": {
        "colab": {
          "base_uri": "https://localhost:8080/"
        },
        "id": "iNhbJ6Gpkz7Z",
        "outputId": "605a4613-a263-4b26-f59c-b461a5e257a6"
      },
      "outputs": [
        {
          "output_type": "stream",
          "name": "stdout",
          "text": [
            "prob result 0.19999999999999996 for k = 0 \n",
            "prob result 0.3999999999999999 for k = 0.5 \n",
            "prob result 0.8 for k = 1 \n",
            "prob result 0.049999999999999975 for k = -1 \n"
          ]
        }
      ],
      "source": [
        "# Evaluate it as before\n",
        "\n",
        "for k in [0,0.5,1,-1]:\n",
        "    print('prob result {} for k = {} '.format(my_bernoulli(p_success = 0.8, k = k),k))"
      ]
    },
    {
      "cell_type": "markdown",
      "metadata": {
        "id": "OQtQs5MEkz7d"
      },
      "source": [
        "#### Work with batch distributions"
      ]
    },
    {
      "cell_type": "code",
      "execution_count": 16,
      "metadata": {
        "colab": {
          "base_uri": "https://localhost:8080/"
        },
        "id": "32gbfLU4kz7g",
        "outputId": "cbd8fbdd-90de-4e50-a85f-a1244f09583d"
      },
      "outputs": [
        {
          "output_type": "execute_result",
          "data": {
            "text/plain": [
              "<tfp.distributions.Bernoulli 'Bernoulli' batch_shape=[5] event_shape=[] dtype=int32>"
            ]
          },
          "metadata": {},
          "execution_count": 16
        }
      ],
      "source": [
        "# Create a batched Bernoulli distribution\n",
        "\n",
        "bernoulli_batch = tfd.Bernoulli(probs=[0.1, 0.25, 0.5, 0.75, 0.9])\n",
        "bernoulli_batch"
      ]
    },
    {
      "cell_type": "code",
      "execution_count": 17,
      "metadata": {
        "colab": {
          "base_uri": "https://localhost:8080/"
        },
        "id": "wcGmxUQHkz7j",
        "outputId": "cdbecb10-ffaa-46fc-e4b7-b6b47ac14ade"
      },
      "outputs": [
        {
          "output_type": "execute_result",
          "data": {
            "text/plain": [
              "<tf.Tensor: shape=(5, 5), dtype=int32, numpy=\n",
              "array([[0, 0, 0, 1, 1],\n",
              "       [0, 1, 0, 1, 1],\n",
              "       [0, 0, 1, 1, 1],\n",
              "       [0, 0, 0, 1, 1],\n",
              "       [0, 0, 0, 1, 1]], dtype=int32)>"
            ]
          },
          "metadata": {},
          "execution_count": 17
        }
      ],
      "source": [
        "# Sample from it, noting the shape\n",
        "bernoulli_batch.sample(5)\n"
      ]
    },
    {
      "cell_type": "code",
      "execution_count": 18,
      "metadata": {
        "colab": {
          "base_uri": "https://localhost:8080/"
        },
        "id": "_qPplFDzkz7l",
        "outputId": "867e8f0b-722a-4c2c-9330-419a6fb39a95"
      },
      "outputs": [
        {
          "output_type": "execute_result",
          "data": {
            "text/plain": [
              "<tfp.distributions.Bernoulli 'Bernoulli' batch_shape=[1, 3, 2] event_shape=[] dtype=int32>"
            ]
          },
          "metadata": {},
          "execution_count": 18
        }
      ],
      "source": [
        "# Use a batch shape with higher rank\n",
        "\n",
        "probs = [[[0.5, 0.5], \n",
        "          [0.8, 0.3], \n",
        "          [0.25, 0.75]]]\n",
        "bernoulli_batch_2D = tfd.Bernoulli(probs=probs)\n",
        "bernoulli_batch_2D"
      ]
    },
    {
      "cell_type": "code",
      "execution_count": 19,
      "metadata": {
        "id": "422PmDJOkz7m",
        "colab": {
          "base_uri": "https://localhost:8080/"
        },
        "outputId": "9dc76bb6-b34a-45fa-df81-8656229a52ea"
      },
      "outputs": [
        {
          "output_type": "execute_result",
          "data": {
            "text/plain": [
              "<tf.Tensor: shape=(5, 5), dtype=int32, numpy=\n",
              "array([[0, 0, 1, 1, 1],\n",
              "       [0, 0, 0, 1, 1],\n",
              "       [0, 0, 1, 1, 1],\n",
              "       [1, 0, 1, 1, 1],\n",
              "       [0, 0, 1, 1, 1]], dtype=int32)>"
            ]
          },
          "metadata": {},
          "execution_count": 19
        }
      ],
      "source": [
        "# Sample from this batch of distributions\n",
        "\n",
        "bernoulli_batch.sample(5)"
      ]
    },
    {
      "cell_type": "code",
      "execution_count": 20,
      "metadata": {
        "colab": {
          "base_uri": "https://localhost:8080/"
        },
        "id": "X5BUAajNkz7n",
        "outputId": "0bd45ed7-69ec-4fe4-ddb9-4a08490a3f65"
      },
      "outputs": [
        {
          "output_type": "execute_result",
          "data": {
            "text/plain": [
              "<tf.Tensor: shape=(1, 3, 2), dtype=float32, numpy=\n",
              "array([[[0.5 , 0.5 ],\n",
              "        [0.2 , 0.7 ],\n",
              "        [0.25, 0.75]]], dtype=float32)>"
            ]
          },
          "metadata": {},
          "execution_count": 20
        }
      ],
      "source": [
        "# Determine probabilities from this batch distribution\n",
        "\n",
        "bernoulli_batch_2D.prob([[[1, 0], \n",
        "                         [0, 0], \n",
        "                         [1, 1]]])"
      ]
    },
    {
      "cell_type": "markdown",
      "metadata": {
        "id": "9BwlH9Wkkz7n"
      },
      "source": [
        "***\n",
        "<a id='multivariate_distributions'></a>\n",
        "## Multivariate Distributions\n"
      ]
    },
    {
      "cell_type": "markdown",
      "metadata": {
        "id": "7oAJ-MMdkz7o"
      },
      "source": [
        "#### Basic multivariate distributions"
      ]
    },
    {
      "cell_type": "code",
      "execution_count": 21,
      "metadata": {
        "id": "rpKI2xdskz7o",
        "colab": {
          "base_uri": "https://localhost:8080/"
        },
        "outputId": "9c88832f-34c4-46aa-832c-3bed6c110b68"
      },
      "outputs": [
        {
          "output_type": "execute_result",
          "data": {
            "text/plain": [
              "<tfp.distributions.MultivariateNormalDiag 'MultivariateNormalDiag' batch_shape=[] event_shape=[2] dtype=float32>"
            ]
          },
          "metadata": {},
          "execution_count": 21
        }
      ],
      "source": [
        "# Define 2D multivariate Gaussian with diagonal covariance matrix\n",
        "normalDiag = tfd.MultivariateNormalDiag(loc = [0,1], scale_diag = [1,2])\n",
        "normalDiag"
      ]
    },
    {
      "cell_type": "code",
      "execution_count": 22,
      "metadata": {
        "id": "8Ma0-7aZkz7p",
        "colab": {
          "base_uri": "https://localhost:8080/"
        },
        "outputId": "3ad941f5-07b5-4313-f8e9-90d48140f353"
      },
      "outputs": [
        {
          "output_type": "execute_result",
          "data": {
            "text/plain": [
              "<tf.Tensor: shape=(10, 2), dtype=float32, numpy=\n",
              "array([[-0.37992278,  2.3674164 ],\n",
              "       [-2.224005  , -0.28514457],\n",
              "       [ 0.923083  , -1.4528894 ],\n",
              "       [-0.62774605, -0.33852375],\n",
              "       [-0.6252951 , -1.3324146 ],\n",
              "       [-0.42454168,  1.3192185 ],\n",
              "       [-1.702882  ,  1.8533869 ],\n",
              "       [-0.4608376 , -0.7023523 ],\n",
              "       [-1.1919353 , -0.12865639],\n",
              "       [ 0.48053816, -0.2693485 ]], dtype=float32)>"
            ]
          },
          "metadata": {},
          "execution_count": 22
        }
      ],
      "source": [
        "# Sample from it\n",
        "normalDiag.sample(10)\n"
      ]
    },
    {
      "cell_type": "code",
      "execution_count": 23,
      "metadata": {
        "id": "sqKnUQBvkz7q",
        "colab": {
          "base_uri": "https://localhost:8080/",
          "height": 265
        },
        "outputId": "3713d8c0-466b-4e4f-83c1-e70fe2fcafaf"
      },
      "outputs": [
        {
          "output_type": "display_data",
          "data": {
            "text/plain": [
              "<Figure size 432x288 with 1 Axes>"
            ],
            "image/png": "[encoded data removed]"
          },
          "metadata": {
            "needs_background": "light"
          }
        }
      ],
      "source": [
        "# Make a plot\n",
        "\n",
        "plt_sample = normalDiag.sample(10000)\n",
        "plt.scatter(plt_sample[:, 0], plt_sample[:, 1], marker='.', alpha=0.05)\n",
        "plt.axis('equal')\n",
        "plt.show()"
      ]
    },
    {
      "cell_type": "markdown",
      "metadata": {
        "id": "w3GaG6Mikz7q"
      },
      "source": [
        "#### Batches of multivariate distributions"
      ]
    },
    {
      "cell_type": "code",
      "execution_count": 24,
      "metadata": {
        "id": "9Dw-Eb5Akz7r",
        "colab": {
          "base_uri": "https://localhost:8080/"
        },
        "outputId": "abde384e-7248-4095-b020-95c8d482a6cc"
      },
      "outputs": [
        {
          "output_type": "execute_result",
          "data": {
            "text/plain": [
              "<tfp.distributions.MultivariateNormalDiag 'MultivariateNormalDiag' batch_shape=[3] event_shape=[2] dtype=float32>"
            ]
          },
          "metadata": {},
          "execution_count": 24
        }
      ],
      "source": [
        "# Create three \"batches\" of multivariate normals\n",
        "normalDiagBatch = tfd.MultivariateNormalDiag(loc = [[0,0],[0,0],[0,0]], scale_diag = [[1,2],[2,1],[2,2]])\n",
        "\n",
        "normalDiagBatch"
      ]
    },
    {
      "cell_type": "code",
      "execution_count": 25,
      "metadata": {
        "id": "zPEYNYmskz7s",
        "colab": {
          "base_uri": "https://localhost:8080/"
        },
        "outputId": "804a7f95-5916-469d-8deb-f1e70e81845a"
      },
      "outputs": [
        {
          "output_type": "execute_result",
          "data": {
            "text/plain": [
              "<tf.Tensor: shape=(5, 3, 2), dtype=float32, numpy=\n",
              "array([[[-0.8012545 , -2.128108  ],\n",
              "        [ 2.0774975 , -2.7921855 ],\n",
              "        [ 0.52665955,  0.60957587]],\n",
              "\n",
              "       [[ 0.9923561 , -0.9778331 ],\n",
              "        [-0.8376892 ,  0.70630246],\n",
              "        [-1.0894657 , -0.65969497]],\n",
              "\n",
              "       [[-1.6264789 ,  2.2429497 ],\n",
              "        [-4.3018756 , -0.7626804 ],\n",
              "        [-0.4345196 , -0.57022095]],\n",
              "\n",
              "       [[ 0.7307566 ,  2.8356621 ],\n",
              "        [ 1.8173586 ,  1.2079152 ],\n",
              "        [-3.2939956 ,  2.33647   ]],\n",
              "\n",
              "       [[-0.24759005,  0.56306183],\n",
              "        [-0.60534286,  0.06578209],\n",
              "        [ 1.4922864 , -0.55439734]]], dtype=float32)>"
            ]
          },
          "metadata": {},
          "execution_count": 25
        }
      ],
      "source": [
        "# Sample from it\n",
        "samples = normalDiagBatch.sample(5)\n",
        "samples"
      ]
    },
    {
      "cell_type": "code",
      "execution_count": 26,
      "metadata": {
        "id": "2tqW5-lIkz7v",
        "colab": {
          "base_uri": "https://localhost:8080/"
        },
        "outputId": "e4c5188e-5eb7-4b50-978f-8a809719fcbb"
      },
      "outputs": [
        {
          "output_type": "execute_result",
          "data": {
            "text/plain": [
              "<tf.Tensor: shape=(5, 3), dtype=float32, numpy=\n",
              "array([[-3.4181342, -6.9686737, -3.3052907],\n",
              "       [-3.142929 , -2.8681712, -3.426938 ],\n",
              "       [-4.482594 , -5.135132 , -3.2884164],\n",
              "       [-3.8031492, -3.6734028, -5.262859 ],\n",
              "       [-2.6013045, -2.5789928, -3.5409558]], dtype=float32)>"
            ]
          },
          "metadata": {},
          "execution_count": 26
        }
      ],
      "source": [
        "# Compute log probs\n",
        "normalDiagBatch.log_prob(samples)\n"
      ]
    },
    {
      "cell_type": "code",
      "execution_count": 27,
      "metadata": {
        "id": "PgDYGl1pkz7x",
        "colab": {
          "base_uri": "https://localhost:8080/"
        },
        "outputId": "ed9ef60e-c436-47bf-e052-6e5aa84f6077"
      },
      "outputs": [
        {
          "output_type": "execute_result",
          "data": {
            "text/plain": [
              "TensorShape([10000, 3, 2])"
            ]
          },
          "metadata": {},
          "execution_count": 27
        }
      ],
      "source": [
        "# Create a sample for a plot -- notice the shape\n",
        "\n",
        "plt_sample_batch = normalDiagBatch.sample(10000)\n",
        "plt_sample_batch.shape"
      ]
    },
    {
      "cell_type": "code",
      "execution_count": 28,
      "metadata": {
        "id": "7WOWamiMkz7y",
        "colab": {
          "base_uri": "https://localhost:8080/",
          "height": 0
        },
        "outputId": "201ea05f-cd63-47f5-cf00-8d46196b12ff"
      },
      "outputs": [
        {
          "output_type": "display_data",
          "data": {
            "text/plain": [
              "<Figure size 720x216 with 3 Axes>"
            ],
            "image/png": "[encoded data removed]"
          },
          "metadata": {
            "needs_background": "light"
          }
        }
      ],
      "source": [
        "# Plot samples from the batched multivariate Gaussian\n",
        "\n",
        "fig, axs = (plt.subplots(1, 3, sharex=True, sharey=True, figsize=(10, 3)))\n",
        "titles = ['cov_diag=[1, 2]','cov_diag=[2, 1]', 'cov_diag=[2, 2]']\n",
        "\n",
        "for i, (ax, title) in enumerate(zip(axs,titles)):\n",
        "    samples = plt_sample_batch[:,i,:] #take the ith batch [samples x event_shape]\n",
        "    ax.scatter(samples[:, 0], samples[:, 1], marker='.', alpha=0.05)\n",
        "    ax.set_title(title)\n",
        "plt.show()"
      ]
    },
    {
      "cell_type": "markdown",
      "metadata": {
        "id": "M9BoKdXMkz70"
      },
      "source": [
        "\n",
        "\n",
        "***\n",
        "<a id='the_independent_distribution'></a>\n",
        "## The Independent Distribution"
      ]
    },
    {
      "cell_type": "code",
      "execution_count": 29,
      "metadata": {
        "id": "RAlXpNK3kz70"
      },
      "outputs": [],
      "source": [
        "# Start by defining a batch of two univariate Gaussians, then\n",
        "# combine them into a bivariate Gaussian with independent components\n",
        "locs = [-1.,1]\n",
        "scales = [0.5,1.]\n",
        "batch_of_normals = tfd.Normal(loc = locs, scale = scales)\n"
      ]
    },
    {
      "cell_type": "code",
      "execution_count": 30,
      "metadata": {
        "id": "up45FGIFkz71",
        "colab": {
          "base_uri": "https://localhost:8080/",
          "height": 0
        },
        "outputId": "4e5d8260-7c37-400e-b433-7276e4815c8d"
      },
      "outputs": [
        {
          "output_type": "stream",
          "name": "stderr",
          "text": [
            "/usr/local/lib/python3.7/dist-packages/seaborn/_decorators.py:43: FutureWarning: Pass the following variables as keyword args: x, y. From version 0.12, the only valid positional argument will be `data`, and passing other arguments without an explicit keyword will result in an error or misinterpretation.\n",
            "  FutureWarning\n",
            "/usr/local/lib/python3.7/dist-packages/seaborn/_decorators.py:43: FutureWarning: Pass the following variables as keyword args: x, y. From version 0.12, the only valid positional argument will be `data`, and passing other arguments without an explicit keyword will result in an error or misinterpretation.\n",
            "  FutureWarning\n"
          ]
        },
        {
          "output_type": "display_data",
          "data": {
            "text/plain": [
              "<Figure size 432x288 with 1 Axes>"
            ],
            "image/png": "[encoded data removed]"
          },
          "metadata": {
            "needs_background": "light"
          }
        }
      ],
      "source": [
        "# Univariate density functions\n",
        "\n",
        "import seaborn as sns\n",
        "\n",
        "t = np.linspace(-4, 4, 10000)\n",
        "densities = batch_of_normals.prob(np.repeat(t[:, np.newaxis], 2, axis=1)) # each column is a vector of densities for one distn\n",
        "\n",
        "sns.lineplot(t, densities[:, 0], label='loc={}, scale={}'.format(locs[0], scales[0]))\n",
        "sns.lineplot(t, densities[:, 1], label='loc={}, scale={}'.format(locs[1], scales[1]))\n",
        "plt.ylabel('Probability density')\n",
        "plt.xlabel('Value')\n",
        "plt.legend()\n",
        "plt.show()"
      ]
    },
    {
      "cell_type": "code",
      "execution_count": 31,
      "metadata": {
        "id": "q-iWc7TMkz72",
        "colab": {
          "base_uri": "https://localhost:8080/"
        },
        "outputId": "781095a8-68bf-448c-e230-d2894788f309"
      },
      "outputs": [
        {
          "output_type": "execute_result",
          "data": {
            "text/plain": [
              "<tfp.distributions.Normal 'Normal' batch_shape=[2] event_shape=[] dtype=float32>"
            ]
          },
          "metadata": {},
          "execution_count": 31
        }
      ],
      "source": [
        "# Check their batch_shape and event_shape\n",
        "batch_of_normals\n"
      ]
    },
    {
      "cell_type": "code",
      "execution_count": 32,
      "metadata": {
        "id": "n0WOuE30kz73"
      },
      "outputs": [],
      "source": [
        "# Use Independent to convert the batch shape to the event shape\n",
        "bivariate_normal_from_Independent = tfd.Independent(batch_of_normals,\n",
        "                                                    reinterpreted_batch_ndims=1)\n"
      ]
    },
    {
      "cell_type": "code",
      "execution_count": 33,
      "metadata": {
        "id": "PwdZHVCzkz74",
        "colab": {
          "base_uri": "https://localhost:8080/"
        },
        "outputId": "66392aef-f38d-44f4-ddb6-e5effa05c443"
      },
      "outputs": [
        {
          "output_type": "execute_result",
          "data": {
            "text/plain": [
              "<tfp.distributions.Independent 'IndependentNormal' batch_shape=[] event_shape=[2] dtype=float32>"
            ]
          },
          "metadata": {},
          "execution_count": 33
        }
      ],
      "source": [
        "# Note that dimension from batch_shape has shifted to event_shape\n",
        "bivariate_normal_from_Independent\n"
      ]
    },
    {
      "cell_type": "code",
      "execution_count": 34,
      "metadata": {
        "id": "5Vec4GFskz74",
        "colab": {
          "base_uri": "https://localhost:8080/",
          "height": 0
        },
        "outputId": "5dee3821-4188-446c-e7f9-3dabbfa5772b"
      },
      "outputs": [
        {
          "output_type": "stream",
          "name": "stderr",
          "text": [
            "/usr/local/lib/python3.7/dist-packages/seaborn/_decorators.py:43: FutureWarning: Pass the following variables as keyword args: x, y. From version 0.12, the only valid positional argument will be `data`, and passing other arguments without an explicit keyword will result in an error or misinterpretation.\n",
            "  FutureWarning\n"
          ]
        },
        {
          "output_type": "execute_result",
          "data": {
            "text/plain": [
              "<seaborn.axisgrid.JointGrid at 0x7ff317be5f10>"
            ]
          },
          "metadata": {},
          "execution_count": 34
        },
        {
          "output_type": "display_data",
          "data": {
            "text/plain": [
              "<Figure size 432x432 with 3 Axes>"
            ],
            "image/png": "[encoded data removed]"
          },
          "metadata": {
            "needs_background": "light"
          }
        }
      ],
      "source": [
        "# Create a plot showing joint density contours and marginal density functions\n",
        "\n",
        "samples = bivariate_normal_from_Independent.sample(10000)\n",
        "x1 = samples[:, 0]\n",
        "x2 = samples[:, 1]\n",
        "sns.jointplot(x1, x2, kind=\"kde\", space=0, color='b', xlim=[-4, 4], ylim=[-4, 4])"
      ]
    },
    {
      "cell_type": "code",
      "execution_count": 35,
      "metadata": {
        "id": "je4WT5vVkz75"
      },
      "outputs": [],
      "source": [
        "# Use MultivariateNormalDiag to create the equivalent distribution\n",
        "# Note that diagonal covariance matrix => no correlation => independence (for the multivariate normal distribution)\n",
        "bivariate_normal_from_Multivariate = tfd.MultivariateNormalDiag(loc = locs, scale_diag = scales)\n"
      ]
    },
    {
      "cell_type": "code",
      "execution_count": 36,
      "metadata": {
        "id": "Rs5GZiIjkz75",
        "colab": {
          "base_uri": "https://localhost:8080/",
          "height": 0
        },
        "outputId": "f3273c93-8fc7-42e0-ed0d-fad9cec7a0e1"
      },
      "outputs": [
        {
          "output_type": "stream",
          "name": "stderr",
          "text": [
            "/usr/local/lib/python3.7/dist-packages/seaborn/_decorators.py:43: FutureWarning: Pass the following variables as keyword args: x, y. From version 0.12, the only valid positional argument will be `data`, and passing other arguments without an explicit keyword will result in an error or misinterpretation.\n",
            "  FutureWarning\n"
          ]
        },
        {
          "output_type": "execute_result",
          "data": {
            "text/plain": [
              "<seaborn.axisgrid.JointGrid at 0x7ff313027ad0>"
            ]
          },
          "metadata": {},
          "execution_count": 36
        },
        {
          "output_type": "display_data",
          "data": {
            "text/plain": [
              "<Figure size 432x432 with 3 Axes>"
            ],
            "image/png": "[encoded data removed]"
          },
          "metadata": {
            "needs_background": "light"
          }
        }
      ],
      "source": [
        "# Plot the joint density function of bivariate_normal_from_Independent\n",
        "# Refer back to bivariate_normal_from_Independent to show that the plot is the same\n",
        "# Summarise how Independent has been used\n",
        "\n",
        "samples = bivariate_normal_from_Multivariate.sample(10000)\n",
        "x1 = samples[:, 0]\n",
        "x2 = samples[:, 1]\n",
        "sns.jointplot(x1, x2, kind=\"kde\", space=0, color='b', xlim=[-4, 4], ylim=[-4, 4])"
      ]
    },
    {
      "cell_type": "markdown",
      "metadata": {
        "id": "PH5Tn69qkz76"
      },
      "source": [
        "#### Shifting batch dimensions to event dimensions using \n",
        "`reinterpreted_batch_ndims`"
      ]
    },
    {
      "cell_type": "code",
      "execution_count": 37,
      "metadata": {
        "id": "tI-42X2ckz76"
      },
      "outputs": [],
      "source": [
        "# Demonstrate use of reinterpreted_batch_ndims\n",
        "# By default all batch dims except the first are transferred to event dims\n",
        "\n",
        "loc_grid = [[-100., -100.],\n",
        "            [100., 100.],\n",
        "            [0., 0.]]\n",
        "scale_grid = [[1., 10.],\n",
        "              [1., 10.],\n",
        "              [1., 1.]]\n",
        "\n",
        "normals_batch_3by2_event_1 = tfd.Normal(loc=loc_grid, scale=scale_grid)"
      ]
    },
    {
      "cell_type": "code",
      "execution_count": 38,
      "metadata": {
        "id": "kot0Qxfrkz77",
        "colab": {
          "base_uri": "https://localhost:8080/"
        },
        "outputId": "a54c5e75-3105-4b78-e775-981aaefd5e0d"
      },
      "outputs": [
        {
          "output_type": "execute_result",
          "data": {
            "text/plain": [
              "<tfp.distributions.Normal 'Normal' batch_shape=[3, 2] event_shape=[] dtype=float32>"
            ]
          },
          "metadata": {},
          "execution_count": 38
        }
      ],
      "source": [
        "# Highlight batch_shape\n",
        "\n",
        "normals_batch_3by2_event_1"
      ]
    },
    {
      "cell_type": "code",
      "execution_count": 39,
      "metadata": {
        "id": "tRFYwN8Ykz8E",
        "colab": {
          "base_uri": "https://localhost:8080/"
        },
        "outputId": "3b5424a0-f7c8-49ba-b741-e964b02423e1"
      },
      "outputs": [
        {
          "output_type": "stream",
          "name": "stdout",
          "text": [
            "WARNING:tensorflow:From /usr/local/lib/python3.7/dist-packages/tensorflow_probability/python/distributions/distribution.py:342: calling _Independent.__init__ (from tensorflow_probability.python.distributions.independent) with reinterpreted_batch_ndims=None is deprecated and will be removed after 2022-03-01.\n",
            "Instructions for updating:\n",
            "Please pass an integer value for `reinterpreted_batch_ndims`. The current behavior corresponds to `reinterpreted_batch_ndims=tf.size(distribution.batch_shape_tensor()) - 1`.\n"
          ]
        },
        {
          "output_type": "execute_result",
          "data": {
            "text/plain": [
              "<tfp.distributions.Independent 'IndependentNormal' batch_shape=[3] event_shape=[2] dtype=float32>"
            ]
          },
          "metadata": {},
          "execution_count": 39
        }
      ],
      "source": [
        "# We now have a batch of 3 bivariate normal distributions,\n",
        "# each parametrised by a column of our original parameter grid\n",
        "\n",
        "normals_batch_3by2_event_2 = tfd.Independent(normals_batch_3by2_event_1)\n",
        "normals_batch_3by2_event_2"
      ]
    },
    {
      "cell_type": "code",
      "execution_count": 40,
      "metadata": {
        "id": "VHmmC-w9kz8E",
        "colab": {
          "base_uri": "https://localhost:8080/"
        },
        "outputId": "90ca6012-28f9-4c5d-bbd3-fffac66492e9"
      },
      "outputs": [
        {
          "output_type": "execute_result",
          "data": {
            "text/plain": [
              "<tf.Tensor: shape=(3,), dtype=float32, numpy=array([-4.1146406e+03, -4.1404624e+00, -2.8378770e+00], dtype=float32)>"
            ]
          },
          "metadata": {},
          "execution_count": 40
        }
      ],
      "source": [
        "# Evaluate log_prob\n",
        "normals_batch_3by2_event_2.log_prob(\n",
        "    value = [[-10.,10.],[100.,100.],[1.,1.]]\n",
        ")\n"
      ]
    },
    {
      "cell_type": "code",
      "execution_count": 41,
      "metadata": {
        "id": "NWDP-tHFkz8F",
        "colab": {
          "base_uri": "https://localhost:8080/"
        },
        "outputId": "3f6dce06-f731-4a9f-92b3-e60dff294cb7"
      },
      "outputs": [
        {
          "output_type": "execute_result",
          "data": {
            "text/plain": [
              "<tfp.distributions.Independent 'IndependentNormal' batch_shape=[] event_shape=[3, 2] dtype=float32>"
            ]
          },
          "metadata": {},
          "execution_count": 41
        }
      ],
      "source": [
        "# Can reinterpret _all_ batch dimensions as event dimensions\n",
        "normals_batch_1_event_3by2 = tfd.Independent(normals_batch_3by2_event_1,reinterpreted_batch_ndims=2)\n",
        "\n",
        "normals_batch_1_event_3by2"
      ]
    },
    {
      "cell_type": "code",
      "execution_count": 42,
      "metadata": {
        "id": "luz7ujwUkz8G",
        "colab": {
          "base_uri": "https://localhost:8080/"
        },
        "outputId": "e5fd07a7-0fa5-4b68-ecd1-46b86cfa5ad4"
      },
      "outputs": [
        {
          "output_type": "execute_result",
          "data": {
            "text/plain": [
              "<tf.Tensor: shape=(), dtype=float32, numpy=-4121.619>"
            ]
          },
          "metadata": {},
          "execution_count": 42
        }
      ],
      "source": [
        "# Take log_probs \n",
        "\n",
        "normals_batch_1_event_3by2.log_prob(\n",
        "    value = [[-10.,10.],[100.,100.],[1.,1.]]\n",
        ")\n"
      ]
    },
    {
      "cell_type": "markdown",
      "metadata": {
        "id": "tw3Mx-u2kz8G"
      },
      "source": [
        "#### Using `Independent` to build a Naive Bayes classifier"
      ]
    },
    {
      "cell_type": "markdown",
      "metadata": {
        "id": "hmfFLLMskz8H"
      },
      "source": [
        "#### Introduction to `newsgroups` data set"
      ]
    },
    {
      "cell_type": "markdown",
      "metadata": {
        "id": "9MVjgbbJkz8I"
      },
      "source": [
        "In this tutorial, just load the dataset, fetch train/test splits, probably choose a subset of the data.\n",
        "\n",
        "Construct the class conditional feature distribution (with Independent, using the Naive Bayes assumption) and sample from it.\n",
        "\n",
        "We can just use the ML estimates for parameters, in later tutorials we will learn them."
      ]
    },
    {
      "cell_type": "code",
      "execution_count": 43,
      "metadata": {
        "id": "IuHm9pzlkz8I"
      },
      "outputs": [],
      "source": [
        "# Convenience function for retrieving the 20 newsgroups data set\n",
        "\n",
        "# Usenet was a forerunner to modern internet forums\n",
        "# Users could post and read articles\n",
        "# Newsgroup corresponded to a topic\n",
        "# Example topics in this data set: IBM computer hardware, baseball\n",
        "# Our objective is to use an article's contents to predict its newsgroup,\n",
        "# a 20-class classification problem.\n",
        "\n",
        "# 18000 newsgroups, posts on 20 topics\n",
        "from sklearn.datasets import fetch_20newsgroups\n",
        "from sklearn.feature_extraction.text import CountVectorizer\n"
      ]
    },
    {
      "cell_type": "code",
      "execution_count": 44,
      "metadata": {
        "id": "BWI8oVLYkz8J"
      },
      "outputs": [],
      "source": [
        "# Get the train data\n",
        "\n",
        "newsgroups_data = fetch_20newsgroups(data_home=\"20_Newsgroups_Data/\",subset=\"train\")"
      ]
    },
    {
      "cell_type": "code",
      "execution_count": 45,
      "metadata": {
        "id": "IwMYGko2kz8K",
        "colab": {
          "base_uri": "https://localhost:8080/"
        },
        "outputId": "f4d75fa3-937c-451f-ad97-f84db0788e82"
      },
      "outputs": [
        {
          "output_type": "stream",
          "name": "stdout",
          "text": [
            ".. _20newsgroups_dataset:\n",
            "\n",
            "The 20 newsgroups text dataset\n",
            "------------------------------\n",
            "\n",
            "The 20 newsgroups dataset comprises around 18000 newsgroups posts on\n",
            "20 topics split in two subsets: one for training (or development)\n",
            "and the other one for testing (or for performance evaluation). The split\n",
            "between the train and test set is based upon a messages posted before\n",
            "and after a specific date.\n",
            "\n",
            "This module contains two loaders. The first one,\n",
            ":func:`sklearn.datasets.fetch_20newsgroups`,\n",
            "returns a list of the raw texts that can be fed to text feature\n",
            "extractors such as :class:`~sklearn.feature_extraction.text.CountVectorizer`\n",
            "with custom parameters so as to extract feature vectors.\n",
            "The second one, :func:`sklearn.datasets.fetch_20newsgroups_vectorized`,\n",
            "returns ready-to-use features, i.e., it is not necessary to use a feature\n",
            "extractor.\n",
            "\n",
            "**Data Set Characteristics:**\n",
            "\n",
            "    =================   ==========\n",
            "    Classes                     20\n",
            "    Samples total            18846\n",
            "    Dimensionality               1\n",
            "    Features                  text\n",
            "    =================   ==========\n",
            "\n",
            "Usage\n",
            "~~~~~\n",
            "\n",
            "The :func:`sklearn.datasets.fetch_20newsgroups` function is a data\n",
            "fetching / caching functions that downloads the data archive from\n",
            "the original `20 newsgroups website`_, extracts the archive contents\n",
            "in the ``~/scikit_learn_data/20news_home`` folder and calls the\n",
            ":func:`sklearn.datasets.load_files` on either the training or\n",
            "testing set folder, or both of them::\n",
            "\n",
            "  >>> from sklearn.datasets import fetch_20newsgroups\n",
            "  >>> newsgroups_train = fetch_20newsgroups(subset='train')\n",
            "\n",
            "  >>> from pprint import pprint\n",
            "  >>> pprint(list(newsgroups_train.target_names))\n",
            "  ['alt.atheism',\n",
            "   'comp.graphics',\n",
            "   'comp.os.ms-windows.misc',\n",
            "   'comp.sys.ibm.pc.hardware',\n",
            "   'comp.sys.mac.hardware',\n",
            "   'comp.windows.x',\n",
            "   'misc.forsale',\n",
            "   'rec.autos',\n",
            "   'rec.motorcycles',\n",
            "   'rec.sport.baseball',\n",
            "   'rec.sport.hockey',\n",
            "   'sci.crypt',\n",
            "   'sci.electronics',\n",
            "   'sci.med',\n",
            "   'sci.space',\n",
            "   'soc.religion.christian',\n",
            "   'talk.politics.guns',\n",
            "   'talk.politics.mideast',\n",
            "   'talk.politics.misc',\n",
            "   'talk.religion.misc']\n",
            "\n",
            "The real data lies in the ``filenames`` and ``target`` attributes. The target\n",
            "attribute is the integer index of the category::\n",
            "\n",
            "  >>> newsgroups_train.filenames.shape\n",
            "  (11314,)\n",
            "  >>> newsgroups_train.target.shape\n",
            "  (11314,)\n",
            "  >>> newsgroups_train.target[:10]\n",
            "  array([ 7,  4,  4,  1, 14, 16, 13,  3,  2,  4])\n",
            "\n",
            "It is possible to load only a sub-selection of the categories by passing the\n",
            "list of the categories to load to the\n",
            ":func:`sklearn.datasets.fetch_20newsgroups` function::\n",
            "\n",
            "  >>> cats = ['alt.atheism', 'sci.space']\n",
            "  >>> newsgroups_train = fetch_20newsgroups(subset='train', categories=cats)\n",
            "\n",
            "  >>> list(newsgroups_train.target_names)\n",
            "  ['alt.atheism', 'sci.space']\n",
            "  >>> newsgroups_train.filenames.shape\n",
            "  (1073,)\n",
            "  >>> newsgroups_train.target.shape\n",
            "  (1073,)\n",
            "  >>> newsgroups_train.target[:10]\n",
            "  array([0, 1, 1, 1, 0, 1, 1, 0, 0, 0])\n",
            "\n",
            "Converting text to vectors\n",
            "~~~~~~~~~~~~~~~~~~~~~~~~~~\n",
            "\n",
            "In order to feed predictive or clustering models with the text data,\n",
            "one first need to turn the text into vectors of numerical values suitable\n",
            "for statistical analysis. This can be achieved with the utilities of the\n",
            "``sklearn.feature_extraction.text`` as demonstrated in the following\n",
            "example that extract `TF-IDF`_ vectors of unigram tokens\n",
            "from a subset of 20news::\n",
            "\n",
            "  >>> from sklearn.feature_extraction.text import TfidfVectorizer\n",
            "  >>> categories = ['alt.atheism', 'talk.religion.misc',\n",
            "  ...               'comp.graphics', 'sci.space']\n",
            "  >>> newsgroups_train = fetch_20newsgroups(subset='train',\n",
            "  ...                                       categories=categories)\n",
            "  >>> vectorizer = TfidfVectorizer()\n",
            "  >>> vectors = vectorizer.fit_transform(newsgroups_train.data)\n",
            "  >>> vectors.shape\n",
            "  (2034, 34118)\n",
            "\n",
            "The extracted TF-IDF vectors are very sparse, with an average of 159 non-zero\n",
            "components by sample in a more than 30000-dimensional space\n",
            "(less than .5% non-zero features)::\n",
            "\n",
            "  >>> vectors.nnz / float(vectors.shape[0])\n",
            "  159.01327...\n",
            "\n",
            ":func:`sklearn.datasets.fetch_20newsgroups_vectorized` is a function which\n",
            "returns ready-to-use token counts features instead of file names.\n",
            "\n",
            ".. _`20 newsgroups website`: http://people.csail.mit.edu/jrennie/20Newsgroups/\n",
            ".. _`TF-IDF`: https://en.wikipedia.org/wiki/Tf-idf\n",
            "\n",
            "\n",
            "Filtering text for more realistic training\n",
            "~~~~~~~~~~~~~~~~~~~~~~~~~~~~~~~~~~~~~~~~~~\n",
            "\n",
            "It is easy for a classifier to overfit on particular things that appear in the\n",
            "20 Newsgroups data, such as newsgroup headers. Many classifiers achieve very\n",
            "high F-scores, but their results would not generalize to other documents that\n",
            "aren't from this window of time.\n",
            "\n",
            "For example, let's look at the results of a multinomial Naive Bayes classifier,\n",
            "which is fast to train and achieves a decent F-score::\n",
            "\n",
            "  >>> from sklearn.naive_bayes import MultinomialNB\n",
            "  >>> from sklearn import metrics\n",
            "  >>> newsgroups_test = fetch_20newsgroups(subset='test',\n",
            "  ...                                      categories=categories)\n",
            "  >>> vectors_test = vectorizer.transform(newsgroups_test.data)\n",
            "  >>> clf = MultinomialNB(alpha=.01)\n",
            "  >>> clf.fit(vectors, newsgroups_train.target)\n",
            "  MultinomialNB(alpha=0.01, class_prior=None, fit_prior=True)\n",
            "\n",
            "  >>> pred = clf.predict(vectors_test)\n",
            "  >>> metrics.f1_score(newsgroups_test.target, pred, average='macro')\n",
            "  0.88213...\n",
            "\n",
            "(The example :ref:`sphx_glr_auto_examples_text_plot_document_classification_20newsgroups.py` shuffles\n",
            "the training and test data, instead of segmenting by time, and in that case\n",
            "multinomial Naive Bayes gets a much higher F-score of 0.88. Are you suspicious\n",
            "yet of what's going on inside this classifier?)\n",
            "\n",
            "Let's take a look at what the most informative features are:\n",
            "\n",
            "  >>> import numpy as np\n",
            "  >>> def show_top10(classifier, vectorizer, categories):\n",
            "  ...     feature_names = vectorizer.get_feature_names_out()\n",
            "  ...     for i, category in enumerate(categories):\n",
            "  ...         top10 = np.argsort(classifier.coef_[i])[-10:]\n",
            "  ...         print(\"%s: %s\" % (category, \" \".join(feature_names[top10])))\n",
            "  ...\n",
            "  >>> show_top10(clf, vectorizer, newsgroups_train.target_names)\n",
            "  alt.atheism: edu it and in you that is of to the\n",
            "  comp.graphics: edu in graphics it is for and of to the\n",
            "  sci.space: edu it that is in and space to of the\n",
            "  talk.religion.misc: not it you in is that and to of the\n",
            "\n",
            "\n",
            "You can now see many things that these features have overfit to:\n",
            "\n",
            "- Almost every group is distinguished by whether headers such as\n",
            "  ``NNTP-Posting-Host:`` and ``Distribution:`` appear more or less often.\n",
            "- Another significant feature involves whether the sender is affiliated with\n",
            "  a university, as indicated either by their headers or their signature.\n",
            "- The word \"article\" is a significant feature, based on how often people quote\n",
            "  previous posts like this: \"In article [article ID], [name] <[e-mail address]>\n",
            "  wrote:\"\n",
            "- Other features match the names and e-mail addresses of particular people who\n",
            "  were posting at the time.\n",
            "\n",
            "With such an abundance of clues that distinguish newsgroups, the classifiers\n",
            "barely have to identify topics from text at all, and they all perform at the\n",
            "same high level.\n",
            "\n",
            "For this reason, the functions that load 20 Newsgroups data provide a\n",
            "parameter called **remove**, telling it what kinds of information to strip out\n",
            "of each file. **remove** should be a tuple containing any subset of\n",
            "``('headers', 'footers', 'quotes')``, telling it to remove headers, signature\n",
            "blocks, and quotation blocks respectively.\n",
            "\n",
            "  >>> newsgroups_test = fetch_20newsgroups(subset='test',\n",
            "  ...                                      remove=('headers', 'footers', 'quotes'),\n",
            "  ...                                      categories=categories)\n",
            "  >>> vectors_test = vectorizer.transform(newsgroups_test.data)\n",
            "  >>> pred = clf.predict(vectors_test)\n",
            "  >>> metrics.f1_score(pred, newsgroups_test.target, average='macro')\n",
            "  0.77310...\n",
            "\n",
            "This classifier lost over a lot of its F-score, just because we removed\n",
            "metadata that has little to do with topic classification.\n",
            "It loses even more if we also strip this metadata from the training data:\n",
            "\n",
            "  >>> newsgroups_train = fetch_20newsgroups(subset='train',\n",
            "  ...                                       remove=('headers', 'footers', 'quotes'),\n",
            "  ...                                       categories=categories)\n",
            "  >>> vectors = vectorizer.fit_transform(newsgroups_train.data)\n",
            "  >>> clf = MultinomialNB(alpha=.01)\n",
            "  >>> clf.fit(vectors, newsgroups_train.target)\n",
            "  MultinomialNB(alpha=0.01, class_prior=None, fit_prior=True)\n",
            "\n",
            "  >>> vectors_test = vectorizer.transform(newsgroups_test.data)\n",
            "  >>> pred = clf.predict(vectors_test)\n",
            "  >>> metrics.f1_score(newsgroups_test.target, pred, average='macro')\n",
            "  0.76995...\n",
            "\n",
            "Some other classifiers cope better with this harder version of the task. Try\n",
            "running :ref:`sphx_glr_auto_examples_model_selection_grid_search_text_feature_extraction.py` with and without\n",
            "the ``--filter`` option to compare the results.\n",
            "\n",
            ".. topic:: Data Considerations\n",
            "\n",
            "  The Cleveland Indians is a major league baseball team based in Cleveland,\n",
            "  Ohio, USA. In December 2020, it was reported that \"After several months of\n",
            "  discussion sparked by the death of George Floyd and a national reckoning over\n",
            "  race and colonialism, the Cleveland Indians have decided to change their\n",
            "  name.\" Team owner Paul Dolan \"did make it clear that the team will not make\n",
            "  its informal nickname -- the Tribe -- its new team name.\" \"It’s not going to\n",
            "  be a half-step away from the Indians,\" Dolan said.\"We will not have a Native\n",
            "  American-themed name.\"\n",
            "\n",
            "  https://www.mlb.com/news/cleveland-indians-team-name-change\n",
            "\n",
            ".. topic:: Recommendation\n",
            "\n",
            "  - When evaluating text classifiers on the 20 Newsgroups data, you\n",
            "    should strip newsgroup-related metadata. In scikit-learn, you can do this\n",
            "    by setting ``remove=('headers', 'footers', 'quotes')``. The F-score will be\n",
            "    lower because it is more realistic.\n",
            "  - This text dataset contains data which may be inappropriate for certain NLP\n",
            "    applications. An example is listed in the \"Data Considerations\" section\n",
            "    above. The challenge with using current text datasets in NLP for tasks such\n",
            "    as sentence completion, clustering, and other applications is that text\n",
            "    that is culturally biased and inflammatory will propagate biases. This\n",
            "    should be taken into consideration when using the dataset, reviewing the\n",
            "    output, and the bias should be documented.\n",
            "\n",
            ".. topic:: Examples\n",
            "\n",
            "   * :ref:`sphx_glr_auto_examples_model_selection_grid_search_text_feature_extraction.py`\n",
            "\n",
            "   * :ref:`sphx_glr_auto_examples_text_plot_document_classification_20newsgroups.py`\n",
            "\n"
          ]
        }
      ],
      "source": [
        "# More information about the data set\n",
        "\n",
        "print(newsgroups_data[\"DESCR\"])"
      ]
    },
    {
      "cell_type": "code",
      "execution_count": 46,
      "metadata": {
        "id": "DoxsuKaTkz8K",
        "colab": {
          "base_uri": "https://localhost:8080/"
        },
        "outputId": "f12902db-c293-499a-a4b1-b4fc29be474b"
      },
      "outputs": [
        {
          "output_type": "stream",
          "name": "stdout",
          "text": [
            "From: lerxst@wam.umd.edu (where's my thing)\n",
            "Subject: WHAT car is this!?\n",
            "Nntp-Posting-Host: rac3.wam.umd.edu\n",
            "Organization: University of Maryland, College Park\n",
            "Lines: 15\n",
            "\n",
            " I was wondering if anyone out there could enlighten me on this car I saw\n",
            "the other day. It was a 2-door sports car, looked to be from the late 60s/\n",
            "early 70s. It was called a Bricklin. The doors were really small. In addition,\n",
            "the front bumper was separate from the rest of the body. This is \n",
            "all I know. If anyone can tellme a model name, engine specs, years\n",
            "of production, where this car is made, history, or whatever info you\n",
            "have on this funky looking car, please e-mail.\n",
            "\n",
            "Thanks,\n",
            "- IL\n",
            "   ---- brought to you by your neighborhood Lerxst ----\n",
            "\n",
            "\n",
            "\n",
            "\n",
            "\n"
          ]
        }
      ],
      "source": [
        "# Example article\n",
        "print(newsgroups_data[\"data\"][0])\n"
      ]
    },
    {
      "cell_type": "code",
      "execution_count": 47,
      "metadata": {
        "id": "INxegX5skz8L",
        "colab": {
          "base_uri": "https://localhost:8080/"
        },
        "outputId": "522bfb73-3a6c-4640-fcdf-ff1cf48a352b"
      },
      "outputs": [
        {
          "output_type": "stream",
          "name": "stdout",
          "text": [
            "7\n"
          ]
        }
      ],
      "source": [
        "# Associated label\n",
        "\n",
        "print(newsgroups_data[\"target\"][0])\n"
      ]
    },
    {
      "cell_type": "code",
      "execution_count": 48,
      "metadata": {
        "id": "ONvz-13zkz8L",
        "colab": {
          "base_uri": "https://localhost:8080/",
          "height": 0
        },
        "outputId": "854656d3-2835-43c5-9eef-c83eb2a50063"
      },
      "outputs": [
        {
          "output_type": "execute_result",
          "data": {
            "text/plain": [
              "'rec.autos'"
            ],
            "application/vnd.google.colaboratory.intrinsic+json": {
              "type": "string"
            }
          },
          "metadata": {},
          "execution_count": 48
        }
      ],
      "source": [
        "# Name of label\n",
        "newsgroups_data[\"target_names\"][7]"
      ]
    },
    {
      "cell_type": "code",
      "execution_count": 49,
      "metadata": {
        "id": "QUiAwgvDkz8M"
      },
      "outputs": [],
      "source": [
        "# Preprocessing boilerplate\n",
        "\n",
        "n_documents = len(newsgroups_data['data'])\n",
        "\n",
        "count_vectorizer = CountVectorizer(input='content', binary=True,\n",
        "                                   max_df=0.25, min_df=1.01/n_documents) # ignore common words, words that appear once\n",
        "binary_bag_of_words = count_vectorizer.fit_transform(newsgroups_data['data']) # input is a list of strings\n"
      ]
    },
    {
      "cell_type": "code",
      "execution_count": 50,
      "metadata": {
        "id": "48NrGj2Bkz8N",
        "colab": {
          "base_uri": "https://localhost:8080/"
        },
        "outputId": "9c46c1cf-41bc-407d-8194-b81e65b5fa42"
      },
      "outputs": [
        {
          "output_type": "execute_result",
          "data": {
            "text/plain": [
              "(11314, 56365)"
            ]
          },
          "metadata": {},
          "execution_count": 50
        }
      ],
      "source": [
        "# Check shape\n",
        "\n",
        "binary_bag_of_words.shape"
      ]
    },
    {
      "cell_type": "code",
      "execution_count": 51,
      "metadata": {
        "id": "-0PRJpjSkz8O",
        "colab": {
          "base_uri": "https://localhost:8080/"
        },
        "outputId": "21895c2d-93f4-45c8-c3be-6f20224351a8"
      },
      "outputs": [
        {
          "output_type": "execute_result",
          "data": {
            "text/plain": [
              "[array(['lerxst', 'wam', 'umd', 'where', 'thing', 'car', 'rac3',\n",
              "        'maryland', 'college', 'park', '15', 'wondering', 'anyone',\n",
              "        'could', 'enlighten', 'saw', 'day', 'door', 'sports', 'looked',\n",
              "        'late', '60s', 'early', '70s', 'called', 'bricklin', 'doors',\n",
              "        'were', 'really', 'small', 'addition', 'front', 'bumper',\n",
              "        'separate', 'rest', 'body', 'tellme', 'model', 'name', 'engine',\n",
              "        'specs', 'years', 'production', 'made', 'history', 'whatever',\n",
              "        'info', 'funky', 'looking', 'please', 'mail', 'thanks', 'il',\n",
              "        'brought', 'neighborhood'], dtype='<U80')]"
            ]
          },
          "metadata": {},
          "execution_count": 51
        }
      ],
      "source": [
        "# Check that the fit has been successful\n",
        "\n",
        "count_vectorizer.inverse_transform(binary_bag_of_words[0,:])"
      ]
    },
    {
      "cell_type": "code",
      "execution_count": 52,
      "metadata": {
        "id": "iuk_yrTWkz8P"
      },
      "outputs": [],
      "source": [
        "# Dict that will be useful later \n",
        "\n",
        "inv_vocabulary = {value:key for key, value in count_vectorizer.vocabulary_.items()}"
      ]
    },
    {
      "cell_type": "markdown",
      "metadata": {
        "id": "3iFAgZhFkz8Q"
      },
      "source": [
        "#### A Naive Bayes classifier for `newsgroup`"
      ]
    },
    {
      "cell_type": "markdown",
      "metadata": {
        "id": "U1o_yS10kz8R"
      },
      "source": [
        "Each feature vector $x$ is a list of indicators for whether a word appears in the article. $x_i$ is 1 if the $i$th word appears, and 0 otherwise. `inv_vocabulary` matches word indices $i$ to words.\n",
        "\n",
        "Each label $y$ is a value in $0, 1, \\ldots, 19$.\n",
        "\n",
        "The parts of a naive Bayes classifier for this problem can be summarised as:  \n",
        "\n",
        "\n",
        "- A probability distribution for the feature vector by class, $p(x|y = j)$ for each $j = 0, 1, \\ldots, 19$. These probability distributions are assumed to have independent components: we can factorize the joint probability as a product of marginal probabilities\n",
        "\\begin{equation}\n",
        "    p(x|y = j) = \\prod_{i=1}^d p(x_i|y = j)\n",
        "\\end{equation}\n",
        "These marginal probability distributions are Bernoulli distributions, each of which has a single parameter $\\theta_{ji} := p(x_i = 1|y = j)$. This parameter is the probability of observing word $i$ in an article of class $j$. \n",
        "\n",
        "- We will use the Laplace smoothed maximum likelihood estimate to compute these parameters. Laplace smoothing involves adding small counts to every feature for each class. Else, if a feature did not appear in the training set of a class, but then we observed it in our test data the log probability would be undefined.\n",
        "\n",
        "- A collection of class prior probabilities $p(y = j)$. These will be set by computing the class base rates in the training set.  \n",
        "\n",
        "\n",
        "- A function for computing the probability of class membership via Bayes' theorem:  \n",
        "\n",
        "\\begin{equation}\n",
        "    p(y = j|x) = \\frac{p(x|y = j)p(y = j)}{p(x)}\n",
        "\\end{equation}"
      ]
    },
    {
      "cell_type": "code",
      "execution_count": 53,
      "metadata": {
        "id": "6VPlsuL2kz8S"
      },
      "outputs": [],
      "source": [
        "# Compute the parameter estimates (adjusted fraction of documents in class that contain word)\n",
        "\n",
        "n_classes = newsgroups_data['target'].max() + 1\n",
        "y = newsgroups_data['target']\n",
        "n_words = binary_bag_of_words.shape[1]\n",
        "\n",
        "alpha = 1e-6 # parameters for Laplace smoothing\n",
        "\n",
        "theta = np.zeros([n_classes, n_words]) # stores parameter values - prob. word given class\n",
        "for c_k in range(n_classes): # 0, 1, ..., 19\n",
        "    class_mask = (y == c_k)\n",
        "    N = class_mask.sum() # number of articles in class\n",
        "    theta[c_k, :] = (binary_bag_of_words[class_mask, :].sum(axis=0) + alpha)/(N + alpha*2)"
      ]
    },
    {
      "cell_type": "code",
      "execution_count": 54,
      "metadata": {
        "id": "ojRbkgrTkz8T",
        "colab": {
          "base_uri": "https://localhost:8080/"
        },
        "outputId": "926acf45-2bb6-46b0-869a-8ca20d8971b7"
      },
      "outputs": [
        {
          "output_type": "stream",
          "name": "stdout",
          "text": [
            "Most probable word in class alt.atheism is \"people\".\n",
            "Most probable word in class comp.graphics is \"graphics\".\n",
            "Most probable word in class comp.os.ms-windows.misc is \"windows\".\n",
            "Most probable word in class comp.sys.ibm.pc.hardware is \"thanks\".\n",
            "Most probable word in class comp.sys.mac.hardware is \"mac\".\n",
            "Most probable word in class comp.windows.x is \"window\".\n",
            "Most probable word in class misc.forsale is \"sale\".\n",
            "Most probable word in class rec.autos is \"car\".\n",
            "Most probable word in class rec.motorcycles is \"dod\".\n",
            "Most probable word in class rec.sport.baseball is \"he\".\n",
            "Most probable word in class rec.sport.hockey is \"ca\".\n",
            "Most probable word in class sci.crypt is \"clipper\".\n",
            "Most probable word in class sci.electronics is \"use\".\n",
            "Most probable word in class sci.med is \"reply\".\n",
            "Most probable word in class sci.space is \"space\".\n",
            "Most probable word in class soc.religion.christian is \"god\".\n",
            "Most probable word in class talk.politics.guns is \"people\".\n",
            "Most probable word in class talk.politics.mideast is \"people\".\n",
            "Most probable word in class talk.politics.misc is \"people\".\n",
            "Most probable word in class talk.religion.misc is \"he\".\n"
          ]
        }
      ],
      "source": [
        "# Check whether the most probable word in each class is reasonable\n",
        "\n",
        "most_probable_word_ix = theta.argmax(axis=1) # most probable word for each class\n",
        "\n",
        "for j, ix in enumerate(most_probable_word_ix):\n",
        "    print('Most probable word in class {} is \"{}\".'.format(newsgroups_data['target_names'][j],\n",
        "                                                           inv_vocabulary[ix]))"
      ]
    },
    {
      "cell_type": "code",
      "execution_count": 55,
      "metadata": {
        "id": "NJBK0VYtkz8U"
      },
      "outputs": [],
      "source": [
        "# Define a distribution for each class\n",
        "\n",
        "batch_of_bernoullis = tfd.Bernoulli(probs = theta)\n",
        "p_x_given_y = tfd.Independent(batch_of_bernoullis,reinterpreted_batch_ndims = 1)"
      ]
    },
    {
      "cell_type": "code",
      "execution_count": 56,
      "metadata": {
        "id": "DS9nQWagkz8U"
      },
      "outputs": [],
      "source": [
        "# Take a sample of words from each class\n",
        "\n",
        "n_samples = 10\n",
        "sample = p_x_given_y.sample(n_samples)"
      ]
    },
    {
      "cell_type": "code",
      "execution_count": 57,
      "metadata": {
        "id": "FNo65T1Mkz8V",
        "colab": {
          "base_uri": "https://localhost:8080/",
          "height": 0
        },
        "outputId": "aaf09282-99e6-4af5-a525-b8d0d3fa3d11"
      },
      "outputs": [
        {
          "output_type": "execute_result",
          "data": {
            "text/plain": [
              "'soc.religion.christian'"
            ],
            "application/vnd.google.colaboratory.intrinsic+json": {
              "type": "string"
            }
          },
          "metadata": {},
          "execution_count": 57
        }
      ],
      "source": [
        "# Choose a class\n",
        "\n",
        "chosen_class = 15\n",
        "newsgroups_data['target_names'][chosen_class]"
      ]
    },
    {
      "cell_type": "code",
      "execution_count": 58,
      "metadata": {
        "id": "SiB49ffPkz8W",
        "colab": {
          "base_uri": "https://localhost:8080/"
        },
        "outputId": "94baf622-020e-480b-9d89-a14b6470e140"
      },
      "outputs": [
        {
          "output_type": "execute_result",
          "data": {
            "text/plain": [
              "<tf.Tensor: shape=(10, 56365), dtype=int32, numpy=\n",
              "array([[0, 0, 0, ..., 0, 0, 0],\n",
              "       [0, 0, 0, ..., 0, 0, 0],\n",
              "       [0, 0, 0, ..., 0, 0, 0],\n",
              "       ...,\n",
              "       [0, 0, 0, ..., 0, 0, 0],\n",
              "       [0, 0, 0, ..., 0, 0, 0],\n",
              "       [0, 0, 0, ..., 0, 0, 0]], dtype=int32)>"
            ]
          },
          "metadata": {},
          "execution_count": 58
        }
      ],
      "source": [
        "# Indicators for words that appear in the sample\n",
        "\n",
        "class_sample = sample[:, chosen_class, :]\n",
        "class_sample"
      ]
    },
    {
      "cell_type": "code",
      "execution_count": 59,
      "metadata": {
        "id": "b--lX9c-kz8W",
        "colab": {
          "base_uri": "https://localhost:8080/"
        },
        "outputId": "e9555a73-05c9-4d9b-bcfe-8dd72614a5a1"
      },
      "outputs": [
        {
          "output_type": "execute_result",
          "data": {
            "text/plain": [
              "[array(['09', '19', '23', '28', '31', '34', '35', '41', '78228', 'acs',\n",
              "        'actually', 'advise', 'ages', 'also', 'andrew', 'anyone',\n",
              "        'anything', 'appease', 'apr', 'bathroom', 'bc', 'because',\n",
              "        'beggar', 'believe', 'better', 'bigelow', 'brains', 'chest',\n",
              "        'child', 'claim', 'cleaned', 'commented', 'concepts', 'country',\n",
              "        'day', 'daycare', 'death', 'decided', 'definition', 'detailed',\n",
              "        'difference', 'disciple', 'discuss', 'does', 'emotional',\n",
              "        'encourage', 'even', 'excellent', 'explain', 'faith', 'familiar',\n",
              "        'fellowship', 'forgiven', 'free', 'garnet', 'gentiles', 'go',\n",
              "        'god', 'good', 'growing', 'guess', 'hear', 'heard', 'here', 'him',\n",
              "        'hold', 'honoring', 'however', 'ignore', 'kind', 'knowing', 'last',\n",
              "        'lawrence', 'least', 'legal', 'less', 'life', 'minds', 'moment',\n",
              "        'monotheism', 'must', 'never', 'now', 'offers', 'original', 'our',\n",
              "        'over', 'pa', 'path', 'perception', 'person', 'personally', 'phil',\n",
              "        'political', 'predestination', 'previously', 'problem', 'problems',\n",
              "        'prove', 'punish', 'questionnaire', 'qui', 'quite', 'quote',\n",
              "        'quotes', 'reading', 'real', 'reasonable', 'requirement', 'result',\n",
              "        'reversed', 'say', 'second', 'sense', 'shaken', 'small', 'sons',\n",
              "        'souls', 'span', 'speaking', 'spiritually', 'ssd', 'statements',\n",
              "        'stem', 'still', 'study', 'take', 'talk', 'testament', 'than',\n",
              "        'their', 'them', 'then', 'theories', 'these', 'things', 'think',\n",
              "        'through', 'trying', 'two', 'uk', 'understand', 'us', 'uu4',\n",
              "        'verse', 'very', 'views', 'vituperousness', 'wasn', 'watt', 'way',\n",
              "        'well', 'whose', 'why', 'willing', 'wisdom', 'words', 'world'],\n",
              "       dtype='<U80'),\n",
              " array(['28379', '_is_', 'aaron', 'agree', 'already', 'am', 'another',\n",
              "        'anullments', 'aptly', 'arrogance', 'atheist', 'attributes',\n",
              "        'because', 'belief', 'benefits', 'boring', 'both', 'ca',\n",
              "        'carefully', 'christian', 'christianity', 'come', 'comes',\n",
              "        'compensate', 'course', 'covington', 'daily', 'depends',\n",
              "        'different', 'disagreement', 'done', 'effect', 'effects',\n",
              "        'embarrassed', 'error', 'everyone', 'exactly', 'f16', 'faith',\n",
              "        'far', 'fax', 'find', 'fires', 'found', 'good', 'gospels', 'gov',\n",
              "        'hard', 'harry', 'him', 'his', 'hope', 'imagined', 'into', 'jesus',\n",
              "        'job', 'johnson', 'knew', 'live', 'll', 'made', 'make', 'many',\n",
              "        'mark', 'may', 'means', 'mothers', 'motivate', 'myself',\n",
              "        'mysteries', 'newsgroup', 'nor', 'odd', 'oh', 'omniscience',\n",
              "        'ought', 'overrepresented', 'pardon', 'passed', 'philosophy',\n",
              "        'place', 'possibly', 'prayers', 'pretty', 'psi', 'purpose',\n",
              "        'question', 'random', 'rather', 'resolve', 'revelation', 'rights',\n",
              "        'rock', 'rutgers', 'saint', 'same', 'senses', 'sides', 'speaking',\n",
              "        'steve', 'such', 'take', 'taught', 'than', 'their', 'then',\n",
              "        'things', 'translation', 'tried', 'true', 'turns', 'two', 'until',\n",
              "        'using', 've', 'waco', 'want', 'way', 'whether', 'why', 'word',\n",
              "        'wrong', 'wrongs', 'yahweh', 'yourselves'], dtype='<U80'),\n",
              " array(['03', '34', '_is_', '_source_', 'advanced', 'agree', 'am',\n",
              "        'andrew', 'appropriate', 'april', 'argue', 'arrogance', 'athos',\n",
              "        'authorities', 'aziz', 'become', 'before', 'believe', 'books',\n",
              "        'calendar', 'called', 'case', 'certain', 'certainly', 'clearer',\n",
              "        'comes', 'contradicts', 'covering', 'darius', 'davem', 'delivered',\n",
              "        'derived', 'details', 'developments', 'did', 'die', 'different',\n",
              "        'diverge', 'done', 'engineering', 'espionage', 'even', 'explain',\n",
              "        'fate', 'filled', 'find', 'geneva', 'gregory', 'groping', 'hcx1',\n",
              "        'healy', 'heart', 'here', 'him', 'himself', 'history', 'human',\n",
              "        'intimidating', 'into', 'iscs', 'isn', 'jenk', 'jesus', 'jewish',\n",
              "        'judging', 'keep', 'knowing', 'last', 'let', 'life', 'lying',\n",
              "        'mail', 'making', 'ministry', 'most', 'natural', 'needs', 'never',\n",
              "        'now', 'observations', 'offer', 'ohio', 'pacbell', 'people',\n",
              "        'praxeas', 'praying', 'ps', 'r2d2', 'really', 'refused',\n",
              "        'religion', 'religious', 'reply', 'reprinting', 'require', 'right',\n",
              "        'rights', 'roboticist', 'said', 'san', 'save', 'say',\n",
              "        'shakespeare', 'sharon', 'should', 'sin', 'skidmore', 'soon',\n",
              "        'soul', 'sun', 'talks', 'testifies', 'thank', 'through', 'thus',\n",
              "        'tim', 'trust', 'uk', 'until', 'vbv', 'want', 'wasn', 'watch',\n",
              "        'without', 'witness', 'world', 'yet'], dtype='<U80'),\n",
              " array(['08', '12', '16', '1989', '50', '57', 'accomplish', 'according',\n",
              "        'advocate', 'after', 'aisun3', 'allow', 'answers', 'anyway',\n",
              "        'archbishop', 'before', 'beginning', 'believed', 'best', 'blessed',\n",
              "        'both', 'century', 'child', 'christ', 'christians', 'claim',\n",
              "        'claiming', 'come', 'common', 'compared', 'complete',\n",
              "        'confucianism', 'conjunction', 'could', 'damned', 'dean', 'did',\n",
              "        'difficulty', 'does', 'doing', 'down', 'enabling', 'equivalence',\n",
              "        'even', 'everything', 'evidence', 'excellent', 'eyes', 'find',\n",
              "        'full', 'gboro', 'god', 'grad', 'guild', 'had', 'hand', 'hatred',\n",
              "        'having', 'he', 'heaven', 'heroic', 'however', 'hulman', 'idea',\n",
              "        'important', 'impose', 'incarnate', 'inside', 'inspired',\n",
              "        'instead', 'jeesus', 'jesus', 'john', 'kille', 'kingston', 'later',\n",
              "        'laws', 'made', 'may', 'mdw33310', 'meet', 'minorities', 'most',\n",
              "        'moved', 'name', 'need', 'new', 'niblick', 'nicea', 'occurred',\n",
              "        'often', 'our', 'own', 'participants', 'passion', 'performed',\n",
              "        'personal', 'physical', 'planet', 'probably', 'punishment',\n",
              "        'questioning', 'quotes', 'regarded', 'reid', 'run', 'sabbath',\n",
              "        'same', 'seem', 'seems', 'set', 'shares', 'sloth', 'smith',\n",
              "        'solve', 'something', 'specially', 'strict', 'sufficient',\n",
              "        'superset', 'take', 'taken', 'then', 'things', 'think', 'those',\n",
              "        'told', 'tongue', 'top', 'translators', 'try', 'trying', 'ucs',\n",
              "        'ucsd', 'upon', 'view', 'want', 'ways', 'well', 'were', 'while',\n",
              "        'wise', 'without', 'wittgenstein', 'worship'], dtype='<U80'),\n",
              " array(['03', '08', '11', '122', '15', '17790', '19', '245', '823',\n",
              "        'ability', 'accorded', 'acns', 'ad', 'against', 'also', 'am',\n",
              "        'andrew', 'apr', 'argument', 'ashley', 'assuming', 'athos',\n",
              "        'attention', 'away', 'because', 'been', 'before', 'belief',\n",
              "        'beyond', 'bible', 'books', 'born', 'burnaby', 'capable',\n",
              "        'capacity', 'christ', 'christian', 'christians', 'claim',\n",
              "        'collect', 'college', 'could', 'cover', 'cross', 'crowd', 'cunyvm',\n",
              "        'dead', 'dec', 'delivery', 'deserving', 'difference', 'down',\n",
              "        'effect', 'energy', 'entities', 'equivalent', 'exist',\n",
              "        'explanation', 'facilities', 'far', 'few', 'files', 'firstly',\n",
              "        'follows', 'fundamental', 'garden', 'gets', 'god', 'goes', 'got',\n",
              "        'great', 'grew', 'hale', 'hard', 'he', 'hi', 'him', 'his',\n",
              "        'imitate', 'important', 'incredibly', 'indiana', 'into',\n",
              "        'involved', 'jacob', 'jason', 'john', 'kicking', 'knowing',\n",
              "        'knowledge', 'list', 'look', 'made', 'mail', 'maintaining', 'man',\n",
              "        'mcovingt', 'michael', 'middle', 'mot', 'necessary', 'need', 'new',\n",
              "        'note', 'ohio', 'origins', 'paste', 'perennial', 'please', 'poem',\n",
              "        'possibility', 'presupposes', 'pride', 'question', 'qui', 'reason',\n",
              "        'references', 'rejected', 'reliance', 'response', 'rise',\n",
              "        'rubrics', 'rutgers', 'sarcasm', 'says', 'second', 'see', 'shake',\n",
              "        'should', 'soon', 'specifically', 'spinning', 'spiritual',\n",
              "        'stable', 'stands', 'state', 'statement', 'suppose', 'sure',\n",
              "        'taber', 'take', 'ten', 'their', 'these', 'thought', 'time', 'too',\n",
              "        'try', 'under', 'understanding', 'username', 'vice', 'want',\n",
              "        'warped', 'welcome', 'were', 'whether', 'whole', 'work'],\n",
              "       dtype='<U80'),\n",
              " array(['09', '10', '1835', '1993', '23', '29', '60', '825', '92', '9760',\n",
              "        'able', 'abstinence', 'accept', 'activists', 'agron', 'also',\n",
              "        'anyone', 'apr', 'asked', 'astray', 'because', 'being', 'believe',\n",
              "        'believers', 'bgu', 'bible', 'blindness', 'bob', 'bound',\n",
              "        'building', 'called', 'came', 'canaan', 'christian', 'christians',\n",
              "        'city', 'concern', 'controlled', 'correctly', 'dan', 'danger',\n",
              "        'dean', 'decided', 'descriptions', 'did', 'directions', 'dlecoint',\n",
              "        'doing', 'ending', 'everyone', 'exchanged', 'existence',\n",
              "        'expresses', 'feels', 'fnal', 'founder', 'fully', 'gained',\n",
              "        'garnet', 'genesis', 'genocide', 'georgia', 'given', 'goodbye',\n",
              "        'had', 'hard', 'he', 'him', 'his', 'jemurray', 'jesus', 'johnson',\n",
              "        'joseph', 'kingdom', 'labs', 'lexington', 'line', 'lord', 'matter',\n",
              "        'mean', 'meaning', 'message', 'met', 'motives', 'must', 'name',\n",
              "        'nothing', 'nyu', 'often', 'our', 'perhaps', 'pithy', 'precious',\n",
              "        'precise', 'priests', 'prism', 'prophet', 'purpose', 'put',\n",
              "        'rather', 'resist', 'resurrection', 'rise', 'risk', 'ruthless',\n",
              "        'said', 'say', 'says', 'school', 'search', 'should', 'simply',\n",
              "        'simulation', 'skipper', 'small', 'state', 'statements', 'steven',\n",
              "        'suffering', 'sure', 'talked', 'text', 'them', 'themselves',\n",
              "        'theories', 'time', 'too', 'trinity', 'uga', 'uk', 'uribe', 'use',\n",
              "        'used', 'useful', 'weren', 'wheaton', 'where', 'why', 'wrote',\n",
              "        'yourself'], dtype='<U80'),\n",
              " array(['16', '25', '2a', '_want_', 'actions', 'actually', 'appropriate',\n",
              "        'apr', 'arabs', 'ask', 'been', 'beings', 'big', 'bodies', 'book',\n",
              "        'both', 'bothers', 'boundaries', 'brother', 'ca', 'certainly',\n",
              "        'check', 'christ', 'christianity', 'christians', 'church', 'cia',\n",
              "        'claim', 'classically', 'come', 'concern', 'consultant', 'courant',\n",
              "        'current', 'department', 'didn', 'does', 'doesn', 'doing', 'dont',\n",
              "        'enclosed', 'essence', 'essential', 'ethics', 'everyday', 'faith',\n",
              "        'faiths', 'father', 'filled', 'first', 'forgetting', 'go',\n",
              "        'grabbed', 'grace', 'graduate', 'great', 'hair', 'hard', 'he',\n",
              "        'help', 'here', 'him', 'his', 'hold', 'hopper', 'identify',\n",
              "        'intended', 'intent', 'invention', 'jewish', 'known', 'leave',\n",
              "        'll', 'llo', 'make', 'marriages', 'matthew', 'may', 'must',\n",
              "        'netters', 'never', 'new', 'normal', 'now', 'nt', 'oh',\n",
              "        'oppressing', 'outside', 'party', 'peace', 'perfect', 'quite',\n",
              "        'quoted', 'rabbi', 'read', 'real', 'religions', 'rely', 'repent',\n",
              "        'respect', 'rutgers', 'sabbath', 'same', 'scriptura', 'send',\n",
              "        'shall', 'should', 'something', 'speed', 'st', 'storrs',\n",
              "        'successful', 'such', 'suppose', 'swear', 'than', 'them',\n",
              "        'theologically', 'these', 'those', 'thrust', 'time', 'title',\n",
              "        'truly', 'uchicago', 'ucsd', 'unfortunately', 'vey', 'wanted',\n",
              "        'well', 'whole', 'whom', 'work', 'world', 'wrote'], dtype='<U80'),\n",
              " array(['01', '12', '13', '16', '66', 'able', 'after', 'almost', 'always',\n",
              "        'amen', 'another', 'around', 'aside', 'attack', 'attacking',\n",
              "        'attitudes', 'back', 'badly', 'before', 'being', 'believe',\n",
              "        'better', 'bible', 'biblical', 'bjorn', 'body', 'book', 'books',\n",
              "        'both', 'broken', 'bust', 'caralv', 'carl', 'catholic', 'change',\n",
              "        'coming', 'constantly', 'contrary', 'could', 'cover', 'crazy',\n",
              "        'crucify', 'deleted', 'desiree_bradley', 'destruction', 'discover',\n",
              "        'disparate', 'draw', 'du', 'empire', 'especially', 'eternal',\n",
              "        'everything', 'expressions', 'fact', 'find', 'first', 'founded',\n",
              "        'georgia', 'give', 'god', 'halifax', 'having', 'him', 'his',\n",
              "        'holy', 'horrible', 'however', 'idea', 'implications', 'important',\n",
              "        'info', 'intensive', 'into', 'invited', 'its', 'jesus', 'jono',\n",
              "        'judged', 'last', 'leviticus', 'lie', 'logic', 'longer', 'look',\n",
              "        'mark', 'mentioned', 'michael', 'midway', 'mot', 'music', 'need',\n",
              "        'net', 'next', 'non', 'nothing', 'often', 'opportunity', 'part',\n",
              "        'participation', 'paul', 'people', 'perhaps', 'please', 'possible',\n",
              "        'problem', 'quite', 'read', 'realize', 'really', 'reason',\n",
              "        'relationship', 'relevant', 'reply', 'rest', 'rjs2', 'sacrifice',\n",
              "        'same', 'satisfy', 'scientist', 'section', 'seen', 'sexually',\n",
              "        'share', 'sole', 'something', 'soup', 'spend', 'state', 'sunday',\n",
              "        'suspicion', 'their', 'through', 'today', 'took', 'toungues',\n",
              "        'trivial', 'under', 'understand', 'unisys', 'usenet', 've', 'were',\n",
              "        'whatever', 'whether', 'whosoever', 'wilkerson', 'without', 'word',\n",
              "        'wrong', 'years'], dtype='<U80'),\n",
              " array(['01', '10', '110', '1349', '25', '36', 'above', 'achieve', 'acs',\n",
              "        'afraid', 'andrew', 'anger', 'argument', 'arose', 'athens', 'away',\n",
              "        'basic', 'bear', 'beard', 'because', 'been', 'being', 'bible',\n",
              "        'came', 'carcs1', 'case', 'catholic', 'cbnewsk', 'cheap', 'church',\n",
              "        'claim', 'colorado', 'come', 'comes', 'commit', 'conquer',\n",
              "        'conscience', 'covington', 'cowardice', 'cruelty', 'curious',\n",
              "        'davidian', 'dealt', 'dean', 'deficiencies', 'did', 'difference',\n",
              "        'disproof', 'divisions', 'doing', 'drawer', 'dunedin', 'east',\n",
              "        'effectively', 'either', 'eternity', 'even', 'ever', 'express',\n",
              "        'faith', 'fax', 'few', 'figuring', 'find', 'fold', 'further',\n",
              "        'germanic', 'give', 'god', 'gospel', 'happy', 'hebrews', 'hold',\n",
              "        'honest', 'honor', 'however', 'idea', 'instead', 'involved',\n",
              "        'jesus', 'keys', 'king', 'lay', 'life', 'lived', 'lives', 'll',\n",
              "        'magazine', 'may', 'mean', 'messenger', 'motivate', 'never', 'new',\n",
              "        'north', 'nunez', 'nyc', 'off', 'org', 'particular', 'permission',\n",
              "        'points', 'possible', 'priority', 'reagan', 'really',\n",
              "        'relationship', 'reply', 'require', 'retribution', 'revulsion',\n",
              "        'right', 'rob', 'rome', 'said', 'say', 'scream', 'seems', 'single',\n",
              "        'square', 'starting', 'straightforward', 'such', 'suffering',\n",
              "        'support', 'talks', 'tape', 'than', 'think', 'until', 'values',\n",
              "        'vela', 'verses', 'very', 'views', 'were', 'while', 'whuzzat',\n",
              "        'wording', 'work', 'world'], dtype='<U80'),\n",
              " array(['11', '17', '1993', '54', 'above', 'accidents', 'according',\n",
              "        'agonizing', 'aisun3', 'alive', 'american', 'among', 'andrew',\n",
              "        'anger', 'asking', 'associated', 'ban', 'because', 'being',\n",
              "        'benefit', 'bible', 'both', 'bring', 'cards', 'case', 'ceremony',\n",
              "        'certainly', 'chrisitan', 'christian', 'comments', 'condemnation',\n",
              "        'condemns', 'consign', 'copper', 'cosmic', 'cows', 'dead',\n",
              "        'delivered', 'develop', 'ecn', 'etc', 'eventhough', 'evolution',\n",
              "        'first', 'gets', 'go', 'going', 'got', 'grey', 'happening',\n",
              "        'himself', 'his', 'hmmm', 'hold', 'husband', 'ignore', 'imply',\n",
              "        'interior', 'interprets', 'involve', 'involved', 'jill',\n",
              "        'kulikauskas', 'live', 'local', 'made', 'main', 'man', 'matthew',\n",
              "        'mature', 'may', 'mean', 'meaning', 'mmalt', 'moderator',\n",
              "        'mormonism', 'nationalism', 'network', 'non', 'numb', 'odder',\n",
              "        'once', 'open', 'parents', 'people', 'person', 'pharisees', 'po',\n",
              "        'post', 'potent', 'pretty', 'prof', 'purpose', 'pursue', 'rather',\n",
              "        'really', 'recognise', 'referred', 'relationship', 'reliance',\n",
              "        'results', 'right', 'rutgers', 'satan', 'secular', 'seem', 'sense',\n",
              "        'share', 'she', 'since', 'sinless', 'someplace', 'soon', 'spend',\n",
              "        'stay', 'steven', 'student', 'subjects', 'suited', 'sure',\n",
              "        'symbol', 'technology', 'terrible', 'test', 'than', 'them', 'then',\n",
              "        'things', 'think', 'through', 'tired', 'together', 'trait', 'true',\n",
              "        'trusted', 'until', 'unto', 've', 'velasco', 'version', 'vice',\n",
              "        'week', 'well', 'while', 'why', 'wont', 'wustl'], dtype='<U80')]"
            ]
          },
          "metadata": {},
          "execution_count": 59
        }
      ],
      "source": [
        "# Perform inverse transform to test quality of fit\n",
        "\n",
        "count_vectorizer.inverse_transform(class_sample)"
      ]
    },
    {
      "cell_type": "markdown",
      "metadata": {
        "id": "i8mpazXrkz8X"
      },
      "source": [
        "***\n",
        "<a id='sampling_and_log_probs'></a>\n",
        "## Sampling and log probs"
      ]
    },
    {
      "cell_type": "code",
      "execution_count": 60,
      "metadata": {
        "id": "3XTVK_BNkz8Y",
        "colab": {
          "base_uri": "https://localhost:8080/"
        },
        "outputId": "81e060d8-af09-4c3b-901b-6664c7eda7ec"
      },
      "outputs": [
        {
          "output_type": "execute_result",
          "data": {
            "text/plain": [
              "<tfp.distributions.MultivariateNormalDiag 'MultivariateNormalDiag' batch_shape=[3] event_shape=[2] dtype=float32>"
            ]
          },
          "metadata": {},
          "execution_count": 60
        }
      ],
      "source": [
        "# Make Multivariate Distribution\n",
        "\n",
        "normal_distributions = tfd.MultivariateNormalDiag(loc=[[0.5, 1], [0.1, 0], [0, 0.2]],\n",
        "                                 scale_diag=[[2, 3], [1, 3], [4, 4]])\n",
        "normal_distributions"
      ]
    },
    {
      "cell_type": "code",
      "execution_count": 61,
      "metadata": {
        "id": "O9VR0ckQkz8Y",
        "colab": {
          "base_uri": "https://localhost:8080/"
        },
        "outputId": "7ac07cad-119e-4b32-ec28-6d64645edd0f"
      },
      "outputs": [
        {
          "output_type": "execute_result",
          "data": {
            "text/plain": [
              "<tf.Tensor: shape=(5, 3, 2), dtype=float32, numpy=\n",
              "array([[[-0.61642456, -2.6508877 ],\n",
              "        [-0.02484179, -0.58626443],\n",
              "        [-2.384066  , -2.2478259 ]],\n",
              "\n",
              "       [[-1.3702699 ,  9.627965  ],\n",
              "        [ 0.34466884, -2.335009  ],\n",
              "        [-0.6538167 ,  5.7416673 ]],\n",
              "\n",
              "       [[-2.086178  ,  4.7825446 ],\n",
              "        [ 1.154147  , -4.501431  ],\n",
              "        [-4.3120627 ,  0.32013714]],\n",
              "\n",
              "       [[-2.5057547 ,  2.4638143 ],\n",
              "        [-0.11568717, -5.0724864 ],\n",
              "        [ 0.63433516, -0.52497053]],\n",
              "\n",
              "       [[ 1.380878  ,  1.7464799 ],\n",
              "        [ 0.11383934,  1.1534938 ],\n",
              "        [-0.91430813,  2.0012252 ]]], dtype=float32)>"
            ]
          },
          "metadata": {},
          "execution_count": 61
        }
      ],
      "source": [
        "# Sample\n",
        "normal_distributions.sample(5)\n"
      ]
    },
    {
      "cell_type": "code",
      "execution_count": 62,
      "metadata": {
        "id": "mTLfGfXkkz8Z",
        "colab": {
          "base_uri": "https://localhost:8080/"
        },
        "outputId": "c4c7834e-b1f3-4dfc-9c24-b5b71db7cbb8"
      },
      "outputs": [
        {
          "output_type": "execute_result",
          "data": {
            "text/plain": [
              "<tfp.distributions.MultivariateNormalDiag 'MultivariateNormalDiag' batch_shape=[2, 2] event_shape=[3] dtype=float32>"
            ]
          },
          "metadata": {},
          "execution_count": 62
        }
      ],
      "source": [
        "# Multivariate Normal batched Distribution\n",
        "# We are broadcasting batch shapes of `loc` and `scal_diag` \n",
        "# against each other\n",
        "\n",
        "loc = [[[0.3, 1.5, 1.], [0.2, 0.4, 2.8]],\n",
        "        [[2., 2.3, 8], [1.4, 1, 1.3]]]\n",
        "scale_diag = [0.4, 1., 0.7]\n",
        "normal_distributions = tfd.MultivariateNormalDiag(loc=loc, scale_diag=scale_diag)\n",
        "normal_distributions"
      ]
    },
    {
      "cell_type": "code",
      "execution_count": 63,
      "metadata": {
        "id": "cO4SC31Ukz8a",
        "colab": {
          "base_uri": "https://localhost:8080/"
        },
        "outputId": "440f07c4-b33c-4f82-e22f-957158de640e"
      },
      "outputs": [
        {
          "output_type": "execute_result",
          "data": {
            "text/plain": [
              "<tfp.distributions.Independent 'IndependentMultivariateNormalDiag' batch_shape=[2] event_shape=[2, 3] dtype=float32>"
            ]
          },
          "metadata": {},
          "execution_count": 63
        }
      ],
      "source": [
        "# Use independent to move part of the batch shape\n",
        "ind_normal_distributions = tfd.Independent(normal_distributions,reinterpreted_batch_ndims = 1)\n",
        "ind_normal_distributions"
      ]
    },
    {
      "cell_type": "code",
      "execution_count": 64,
      "metadata": {
        "id": "uZE_rP3vkz8b",
        "colab": {
          "base_uri": "https://localhost:8080/"
        },
        "outputId": "6a9813f3-6105-4f8e-9c70-4ae81fb63688"
      },
      "outputs": [
        {
          "output_type": "execute_result",
          "data": {
            "text/plain": [
              "TensorShape([5, 2, 2, 3])"
            ]
          },
          "metadata": {},
          "execution_count": 64
        }
      ],
      "source": [
        "# Draw some samples\n",
        "samples = ind_normal_distributions.sample(5)\n",
        "samples.shape\n"
      ]
    },
    {
      "cell_type": "code",
      "execution_count": 65,
      "metadata": {
        "id": "R9d-YAKRkz8b",
        "colab": {
          "base_uri": "https://localhost:8080/"
        },
        "outputId": "cdb068ce-4151-4863-9d52-401a2b83d4bb"
      },
      "outputs": [
        {
          "output_type": "execute_result",
          "data": {
            "text/plain": [
              "<tf.Tensor: shape=(2,), dtype=float32, numpy=array([-11.756409, -66.098785], dtype=float32)>"
            ]
          },
          "metadata": {},
          "execution_count": 65
        }
      ],
      "source": [
        "# `[B, E]` shaped input\n",
        "inp = tf.random.uniform((2,2,3))\n",
        "ind_normal_distributions.log_prob(inp)\n"
      ]
    },
    {
      "cell_type": "code",
      "execution_count": 66,
      "metadata": {
        "id": "LwkK0DB5kz8c",
        "colab": {
          "base_uri": "https://localhost:8080/"
        },
        "outputId": "5d7e93d1-6023-4ca5-e8ad-3e8f163e2a0c"
      },
      "outputs": [
        {
          "output_type": "execute_result",
          "data": {
            "text/plain": [
              "<tf.Tensor: shape=(2,), dtype=float32, numpy=array([-11.850761, -76.12896 ], dtype=float32)>"
            ]
          },
          "metadata": {},
          "execution_count": 66
        }
      ],
      "source": [
        "# `[E]` shaped input (broadcasting over batch size)\n",
        "inp = tf.random.uniform((2,3))\n",
        "ind_normal_distributions.log_prob(inp)\n"
      ]
    },
    {
      "cell_type": "code",
      "execution_count": 67,
      "metadata": {
        "id": "uiCC2ADMkz8d",
        "colab": {
          "base_uri": "https://localhost:8080/"
        },
        "outputId": "7ad3772e-b446-4f34-9249-d035376185ad"
      },
      "outputs": [
        {
          "output_type": "execute_result",
          "data": {
            "text/plain": [
              "<tf.Tensor: shape=(9, 2), dtype=float32, numpy=\n",
              "array([[ -8.763502 , -74.403946 ],\n",
              "       [ -8.963752 , -78.71576  ],\n",
              "       [-10.053402 , -67.10482  ],\n",
              "       [-10.113637 , -70.84384  ],\n",
              "       [ -8.458472 , -77.99654  ],\n",
              "       [-13.988488 , -74.964966 ],\n",
              "       [ -7.66702  , -65.602325 ],\n",
              "       [-10.51793  , -65.675446 ],\n",
              "       [-11.9138565, -72.61048  ]], dtype=float32)>"
            ]
          },
          "metadata": {},
          "execution_count": 67
        }
      ],
      "source": [
        "#`[S, B, E]` shaped input (broadcasting over samples)\n",
        "inp = tf.random.uniform((9,2,2,3))\n",
        "ind_normal_distributions.log_prob(inp)\n"
      ]
    },
    {
      "cell_type": "code",
      "execution_count": 68,
      "metadata": {
        "id": "S_jSL-hTkz8d",
        "colab": {
          "base_uri": "https://localhost:8080/"
        },
        "outputId": "9ec58d38-2bc3-40bd-ad25-33df1053f39e"
      },
      "outputs": [
        {
          "output_type": "execute_result",
          "data": {
            "text/plain": [
              "<tf.Tensor: shape=(5, 2), dtype=float32, numpy=\n",
              "array([[ -9.843089 , -61.68399  ],\n",
              "       [-10.387953 , -61.109745 ],\n",
              "       [ -9.2092285, -71.7383   ],\n",
              "       [-12.003781 , -83.812454 ],\n",
              "       [ -9.123208 , -68.52439  ]], dtype=float32)>"
            ]
          },
          "metadata": {},
          "execution_count": 68
        }
      ],
      "source": [
        "# `[S, b, e]` shaped input, where [b, e] is broadcastable over [B, E]\n",
        "inp = tf.random.uniform((5,1,2,1))\n",
        "ind_normal_distributions.log_prob(inp)\n"
      ]
    },
    {
      "cell_type": "markdown",
      "metadata": {
        "id": "qkU8Dg4Tkz8f"
      },
      "source": [
        "#### Naive Bayes example\n",
        "\n",
        "Lets now use what we have learned and continue the Naive Bayes classifier we were building last tutorial."
      ]
    },
    {
      "cell_type": "code",
      "execution_count": 69,
      "metadata": {
        "id": "bqKLKFePkz8g"
      },
      "outputs": [],
      "source": [
        "from sklearn.datasets import fetch_20newsgroups\n",
        "from sklearn.feature_extraction.text import CountVectorizer\n",
        "from sklearn.naive_bayes import BernoulliNB\n",
        "from sklearn.metrics import f1_score"
      ]
    },
    {
      "cell_type": "code",
      "execution_count": 70,
      "metadata": {
        "id": "mcuP3MW2kz8h"
      },
      "outputs": [],
      "source": [
        "# Making a function get_data which:\n",
        "#   1) Fetches the 20 newsgroup dataset\n",
        "#   2) Performs a word count on the articles and binarizes the result\n",
        "#   3) Returns the data as a numpy matrix with the labels\n",
        "\n",
        "def get_data(categories):\n",
        "    \n",
        "    newsgroups_train_data = fetch_20newsgroups(data_home='20_Newsgroup_Data/',\n",
        "                                               subset='train', categories=categories)\n",
        "    newsgroups_test_data = fetch_20newsgroups(data_home='20_Newsgroup_Data/',\n",
        "                                              subset='test', categories=categories)\n",
        "\n",
        "    n_documents = len(newsgroups_train_data['data'])\n",
        "    count_vectorizer = CountVectorizer(input='content', binary=True,max_df=0.25, min_df=1.01/n_documents)\n",
        "    \n",
        "    train_binary_bag_of_words = count_vectorizer.fit_transform(newsgroups_train_data['data'])\n",
        "    test_binary_bag_of_words = count_vectorizer.transform(newsgroups_test_data['data']) \n",
        "\n",
        "    return (train_binary_bag_of_words.todense(), newsgroups_train_data['target']),  (test_binary_bag_of_words.todense(), newsgroups_test_data['target'])"
      ]
    },
    {
      "cell_type": "code",
      "execution_count": 71,
      "metadata": {
        "id": "ASghvXyPkz8i"
      },
      "outputs": [],
      "source": [
        "# Defining a function to conduct Laplace smoothing. This adds a base level of probability for a given feature\n",
        "# to occur in every class.\n",
        "\n",
        "def laplace_smoothing(labels, binary_data, n_classes):\n",
        "    # Compute the parameter estimates (adjusted fraction of documents in class that contain word)\n",
        "    n_words = binary_data.shape[1]\n",
        "    alpha = 1 # parameters for Laplace smoothing\n",
        "    theta = np.zeros([n_classes, n_words]) # stores parameter values - prob. word given class\n",
        "    for c_k in range(n_classes): # 0, 1, ..., 19\n",
        "        class_mask = (labels == c_k)\n",
        "        N = class_mask.sum() # number of articles in class\n",
        "        theta[c_k, :] = (binary_data[class_mask, :].sum(axis=0) + alpha)/(N + alpha*2)\n",
        "\n",
        "    return theta"
      ]
    },
    {
      "cell_type": "code",
      "execution_count": 72,
      "metadata": {
        "id": "VfSLZlXpkz8j"
      },
      "outputs": [],
      "source": [
        "# Getting a subset of the 20 newsgroup dataset\n",
        "\n",
        "categories = ['alt.atheism', 'talk.religion.misc', 'comp.graphics', 'sci.space']\n",
        "\n",
        "(train_data, train_labels), (test_data, test_labels) = get_data(categories=categories)\n",
        "smoothed_counts = laplace_smoothing(labels=train_labels, binary_data=train_data, n_classes=len(categories))"
      ]
    },
    {
      "cell_type": "markdown",
      "metadata": {
        "id": "qP8qTJ4wkz8j"
      },
      "source": [
        "To now make our NB classifier we need to build three functions:\n",
        "* Compute the class priors\n",
        "* Build our class conditional distributions\n",
        "* Put it all together and classify our data"
      ]
    },
    {
      "cell_type": "code",
      "execution_count": 73,
      "metadata": {
        "id": "1cZsMn8Hkz8j"
      },
      "outputs": [],
      "source": [
        "# Function which computes the prior probability of every class based on frequency of occurence in \n",
        "# the dataset\n",
        "\n",
        "def class_priors(n_classes, labels):\n",
        "    counts = np.zeros(n_classes)\n",
        "    for c_k in range(n_classes):\n",
        "        counts[c_k] = np.sum(np.where(labels==c_k, 1, 0))\n",
        "    priors = counts / np.sum(counts)\n",
        "    print('The class priors are {}'.format(priors))\n",
        "    return priors"
      ]
    },
    {
      "cell_type": "code",
      "execution_count": 74,
      "metadata": {
        "id": "Vy4-4dBukz8k",
        "colab": {
          "base_uri": "https://localhost:8080/"
        },
        "outputId": "7544ffda-e965-4f10-c88b-1a46480cd31d"
      },
      "outputs": [
        {
          "output_type": "stream",
          "name": "stdout",
          "text": [
            "The class priors are [0.2359882  0.28711898 0.29154376 0.18534907]\n"
          ]
        }
      ],
      "source": [
        "# Run the function \n",
        "priors = class_priors(n_classes=len(categories),labels = train_labels)\n"
      ]
    },
    {
      "cell_type": "code",
      "execution_count": 75,
      "metadata": {
        "id": "cjYNkobekz8k",
        "colab": {
          "base_uri": "https://localhost:8080/"
        },
        "outputId": "e07aed79-e464-4556-fa25-49e965baff5d"
      },
      "outputs": [
        {
          "output_type": "execute_result",
          "data": {
            "text/plain": [
              "<tfp.distributions.Independent 'IndependentBernoulli' batch_shape=[4] event_shape=[17495] dtype=int32>"
            ]
          },
          "metadata": {},
          "execution_count": 75
        }
      ],
      "source": [
        "# Now we will do a function that given the feature occurence counts returns a Bernoulli distribution of \n",
        "# batch_shape=number of classes and event_shape=number of features.\n",
        "\n",
        "def make_distribution(probs):\n",
        "  batch_bernoullis = tfd.Bernoulli(probs = probs)\n",
        "  dist = tfd.Independent(batch_bernoullis,reinterpreted_batch_ndims=1)\n",
        "  return dist\n",
        "\n",
        "tf_dist = make_distribution(smoothed_counts)\n",
        "tf_dist\n"
      ]
    },
    {
      "cell_type": "code",
      "execution_count": 76,
      "metadata": {
        "id": "-Q8u3Tm-kz8l"
      },
      "outputs": [],
      "source": [
        "# The final function predict_sample which given the distribution, a test sample, and the class priors:\n",
        "#   1) Computes the class conditional probabilities given the sample\n",
        "#   2) Forms the joint likelihood\n",
        "#   3) Normalises the joint likelihood and returns the log prob\n",
        "def predict_sample(dist,sample,priors):\n",
        "  cond_probs = dist.log_prob(sample)\n",
        "  cond_probs = tf.dtypes.cast(cond_probs,dtype = tf.float32)\n",
        "  log = np.log(priors)\n",
        "  log = log.astype(np.float32)\n",
        "  joint_likelihood = tf.add(log,cond_probs)\n",
        "  norm_factor = tf.math.reduce_logsumexp(joint_likelihood,axis = -1,keepdims = True)\n",
        "  log_prob = joint_likelihood-norm_factor\n",
        "  return log_prob\n"
      ]
    },
    {
      "cell_type": "markdown",
      "metadata": {
        "id": "bB6un1rRkz8l"
      },
      "source": [
        "#### Computing log_probs"
      ]
    },
    {
      "cell_type": "code",
      "execution_count": 77,
      "metadata": {
        "id": "7f-IopBlkz8l"
      },
      "outputs": [],
      "source": [
        "# Predicting one example from our test data\n",
        "\n",
        "log_probs = predict_sample(tf_dist,test_data[0],priors)"
      ]
    },
    {
      "cell_type": "code",
      "execution_count": 78,
      "metadata": {
        "id": "sHj59COwkz8m",
        "colab": {
          "base_uri": "https://localhost:8080/"
        },
        "outputId": "b04f7596-f91a-4f93-d088-a398a68a890d"
      },
      "outputs": [
        {
          "output_type": "stream",
          "name": "stdout",
          "text": [
            "f1  0.7848499112849504\n"
          ]
        }
      ],
      "source": [
        "# Loop over our test data and classify.\n",
        "\n",
        "probabilities = []\n",
        "for sample, label in zip(test_data, test_labels):\n",
        "    probabilities.append(tf.exp(predict_sample(tf_dist, sample, priors)))\n",
        "\n",
        "probabilities = np.asarray(probabilities)\n",
        "predicted_classes = np.argmax(probabilities, axis =-1)\n",
        "print('f1 ', f1_score(test_labels, predicted_classes, average='macro'))"
      ]
    },
    {
      "cell_type": "code",
      "execution_count": 79,
      "metadata": {
        "id": "XUe7tPwZkz8m",
        "colab": {
          "base_uri": "https://localhost:8080/"
        },
        "outputId": "0539d55f-2798-4ac5-f899-a49cca64e53d"
      },
      "outputs": [
        {
          "output_type": "stream",
          "name": "stderr",
          "text": [
            "/usr/local/lib/python3.7/dist-packages/sklearn/utils/validation.py:598: FutureWarning: np.matrix usage is deprecated in 1.0 and will raise a TypeError in 1.2. Please convert to a numpy array with np.asarray. For more information see: https://numpy.org/doc/stable/reference/generated/numpy.matrix.html\n",
            "  FutureWarning,\n",
            "/usr/local/lib/python3.7/dist-packages/sklearn/utils/validation.py:598: FutureWarning: np.matrix usage is deprecated in 1.0 and will raise a TypeError in 1.2. Please convert to a numpy array with np.asarray. For more information see: https://numpy.org/doc/stable/reference/generated/numpy.matrix.html\n",
            "  FutureWarning,\n"
          ]
        },
        {
          "output_type": "stream",
          "name": "stdout",
          "text": [
            "f1 from sklean  0.7848499112849504\n"
          ]
        }
      ],
      "source": [
        "# Make a Bernoulli Naive Bayes classifier using sklearn with the same level of alpha smoothing. \n",
        "\n",
        "clf = BernoulliNB(alpha=1)\n",
        "clf.fit(train_data, train_labels)\n",
        "pred = clf.predict(test_data)\n",
        "print('f1 from sklean ', f1_score(test_labels, pred, average='macro'))"
      ]
    },
    {
      "cell_type": "markdown",
      "metadata": {
        "id": "FyKhlNTRkz8m"
      },
      "source": [
        "***\n",
        "<a id='trainable_distributions'></a>\n",
        "## Trainable Distributions"
      ]
    },
    {
      "cell_type": "code",
      "execution_count": 80,
      "metadata": {
        "id": "xrnBNixTkz8n"
      },
      "outputs": [],
      "source": [
        "from sklearn.datasets import fetch_20newsgroups\n",
        "from sklearn.feature_extraction.text import CountVectorizer\n",
        "from sklearn.naive_bayes import BernoulliNB\n",
        "from sklearn.metrics import f1_score"
      ]
    },
    {
      "cell_type": "code",
      "execution_count": 81,
      "metadata": {
        "id": "zkXoVxtVkz8n"
      },
      "outputs": [],
      "source": [
        "# Define an exponential distribution\n",
        "exponential = tfd.Exponential(rate = 0.3,name = \"exp\")\n"
      ]
    },
    {
      "cell_type": "code",
      "execution_count": 82,
      "metadata": {
        "id": "tiVVMbDvkz8n",
        "colab": {
          "base_uri": "https://localhost:8080/",
          "height": 266
        },
        "outputId": "66ffff5a-b615-4a0b-d6f8-629938e3aebd"
      },
      "outputs": [
        {
          "output_type": "display_data",
          "data": {
            "text/plain": [
              "<Figure size 432x288 with 1 Axes>"
            ],
            "image/png": "[encoded data removed]"
          },
          "metadata": {
            "needs_background": "light"
          }
        }
      ],
      "source": [
        "# Plot\n",
        "\n",
        "plt.hist(exponential.sample(5000), bins=100, density=True)\n",
        "plt.show()"
      ]
    },
    {
      "cell_type": "code",
      "execution_count": 83,
      "metadata": {
        "id": "as2VOEl_kz8n",
        "colab": {
          "base_uri": "https://localhost:8080/"
        },
        "outputId": "72f1ac7c-3dae-4a6f-9101-0f67f39bf2a2"
      },
      "outputs": [
        {
          "output_type": "execute_result",
          "data": {
            "text/plain": [
              "(<tf.Variable 'rate:0' shape=() dtype=float32, numpy=1.0>,)"
            ]
          },
          "metadata": {},
          "execution_count": 83
        }
      ],
      "source": [
        "# Define an exponential distribution with a trainable rate parameter\n",
        "exp_train = tfd.Exponential(rate = tf.Variable(1.,name = \"rate\"),name = \"exp_train\")\n",
        "exp_train.trainable_variables\n"
      ]
    },
    {
      "cell_type": "code",
      "execution_count": 84,
      "metadata": {
        "id": "oPJLH2J3kz8o"
      },
      "outputs": [],
      "source": [
        "# Define the negative log likelihood\n",
        "\n",
        "def nll(x_train,distribution):\n",
        "  return -tf.reduce_mean(distribution.log_prob(x_train))"
      ]
    },
    {
      "cell_type": "code",
      "execution_count": 85,
      "metadata": {
        "id": "feJXjT8rkz8o"
      },
      "outputs": [],
      "source": [
        "# Define a function to compute the loss and gradients\n",
        "@tf.function\n",
        "def get_loss_and_grads(x_train,distribution):\n",
        "  with tf.GradientTape() as tape:\n",
        "    tape.watch(distribution.trainable_variables)\n",
        "    loss = nll(x_train,distribution)\n",
        "    grads = tape.gradient(loss,distribution.trainable_variables)\n",
        "  return loss, grads \n"
      ]
    },
    {
      "cell_type": "code",
      "execution_count": 86,
      "metadata": {
        "id": "3ORYaOjckz8o"
      },
      "outputs": [],
      "source": [
        "# Optimize\n",
        "\n",
        "def exponential_dist_optimisation(data, distribution):\n",
        "\n",
        "    # Keep results for plotting\n",
        "    train_loss_results = []\n",
        "    train_rate_results = []\n",
        "    \n",
        "    optimizer = tf.keras.optimizers.SGD(learning_rate=0.05)\n",
        "\n",
        "    num_steps = 10\n",
        "\n",
        "    for i in range(num_steps):\n",
        "      loss,grads = get_loss_and_grads(data,distribution)\n",
        "      optimizer.apply_gradients(zip(grads,distribution.trainable_variables))\n",
        "\n",
        "      rate_value = distribution.rate.value()\n",
        "      train_loss_results.append(loss)\n",
        "      train_rate_results.append(rate_value)\n",
        "        \n",
        "      print(\"Step {:03d}: Loss: {:.3f}: Rate: {:.3f}\".format(i,loss,rate_value))\n",
        "        \n",
        "    return train_loss_results, train_rate_results"
      ]
    },
    {
      "cell_type": "code",
      "execution_count": 87,
      "metadata": {
        "id": "idqvEfnBkz8p",
        "colab": {
          "base_uri": "https://localhost:8080/"
        },
        "outputId": "f312e939-28e9-4da9-a44b-6c0ff8cab232"
      },
      "outputs": [
        {
          "output_type": "stream",
          "name": "stdout",
          "text": [
            "Step 000: Loss: 3.377: Rate: 0.881\n",
            "Step 001: Loss: 3.102: Rate: 0.769\n",
            "Step 002: Loss: 2.860: Rate: 0.665\n",
            "Step 003: Loss: 2.654: Rate: 0.572\n",
            "Step 004: Loss: 2.490: Rate: 0.490\n",
            "Step 005: Loss: 2.368: Rate: 0.423\n",
            "Step 006: Loss: 2.289: Rate: 0.373\n",
            "Step 007: Loss: 2.246: Rate: 0.338\n",
            "Step 008: Loss: 2.226: Rate: 0.317\n",
            "Step 009: Loss: 2.219: Rate: 0.306\n"
          ]
        }
      ],
      "source": [
        "# Get some data and train\n",
        "sampled_data = exponential.sample(5000)\n",
        "train_loss_results, train_rate_results = exponential_dist_optimisation(data = sampled_data,distribution = exp_train)\n"
      ]
    },
    {
      "cell_type": "code",
      "execution_count": 88,
      "metadata": {
        "id": "Nj3-xtNikz8p",
        "colab": {
          "base_uri": "https://localhost:8080/"
        },
        "outputId": "2647f193-3877-4fa0-c2e1-f9d7bc1084fb"
      },
      "outputs": [
        {
          "output_type": "stream",
          "name": "stdout",
          "text": [
            "Exact rate:  0.3\n",
            "Pred rate:   0.30588725\n"
          ]
        }
      ],
      "source": [
        "# Predicted value for the rate parameter\n",
        "\n",
        "pred_value = exp_train.rate.numpy()\n",
        "exact_value = exponential.rate.numpy()\n",
        "\n",
        "print(\"Exact rate: \", exact_value)\n",
        "print(\"Pred rate:  \", pred_value)"
      ]
    },
    {
      "cell_type": "code",
      "execution_count": 89,
      "metadata": {
        "id": "qov3v3xXkz8p",
        "colab": {
          "base_uri": "https://localhost:8080/",
          "height": 558
        },
        "outputId": "f6fc3325-be0d-4ed3-84a8-e550efde750d"
      },
      "outputs": [
        {
          "output_type": "display_data",
          "data": {
            "text/plain": [
              "<Figure size 864x576 with 2 Axes>"
            ],
            "image/png": "[encoded data removed]"
          },
          "metadata": {
            "needs_background": "light"
          }
        }
      ],
      "source": [
        "# Plot to see the convergence of the estimated and true parameters\n",
        "\n",
        "tensor_exact_value = tf.constant(exact_value, shape=[len(train_rate_results)])\n",
        "\n",
        "fig, axes = plt.subplots(2, sharex=True, figsize=(12, 8))\n",
        "fig.suptitle('Convergence')\n",
        "\n",
        "axes[0].set_ylabel(\"Loss\", fontsize=14)\n",
        "axes[0].plot(train_loss_results)\n",
        "\n",
        "axes[1].set_ylabel(\"Rate\", fontsize=14)\n",
        "axes[1].set_xlabel(\"Epoch\", fontsize=14)\n",
        "axes[1].plot(train_rate_results, label='trainable rate variable')\n",
        "axes[1].plot(tensor_exact_value, label='exact rate')\n",
        "axes[1].legend()\n",
        "plt.show()"
      ]
    },
    {
      "cell_type": "code",
      "execution_count": 90,
      "metadata": {
        "id": "TLzj2E1Ekz8q"
      },
      "outputs": [],
      "source": [
        "# Making a function get_data which:\n",
        "#   1) Fetches the 20 newsgroup dataset\n",
        "#   2) Performs a word count on the articles and binarizes the result\n",
        "#   3) Returns the data as a numpy matrix with the labels\n",
        "\n",
        "def get_data(categories):\n",
        "\n",
        "    newsgroups_train_data = fetch_20newsgroups(data_home='20_Newsgroup_Data/',\n",
        "                                               subset='train', categories=categories)\n",
        "    newsgroups_test_data = fetch_20newsgroups(data_home='20_Newsgroup_Data/',\n",
        "                                              subset='test', categories=categories)\n",
        "\n",
        "    n_documents = len(newsgroups_train_data['data'])\n",
        "    count_vectorizer = CountVectorizer(input='content', binary=True,max_df=0.25, min_df=1.01/n_documents) \n",
        "    train_binary_bag_of_words = count_vectorizer.fit_transform(newsgroups_train_data['data']) \n",
        "    test_binary_bag_of_words = count_vectorizer.transform(newsgroups_test_data['data']) \n",
        "\n",
        "    return (train_binary_bag_of_words.todense(), newsgroups_train_data['target']),  (test_binary_bag_of_words.todense(), newsgroups_test_data['target'])\n"
      ]
    },
    {
      "cell_type": "code",
      "execution_count": 91,
      "metadata": {
        "id": "xD0_Dbiykz8r"
      },
      "outputs": [],
      "source": [
        "# Defining a function to conduct laplace smoothing. This adds a base level of probability for a given feature\n",
        "# to occur in every class.\n",
        "\n",
        "def laplace_smoothing(labels, binary_data, n_classes):\n",
        "    # Compute the parameter estimates (adjusted fraction of documents in class that contain word)\n",
        "    n_words = binary_data.shape[1]\n",
        "    alpha = 1 # parameters for Laplace smoothing\n",
        "    theta = np.zeros([n_classes, n_words]) # stores parameter values - prob. word given class\n",
        "    for c_k in range(n_classes): # 0, 1, ..., 19\n",
        "        class_mask = (labels == c_k)\n",
        "        N = class_mask.sum() # number of articles in class\n",
        "        theta[c_k, :] = (binary_data[class_mask, :].sum(axis=0) + alpha)/(N + alpha*2)\n",
        "\n",
        "    return theta"
      ]
    },
    {
      "cell_type": "code",
      "execution_count": 92,
      "metadata": {
        "id": "GGmU6q7Vkz8r"
      },
      "outputs": [],
      "source": [
        "# Now we will do a function that given the feature occurence counts returns a Bernoulli distribution of \n",
        "# batch_shape=number of classes and event_shape=number of features.\n",
        "\n",
        "def make_distributions(probs):\n",
        "    batch_of_bernoullis = tfd.Bernoulli(probs=probs) # shape (n_classes, n_words)\n",
        "    dist = tfd.Independent(batch_of_bernoullis, reinterpreted_batch_ndims=1)\n",
        "    return dist"
      ]
    },
    {
      "cell_type": "code",
      "execution_count": 93,
      "metadata": {
        "id": "vGcPkTDMkz8r"
      },
      "outputs": [],
      "source": [
        "# Function which computes the prior probability of every class based on frequency of occurence in \n",
        "# the dataset\n",
        "\n",
        "def class_priors(n_classes, labels):\n",
        "    counts = np.zeros(n_classes)\n",
        "    for c_k in range(n_classes):\n",
        "        counts[c_k] = np.sum(np.where(labels==c_k, 1, 0))\n",
        "    priors = counts / np.sum(counts)\n",
        "    print('The class priors are {}'.format(priors))\n",
        "    return priors"
      ]
    },
    {
      "cell_type": "code",
      "execution_count": 94,
      "metadata": {
        "id": "A2t7tPaqkz8s"
      },
      "outputs": [],
      "source": [
        "# The final function predict_sample which given the distribution, a test sample, and the class priors:\n",
        "#   1) Computes the class conditional probabilities given the sample\n",
        "#   2) Forms the joint likelihood\n",
        "#   3) Normalises the joint likelihood and returns the log prob\n",
        "\n",
        "def predict_sample(dist, sample, priors):\n",
        "    cond_probs = dist.log_prob(sample)\n",
        "\n",
        "    cond_probs = tf.dtypes.cast(cond_probs,dtype = tf.float32)\n",
        "    log = np.log(priors)\n",
        "    log = log.astype(np.float32)\n",
        "    joint_likelihood = tf.add(log,cond_probs)\n",
        "    #joint_likelihood = tf.add(np.log(priors), cond_probs)\n",
        "    norm_factor = tf.math.reduce_logsumexp(joint_likelihood, axis=-1, keepdims=True)\n",
        "    log_prob = joint_likelihood - norm_factor\n",
        "\n",
        "    return log_prob"
      ]
    },
    {
      "cell_type": "code",
      "execution_count": 95,
      "metadata": {
        "id": "dJEkm1w_kz8s"
      },
      "outputs": [],
      "source": [
        "# Now we learn the distribution using gradient tape\n",
        "\n",
        "def make_distribution_withGT(data, labels, nb_classes):\n",
        "\n",
        "    class_data = []\n",
        "    train_vars = []\n",
        "    distributions = []\n",
        "    for c in range(nb_classes):\n",
        "        train_vars.append(tf.Variable(initial_value=np.random.uniform(low=0.01, high =0.1, size=data.shape[-1])))\n",
        "        distributions.append(tfd.Bernoulli(probs=train_vars[c]))\n",
        "        class_mask = (labels == c)\n",
        "        class_data.append(data[class_mask, :])\n",
        "\n",
        "    for c_num in range(0,nb_classes):\n",
        "        optimizer = tf.keras.optimizers.Adam()\n",
        "        print('\\n%-------------------%')\n",
        "        print('Class ', c_num)\n",
        "        print('%-------------------%')\n",
        "\n",
        "        for i in range(0,100):\n",
        "          loss,grads = get_loss_and_grads(class_data[c_num],distributions[c_num])\n",
        "          if(i%10 == 0):\n",
        "            print(\"iter: {} loss: {}\".format(i,loss))\n",
        "          optimizer.apply_gradients(zip(grads,distributions[c_num].trainable_variables))\n",
        "          eta = 1e-3\n",
        "          clipped_probs = tf.clip_by_value(distributions[c_num].trainable_variables,clip_value_min=eta,clip_value_max = 1)\n",
        "          train_vars[c_num] = tf.squeeze(clipped_probs)\n",
        "            \n",
        "\n",
        "    dist = tfd.Bernoulli(probs=train_vars)\n",
        "    dist = tfd.Independent(dist,reinterpreted_batch_ndims=1)\n",
        "\n",
        "    print(dist)\n",
        "\n",
        "    return dist\n"
      ]
    },
    {
      "cell_type": "code",
      "execution_count": 96,
      "metadata": {
        "id": "oVR3tBUskz8t",
        "colab": {
          "base_uri": "https://localhost:8080/"
        },
        "outputId": "d2f3a9a2-e15c-4e5b-e5a4-a83fb99e67e9"
      },
      "outputs": [
        {
          "output_type": "stream",
          "name": "stdout",
          "text": [
            "The class priors are [0.2359882  0.28711898 0.29154376 0.18534907]\n"
          ]
        }
      ],
      "source": [
        "# Make the same Naive Bayes classifier we did last tutorial\n",
        "\n",
        "categories = ['alt.atheism', 'talk.religion.misc', 'comp.graphics', 'sci.space']\n",
        "\n",
        "(train_data, train_labels), (test_data, test_labels) = get_data(categories)\n",
        "\n",
        "smoothed_counts = laplace_smoothing(labels=train_labels, binary_data=train_data, n_classes=len(categories))\n",
        "\n",
        "priors = class_priors(n_classes=len(categories), labels=train_labels)\n",
        "tf_dist = make_distributions(smoothed_counts)"
      ]
    },
    {
      "cell_type": "code",
      "execution_count": 97,
      "metadata": {
        "id": "CstZh8oSkz8w",
        "colab": {
          "base_uri": "https://localhost:8080/"
        },
        "outputId": "444dfdee-59ba-4f64-8ccc-ec9b7463cb69"
      },
      "outputs": [
        {
          "output_type": "stream",
          "name": "stdout",
          "text": [
            "\n",
            "%-------------------%\n",
            "Class  0\n",
            "%-------------------%\n",
            "iter: 0 loss: 0.07847394411842275\n",
            "iter: 10 loss: 0.06912891811491755\n",
            "iter: 20 loss: 0.06042840031927603\n",
            "iter: 30 loss: 0.05238438148436367\n",
            "iter: 40 loss: 0.04493455347191224\n",
            "iter: 50 loss: 0.038033998174525914\n",
            "iter: 60 loss: 0.03164482130103479\n",
            "iter: 70 loss: 0.025730722389198726\n",
            "iter: 80 loss: 0.020256012232055386\n",
            "iter: 90 loss: 0.015173471374698735\n",
            "\n",
            "%-------------------%\n",
            "Class  1\n",
            "%-------------------%\n",
            "iter: 0 loss: 0.07145920326646293\n",
            "iter: 10 loss: 0.06215149068577495\n",
            "iter: 20 loss: 0.05339687529178563\n",
            "iter: 30 loss: 0.04526347525503424\n",
            "iter: 40 loss: 0.037729992856409086\n",
            "iter: 50 loss: 0.030753516998774\n",
            "iter: 60 loss: 0.02430536450087189\n",
            "iter: 70 loss: 0.018346081389974907\n",
            "iter: 80 loss: 0.012845264963193694\n",
            "iter: 90 loss: 0.007741840954876027\n",
            "\n",
            "%-------------------%\n",
            "Class  2\n",
            "%-------------------%\n",
            "iter: 0 loss: 0.07840353725931444\n",
            "iter: 10 loss: 0.06931915009414394\n",
            "iter: 20 loss: 0.06094529582959317\n",
            "iter: 30 loss: 0.0533056634897761\n",
            "iter: 40 loss: 0.0463714594390574\n",
            "iter: 50 loss: 0.04008794555818218\n",
            "iter: 60 loss: 0.034406339748335193\n",
            "iter: 70 loss: 0.02930046489467248\n",
            "iter: 80 loss: 0.02472047541231469\n",
            "iter: 90 loss: 0.020602664372714963\n",
            "\n",
            "%-------------------%\n",
            "Class  3\n",
            "%-------------------%\n",
            "iter: 0 loss: 0.0799245143201337\n",
            "iter: 10 loss: 0.0706421044617237\n",
            "iter: 20 loss: 0.06199505019273804\n",
            "iter: 30 loss: 0.05398928707889298\n",
            "iter: 40 loss: 0.04656982644873826\n",
            "iter: 50 loss: 0.039706335971026\n",
            "iter: 60 loss: 0.033348685227824075\n",
            "iter: 70 loss: 0.02745788516407358\n",
            "iter: 80 loss: 0.02198502980991529\n",
            "iter: 90 loss: 0.016877070706352738\n",
            "tfp.distributions.Independent(\"IndependentBernoulli\", batch_shape=[4], event_shape=[17495], dtype=int32)\n"
          ]
        }
      ],
      "source": [
        "# Now train the distributions with gradient tape\n",
        "\n",
        "GT_dist = make_distribution_withGT(data=train_data, labels=train_labels, nb_classes=4)"
      ]
    },
    {
      "cell_type": "code",
      "execution_count": 98,
      "metadata": {
        "id": "NOaVDRBRkz8x",
        "colab": {
          "base_uri": "https://localhost:8080/"
        },
        "outputId": "da58e9be-8a23-4246-d20b-59fc500794af"
      },
      "outputs": [
        {
          "output_type": "stream",
          "name": "stdout",
          "text": [
            "f1  0.8297410125859298\n",
            "f1  0.7848499112849504\n"
          ]
        }
      ],
      "source": [
        "# Compare the two results\n",
        "\n",
        "for dist in [GT_dist,tf_dist]:\n",
        "    probabilities = []\n",
        "    for sample, label in zip(test_data, test_labels):\n",
        "        probabilities.append(predict_sample(dist, sample, priors))\n",
        "\n",
        "    probabilities = np.asarray(probabilities)\n",
        "    predicted_classes = np.argmax(probabilities, axis =-1)\n",
        "    print('f1 ', f1_score(test_labels, predicted_classes, average='macro'))"
      ]
    }
  ],
  "metadata": {
    "kernelspec": {
      "display_name": "Python 3",
      "language": "python",
      "name": "python3"
    },
    "language_info": {
      "codemirror_mode": {
        "name": "ipython",
        "version": 3
      },
      "file_extension": ".py",
      "mimetype": "text/x-python",
      "name": "python",
      "nbconvert_exporter": "python",
      "pygments_lexer": "ipython3",
      "version": "3.7.1"
    },
    "colab": {
      "name": "Coding Tutorial.ipynb",
      "provenance": [],
      "collapsed_sections": [
        "w3GaG6Mikz7q",
        "M9BoKdXMkz70",
        "PH5Tn69qkz76",
        "tw3Mx-u2kz8G",
        "hmfFLLMskz8H",
        "3iFAgZhFkz8Q",
        "i8mpazXrkz8X",
        "qkU8Dg4Tkz8f",
        "bB6un1rRkz8l",
        "FyKhlNTRkz8m"
      ]
    },
    "accelerator": "GPU",
    "gpuClass": "standard"
  },
  "nbformat": 4,
  "nbformat_minor": 0
}