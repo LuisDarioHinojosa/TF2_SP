{
  "nbformat": 4,
  "nbformat_minor": 0,
  "metadata": {
    "kernelspec": {
      "display_name": "Python 3",
      "language": "python",
      "name": "python3"
    },
    "language_info": {
      "codemirror_mode": {
        "name": "ipython",
        "version": 3
      },
      "file_extension": ".py",
      "mimetype": "text/x-python",
      "name": "python",
      "nbconvert_exporter": "python",
      "pygments_lexer": "ipython3",
      "version": "3.7.1"
    },
    "colab": {
      "name": "Copia de Broadcasting rules.ipynb",
      "provenance": [],
      "collapsed_sections": [
        "s8LB6VMYB0lz",
        "twMTIKqHB0mI",
        "u2SDMySvB0mW",
        "y9Mz2mOeB0m8"
      ]
    }
  },
  "cells": [
    {
      "cell_type": "markdown",
      "metadata": {
        "id": "4AsV5AyeB0lZ"
      },
      "source": [
        "# Broadcasting rules"
      ]
    },
    {
      "cell_type": "markdown",
      "metadata": {
        "id": "Wc-AIXTdB0la"
      },
      "source": [
        "This reading will introduce you to numpy's broadcasting rules and show how you can use broadcasting when specifying batches of distributions in TensorFlow, as well as with the `prob` and `log_prob` methods.\n",
        "\n",
        "Broadcasting will also be discussed and demonstrated in the following videos."
      ]
    },
    {
      "cell_type": "code",
      "metadata": {
        "id": "xw4u5VRQB0lb",
        "colab": {
          "base_uri": "https://localhost:8080/"
        },
        "outputId": "6ace98c6-a94f-4bd2-e588-73d25918184e"
      },
      "source": [
        "import tensorflow as tf\n",
        "import tensorflow_probability as tfp\n",
        "tfd = tfp.distributions\n",
        "\n",
        "print(\"TF version:\", tf.__version__)\n",
        "print(\"TFP version:\", tfp.__version__)"
      ],
      "execution_count": 1,
      "outputs": [
        {
          "output_type": "stream",
          "name": "stdout",
          "text": [
            "TF version: 2.8.2\n",
            "TFP version: 0.16.0\n"
          ]
        }
      ]
    },
    {
      "cell_type": "code",
      "metadata": {
        "id": "EBXqg0RuB0ld"
      },
      "source": [
        "import numpy as np"
      ],
      "execution_count": 2,
      "outputs": []
    },
    {
      "cell_type": "markdown",
      "metadata": {
        "id": "fXlnBPY0B0lg"
      },
      "source": [
        "## Operations on arrays of different sizes in numpy"
      ]
    },
    {
      "cell_type": "markdown",
      "metadata": {
        "id": "Ilprv2iaB0lg"
      },
      "source": [
        "Numpy operations can be applied to arrays that are not of the same shape, but only if the shapes satisfy certain conditions.\n",
        "\n",
        "As a demonstration of this, let us add together two arrays of different shapes:"
      ]
    },
    {
      "cell_type": "code",
      "metadata": {
        "id": "Rq5NwCWJB0lh",
        "colab": {
          "base_uri": "https://localhost:8080/"
        },
        "outputId": "b473d2bf-371e-4e81-ff68-88b2d0c5cd3e"
      },
      "source": [
        "# Add two arrays with different shapes\n",
        "\n",
        "a = np.array([[1.],\n",
        "              [2.],\n",
        "              [3.],\n",
        "              [4.]])  # shape (4, 1)\n",
        "\n",
        "b = np.array([0., 1., 2.])  # shape (3,) \n",
        "\n",
        "a + b"
      ],
      "execution_count": 3,
      "outputs": [
        {
          "output_type": "execute_result",
          "data": {
            "text/plain": [
              "array([[1., 2., 3.],\n",
              "       [2., 3., 4.],\n",
              "       [3., 4., 5.],\n",
              "       [4., 5., 6.]])"
            ]
          },
          "metadata": {},
          "execution_count": 3
        }
      ]
    },
    {
      "cell_type": "code",
      "source": [
        "print(a.shape)\n",
        "print(b.shape)"
      ],
      "metadata": {
        "colab": {
          "base_uri": "https://localhost:8080/"
        },
        "id": "A7nV5352KMf_",
        "outputId": "4a0e603a-863b-46a0-c042-5819fec682c6"
      },
      "execution_count": 4,
      "outputs": [
        {
          "output_type": "stream",
          "name": "stdout",
          "text": [
            "(4, 1)\n",
            "(3,)\n"
          ]
        }
      ]
    },
    {
      "cell_type": "markdown",
      "metadata": {
        "id": "qmqhmOBUB0lj"
      },
      "source": [
        "This is the addition\n",
        "\n",
        "    [ [1.],    +  [0., 1., 2.]  \n",
        "      [2.],  \n",
        "      [3.],  \n",
        "      [4.] ]\n",
        "\n",
        "To execute it, numpy:\n",
        "1. Aligned the shapes of `a` and `b` on the last axis and prepended 1s to the shape with fewer axes:\n",
        "        a: 4 x 1     --->    a: 4 x 1\n",
        "        b:     3     --->    b: 1 x 3\n",
        "        \n",
        "\n",
        "2. Checked that the sizes of the axes matched or were equal to 1:\n",
        "        a: 4 x 1  \n",
        "        b: 1 x 3\n",
        "`a` and `b` satisfied this criterion. \n",
        "\n",
        "\n",
        "3. Stretched both arrays on their 1-valued axes so that their shapes matched, then added them together.  \n",
        "`a` was replicated 3 times in the second axis, while `b` was replicated 4 times in the first axis.\n",
        "\n",
        "This meant that the addition in the final step was\n",
        "\n",
        "    [ [1., 1., 1.],    +  [ [0., 1., 2.],  \n",
        "      [2., 2., 2.],         [0., 1., 2.],  \n",
        "      [3., 3., 3.],         [0., 1., 2.],  \n",
        "      [4., 4., 4.] ]        [0., 1., 2.] ]\n",
        "      \n",
        "Addition was then carried out element-by-element, as you can verify by referring back to the output of the code cell above.  \n",
        "This resulted in an output with shape 4 x 3.\n",
        "\n",
        "\n",
        "## Numpy's broadcasting rule\n",
        "\n",
        "Broadcasting rules describe how values should be transmitted when the inputs to an operation do not match.  \n",
        "In numpy, the broadcasting rule is very simple:\n",
        "> Prepend 1s to the smaller shape,   \n",
        "check that the axes of both arrays have sizes that are equal or 1,  \n",
        "then stretch the arrays in their size-1 axes.\n",
        "\n",
        "A crucial aspect of this rule is that it does not require the input arrays have the same number of axes.  \n",
        "Another consequence of it is that a broadcasting output will have the largest size of its inputs in each axis.  \n",
        "Take the following multiplication as an example:\n",
        "\n",
        "        a: 3 x 7 x 1  \n",
        "        b:     1 x 5  \n",
        "    a * b: 3 x 7 x 5\n",
        "\n",
        "You can see that the output shape is the maximum of the sizes in each axis.\n",
        "\n",
        "Numpy's broadcasting rule also does not require that one of the arrays has to be bigger in all axes.  \n",
        "This is seen in the following example, where `a` is smaller than `b` in its third axis but is bigger in its second axis."
      ]
    },
    {
      "cell_type": "code",
      "metadata": {
        "id": "Ei8CqFoPB0lk",
        "colab": {
          "base_uri": "https://localhost:8080/"
        },
        "outputId": "3af278cb-d456-4873-fa6a-119927844d98"
      },
      "source": [
        "# Multiply two arrays with different shapes\n",
        "\n",
        "a = np.array([[[0.01], [0.1]],\n",
        "              [[1.00], [10.]]])  # shape (2, 2, 1)\n",
        "b = np.array([[[2., 2.]],\n",
        "              [[3., 3.]]])       # shape (2, 1, 2)\n",
        "\n",
        "a * b # shape (2, 2, 2)"
      ],
      "execution_count": 5,
      "outputs": [
        {
          "output_type": "execute_result",
          "data": {
            "text/plain": [
              "array([[[2.e-02, 2.e-02],\n",
              "        [2.e-01, 2.e-01]],\n",
              "\n",
              "       [[3.e+00, 3.e+00],\n",
              "        [3.e+01, 3.e+01]]])"
            ]
          },
          "metadata": {},
          "execution_count": 5
        }
      ]
    },
    {
      "cell_type": "markdown",
      "metadata": {
        "id": "7-mRho1QB0lm"
      },
      "source": [
        "Broadcasting behaviour also points to an efficient way to compute an outer product in numpy:"
      ]
    },
    {
      "cell_type": "code",
      "metadata": {
        "id": "FRgof7OoB0ln",
        "colab": {
          "base_uri": "https://localhost:8080/"
        },
        "outputId": "22ad50e7-ef7e-42b9-baf4-abbf6efa75aa"
      },
      "source": [
        "# Use broadcasting to compute an outer product\n",
        "\n",
        "a = np.array([-1., 0., 1.])\n",
        "b = np.array([0., 1., 2., 3.])\n",
        "\n",
        "a[:, np.newaxis] * b  # outer product ab^T, where a and b are column vectors"
      ],
      "execution_count": 6,
      "outputs": [
        {
          "output_type": "execute_result",
          "data": {
            "text/plain": [
              "array([[-0., -1., -2., -3.],\n",
              "       [ 0.,  0.,  0.,  0.],\n",
              "       [ 0.,  1.,  2.,  3.]])"
            ]
          },
          "metadata": {},
          "execution_count": 6
        }
      ]
    },
    {
      "cell_type": "markdown",
      "metadata": {
        "id": "cfDPtyr8B0lp"
      },
      "source": [
        "The idea of numpy stretching the arrays in their size-1 axes is useful and is functionally correct. But this is not what numpy literally does behind the scenes, since that would be an inefficient use of memory. Instead, numpy carries out the operation by looping over singleton (size-1) dimensions.\n",
        "\n",
        "To give you some practise with broadcasting, try predicting the output shapes for the following operations:"
      ]
    },
    {
      "cell_type": "code",
      "metadata": {
        "id": "KNXuZL19B0lp"
      },
      "source": [
        "# Define three arrays with different shapes\n",
        "\n",
        "a = [[1.], [2.], [3.]]\n",
        "b = np.zeros(shape=[10, 1, 1])\n",
        "c = np.ones(shape=[4])"
      ],
      "execution_count": 7,
      "outputs": []
    },
    {
      "cell_type": "code",
      "metadata": {
        "id": "kT4fGb-kB0ls",
        "colab": {
          "base_uri": "https://localhost:8080/"
        },
        "outputId": "ed567d31-6290-4468-852f-75ddca2eb34d"
      },
      "source": [
        "# Predict the shape before executing this cell\n",
        "\n",
        "(a + b).shape"
      ],
      "execution_count": 8,
      "outputs": [
        {
          "output_type": "execute_result",
          "data": {
            "text/plain": [
              "(10, 3, 1)"
            ]
          },
          "metadata": {},
          "execution_count": 8
        }
      ]
    },
    {
      "cell_type": "code",
      "metadata": {
        "id": "ALiWS10dB0lv",
        "colab": {
          "base_uri": "https://localhost:8080/"
        },
        "outputId": "0e1fb8a6-653b-4177-d4d5-8796face9f07"
      },
      "source": [
        "# Predict the shape before executing this cell\n",
        "\n",
        "(a*c).shape"
      ],
      "execution_count": 9,
      "outputs": [
        {
          "output_type": "execute_result",
          "data": {
            "text/plain": [
              "(3, 4)"
            ]
          },
          "metadata": {},
          "execution_count": 9
        }
      ]
    },
    {
      "cell_type": "code",
      "metadata": {
        "id": "V-Ij6P5yB0lx",
        "colab": {
          "base_uri": "https://localhost:8080/"
        },
        "outputId": "9efbc194-c52c-4368-99e6-ac7fd1232812"
      },
      "source": [
        "# Predict the shape before executing this cell\n",
        "\n",
        "(a*b + c).shape"
      ],
      "execution_count": 10,
      "outputs": [
        {
          "output_type": "execute_result",
          "data": {
            "text/plain": [
              "(10, 3, 4)"
            ]
          },
          "metadata": {},
          "execution_count": 10
        }
      ]
    },
    {
      "cell_type": "markdown",
      "metadata": {
        "id": "s8LB6VMYB0lz"
      },
      "source": [
        "## Broadcasting for univariate TensorFlow Distributions"
      ]
    },
    {
      "cell_type": "markdown",
      "metadata": {
        "id": "1-kOD9oiB0l0"
      },
      "source": [
        "The broadcasting rule for TensorFlow is the same as that for numpy. For example, TensorFlow also allows you to specify the parameters of Distribution objects using broadcasting. \n",
        "\n",
        "What is meant by this can be understood through an example with the univariate normal distribution. Say that we wish to specify a parameter grid for six Gaussians. The parameter combinations to be used, `(loc, scale)`, are:  \n",
        "\n",
        "    (0, 1)  \n",
        "    (0, 10)  \n",
        "    (0, 100)  \n",
        "    (1, 1)  \n",
        "    (1, 10)  \n",
        "    (1, 100)\n",
        "    \n",
        "A laborious way of doing this is to explicitly pass each parameter to `tfd.Normal`:"
      ]
    },
    {
      "cell_type": "code",
      "metadata": {
        "id": "V6cKtszcB0l0"
      },
      "source": [
        "# Define a batch of Normal distributions without broadcasting\n",
        "\n",
        "batch_of_normals = tfd.Normal(loc=[0., 0., 0., 1., 1., 1.], scale=[1., 10., 100., 1., 10., 100.])"
      ],
      "execution_count": 11,
      "outputs": []
    },
    {
      "cell_type": "code",
      "metadata": {
        "id": "Rs52fx9KB0l3",
        "colab": {
          "base_uri": "https://localhost:8080/"
        },
        "outputId": "a9b7241a-510f-41c0-e7f0-d628a18a7c10"
      },
      "source": [
        "# Print the distribution and notice the batch and event shapes\n",
        "\n",
        "batch_of_normals"
      ],
      "execution_count": 12,
      "outputs": [
        {
          "output_type": "execute_result",
          "data": {
            "text/plain": [
              "<tfp.distributions.Normal 'Normal' batch_shape=[6] event_shape=[] dtype=float32>"
            ]
          },
          "metadata": {},
          "execution_count": 12
        }
      ]
    },
    {
      "cell_type": "code",
      "metadata": {
        "id": "c8-YMamrB0l5",
        "colab": {
          "base_uri": "https://localhost:8080/"
        },
        "outputId": "3cc10cd1-70e6-43cc-dfcd-c1132d7ebeff"
      },
      "source": [
        "# Check the parameter values for loc\n",
        "\n",
        "batch_of_normals.loc"
      ],
      "execution_count": 13,
      "outputs": [
        {
          "output_type": "execute_result",
          "data": {
            "text/plain": [
              "<tf.Tensor: shape=(6,), dtype=float32, numpy=array([0., 0., 0., 1., 1., 1.], dtype=float32)>"
            ]
          },
          "metadata": {},
          "execution_count": 13
        }
      ]
    },
    {
      "cell_type": "code",
      "metadata": {
        "id": "B1QiP1-RB0l7",
        "colab": {
          "base_uri": "https://localhost:8080/"
        },
        "outputId": "c87d1cd1-cee7-43af-ac18-ddd9eb8cd696"
      },
      "source": [
        "# Check the parameter values for scale\n",
        "\n",
        "batch_of_normals.scale"
      ],
      "execution_count": 14,
      "outputs": [
        {
          "output_type": "execute_result",
          "data": {
            "text/plain": [
              "<tf.Tensor: shape=(6,), dtype=float32, numpy=array([  1.,  10., 100.,   1.,  10., 100.], dtype=float32)>"
            ]
          },
          "metadata": {},
          "execution_count": 14
        }
      ]
    },
    {
      "cell_type": "markdown",
      "metadata": {
        "id": "qRoVcY6zB0l9"
      },
      "source": [
        "A more succinct way to create a batch of distributions for this parameter grid is to use broadcasting.  \n",
        "Consider what would happen if we were to broadcast these arrays according the rule discussed earlier: \n",
        "    \n",
        "    loc = [ [0.],\n",
        "            [1.] ]\n",
        "    scale = [1., 10., 100.]\n",
        "    \n",
        "The shapes would be stretched according to\n",
        "\n",
        "    loc:   2 x 1 ---> 2 x 3\n",
        "    scale: 1 x 3 ---> 2 x 3\n",
        "    \n",
        "resulting in\n",
        "\n",
        "    loc = [ [0., 0., 0.],\n",
        "            [1., 1., 1.] ]\n",
        "    scale = [ [1., 10., 100.],\n",
        "              [1., 10., 100.] ]\n",
        "              \n",
        "which are compatible with the `loc` and `scale` arguments of `tfd.Normal`.  \n",
        "Sure enough, this is precisely what TensorFlow does:"
      ]
    },
    {
      "cell_type": "code",
      "metadata": {
        "id": "OtNwpd6sB0l-"
      },
      "source": [
        "# Define a batch of Normal distributions with broadcasting\n",
        "\n",
        "loc = [[0.],\n",
        "       [1.]]\n",
        "scale = [1., 10., 100.]\n",
        "\n",
        "another_batch_of_normals = tfd.Normal(loc=loc, scale=scale)"
      ],
      "execution_count": 15,
      "outputs": []
    },
    {
      "cell_type": "code",
      "metadata": {
        "id": "BLMOwp6OB0mA",
        "colab": {
          "base_uri": "https://localhost:8080/"
        },
        "outputId": "62a0c976-ecd2-447d-ea4d-de3e0f9d5eb8"
      },
      "source": [
        "# Print the distribution and notice the batch and event shapes\n",
        "\n",
        "another_batch_of_normals"
      ],
      "execution_count": 16,
      "outputs": [
        {
          "output_type": "execute_result",
          "data": {
            "text/plain": [
              "<tfp.distributions.Normal 'Normal' batch_shape=[2, 3] event_shape=[] dtype=float32>"
            ]
          },
          "metadata": {},
          "execution_count": 16
        }
      ]
    },
    {
      "cell_type": "code",
      "metadata": {
        "id": "_yTSVcyoB0mD",
        "colab": {
          "base_uri": "https://localhost:8080/"
        },
        "outputId": "25f20c98-e59a-4c43-8daf-ca750b0a9548"
      },
      "source": [
        "# The stored loc parameter values are what you pass in, not what is used after broadcasting\n",
        "\n",
        "another_batch_of_normals.loc"
      ],
      "execution_count": 17,
      "outputs": [
        {
          "output_type": "execute_result",
          "data": {
            "text/plain": [
              "<tf.Tensor: shape=(2, 1), dtype=float32, numpy=\n",
              "array([[0.],\n",
              "       [1.]], dtype=float32)>"
            ]
          },
          "metadata": {},
          "execution_count": 17
        }
      ]
    },
    {
      "cell_type": "code",
      "metadata": {
        "id": "j0Nde2vWB0mG",
        "colab": {
          "base_uri": "https://localhost:8080/"
        },
        "outputId": "8e42724c-4492-448f-975a-249ef638208c"
      },
      "source": [
        "# The stored scale parameter values are what you pass in, not what is used after broadcasting\n",
        "\n",
        "another_batch_of_normals.scale"
      ],
      "execution_count": 18,
      "outputs": [
        {
          "output_type": "execute_result",
          "data": {
            "text/plain": [
              "<tf.Tensor: shape=(3,), dtype=float32, numpy=array([  1.,  10., 100.], dtype=float32)>"
            ]
          },
          "metadata": {},
          "execution_count": 18
        }
      ]
    },
    {
      "cell_type": "markdown",
      "metadata": {
        "id": "N5fs-qA0B0mI"
      },
      "source": [
        "In summary, TensorFlow broadcasts parameter arrays: it stretches them according to the broadcasting rule, then creates a distribution on an element-by-element basis."
      ]
    },
    {
      "cell_type": "markdown",
      "metadata": {
        "id": "twMTIKqHB0mI"
      },
      "source": [
        "#### Broadcasting with `prob` and `log_prob` methods"
      ]
    },
    {
      "cell_type": "markdown",
      "metadata": {
        "id": "yBgjn_KFB0mJ"
      },
      "source": [
        "When using `prob` and  `log_prob` with broadcasting, we follow the same principles as before. Let's make a new batch of normals as before but with means which are centered at different locations to help distinguish the results we get."
      ]
    },
    {
      "cell_type": "code",
      "metadata": {
        "id": "jzxIS-r-B0mJ",
        "colab": {
          "base_uri": "https://localhost:8080/"
        },
        "outputId": "ccde5b93-23d4-4a16-90d4-e97b4cf9db7b"
      },
      "source": [
        "# Define a batch of Normal distributions with broadcasting\n",
        "\n",
        "loc = [[0.],\n",
        "       [10.]]\n",
        "scale = [1., 1., 1.]\n",
        "\n",
        "another_batch_of_normals = tfd.Normal(loc=loc, scale=scale)\n",
        "another_batch_of_normals"
      ],
      "execution_count": 19,
      "outputs": [
        {
          "output_type": "execute_result",
          "data": {
            "text/plain": [
              "<tfp.distributions.Normal 'Normal' batch_shape=[2, 3] event_shape=[] dtype=float32>"
            ]
          },
          "metadata": {},
          "execution_count": 19
        }
      ]
    },
    {
      "cell_type": "markdown",
      "metadata": {
        "id": "p6FY_x8cB0mL"
      },
      "source": [
        "We can feed in samples of any shape as long as it can be broadcast agasint our batch shape for this example. "
      ]
    },
    {
      "cell_type": "code",
      "metadata": {
        "id": "tgDX0R72B0mL",
        "colab": {
          "base_uri": "https://localhost:8080/"
        },
        "outputId": "9a69eab8-8691-49e7-e37c-eafd03c0a7c8"
      },
      "source": [
        "# Use broadcasting along the second axis with the prob method\n",
        "\n",
        "sample = tf.random.uniform((2,1))\n",
        "another_batch_of_normals.prob(sample)"
      ],
      "execution_count": 20,
      "outputs": [
        {
          "output_type": "execute_result",
          "data": {
            "text/plain": [
              "<tf.Tensor: shape=(2, 3), dtype=float32, numpy=\n",
              "array([[3.6125273e-01, 3.6125273e-01, 3.6125273e-01],\n",
              "       [3.0154860e-20, 3.0154860e-20, 3.0154860e-20]], dtype=float32)>"
            ]
          },
          "metadata": {},
          "execution_count": 20
        }
      ]
    },
    {
      "cell_type": "markdown",
      "metadata": {
        "id": "4uYymGXhB0mN"
      },
      "source": [
        "Or boradcasting along the first axis instead:"
      ]
    },
    {
      "cell_type": "code",
      "metadata": {
        "id": "JIIh14u0B0mO",
        "colab": {
          "base_uri": "https://localhost:8080/"
        },
        "outputId": "1c9f518c-9f70-4f4d-b28f-d02796448453"
      },
      "source": [
        "# Use broadcasting along the first axis with the prob method\n",
        "\n",
        "sample = tf.random.uniform((1,3))\n",
        "another_batch_of_normals.prob(sample)"
      ],
      "execution_count": 21,
      "outputs": [
        {
          "output_type": "execute_result",
          "data": {
            "text/plain": [
              "<tf.Tensor: shape=(2, 3), dtype=float32, numpy=\n",
              "array([[3.4172997e-01, 3.9885917e-01, 3.8761011e-01],\n",
              "       [1.7195557e-20, 9.4353627e-23, 8.2467696e-22]], dtype=float32)>"
            ]
          },
          "metadata": {},
          "execution_count": 21
        }
      ]
    },
    {
      "cell_type": "markdown",
      "metadata": {
        "id": "yjIvboCxB0mQ"
      },
      "source": [
        "Or even both axes:"
      ]
    },
    {
      "cell_type": "code",
      "metadata": {
        "id": "H4-SQnv_B0mQ",
        "colab": {
          "base_uri": "https://localhost:8080/"
        },
        "outputId": "ff87c8e3-d9e9-421e-82cb-6b09d371b1b7"
      },
      "source": [
        "# Use broadcasting along both axes with the prob method\n",
        "\n",
        "sample = tf.random.uniform((1,1))\n",
        "another_batch_of_normals.prob(sample)"
      ],
      "execution_count": 22,
      "outputs": [
        {
          "output_type": "execute_result",
          "data": {
            "text/plain": [
              "<tf.Tensor: shape=(2, 3), dtype=float32, numpy=\n",
              "array([[3.8320342e-01, 3.8320342e-01, 3.8320342e-01],\n",
              "       [1.2615951e-21, 1.2615951e-21, 1.2615951e-21]], dtype=float32)>"
            ]
          },
          "metadata": {},
          "execution_count": 22
        }
      ]
    },
    {
      "cell_type": "markdown",
      "metadata": {
        "id": "1a6xQjywB0mT"
      },
      "source": [
        "`log_prob` works in the exact same way with broadcasting. We can replace `prob` with `log_prob` in any of the previous examples:"
      ]
    },
    {
      "cell_type": "code",
      "metadata": {
        "id": "OWL5JdA4B0mT",
        "colab": {
          "base_uri": "https://localhost:8080/"
        },
        "outputId": "15e4a711-bc01-4a20-86dc-93cb8744cd3d"
      },
      "source": [
        "# Use broadcasting along the first axis with the log_prob method\n",
        "\n",
        "sample = tf.random.uniform((1,3))\n",
        "another_batch_of_normals.log_prob(sample)"
      ],
      "execution_count": 23,
      "outputs": [
        {
          "output_type": "execute_result",
          "data": {
            "text/plain": [
              "<tf.Tensor: shape=(2, 3), dtype=float32, numpy=\n",
              "array([[ -1.0050815 ,  -0.92206144,  -0.9530478 ],\n",
              "       [-46.854347  , -50.131752  , -48.341183  ]], dtype=float32)>"
            ]
          },
          "metadata": {},
          "execution_count": 23
        }
      ]
    },
    {
      "cell_type": "markdown",
      "metadata": {
        "id": "u2SDMySvB0mW"
      },
      "source": [
        "## Broadcasting for multivariate TensorFlow distributions"
      ]
    },
    {
      "cell_type": "markdown",
      "metadata": {
        "id": "pxvySIX1B0mX"
      },
      "source": [
        "Broadcasting behaviour for multivariate distributions is only a little more sophisticated than it is for univariate distributions.\n",
        "\n",
        "Recall that `MultivariateNormalDiag` has two parameter arguments: `loc` and `scale_diag`. When specifying a single distribution, these arguments are vectors of the same length:"
      ]
    },
    {
      "cell_type": "code",
      "metadata": {
        "id": "3NpcdNEfB0mX",
        "colab": {
          "base_uri": "https://localhost:8080/"
        },
        "outputId": "6f1c12a0-ac40-4b1f-9d82-c3b7d8f34eb1"
      },
      "source": [
        "# Define a multivariate Gaussian distribution without broadcasting\n",
        "\n",
        "single_mvt_normal = tfd.MultivariateNormalDiag(loc=[0., 0.], scale_diag=[1., 0.5])\n",
        "single_mvt_normal"
      ],
      "execution_count": 24,
      "outputs": [
        {
          "output_type": "execute_result",
          "data": {
            "text/plain": [
              "<tfp.distributions.MultivariateNormalDiag 'MultivariateNormalDiag' batch_shape=[] event_shape=[2] dtype=float32>"
            ]
          },
          "metadata": {},
          "execution_count": 24
        }
      ]
    },
    {
      "cell_type": "code",
      "metadata": {
        "id": "0oLHuNnrB0mZ",
        "colab": {
          "base_uri": "https://localhost:8080/"
        },
        "outputId": "f032cd80-31d4-41cb-c3be-9e66d42f0366"
      },
      "source": [
        "# Print the loc parameter\n",
        "\n",
        "single_mvt_normal.loc"
      ],
      "execution_count": 25,
      "outputs": [
        {
          "output_type": "execute_result",
          "data": {
            "text/plain": [
              "<tf.Tensor: shape=(2,), dtype=float32, numpy=array([0., 0.], dtype=float32)>"
            ]
          },
          "metadata": {},
          "execution_count": 25
        }
      ]
    },
    {
      "cell_type": "code",
      "metadata": {
        "id": "hSfz6hOjB0mb",
        "colab": {
          "base_uri": "https://localhost:8080/"
        },
        "outputId": "2f6d9002-699f-465c-d031-f1778c22625e"
      },
      "source": [
        "# Print the covariance matrix - the diagonal is scale_diag^2\n",
        "\n",
        "single_mvt_normal.covariance()"
      ],
      "execution_count": 26,
      "outputs": [
        {
          "output_type": "execute_result",
          "data": {
            "text/plain": [
              "<tf.Tensor: shape=(2, 2), dtype=float32, numpy=\n",
              "array([[1.  , 0.  ],\n",
              "       [0.  , 0.25]], dtype=float32)>"
            ]
          },
          "metadata": {},
          "execution_count": 26
        }
      ]
    },
    {
      "cell_type": "markdown",
      "metadata": {
        "id": "Ym9A5tFJB0md"
      },
      "source": [
        "The size of the final axis of the inputs determines the event shape for each distribution in the batch.  This means that if we pass\n",
        "    \n",
        "    loc = [ [0., 0.],\n",
        "            [1., 1.] ]\n",
        "    scale_diag = [1., 0.5]\n",
        "    \n",
        "such that\n",
        "\n",
        "    loc:        2 x 2\n",
        "    scale_diag: 1 x 2\n",
        "                    ^ final dimension is interpreted as event dimension\n",
        "                ^ other dimensions are interpreted as batch dimensions  \n",
        "then a batch of two bivariate normal distributions will be created."
      ]
    },
    {
      "cell_type": "code",
      "metadata": {
        "id": "1ayuBOfMB0md"
      },
      "source": [
        "# Define a multivariate Gaussian distribution with broadcasting\n",
        "\n",
        "loc = [ [0., 0.],\n",
        "        [1., 1.] ]\n",
        "scale_diag = [1., 0.5]\n",
        "\n",
        "batch_of_mvt_normals = tfd.MultivariateNormalDiag(loc=loc, scale_diag=scale_diag)"
      ],
      "execution_count": 27,
      "outputs": []
    },
    {
      "cell_type": "code",
      "metadata": {
        "id": "D7RoWZ7uB0mg",
        "colab": {
          "base_uri": "https://localhost:8080/"
        },
        "outputId": "09286984-ac1b-4054-f991-4487f9dc7f23"
      },
      "source": [
        "# Print the distribution - note the event_shape and batch_shape\n",
        "\n",
        "batch_of_mvt_normals"
      ],
      "execution_count": 28,
      "outputs": [
        {
          "output_type": "execute_result",
          "data": {
            "text/plain": [
              "<tfp.distributions.MultivariateNormalDiag 'MultivariateNormalDiag' batch_shape=[2] event_shape=[2] dtype=float32>"
            ]
          },
          "metadata": {},
          "execution_count": 28
        }
      ]
    },
    {
      "cell_type": "code",
      "metadata": {
        "id": "uLiSBvH8B0mj",
        "colab": {
          "base_uri": "https://localhost:8080/"
        },
        "outputId": "2706a021-21f6-4f82-defb-00ea70dbe0f2"
      },
      "source": [
        "# Print the distribution parameters\n",
        "# There is a batch of two distributions with different means and same covariance\n",
        "\n",
        "batch_of_mvt_normals.parameters"
      ],
      "execution_count": 29,
      "outputs": [
        {
          "output_type": "execute_result",
          "data": {
            "text/plain": [
              "{'allow_nan_stats': True,\n",
              " 'experimental_use_kahan_sum': False,\n",
              " 'loc': ListWrapper([ListWrapper([0.0, 0.0]), ListWrapper([1.0, 1.0])]),\n",
              " 'name': 'MultivariateNormalDiag',\n",
              " 'scale_diag': ListWrapper([1.0, 0.5]),\n",
              " 'scale_identity_multiplier': None,\n",
              " 'validate_args': False}"
            ]
          },
          "metadata": {},
          "execution_count": 29
        }
      ]
    },
    {
      "cell_type": "markdown",
      "metadata": {
        "id": "vxFjfOaWB0mk"
      },
      "source": [
        "Knowing that, for multivariate distributions, TensorFlow \n",
        "\n",
        "- interprets the final axis of an array of parameters as the event shape, \n",
        "\n",
        "\n",
        "- and broadcasts over the remaining axes,  \n",
        "\n",
        "can you predict what the batch and event shapes will if we pass the arguments\n",
        "\n",
        "\n",
        "    loc = [ [ 1.,  1.,  1.],\n",
        "            [-1., -1., -1.] ] # shape (2, 3)\n",
        "    scale_diag = [ [[0.1, 0.1, 0.1]],\n",
        "                   [[10., 10., 10.]] ] # shape (2, 1, 3)\n",
        "                   \n",
        "to `MultivariateNormalDiag`?"
      ]
    },
    {
      "cell_type": "markdown",
      "metadata": {
        "id": "_hjyvkW-B0ml"
      },
      "source": [
        "Solution:\n",
        "\n",
        "Align the parameter array shapes on their last axis, prepending 1s where necessary:  \n",
        "    \n",
        "           loc: 1 x 2 x 3  \n",
        "    scale_diag: 2 x 1 x 3  \n",
        "\n",
        "The final axis has size 3, so `event_shape = (3)`. The remaining axes are broadcast over to yield  \n",
        "    \n",
        "           loc: 2 x 2 x 3  \n",
        "    scale_diag: 2 x 2 x 3  \n",
        "\n",
        "so `batch_shape = (2, 2)`.\n",
        "\n",
        "Let's see if this is correct!"
      ]
    },
    {
      "cell_type": "code",
      "metadata": {
        "id": "pVPE8_C6B0ml"
      },
      "source": [
        "# Define a multivariate Gaussian distribution with broadcasting\n",
        "\n",
        "loc = [ [ 1.,  1.,  1.],\n",
        "        [-1., -1., -1.] ]  # shape (2, 3)\n",
        "scale_diag = [ [[0.1, 0.1, 0.1]],\n",
        "               [[10., 10., 10.]] ]  # shape (2, 1, 3)\n",
        "\n",
        "another_batch_of_mvt_normals = tfd.MultivariateNormalDiag(loc=loc, scale_diag=scale_diag)"
      ],
      "execution_count": 30,
      "outputs": []
    },
    {
      "cell_type": "code",
      "metadata": {
        "id": "54utgyM-B0mn",
        "colab": {
          "base_uri": "https://localhost:8080/"
        },
        "outputId": "7623ee1e-a79c-4e8d-8365-a5013fa19e2e"
      },
      "source": [
        "# Print the distribution and note batch and event shapes - bingo!\n",
        "\n",
        "another_batch_of_mvt_normals"
      ],
      "execution_count": 31,
      "outputs": [
        {
          "output_type": "execute_result",
          "data": {
            "text/plain": [
              "<tfp.distributions.MultivariateNormalDiag 'MultivariateNormalDiag' batch_shape=[2, 2] event_shape=[3] dtype=float32>"
            ]
          },
          "metadata": {},
          "execution_count": 31
        }
      ]
    },
    {
      "cell_type": "code",
      "metadata": {
        "id": "396iTbOzB0mp",
        "colab": {
          "base_uri": "https://localhost:8080/"
        },
        "outputId": "10a20a73-3dba-4729-8ba4-5b7cc5586374"
      },
      "source": [
        "# Print the distribution parameters\n",
        "\n",
        "another_batch_of_mvt_normals.parameters"
      ],
      "execution_count": 32,
      "outputs": [
        {
          "output_type": "execute_result",
          "data": {
            "text/plain": [
              "{'allow_nan_stats': True,\n",
              " 'experimental_use_kahan_sum': False,\n",
              " 'loc': ListWrapper([ListWrapper([1.0, 1.0, 1.0]), ListWrapper([-1.0, -1.0, -1.0])]),\n",
              " 'name': 'MultivariateNormalDiag',\n",
              " 'scale_diag': ListWrapper([ListWrapper([ListWrapper([0.1, 0.1, 0.1])]), ListWrapper([ListWrapper([10.0, 10.0, 10.0])])]),\n",
              " 'scale_identity_multiplier': None,\n",
              " 'validate_args': False}"
            ]
          },
          "metadata": {},
          "execution_count": 32
        }
      ]
    },
    {
      "cell_type": "markdown",
      "metadata": {
        "id": "J-t1_QR3B0mr"
      },
      "source": [
        "As we did before lets also look at broadcasting when we have batches of multivariate distributions."
      ]
    },
    {
      "cell_type": "code",
      "metadata": {
        "id": "pF4xI1VxB0mr",
        "colab": {
          "base_uri": "https://localhost:8080/"
        },
        "outputId": "bfafb4d8-6218-450d-bee4-a9f1f0329b2e"
      },
      "source": [
        "# Define a batch of Normal distributions with broadcasting\n",
        "\n",
        "loc = [[0.],\n",
        "       [1.],\n",
        "       [0.]]\n",
        "scale = [1., 10., 100., 1., 10, 100.]\n",
        "\n",
        "another_batch_of_normals = tfd.Normal(loc=loc, scale=scale)\n",
        "another_batch_of_normals"
      ],
      "execution_count": 33,
      "outputs": [
        {
          "output_type": "execute_result",
          "data": {
            "text/plain": [
              "<tfp.distributions.Normal 'Normal' batch_shape=[3, 6] event_shape=[] dtype=float32>"
            ]
          },
          "metadata": {},
          "execution_count": 33
        }
      ]
    },
    {
      "cell_type": "markdown",
      "metadata": {
        "id": "gG4I5i3PB0mt"
      },
      "source": [
        "And to refresh our memory of `Independent` we'll use it below to roll the rightmost batch shape into the event shape. "
      ]
    },
    {
      "cell_type": "code",
      "metadata": {
        "id": "fwrCFa-KB0mt",
        "colab": {
          "base_uri": "https://localhost:8080/"
        },
        "outputId": "2156ddec-cc9b-421a-b102-d2a9c4a7d8fe"
      },
      "source": [
        "# Create a multivariate Independent distribution\n",
        "\n",
        "another_batch_of_mvt_normals = tfd.Independent(another_batch_of_normals)\n",
        "another_batch_of_mvt_normals"
      ],
      "execution_count": 34,
      "outputs": [
        {
          "output_type": "stream",
          "name": "stdout",
          "text": [
            "WARNING:tensorflow:From /usr/local/lib/python3.7/dist-packages/tensorflow_probability/python/distributions/distribution.py:342: calling _Independent.__init__ (from tensorflow_probability.python.distributions.independent) with reinterpreted_batch_ndims=None is deprecated and will be removed after 2022-03-01.\n",
            "Instructions for updating:\n",
            "Please pass an integer value for `reinterpreted_batch_ndims`. The current behavior corresponds to `reinterpreted_batch_ndims=tf.size(distribution.batch_shape_tensor()) - 1`.\n"
          ]
        },
        {
          "output_type": "execute_result",
          "data": {
            "text/plain": [
              "<tfp.distributions.Independent 'IndependentNormal' batch_shape=[3] event_shape=[6] dtype=float32>"
            ]
          },
          "metadata": {},
          "execution_count": 34
        }
      ]
    },
    {
      "cell_type": "markdown",
      "metadata": {
        "id": "37mmasOiB0mv"
      },
      "source": [
        "Now, onto the broadcasting: "
      ]
    },
    {
      "cell_type": "code",
      "metadata": {
        "id": "YDfl-pqzB0mw",
        "colab": {
          "base_uri": "https://localhost:8080/"
        },
        "outputId": "7feafa30-c4c8-492d-92a8-274c642b8609"
      },
      "source": [
        "# Use broadcasting with the prob method\n",
        "# B shaped input (broadcast over event)\n",
        "\n",
        "sample = tf.random.uniform((3, 1))\n",
        "another_batch_of_mvt_normals.prob(sample)"
      ],
      "execution_count": 35,
      "outputs": [
        {
          "output_type": "execute_result",
          "data": {
            "text/plain": [
              "<tf.Tensor: shape=(3,), dtype=float32, numpy=array([3.2468210e-09, 1.5592092e-09, 2.5032225e-09], dtype=float32)>"
            ]
          },
          "metadata": {},
          "execution_count": 35
        }
      ]
    },
    {
      "cell_type": "code",
      "metadata": {
        "id": "tYu7hrNyB0my",
        "colab": {
          "base_uri": "https://localhost:8080/"
        },
        "outputId": "a25fcc72-45b4-46bc-d490-feeaad1557bc"
      },
      "source": [
        "# Use broadcasting with the prob method\n",
        "# E shaped input (broadcast over batch)\n",
        "\n",
        "sample = tf.random.uniform((1, 6))\n",
        "another_batch_of_mvt_normals.prob(sample)"
      ],
      "execution_count": 36,
      "outputs": [
        {
          "output_type": "execute_result",
          "data": {
            "text/plain": [
              "<tf.Tensor: shape=(3,), dtype=float32, numpy=array([3.3776024e-09, 2.3320097e-09, 3.3776024e-09], dtype=float32)>"
            ]
          },
          "metadata": {},
          "execution_count": 36
        }
      ]
    },
    {
      "cell_type": "code",
      "metadata": {
        "id": "Ou7NVaQkB0mz",
        "colab": {
          "base_uri": "https://localhost:8080/"
        },
        "outputId": "d8543aaf-2fd8-4002-8af4-a6f0f212ba39"
      },
      "source": [
        "# Use broadcasting with the prob method\n",
        "# [S,B,E] shaped input (broadcast over samples)\n",
        "\n",
        "sample = tf.random.uniform((2, 3, 6))\n",
        "another_batch_of_mvt_normals.prob(sample)"
      ],
      "execution_count": 37,
      "outputs": [
        {
          "output_type": "execute_result",
          "data": {
            "text/plain": [
              "<tf.Tensor: shape=(2, 3), dtype=float32, numpy=\n",
              "array([[2.8117015e-09, 1.6415469e-09, 2.6960767e-09],\n",
              "       [3.2976177e-09, 3.1683678e-09, 2.6245208e-09]], dtype=float32)>"
            ]
          },
          "metadata": {},
          "execution_count": 37
        }
      ]
    },
    {
      "cell_type": "code",
      "metadata": {
        "id": "Q3S322z_B0m2",
        "colab": {
          "base_uri": "https://localhost:8080/"
        },
        "outputId": "85411cd2-55e9-4049-974d-ad2db182598e"
      },
      "source": [
        "# [S,b,e] shaped input where [b,e] can be broadcast agaisnt [B,E]\n",
        "sample = tf.random.uniform((2, 1, 6))\n",
        "another_batch_of_mvt_normals.prob(sample)"
      ],
      "execution_count": 38,
      "outputs": [
        {
          "output_type": "execute_result",
          "data": {
            "text/plain": [
              "<tf.Tensor: shape=(2, 3), dtype=float32, numpy=\n",
              "array([[3.7428247e-09, 2.1842492e-09, 3.7428247e-09],\n",
              "       [3.5631613e-09, 2.6193148e-09, 3.5631613e-09]], dtype=float32)>"
            ]
          },
          "metadata": {},
          "execution_count": 38
        }
      ]
    },
    {
      "cell_type": "markdown",
      "metadata": {
        "id": "hceF4UCdB0m4"
      },
      "source": [
        "As a final example with `log_prob` instead of `prob`"
      ]
    },
    {
      "cell_type": "code",
      "metadata": {
        "id": "oqw4WtVFB0m4",
        "colab": {
          "base_uri": "https://localhost:8080/"
        },
        "outputId": "e4eb3ea4-3f90-4992-b4f2-7b843b50da3c"
      },
      "source": [
        "# Use broadcasting with the log_prob method\n",
        "# [S,b,e] shaped input where [b,e] can be broadcast agaisnt [B,E]\n",
        "\n",
        "sample = tf.random.uniform((2, 3, 1))\n",
        "another_batch_of_mvt_normals.prob(sample)"
      ],
      "execution_count": 39,
      "outputs": [
        {
          "output_type": "execute_result",
          "data": {
            "text/plain": [
              "<tf.Tensor: shape=(2, 3), dtype=float32, numpy=\n",
              "array([[2.9690010e-09, 3.2777083e-09, 2.9245157e-09],\n",
              "       [3.8035282e-09, 2.4225719e-09, 2.9585883e-09]], dtype=float32)>"
            ]
          },
          "metadata": {},
          "execution_count": 39
        }
      ]
    },
    {
      "cell_type": "markdown",
      "metadata": {
        "id": "B4nnQyxzB0m7"
      },
      "source": [
        "You should now feel confident specifying batches of distributions using broadcasting. As you may have already guessed, broadcasting is especially useful when specifying grids of hyperparameters. \n",
        "\n",
        "If you don't feel entirely comfortable with broadcasting quite yet, don't worry: re-read this notebook, go through the further reading provided below, and experiment with broadcasting in both numpy and TensorFlow, and you'll be broadcasting in no time."
      ]
    },
    {
      "cell_type": "markdown",
      "metadata": {
        "id": "y9Mz2mOeB0m8"
      },
      "source": [
        "### Further reading and resources\n",
        "* Numpy documentation on broadcasting: https://numpy.org/devdocs/user/theory.broadcasting.html\n",
        "* https://www.tensorflow.org/xla/broadcasting"
      ]
    }
  ]
}