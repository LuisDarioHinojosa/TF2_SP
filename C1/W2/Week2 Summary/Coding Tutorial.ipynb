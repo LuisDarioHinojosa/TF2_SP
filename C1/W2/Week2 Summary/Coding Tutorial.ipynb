{
 "cells": [
  {
   "cell_type": "code",
   "execution_count": 1,
   "metadata": {
    "scrolled": true
   },
   "outputs": [
    {
     "name": "stdout",
     "output_type": "stream",
     "text": [
      "2.0.0\n"
     ]
    }
   ],
   "source": [
    "import tensorflow as tf\n",
    "print(tf.__version__)"
   ]
  },
  {
   "cell_type": "markdown",
   "metadata": {},
   "source": [
    "# Validation, regularisation and callbacks"
   ]
  },
  {
   "cell_type": "markdown",
   "metadata": {},
   "source": [
    " ## Coding tutorials\n",
    " #### [1. Validation sets](#coding_tutorial_1)\n",
    " #### [2. Model regularisation](#coding_tutorial_2)\n",
    " #### [3. Introduction to callbacks](#coding_tutorial_3)\n",
    " #### [4. Early stopping / patience](#coding_tutorial_4)"
   ]
  },
  {
   "cell_type": "markdown",
   "metadata": {},
   "source": [
    "***\n",
    "<a id=\"coding_tutorial_1\"></a>\n",
    "## Validation sets"
   ]
  },
  {
   "cell_type": "markdown",
   "metadata": {},
   "source": [
    "#### Load the data"
   ]
  },
  {
   "cell_type": "code",
   "execution_count": 2,
   "metadata": {},
   "outputs": [
    {
     "name": "stdout",
     "output_type": "stream",
     "text": [
      ".. _diabetes_dataset:\n",
      "\n",
      "Diabetes dataset\n",
      "----------------\n",
      "\n",
      "Ten baseline variables, age, sex, body mass index, average blood\n",
      "pressure, and six blood serum measurements were obtained for each of n =\n",
      "442 diabetes patients, as well as the response of interest, a\n",
      "quantitative measure of disease progression one year after baseline.\n",
      "\n",
      "**Data Set Characteristics:**\n",
      "\n",
      "  :Number of Instances: 442\n",
      "\n",
      "  :Number of Attributes: First 10 columns are numeric predictive values\n",
      "\n",
      "  :Target: Column 11 is a quantitative measure of disease progression one year after baseline\n",
      "\n",
      "  :Attribute Information:\n",
      "      - Age\n",
      "      - Sex\n",
      "      - Body mass index\n",
      "      - Average blood pressure\n",
      "      - S1\n",
      "      - S2\n",
      "      - S3\n",
      "      - S4\n",
      "      - S5\n",
      "      - S6\n",
      "\n",
      "Note: Each of these 10 feature variables have been mean centered and scaled by the standard deviation times `n_samples` (i.e. the sum of squares of each column totals 1).\n",
      "\n",
      "Source URL:\n",
      "http://www4.stat.ncsu.edu/~boos/var.select/diabetes.html\n",
      "\n",
      "For more information see:\n",
      "Bradley Efron, Trevor Hastie, Iain Johnstone and Robert Tibshirani (2004) \"Least Angle Regression,\" Annals of Statistics (with discussion), 407-499.\n",
      "(http://web.stanford.edu/~hastie/Papers/LARS/LeastAngle_2002.pdf)\n"
     ]
    }
   ],
   "source": [
    "# Load the diabetes dataset\n",
    "from sklearn.datasets import load_diabetes\n",
    "diabetesDs = load_diabetes()\n",
    "print(diabetesDs[\"DESCR\"])"
   ]
  },
  {
   "cell_type": "code",
   "execution_count": 3,
   "metadata": {},
   "outputs": [
    {
     "name": "stdout",
     "output_type": "stream",
     "text": [
      "dict_keys(['data', 'target', 'DESCR', 'feature_names', 'data_filename', 'target_filename'])\n"
     ]
    }
   ],
   "source": [
    "# Save the input and target variables\n",
    "\n",
    "print(diabetesDs.keys())\n",
    "data = diabetesDs[\"data\"]\n",
    "targets = diabetesDs[\"target\"]"
   ]
  },
  {
   "cell_type": "code",
   "execution_count": 4,
   "metadata": {},
   "outputs": [],
   "source": [
    "# Normalise the target data (this will make clearer training curves)\n",
    "targets = (targets-targets.mean(axis = 0)) / targets.std()\n"
   ]
  },
  {
   "cell_type": "code",
   "execution_count": 5,
   "metadata": {},
   "outputs": [
    {
     "name": "stdout",
     "output_type": "stream",
     "text": [
      "(397, 10)\n"
     ]
    }
   ],
   "source": [
    "# Split the data into train and test sets\n",
    "from sklearn.model_selection import train_test_split\n",
    "\n",
    "trainData,testData,trainTargets,testTargets = train_test_split(data,targets,test_size = 0.1)\n",
    "print(trainData.shape)"
   ]
  },
  {
   "cell_type": "markdown",
   "metadata": {},
   "source": [
    "#### Train a feedforward neural network model"
   ]
  },
  {
   "cell_type": "code",
   "execution_count": 6,
   "metadata": {},
   "outputs": [],
   "source": [
    "# Build the model\n",
    "from tensorflow.keras.models import Sequential\n",
    "from tensorflow.keras.layers import Dense\n",
    "\n",
    "def getModel():\n",
    "    model = Sequential()\n",
    "    model.add(Dense(128,activation=\"relu\",input_shape=(trainData.shape[1],)))\n",
    "    model.add(Dense(128,activation=\"relu\"))\n",
    "    model.add(Dense(128,activation=\"relu\"))\n",
    "    model.add(Dense(129,activation=\"relu\"))\n",
    "    model.add(Dense(128,activation=\"relu\"))\n",
    "    model.add(Dense(129,activation=\"relu\"))\n",
    "    model.add(Dense(1))\n",
    "    return model\n",
    "    \n",
    "model = getModel()"
   ]
  },
  {
   "cell_type": "code",
   "execution_count": 7,
   "metadata": {},
   "outputs": [
    {
     "name": "stdout",
     "output_type": "stream",
     "text": [
      "Model: \"sequential\"\n",
      "_________________________________________________________________\n",
      "Layer (type)                 Output Shape              Param #   \n",
      "=================================================================\n",
      "dense (Dense)                (None, 128)               1408      \n",
      "_________________________________________________________________\n",
      "dense_1 (Dense)              (None, 128)               16512     \n",
      "_________________________________________________________________\n",
      "dense_2 (Dense)              (None, 128)               16512     \n",
      "_________________________________________________________________\n",
      "dense_3 (Dense)              (None, 129)               16641     \n",
      "_________________________________________________________________\n",
      "dense_4 (Dense)              (None, 128)               16640     \n",
      "_________________________________________________________________\n",
      "dense_5 (Dense)              (None, 129)               16641     \n",
      "_________________________________________________________________\n",
      "dense_6 (Dense)              (None, 1)                 130       \n",
      "=================================================================\n",
      "Total params: 84,484\n",
      "Trainable params: 84,484\n",
      "Non-trainable params: 0\n",
      "_________________________________________________________________\n"
     ]
    }
   ],
   "source": [
    "# Print the model summary\n",
    "\n",
    "model.summary()"
   ]
  },
  {
   "cell_type": "code",
   "execution_count": 8,
   "metadata": {},
   "outputs": [],
   "source": [
    "# Compile the model\n",
    "model.compile(\n",
    "    optimizer=\"adam\",\n",
    "    loss=\"mse\",\n",
    "    metrics=[\"mae\"]\n",
    ")\n"
   ]
  },
  {
   "cell_type": "code",
   "execution_count": 9,
   "metadata": {},
   "outputs": [
    {
     "name": "stdout",
     "output_type": "stream",
     "text": [
      "Train on 337 samples, validate on 60 samples\n",
      "Epoch 1/100\n",
      "337/337 [==============================] - 2s 5ms/sample - loss: 1.0082 - mae: 0.8595 - val_loss: 0.7389 - val_mae: 0.7544\n",
      "Epoch 2/100\n",
      "337/337 [==============================] - 0s 560us/sample - loss: 0.9007 - mae: 0.8131 - val_loss: 0.5780 - val_mae: 0.6758\n",
      "Epoch 3/100\n",
      "337/337 [==============================] - 0s 585us/sample - loss: 0.6659 - mae: 0.6895 - val_loss: 0.4192 - val_mae: 0.5072\n",
      "Epoch 4/100\n",
      "337/337 [==============================] - 0s 597us/sample - loss: 0.5533 - mae: 0.5910 - val_loss: 0.4509 - val_mae: 0.5116\n",
      "Epoch 5/100\n",
      "337/337 [==============================] - 0s 590us/sample - loss: 0.5232 - mae: 0.5632 - val_loss: 0.5819 - val_mae: 0.6604\n",
      "Epoch 6/100\n",
      "337/337 [==============================] - 0s 351us/sample - loss: 0.5342 - mae: 0.6090 - val_loss: 0.4202 - val_mae: 0.5371\n",
      "Epoch 7/100\n",
      "337/337 [==============================] - 0s 854us/sample - loss: 0.4849 - mae: 0.5590 - val_loss: 0.4021 - val_mae: 0.5320\n",
      "Epoch 8/100\n",
      "337/337 [==============================] - 0s 603us/sample - loss: 0.4523 - mae: 0.5406 - val_loss: 0.3765 - val_mae: 0.4931\n",
      "Epoch 9/100\n",
      "337/337 [==============================] - 0s 591us/sample - loss: 0.4546 - mae: 0.5375 - val_loss: 0.3530 - val_mae: 0.5050\n",
      "Epoch 10/100\n",
      "337/337 [==============================] - 0s 594us/sample - loss: 0.4376 - mae: 0.5378 - val_loss: 0.3584 - val_mae: 0.4877\n",
      "Epoch 11/100\n",
      "337/337 [==============================] - 0s 593us/sample - loss: 0.4901 - mae: 0.5465 - val_loss: 0.3872 - val_mae: 0.5185\n",
      "Epoch 12/100\n",
      "337/337 [==============================] - 0s 596us/sample - loss: 0.4662 - mae: 0.5567 - val_loss: 0.3869 - val_mae: 0.5075\n",
      "Epoch 13/100\n",
      "337/337 [==============================] - 0s 588us/sample - loss: 0.4529 - mae: 0.5302 - val_loss: 0.3808 - val_mae: 0.5097\n",
      "Epoch 14/100\n",
      "337/337 [==============================] - 0s 598us/sample - loss: 0.4255 - mae: 0.5264 - val_loss: 0.3992 - val_mae: 0.5305\n",
      "Epoch 15/100\n",
      "337/337 [==============================] - 0s 588us/sample - loss: 0.4092 - mae: 0.5106 - val_loss: 0.3740 - val_mae: 0.4917\n",
      "Epoch 16/100\n",
      "337/337 [==============================] - 0s 590us/sample - loss: 0.4167 - mae: 0.5131 - val_loss: 0.3687 - val_mae: 0.4938\n",
      "Epoch 17/100\n",
      "337/337 [==============================] - 0s 593us/sample - loss: 0.3975 - mae: 0.4937 - val_loss: 0.3637 - val_mae: 0.4984\n",
      "Epoch 18/100\n",
      "337/337 [==============================] - 0s 591us/sample - loss: 0.4053 - mae: 0.5134 - val_loss: 0.3708 - val_mae: 0.5013\n",
      "Epoch 19/100\n",
      "337/337 [==============================] - 0s 593us/sample - loss: 0.3882 - mae: 0.4927 - val_loss: 0.3801 - val_mae: 0.5154\n",
      "Epoch 20/100\n",
      "337/337 [==============================] - 0s 856us/sample - loss: 0.3800 - mae: 0.4963 - val_loss: 0.3854 - val_mae: 0.5185\n",
      "Epoch 21/100\n",
      "337/337 [==============================] - 0s 603us/sample - loss: 0.3718 - mae: 0.4851 - val_loss: 0.3570 - val_mae: 0.4918\n",
      "Epoch 22/100\n",
      "337/337 [==============================] - 0s 594us/sample - loss: 0.3646 - mae: 0.4786 - val_loss: 0.3484 - val_mae: 0.4942\n",
      "Epoch 23/100\n",
      "337/337 [==============================] - 0s 595us/sample - loss: 0.3543 - mae: 0.4718 - val_loss: 0.3666 - val_mae: 0.4908\n",
      "Epoch 24/100\n",
      "337/337 [==============================] - 0s 582us/sample - loss: 0.3649 - mae: 0.4712 - val_loss: 0.4226 - val_mae: 0.5315\n",
      "Epoch 25/100\n",
      "337/337 [==============================] - 0s 599us/sample - loss: 0.3437 - mae: 0.4634 - val_loss: 0.4113 - val_mae: 0.5366\n",
      "Epoch 26/100\n",
      "337/337 [==============================] - 0s 588us/sample - loss: 0.3384 - mae: 0.4603 - val_loss: 0.4129 - val_mae: 0.5384\n",
      "Epoch 27/100\n",
      "337/337 [==============================] - 0s 593us/sample - loss: 0.3350 - mae: 0.4572 - val_loss: 0.3871 - val_mae: 0.5174\n",
      "Epoch 28/100\n",
      "337/337 [==============================] - 0s 589us/sample - loss: 0.3278 - mae: 0.4513 - val_loss: 0.4310 - val_mae: 0.5314\n",
      "Epoch 29/100\n",
      "337/337 [==============================] - 0s 586us/sample - loss: 0.3212 - mae: 0.4413 - val_loss: 0.4215 - val_mae: 0.5390\n",
      "Epoch 30/100\n",
      "337/337 [==============================] - 0s 587us/sample - loss: 0.3092 - mae: 0.4356 - val_loss: 0.3954 - val_mae: 0.5151\n",
      "Epoch 31/100\n",
      "337/337 [==============================] - 0s 604us/sample - loss: 0.3077 - mae: 0.4408 - val_loss: 0.4127 - val_mae: 0.5243\n",
      "Epoch 32/100\n",
      "337/337 [==============================] - 0s 591us/sample - loss: 0.2893 - mae: 0.4233 - val_loss: 0.4068 - val_mae: 0.5213\n",
      "Epoch 33/100\n",
      "337/337 [==============================] - 0s 588us/sample - loss: 0.2823 - mae: 0.4135 - val_loss: 0.4676 - val_mae: 0.5702\n",
      "Epoch 34/100\n",
      "337/337 [==============================] - 0s 590us/sample - loss: 0.2856 - mae: 0.4218 - val_loss: 0.4546 - val_mae: 0.5576\n",
      "Epoch 35/100\n",
      "337/337 [==============================] - 0s 589us/sample - loss: 0.2710 - mae: 0.4096 - val_loss: 0.4205 - val_mae: 0.5347\n",
      "Epoch 36/100\n",
      "337/337 [==============================] - 0s 593us/sample - loss: 0.2625 - mae: 0.4038 - val_loss: 0.4805 - val_mae: 0.5472\n",
      "Epoch 37/100\n",
      "337/337 [==============================] - 0s 591us/sample - loss: 0.2882 - mae: 0.4125 - val_loss: 0.4317 - val_mae: 0.5577\n",
      "Epoch 38/100\n",
      "337/337 [==============================] - 0s 587us/sample - loss: 0.2549 - mae: 0.3981 - val_loss: 0.4561 - val_mae: 0.5652\n",
      "Epoch 39/100\n",
      "337/337 [==============================] - 0s 593us/sample - loss: 0.2376 - mae: 0.3809 - val_loss: 0.4987 - val_mae: 0.5705\n",
      "Epoch 40/100\n",
      "337/337 [==============================] - 0s 590us/sample - loss: 0.2674 - mae: 0.4040 - val_loss: 0.4951 - val_mae: 0.5804\n",
      "Epoch 41/100\n",
      "337/337 [==============================] - 0s 594us/sample - loss: 0.2409 - mae: 0.3875 - val_loss: 0.5111 - val_mae: 0.5632\n",
      "Epoch 42/100\n",
      "337/337 [==============================] - 0s 596us/sample - loss: 0.2517 - mae: 0.3881 - val_loss: 0.4790 - val_mae: 0.5798\n",
      "Epoch 43/100\n",
      "337/337 [==============================] - 0s 574us/sample - loss: 0.2379 - mae: 0.3768 - val_loss: 0.5438 - val_mae: 0.6171\n",
      "Epoch 44/100\n",
      "337/337 [==============================] - 0s 599us/sample - loss: 0.2381 - mae: 0.3819 - val_loss: 0.4870 - val_mae: 0.5521\n",
      "Epoch 45/100\n",
      "337/337 [==============================] - 0s 586us/sample - loss: 0.2504 - mae: 0.3935 - val_loss: 0.5049 - val_mae: 0.5768\n",
      "Epoch 46/100\n",
      "337/337 [==============================] - 0s 587us/sample - loss: 0.2299 - mae: 0.3768 - val_loss: 0.5183 - val_mae: 0.5967\n",
      "Epoch 47/100\n",
      "337/337 [==============================] - 0s 594us/sample - loss: 0.2111 - mae: 0.3535 - val_loss: 0.5550 - val_mae: 0.6152\n",
      "Epoch 48/100\n",
      "337/337 [==============================] - 0s 592us/sample - loss: 0.1992 - mae: 0.3308 - val_loss: 0.5884 - val_mae: 0.6234\n",
      "Epoch 49/100\n",
      "337/337 [==============================] - 0s 593us/sample - loss: 0.2375 - mae: 0.3745 - val_loss: 0.4600 - val_mae: 0.5638\n",
      "Epoch 50/100\n",
      "337/337 [==============================] - 0s 602us/sample - loss: 0.2149 - mae: 0.3641 - val_loss: 0.5265 - val_mae: 0.5904\n",
      "Epoch 51/100\n",
      "337/337 [==============================] - 0s 587us/sample - loss: 0.2190 - mae: 0.3622 - val_loss: 0.6230 - val_mae: 0.6448\n",
      "Epoch 52/100\n",
      "337/337 [==============================] - 0s 589us/sample - loss: 0.1868 - mae: 0.3364 - val_loss: 0.5600 - val_mae: 0.6190\n",
      "Epoch 53/100\n",
      "337/337 [==============================] - 0s 590us/sample - loss: 0.1883 - mae: 0.3406 - val_loss: 0.5033 - val_mae: 0.5774\n",
      "Epoch 54/100\n",
      "337/337 [==============================] - 0s 591us/sample - loss: 0.1818 - mae: 0.3232 - val_loss: 0.5755 - val_mae: 0.6149\n",
      "Epoch 55/100\n",
      "337/337 [==============================] - 0s 593us/sample - loss: 0.1813 - mae: 0.3255 - val_loss: 0.5631 - val_mae: 0.6157\n",
      "Epoch 56/100\n",
      "337/337 [==============================] - 0s 590us/sample - loss: 0.1693 - mae: 0.3157 - val_loss: 0.4970 - val_mae: 0.5882\n",
      "Epoch 57/100\n",
      "337/337 [==============================] - 0s 595us/sample - loss: 0.1551 - mae: 0.2996 - val_loss: 0.5644 - val_mae: 0.6132\n",
      "Epoch 58/100\n",
      "337/337 [==============================] - 0s 584us/sample - loss: 0.1536 - mae: 0.2932 - val_loss: 0.5649 - val_mae: 0.6156\n",
      "Epoch 59/100\n",
      "337/337 [==============================] - 0s 593us/sample - loss: 0.1461 - mae: 0.2888 - val_loss: 0.5692 - val_mae: 0.6212\n",
      "Epoch 60/100\n",
      "337/337 [==============================] - 0s 583us/sample - loss: 0.1570 - mae: 0.3058 - val_loss: 0.5669 - val_mae: 0.6201\n",
      "Epoch 61/100\n",
      "337/337 [==============================] - 0s 589us/sample - loss: 0.1374 - mae: 0.2781 - val_loss: 0.5780 - val_mae: 0.6316\n",
      "Epoch 62/100\n",
      "337/337 [==============================] - 0s 595us/sample - loss: 0.1398 - mae: 0.2805 - val_loss: 0.5532 - val_mae: 0.6053\n",
      "Epoch 63/100\n",
      "337/337 [==============================] - 0s 584us/sample - loss: 0.1313 - mae: 0.2774 - val_loss: 0.5404 - val_mae: 0.6086\n",
      "Epoch 64/100\n",
      "337/337 [==============================] - 0s 594us/sample - loss: 0.1239 - mae: 0.2674 - val_loss: 0.6510 - val_mae: 0.6657\n",
      "Epoch 65/100\n",
      "337/337 [==============================] - 0s 585us/sample - loss: 0.1453 - mae: 0.2935 - val_loss: 0.6660 - val_mae: 0.6396\n",
      "Epoch 66/100\n",
      "337/337 [==============================] - 0s 602us/sample - loss: 0.1338 - mae: 0.2806 - val_loss: 0.6250 - val_mae: 0.6568\n",
      "Epoch 67/100\n",
      "337/337 [==============================] - 0s 591us/sample - loss: 0.1191 - mae: 0.2647 - val_loss: 0.5853 - val_mae: 0.6160\n",
      "Epoch 68/100\n",
      "337/337 [==============================] - 0s 584us/sample - loss: 0.1184 - mae: 0.2600 - val_loss: 0.5986 - val_mae: 0.6315\n",
      "Epoch 69/100\n",
      "337/337 [==============================] - 0s 590us/sample - loss: 0.1236 - mae: 0.2727 - val_loss: 0.6183 - val_mae: 0.6416\n",
      "Epoch 70/100\n",
      "337/337 [==============================] - 0s 598us/sample - loss: 0.1140 - mae: 0.2604 - val_loss: 0.5871 - val_mae: 0.6247\n",
      "Epoch 71/100\n",
      "337/337 [==============================] - 0s 591us/sample - loss: 0.1153 - mae: 0.2610 - val_loss: 0.6310 - val_mae: 0.6417\n",
      "Epoch 72/100\n",
      "337/337 [==============================] - 0s 592us/sample - loss: 0.1123 - mae: 0.2564 - val_loss: 0.6620 - val_mae: 0.6423\n",
      "Epoch 73/100\n",
      "337/337 [==============================] - 0s 598us/sample - loss: 0.1240 - mae: 0.2729 - val_loss: 0.7411 - val_mae: 0.6869\n",
      "Epoch 74/100\n",
      "337/337 [==============================] - 0s 587us/sample - loss: 0.1332 - mae: 0.2855 - val_loss: 0.6214 - val_mae: 0.5999\n",
      "Epoch 75/100\n",
      "337/337 [==============================] - 0s 585us/sample - loss: 0.1531 - mae: 0.3145 - val_loss: 0.6866 - val_mae: 0.6701\n",
      "Epoch 76/100\n",
      "337/337 [==============================] - 0s 598us/sample - loss: 0.1473 - mae: 0.3070 - val_loss: 0.6047 - val_mae: 0.6197\n",
      "Epoch 77/100\n",
      "337/337 [==============================] - 0s 592us/sample - loss: 0.1262 - mae: 0.2774 - val_loss: 0.6627 - val_mae: 0.6773\n",
      "Epoch 78/100\n",
      "337/337 [==============================] - 0s 587us/sample - loss: 0.1291 - mae: 0.2735 - val_loss: 0.5996 - val_mae: 0.6050\n",
      "Epoch 79/100\n",
      "337/337 [==============================] - 0s 589us/sample - loss: 0.1056 - mae: 0.2452 - val_loss: 0.5529 - val_mae: 0.6049\n",
      "Epoch 80/100\n",
      "337/337 [==============================] - 0s 601us/sample - loss: 0.0829 - mae: 0.2098 - val_loss: 0.6095 - val_mae: 0.6361\n",
      "Epoch 81/100\n",
      "337/337 [==============================] - 0s 592us/sample - loss: 0.0773 - mae: 0.2004 - val_loss: 0.6253 - val_mae: 0.6487\n",
      "Epoch 82/100\n",
      "337/337 [==============================] - 0s 591us/sample - loss: 0.0799 - mae: 0.2136 - val_loss: 0.5869 - val_mae: 0.6224\n",
      "Epoch 83/100\n",
      "337/337 [==============================] - 0s 591us/sample - loss: 0.0732 - mae: 0.1991 - val_loss: 0.5924 - val_mae: 0.6193\n",
      "Epoch 84/100\n",
      "337/337 [==============================] - 0s 593us/sample - loss: 0.0661 - mae: 0.1852 - val_loss: 0.5572 - val_mae: 0.6015\n",
      "Epoch 85/100\n",
      "337/337 [==============================] - 0s 582us/sample - loss: 0.0640 - mae: 0.1784 - val_loss: 0.5958 - val_mae: 0.6250\n",
      "Epoch 86/100\n",
      "337/337 [==============================] - 0s 592us/sample - loss: 0.0633 - mae: 0.1777 - val_loss: 0.6085 - val_mae: 0.6226\n",
      "Epoch 87/100\n",
      "337/337 [==============================] - 0s 603us/sample - loss: 0.0585 - mae: 0.1714 - val_loss: 0.6094 - val_mae: 0.6297\n",
      "Epoch 88/100\n",
      "337/337 [==============================] - 0s 580us/sample - loss: 0.0632 - mae: 0.1860 - val_loss: 0.5991 - val_mae: 0.6316\n",
      "Epoch 89/100\n",
      "337/337 [==============================] - 0s 585us/sample - loss: 0.0563 - mae: 0.1678 - val_loss: 0.6093 - val_mae: 0.6250\n",
      "Epoch 90/100\n",
      "337/337 [==============================] - 0s 599us/sample - loss: 0.0537 - mae: 0.1687 - val_loss: 0.5857 - val_mae: 0.6295\n",
      "Epoch 91/100\n",
      "337/337 [==============================] - 0s 581us/sample - loss: 0.0486 - mae: 0.1531 - val_loss: 0.6074 - val_mae: 0.6146\n",
      "Epoch 92/100\n",
      "337/337 [==============================] - 0s 593us/sample - loss: 0.0572 - mae: 0.1754 - val_loss: 0.6326 - val_mae: 0.6443\n",
      "Epoch 93/100\n",
      "337/337 [==============================] - 0s 586us/sample - loss: 0.0624 - mae: 0.1867 - val_loss: 0.5849 - val_mae: 0.6162\n",
      "Epoch 94/100\n",
      "337/337 [==============================] - 0s 594us/sample - loss: 0.0539 - mae: 0.1720 - val_loss: 0.6694 - val_mae: 0.6606\n",
      "Epoch 95/100\n",
      "337/337 [==============================] - 0s 587us/sample - loss: 0.0847 - mae: 0.2252 - val_loss: 0.5769 - val_mae: 0.5953\n",
      "Epoch 96/100\n",
      "337/337 [==============================] - 0s 593us/sample - loss: 0.0805 - mae: 0.2206 - val_loss: 0.6454 - val_mae: 0.6674\n",
      "Epoch 97/100\n",
      "337/337 [==============================] - 0s 593us/sample - loss: 0.0758 - mae: 0.2157 - val_loss: 0.6166 - val_mae: 0.6130\n",
      "Epoch 98/100\n",
      "337/337 [==============================] - 0s 593us/sample - loss: 0.0665 - mae: 0.1930 - val_loss: 0.5976 - val_mae: 0.6496\n",
      "Epoch 99/100\n",
      "337/337 [==============================] - 0s 590us/sample - loss: 0.0851 - mae: 0.2223 - val_loss: 0.6804 - val_mae: 0.6460\n",
      "Epoch 100/100\n",
      "337/337 [==============================] - 0s 589us/sample - loss: 0.0846 - mae: 0.2274 - val_loss: 0.5809 - val_mae: 0.6255\n"
     ]
    }
   ],
   "source": [
    "# Train the model, with some of the data reserved for validation\n",
    "history = model.fit(trainData,trainTargets,epochs=100,validation_split=0.15,batch_size=64)\n"
   ]
  },
  {
   "cell_type": "code",
   "execution_count": 10,
   "metadata": {},
   "outputs": [
    {
     "name": "stdout",
     "output_type": "stream",
     "text": [
      "45/1 - 0s - loss: 1.0813 - mae: 0.8436\n"
     ]
    },
    {
     "data": {
      "text/plain": [
       "[1.057533081372579, 0.8435842]"
      ]
     },
     "execution_count": 10,
     "metadata": {},
     "output_type": "execute_result"
    }
   ],
   "source": [
    "# Evaluate the model on the test set\n",
    "model.evaluate(testData,testTargets,verbose=2)\n"
   ]
  },
  {
   "cell_type": "markdown",
   "metadata": {},
   "source": [
    "#### Plot the learning curves"
   ]
  },
  {
   "cell_type": "code",
   "execution_count": 11,
   "metadata": {},
   "outputs": [],
   "source": [
    "import matplotlib.pyplot as plt\n",
    "%matplotlib inline"
   ]
  },
  {
   "cell_type": "code",
   "execution_count": 12,
   "metadata": {},
   "outputs": [
    {
     "data": {
      "image/png": "[encoded data removed]",
      "text/plain": [
       "<Figure size 432x288 with 1 Axes>"
      ]
     },
     "metadata": {
      "needs_background": "light"
     },
     "output_type": "display_data"
    }
   ],
   "source": [
    "# Plot the training and validation loss\n",
    "\n",
    "plt.plot(history.history['loss'])\n",
    "plt.plot(history.history['val_loss'])\n",
    "plt.title('Loss vs. epochs')\n",
    "plt.ylabel('Loss')\n",
    "plt.xlabel('Epoch')\n",
    "plt.legend(['Training', 'Validation'], loc='upper right')\n",
    "plt.show()"
   ]
  },
  {
   "cell_type": "markdown",
   "metadata": {},
   "source": [
    "***\n",
    "<a id=\"coding_tutorial_2\"></a>\n",
    "## Model regularisation"
   ]
  },
  {
   "cell_type": "markdown",
   "metadata": {},
   "source": [
    "#### Adding regularisation with weight decay and dropout"
   ]
  },
  {
   "cell_type": "code",
   "execution_count": 13,
   "metadata": {},
   "outputs": [],
   "source": [
    "from tensorflow.keras.layers import Dropout\n",
    "from tensorflow.keras import regularizers"
   ]
  },
  {
   "cell_type": "code",
   "execution_count": 14,
   "metadata": {},
   "outputs": [],
   "source": [
    "def get_regularised_model(wd, rate):\n",
    "    model = Sequential([\n",
    "        Dense(128,kernel_regularizer = regularizers.l2(wd), activation=\"relu\",input_shape=(trainData.shape[1],)),\n",
    "        Dropout(rate),\n",
    "        Dense(128,kernel_regularizer = regularizers.l2(wd), activation=\"relu\"),\n",
    "        Dropout(rate),\n",
    "        Dense(128,kernel_regularizer = regularizers.l2(wd), activation=\"relu\"),\n",
    "        Dropout(rate),\n",
    "        Dense(128,kernel_regularizer = regularizers.l2(wd), activation=\"relu\"),\n",
    "        Dropout(rate),\n",
    "        Dense(128,kernel_regularizer = regularizers.l2(wd), activation=\"relu\"),\n",
    "        Dropout(rate),\n",
    "        Dense(128,kernel_regularizer = regularizers.l2(wd), activation=\"relu\"),\n",
    "        Dropout(rate),\n",
    "        Dense(1)\n",
    "    ])\n",
    "    return model"
   ]
  },
  {
   "cell_type": "code",
   "execution_count": 15,
   "metadata": {
    "scrolled": false
   },
   "outputs": [],
   "source": [
    "# Re-build the model with weight decay and dropout layers\n",
    "\n",
    "model = get_regularised_model(1e-5,0.3)"
   ]
  },
  {
   "cell_type": "code",
   "execution_count": 16,
   "metadata": {},
   "outputs": [],
   "source": [
    "# Compile the model\n",
    "\n",
    "model.compile(\n",
    "    optimizer=\"adam\",\n",
    "    loss=\"mse\",\n",
    "    metrics=[\"mae\"]\n",
    ")"
   ]
  },
  {
   "cell_type": "code",
   "execution_count": 17,
   "metadata": {},
   "outputs": [],
   "source": [
    "# Train the model, with some of the data reserved for validation\n",
    "history = model.fit(trainData,trainTargets,epochs=100,validation_split=0.15,batch_size=64,verbose = False)\n"
   ]
  },
  {
   "cell_type": "code",
   "execution_count": 18,
   "metadata": {},
   "outputs": [
    {
     "name": "stdout",
     "output_type": "stream",
     "text": [
      "45/1 - 0s - loss: 0.9217 - mae: 0.7759\n"
     ]
    },
    {
     "data": {
      "text/plain": [
       "[0.8692942765023973, 0.77591646]"
      ]
     },
     "execution_count": 18,
     "metadata": {},
     "output_type": "execute_result"
    }
   ],
   "source": [
    "# Evaluate the model on the test set\n",
    "model.evaluate(testData,testTargets,verbose=2)\n"
   ]
  },
  {
   "cell_type": "markdown",
   "metadata": {},
   "source": [
    "#### Plot the learning curves"
   ]
  },
  {
   "cell_type": "code",
   "execution_count": 19,
   "metadata": {},
   "outputs": [
    {
     "data": {
      "image/png": "[encoded data removed]",
      "text/plain": [
       "<Figure size 432x288 with 1 Axes>"
      ]
     },
     "metadata": {
      "needs_background": "light"
     },
     "output_type": "display_data"
    }
   ],
   "source": [
    "# Plot the training and validation loss\n",
    "\n",
    "import matplotlib.pyplot as plt\n",
    "\n",
    "plt.plot(history.history['loss'])\n",
    "plt.plot(history.history['val_loss'])\n",
    "plt.title('Loss vs. epochs')\n",
    "plt.ylabel('Loss')\n",
    "plt.xlabel('Epoch')\n",
    "plt.legend(['Training', 'Validation'], loc='upper right')\n",
    "plt.show()"
   ]
  },
  {
   "cell_type": "markdown",
   "metadata": {},
   "source": [
    "***\n",
    "<a id=\"coding_tutorial_3\"></a>\n",
    "## Introduction to callbacks"
   ]
  },
  {
   "cell_type": "markdown",
   "metadata": {},
   "source": [
    "#### Example training callback"
   ]
  },
  {
   "cell_type": "code",
   "execution_count": 20,
   "metadata": {},
   "outputs": [],
   "source": [
    "# Write a custom callback\n",
    "\n",
    "from tensorflow.keras.callbacks import Callback\n",
    " #training callback\n",
    "class TrainingCallback(Callback):\n",
    "    def on_train_begin(self,loss=None):\n",
    "        print(\"Starting training...\")\n",
    "    def on_epoch_begin(self,epoch,logs=None):\n",
    "        print(f\"Starting epoch: {epoch}\")\n",
    "    def on_train_batch_begin(self,batch,logs=None):\n",
    "        print(f\"Training: Starting Batch: {batch}\")\n",
    "    def on_train_batch_end(self,batch,logs=None):\n",
    "        print(f\"Training: Finished batch {batch}\")\n",
    "    def on_epoch_end(self,epoch,logs=None):\n",
    "        print(f\"Finished epoch {epoch}\")\n",
    "    def on_train_end(self,logs=None):\n",
    "        print(f\"Finished Training\")\n",
    "        \n",
    "# testing callback     \n",
    "class TestingCallback(Callback):\n",
    "    def on_test_begin(self,loss=None):\n",
    "        print(\"Starting testing...\")\n",
    "\n",
    "    def on_test_batch_begin(self,batch,logs=None):\n",
    "        print(f\"Training: Starting testing  Batch: {batch}\")\n",
    "    def on_test_batch_end(self,batch,logs=None):\n",
    "        print(f\"Training: Finished testing batch {batch}\")\n",
    "\n",
    "    def on_test_end(self,logs=None):\n",
    "        print(f\"Finished Testing\")        \n",
    "\n",
    "#prediction callback\n",
    "class PredictionCallback(Callback):\n",
    "    def on_predict_begin(self,loss=None):\n",
    "        print(\"Starting predict...\")\n",
    "\n",
    "    def on_predict_batch_begin(self,batch,logs=None):\n",
    "        print(f\"Training: Starting predict  Batch: {batch}\")\n",
    "    def on_predict_batch_end(self,batch,logs=None):\n",
    "        print(f\"Training: Finished predict batch {batch}\")\n",
    "\n",
    "    def on_predict_end(self,logs=None):\n",
    "        print(f\"Finished predict\")      \n"
   ]
  },
  {
   "cell_type": "code",
   "execution_count": 21,
   "metadata": {},
   "outputs": [],
   "source": [
    "# Re-build the model\n",
    "\n",
    "model= get_regularised_model(1e-5,0.3)\n"
   ]
  },
  {
   "cell_type": "code",
   "execution_count": 22,
   "metadata": {},
   "outputs": [],
   "source": [
    "# Compile the model\n",
    "model.compile(optimizer=\"adam\",loss=\"mse\")\n"
   ]
  },
  {
   "cell_type": "markdown",
   "metadata": {},
   "source": [
    "#### Train the model with the callback"
   ]
  },
  {
   "cell_type": "code",
   "execution_count": 23,
   "metadata": {},
   "outputs": [
    {
     "name": "stdout",
     "output_type": "stream",
     "text": [
      "Starting training...\n",
      "Starting epoch: 0\n",
      "Training: Starting Batch: 0\n",
      "Training: Finished batch 0\n",
      "Training: Starting Batch: 1\n",
      "Training: Finished batch 1\n",
      "Training: Starting Batch: 2\n",
      "Training: Finished batch 2\n",
      "Training: Starting Batch: 3\n",
      "Training: Finished batch 3\n",
      "Finished epoch 0\n",
      "Starting epoch: 1\n",
      "Training: Starting Batch: 0\n",
      "Training: Finished batch 0\n",
      "Training: Starting Batch: 1\n",
      "Training: Finished batch 1\n",
      "Training: Starting Batch: 2\n",
      "Training: Finished batch 2\n",
      "Training: Starting Batch: 3\n",
      "Training: Finished batch 3\n",
      "Finished epoch 1\n",
      "Starting epoch: 2\n",
      "Training: Starting Batch: 0\n",
      "Training: Finished batch 0\n",
      "Training: Starting Batch: 1\n",
      "Training: Finished batch 1\n",
      "Training: Starting Batch: 2\n",
      "Training: Finished batch 2\n",
      "Training: Starting Batch: 3\n",
      "Training: Finished batch 3\n",
      "Finished epoch 2\n",
      "Finished Training\n"
     ]
    },
    {
     "data": {
      "text/plain": [
       "<tensorflow.python.keras.callbacks.History at 0x7f836840a2b0>"
      ]
     },
     "execution_count": 23,
     "metadata": {},
     "output_type": "execute_result"
    }
   ],
   "source": [
    "# Train the model, with some of the data reserved for validation\n",
    "model.fit(trainData,trainTargets,epochs=3,batch_size=128,verbose=False,callbacks=[TrainingCallback()])\n"
   ]
  },
  {
   "cell_type": "code",
   "execution_count": 24,
   "metadata": {},
   "outputs": [
    {
     "name": "stdout",
     "output_type": "stream",
     "text": [
      "Starting testing...\n",
      "Training: Starting testing  Batch: 0\n",
      "Training: Finished testing batch 0\n",
      "Training: Starting testing  Batch: 1\n",
      "Training: Finished testing batch 1\n",
      "Finished Testing\n"
     ]
    },
    {
     "data": {
      "text/plain": [
       "1.040414399570889"
      ]
     },
     "execution_count": 24,
     "metadata": {},
     "output_type": "execute_result"
    }
   ],
   "source": [
    "# Evaluate the model\n",
    "model.evaluate(testData,testTargets,verbose = False,callbacks=[TestingCallback()])\n"
   ]
  },
  {
   "cell_type": "code",
   "execution_count": 25,
   "metadata": {
    "scrolled": true
   },
   "outputs": [
    {
     "name": "stdout",
     "output_type": "stream",
     "text": [
      "Starting predict...\n",
      "Training: Starting predict  Batch: 0\n",
      "Training: Finished predict batch 0\n",
      "Training: Starting predict  Batch: 1\n",
      "Training: Finished predict batch 1\n",
      "Finished predict\n"
     ]
    },
    {
     "data": {
      "text/plain": [
       "array([[ 0.09521131],\n",
       "       [ 0.06401473],\n",
       "       [ 0.02968777],\n",
       "       [ 0.00766681],\n",
       "       [ 0.09062252],\n",
       "       [ 0.10147962],\n",
       "       [-0.00103687],\n",
       "       [ 0.09566338],\n",
       "       [ 0.04806421],\n",
       "       [ 0.15411139],\n",
       "       [ 0.09638031],\n",
       "       [ 0.09936234],\n",
       "       [ 0.10637639],\n",
       "       [ 0.095876  ],\n",
       "       [ 0.02764678],\n",
       "       [ 0.10931498],\n",
       "       [ 0.07324784],\n",
       "       [ 0.07685434],\n",
       "       [ 0.00326933],\n",
       "       [ 0.02347339],\n",
       "       [ 0.08399841],\n",
       "       [ 0.14985289],\n",
       "       [ 0.0416417 ],\n",
       "       [-0.00131459],\n",
       "       [ 0.01388258],\n",
       "       [ 0.07526624],\n",
       "       [-0.01262435],\n",
       "       [-0.02027256],\n",
       "       [ 0.07238942],\n",
       "       [ 0.0793919 ],\n",
       "       [ 0.04444543],\n",
       "       [ 0.04734458],\n",
       "       [ 0.08654363],\n",
       "       [ 0.01988189],\n",
       "       [ 0.09264347],\n",
       "       [ 0.10707352],\n",
       "       [ 0.14683592],\n",
       "       [ 0.04094934],\n",
       "       [ 0.14077769],\n",
       "       [ 0.07247557],\n",
       "       [ 0.07825959],\n",
       "       [ 0.01769613],\n",
       "       [ 0.00344806],\n",
       "       [ 0.08783661],\n",
       "       [-0.01341258]], dtype=float32)"
      ]
     },
     "execution_count": 25,
     "metadata": {},
     "output_type": "execute_result"
    }
   ],
   "source": [
    "# Make predictions with the model\n",
    "model.predict(testData,verbose=False,callbacks=[PredictionCallback()])\n"
   ]
  },
  {
   "cell_type": "markdown",
   "metadata": {},
   "source": [
    "***\n",
    "<a id=\"coding_tutorial_4\"></a>\n",
    "## Early stopping / patience"
   ]
  },
  {
   "cell_type": "markdown",
   "metadata": {},
   "source": [
    "#### Re-train the models with early stopping"
   ]
  },
  {
   "cell_type": "code",
   "execution_count": 26,
   "metadata": {},
   "outputs": [],
   "source": [
    "# Re-train the unregularised model\n",
    "unregularizedModel = getModel()\n",
    "unregularizedModel.compile(\n",
    "    optimizer=\"adam\",\n",
    "    loss=\"mse\"\n",
    ")\n",
    "unregHist = unregularizedModel.fit(\n",
    "    trainData,\n",
    "    trainTargets,\n",
    "    epochs=100,\n",
    "    validation_split=0.15,\n",
    "    batch_size=64,verbose=False,\n",
    "    callbacks=[tf.keras.callbacks.EarlyStopping(patience=10)]\n",
    ")\n"
   ]
  },
  {
   "cell_type": "code",
   "execution_count": 27,
   "metadata": {},
   "outputs": [
    {
     "name": "stdout",
     "output_type": "stream",
     "text": [
      "45/1 - 0s - loss: 0.7802\n"
     ]
    },
    {
     "data": {
      "text/plain": [
       "0.7298515306578742"
      ]
     },
     "execution_count": 27,
     "metadata": {},
     "output_type": "execute_result"
    }
   ],
   "source": [
    "# Evaluate the model on the test set\n",
    "unregularizedModel.evaluate(testData,testTargets,verbose=2)\n"
   ]
  },
  {
   "cell_type": "code",
   "execution_count": 28,
   "metadata": {},
   "outputs": [],
   "source": [
    "# Re-train the regularised model\n",
    "regularizedModel = get_regularised_model(1e-8,0.2)\n",
    "regularizedModel.compile(\n",
    "    optimizer=\"adam\",\n",
    "    loss=\"mse\"\n",
    ")\n",
    "regHist = regularizedModel.fit(\n",
    "    trainData,\n",
    "    trainTargets,\n",
    "    epochs=100,\n",
    "    validation_split=0.15,\n",
    "    batch_size=64,verbose=False,\n",
    "    callbacks=[tf.keras.callbacks.EarlyStopping(patience=10)]\n",
    ")\n",
    "\n"
   ]
  },
  {
   "cell_type": "code",
   "execution_count": 29,
   "metadata": {},
   "outputs": [
    {
     "name": "stdout",
     "output_type": "stream",
     "text": [
      "45/1 - 0s - loss: 0.8671\n"
     ]
    },
    {
     "data": {
      "text/plain": [
       "0.8235725641250611"
      ]
     },
     "execution_count": 29,
     "metadata": {},
     "output_type": "execute_result"
    }
   ],
   "source": [
    "# Evaluate the model on the test set\n",
    "\n",
    "regularizedModel.evaluate(testData,testTargets,verbose=2)"
   ]
  },
  {
   "cell_type": "markdown",
   "metadata": {},
   "source": [
    "#### Plot the learning curves"
   ]
  },
  {
   "cell_type": "code",
   "execution_count": 30,
   "metadata": {},
   "outputs": [
    {
     "data": {
      "image/png": "[encoded data removed]",
      "text/plain": [
       "<Figure size 864x360 with 2 Axes>"
      ]
     },
     "metadata": {
      "needs_background": "light"
     },
     "output_type": "display_data"
    }
   ],
   "source": [
    "# Plot the training and validation loss\n",
    "\n",
    "import matplotlib.pyplot as plt\n",
    "\n",
    "fig = plt.figure(figsize=(12, 5))\n",
    "\n",
    "fig.add_subplot(121)\n",
    "\n",
    "plt.plot(unregHist.history['loss'])\n",
    "plt.plot(unregHist.history['val_loss'])\n",
    "plt.title('Unregularised model: loss vs. epochs')\n",
    "plt.ylabel('Loss')\n",
    "plt.xlabel('Epoch')\n",
    "plt.legend(['Training', 'Validation'], loc='upper right')\n",
    "\n",
    "fig.add_subplot(122)\n",
    "\n",
    "plt.plot(regHist.history['loss'])\n",
    "plt.plot(regHist.history['val_loss'])\n",
    "plt.title('Regularised model: loss vs. epochs')\n",
    "plt.ylabel('Loss')\n",
    "plt.xlabel('Epoch')\n",
    "plt.legend(['Training', 'Validation'], loc='upper right')\n",
    "\n",
    "plt.show()"
   ]
  }
 ],
 "metadata": {
  "kernelspec": {
   "display_name": "Python 3",
   "language": "python",
   "name": "python3"
  },
  "language_info": {
   "codemirror_mode": {
    "name": "ipython",
    "version": 3
   },
   "file_extension": ".py",
   "mimetype": "text/x-python",
   "name": "python",
   "nbconvert_exporter": "python",
   "pygments_lexer": "ipython3",
   "version": "3.7.1"
  }
 },
 "nbformat": 4,
 "nbformat_minor": 2
}
