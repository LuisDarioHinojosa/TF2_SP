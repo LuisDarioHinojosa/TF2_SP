{
 "cells": [
  {
   "cell_type": "code",
   "execution_count": 1,
   "metadata": {},
   "outputs": [
    {
     "name": "stdout",
     "output_type": "stream",
     "text": [
      "2.0.0\n"
     ]
    }
   ],
   "source": [
    "import tensorflow as tf\n",
    "print(tf.__version__)"
   ]
  },
  {
   "cell_type": "markdown",
   "metadata": {},
   "source": [
    "# The Sequential model API"
   ]
  },
  {
   "cell_type": "markdown",
   "metadata": {},
   "source": [
    " ## Coding tutorials\n",
    " #### [1. Building a Sequential model](#coding_tutorial_1)\n",
    " #### [2. Convolutional and pooling layers](#coding_tutorial_2)\n",
    " #### [3. The compile method](#coding_tutorial_3)\n",
    " #### [4. The fit method](#coding_tutorial_4)\n",
    " #### [5. The evaluate and predict methods](#coding_tutorial_5)"
   ]
  },
  {
   "cell_type": "markdown",
   "metadata": {},
   "source": [
    "***\n",
    "<a id=\"coding_tutorial_1\"></a>\n",
    "## Building a Sequential model"
   ]
  },
  {
   "cell_type": "code",
   "execution_count": 2,
   "metadata": {},
   "outputs": [],
   "source": [
    "from tensorflow.keras.models import Sequential\n",
    "from tensorflow.keras.layers import Dense, Flatten, Softmax"
   ]
  },
  {
   "cell_type": "markdown",
   "metadata": {},
   "source": [
    "#### Build a feedforward neural network model"
   ]
  },
  {
   "cell_type": "code",
   "execution_count": 3,
   "metadata": {},
   "outputs": [],
   "source": [
    "# Build the Sequential feedforward neural network model\n",
    "model = Sequential([\n",
    "    Flatten(input_shape=(28,28)),\n",
    "    Dense(16,activation=\"relu\",name=\"layer1\"), # you can put name to the layers\n",
    "    Dense(16,activation=\"relu\"),\n",
    "    Dense(10),\n",
    "    Softmax()\n",
    "])\n"
   ]
  },
  {
   "cell_type": "code",
   "execution_count": 4,
   "metadata": {
    "scrolled": true
   },
   "outputs": [
    {
     "data": {
      "text/plain": [
       "[<tf.Variable 'layer1/kernel:0' shape=(784, 16) dtype=float32, numpy=\n",
       " array([[-0.08565572,  0.03871509,  0.02884649, ...,  0.06276733,\n",
       "          0.08308594, -0.06538604],\n",
       "        [-0.03068904,  0.02756897,  0.06161681, ...,  0.07064104,\n",
       "         -0.03894484,  0.07526749],\n",
       "        [ 0.03767819,  0.08499153, -0.06482393, ...,  0.05559015,\n",
       "          0.04892556, -0.04017674],\n",
       "        ...,\n",
       "        [ 0.04413089,  0.08185822, -0.03237856, ..., -0.033819  ,\n",
       "          0.03417116, -0.01518751],\n",
       "        [-0.06439607, -0.01963718,  0.05762234, ..., -0.01722615,\n",
       "          0.07367058,  0.02578107],\n",
       "        [ 0.03478386, -0.02365831, -0.06481555, ...,  0.08111651,\n",
       "          0.02636127, -0.06682473]], dtype=float32)>,\n",
       " <tf.Variable 'layer1/bias:0' shape=(16,) dtype=float32, numpy=\n",
       " array([0., 0., 0., 0., 0., 0., 0., 0., 0., 0., 0., 0., 0., 0., 0., 0.],\n",
       "       dtype=float32)>,\n",
       " <tf.Variable 'dense/kernel:0' shape=(16, 16) dtype=float32, numpy=\n",
       " array([[-3.17510247e-01, -2.79726148e-01, -3.47685963e-01,\n",
       "          1.91264063e-01,  1.00775927e-01, -4.04508621e-01,\n",
       "          3.05084586e-02,  1.17655724e-01,  2.15422422e-01,\n",
       "         -1.11932158e-01,  1.78859502e-01, -9.14681852e-02,\n",
       "          8.64578187e-02, -2.12067723e-01, -2.19993532e-01,\n",
       "         -1.28082156e-01],\n",
       "        [ 1.64357692e-01,  3.79947513e-01,  1.16910011e-01,\n",
       "         -1.69362485e-01, -2.37066552e-01, -1.82875991e-03,\n",
       "          1.75510973e-01, -3.10198367e-01, -2.71474719e-01,\n",
       "         -2.01112494e-01,  2.52101570e-01,  2.01940536e-04,\n",
       "         -2.26625562e-01, -3.22209537e-01, -4.28146720e-02,\n",
       "          3.87604803e-01],\n",
       "        [ 3.18806201e-01, -2.59784967e-01, -4.09161866e-01,\n",
       "          9.64669883e-02, -3.06025922e-01,  1.68908268e-01,\n",
       "          3.13260943e-01, -2.07108259e-02, -1.91814601e-02,\n",
       "          2.13186532e-01, -3.47074270e-01, -2.81010866e-01,\n",
       "          7.13219345e-02, -2.74878383e-01, -1.33865237e-01,\n",
       "         -2.56327093e-01],\n",
       "        [ 9.50658321e-03,  3.31576139e-01,  4.24468368e-01,\n",
       "         -1.42751276e-01,  4.27298874e-01, -2.90233254e-01,\n",
       "          3.49029809e-01, -2.75230944e-01,  1.15564018e-01,\n",
       "          2.68029600e-01,  2.22253829e-01, -1.10690117e-01,\n",
       "          3.80106062e-01,  2.89230496e-01, -2.34114259e-01,\n",
       "         -3.30154240e-01],\n",
       "        [ 2.55487770e-01, -3.71927023e-01,  4.32423621e-01,\n",
       "          8.67073238e-02,  2.31406957e-01,  2.71286935e-01,\n",
       "         -1.22648925e-01, -3.10161322e-01, -2.33338624e-01,\n",
       "         -1.00501955e-01,  3.47313076e-01, -2.73374110e-01,\n",
       "          2.04324752e-01,  2.07317024e-01, -2.37092778e-01,\n",
       "          2.79797107e-01],\n",
       "        [-3.69656801e-01, -3.83000672e-02, -9.34357047e-02,\n",
       "         -4.11209464e-03, -3.00984979e-01,  1.31164759e-01,\n",
       "         -4.01465356e-01,  2.73603827e-01,  4.42367792e-02,\n",
       "          1.88902587e-01, -3.47931862e-01,  3.65632266e-01,\n",
       "          1.80752367e-01,  8.38789344e-03, -7.72567987e-02,\n",
       "         -1.72035933e-01],\n",
       "        [-2.91158974e-01,  1.57050163e-01,  1.18409246e-01,\n",
       "         -2.60009617e-01, -7.84532428e-02, -2.89828241e-01,\n",
       "         -3.73312682e-01,  2.56457299e-01,  1.00412667e-02,\n",
       "          3.29999298e-01, -7.73708820e-02, -7.60440826e-02,\n",
       "         -1.54657751e-01,  1.66778833e-01, -3.32103997e-01,\n",
       "         -1.84053600e-01],\n",
       "        [-5.43621182e-03,  4.01864439e-01, -9.09129679e-02,\n",
       "          1.18725330e-01, -9.97811556e-04,  2.89947659e-01,\n",
       "          3.68613005e-03,  1.42808884e-01,  2.69915462e-02,\n",
       "          3.78838390e-01,  3.20780605e-01,  1.54738814e-01,\n",
       "         -3.52157623e-01, -1.61688566e-01,  3.36138874e-01,\n",
       "         -3.79009902e-01],\n",
       "        [ 8.24707448e-02, -4.24005866e-01,  3.99732918e-01,\n",
       "         -8.21422637e-02,  8.42087567e-02, -2.18239203e-01,\n",
       "         -2.93492556e-01,  2.48482317e-01,  2.73531765e-01,\n",
       "          3.74197215e-01, -1.34406418e-01,  4.18418199e-01,\n",
       "          2.01934665e-01,  3.86050195e-01, -2.23866999e-02,\n",
       "          3.45029444e-01],\n",
       "        [ 1.12493068e-01, -2.63958454e-01, -2.47931868e-01,\n",
       "          4.03986126e-01,  2.41730064e-01,  2.93026656e-01,\n",
       "          3.99545401e-01,  3.28740388e-01, -1.52018368e-02,\n",
       "         -3.81967455e-01, -3.91522586e-01, -3.37872744e-01,\n",
       "          4.14973766e-01, -3.60383123e-01, -2.63767481e-01,\n",
       "          1.64027542e-01],\n",
       "        [ 1.18222266e-01,  4.20778841e-01,  1.24929756e-01,\n",
       "          6.09449446e-02, -2.64573365e-01,  9.56968367e-02,\n",
       "         -2.52539694e-01,  6.80875778e-03, -2.65405983e-01,\n",
       "         -1.45969421e-01,  1.06647700e-01,  1.05913609e-01,\n",
       "         -3.83389682e-01, -2.10562617e-01, -2.33557388e-01,\n",
       "         -7.74184763e-02],\n",
       "        [-9.84679461e-02,  7.57659376e-02,  1.26178950e-01,\n",
       "         -1.99455321e-02, -2.66006529e-01,  3.75678688e-01,\n",
       "         -3.73410672e-01, -2.15650395e-01,  3.84489864e-01,\n",
       "          4.24493760e-01,  1.05228513e-01, -4.26183909e-01,\n",
       "          1.02054983e-01,  3.75882298e-01,  7.00012147e-02,\n",
       "          2.55555898e-01],\n",
       "        [ 2.37685055e-01, -1.58428520e-01,  4.31866854e-01,\n",
       "         -2.79296875e-01, -3.31195384e-01,  4.05180156e-02,\n",
       "          6.05151057e-03, -2.41870552e-01,  3.69000942e-01,\n",
       "          3.51217538e-01, -3.95652115e-01,  1.87581688e-01,\n",
       "         -1.23524904e-01, -3.28989208e-01,  1.29057437e-01,\n",
       "         -5.98413348e-02],\n",
       "        [ 2.84681588e-01,  7.84873068e-02,  1.99242443e-01,\n",
       "         -2.55135238e-01,  1.93460137e-01,  3.70963305e-01,\n",
       "         -2.61189938e-01, -3.45285535e-02, -4.00160849e-02,\n",
       "          3.56563002e-01,  2.29478627e-01,  1.43405169e-01,\n",
       "          2.79701918e-01, -2.09639668e-02, -2.29753673e-01,\n",
       "          2.23657340e-01],\n",
       "        [-1.88328698e-01,  8.18419158e-02, -3.19328457e-01,\n",
       "         -3.42241466e-01,  1.63012534e-01,  6.00743592e-02,\n",
       "          2.62767285e-01,  2.23774940e-01, -1.55737400e-01,\n",
       "          3.59555751e-01, -3.46561164e-01,  6.85724318e-02,\n",
       "         -3.59790951e-01, -2.59631962e-01,  1.15559787e-01,\n",
       "          7.36517608e-02],\n",
       "        [ 9.29981470e-04, -2.21769229e-01, -3.21082890e-01,\n",
       "         -1.09256119e-01, -1.11495048e-01,  2.89988250e-01,\n",
       "         -1.85725853e-01, -1.56596363e-01,  3.77157301e-01,\n",
       "         -3.73337865e-01, -1.74050033e-01, -3.14231187e-01,\n",
       "         -4.15134609e-01, -3.87472808e-02, -4.09618020e-03,\n",
       "          2.07455128e-01]], dtype=float32)>,\n",
       " <tf.Variable 'dense/bias:0' shape=(16,) dtype=float32, numpy=\n",
       " array([0., 0., 0., 0., 0., 0., 0., 0., 0., 0., 0., 0., 0., 0., 0., 0.],\n",
       "       dtype=float32)>,\n",
       " <tf.Variable 'dense_1/kernel:0' shape=(16, 10) dtype=float32, numpy=\n",
       " array([[ 0.12900424, -0.0778881 , -0.10270044,  0.46436924,  0.15617603,\n",
       "         -0.09098536,  0.29268515,  0.40859395, -0.04347143, -0.29047513],\n",
       "        [ 0.04802901, -0.43611556,  0.4040326 , -0.36355174, -0.16693914,\n",
       "         -0.03297532,  0.42105955,  0.35244173,  0.40175134, -0.4089054 ],\n",
       "        [-0.36890268,  0.07101995,  0.09691828,  0.1194514 , -0.43129593,\n",
       "          0.25454468, -0.2419928 , -0.06268471,  0.10874581, -0.39323974],\n",
       "        [ 0.450055  , -0.42351824, -0.3957063 ,  0.35287786,  0.2942207 ,\n",
       "         -0.3840605 ,  0.27483916,  0.15366507,  0.27273333,  0.20120305],\n",
       "        [-0.2262299 , -0.43519348, -0.07099232, -0.47856247,  0.19044924,\n",
       "         -0.35049203, -0.24484283, -0.25975886, -0.01178768,  0.35335386],\n",
       "        [ 0.34561914, -0.0985404 ,  0.31417316, -0.3547256 , -0.41405556,\n",
       "         -0.33562285,  0.38678956, -0.07763797,  0.28165668,  0.1997006 ],\n",
       "        [ 0.43081623, -0.02876693, -0.2637981 ,  0.04193026, -0.40458646,\n",
       "          0.35093862,  0.18606198,  0.08578545, -0.06634587,  0.3861665 ],\n",
       "        [ 0.39593065,  0.38764757, -0.41399258, -0.2573964 , -0.16043884,\n",
       "          0.4024393 , -0.43894234, -0.30266106,  0.08709675, -0.11875564],\n",
       "        [ 0.25689107, -0.1053071 , -0.27179348, -0.24410386, -0.14052472,\n",
       "         -0.00069886, -0.4579329 , -0.11457348,  0.3056935 ,  0.4096623 ],\n",
       "        [ 0.16108918,  0.40042698,  0.17701447,  0.34750116, -0.33344537,\n",
       "         -0.06076917, -0.15591848,  0.0964542 , -0.22331837, -0.06596974],\n",
       "        [ 0.27720815, -0.20391002,  0.16676712,  0.01857558,  0.39582825,\n",
       "         -0.24018823,  0.46031284, -0.16661477,  0.07593244,  0.4360258 ],\n",
       "        [-0.30498356, -0.29417053,  0.1976639 , -0.429781  , -0.47746617,\n",
       "         -0.42693785,  0.00366881, -0.32371375, -0.38054872, -0.43993762],\n",
       "        [-0.18211746,  0.11994231,  0.00810295, -0.06680089, -0.14104056,\n",
       "         -0.15484175,  0.34255618,  0.03434777,  0.29493618, -0.20563799],\n",
       "        [-0.23913613, -0.0892438 ,  0.44943798, -0.27970737, -0.24986565,\n",
       "          0.3483073 ,  0.47790164, -0.32794344, -0.09201673,  0.38795733],\n",
       "        [ 0.08602566, -0.01348528, -0.40515202, -0.07125691, -0.28604144,\n",
       "          0.12893254,  0.18709129,  0.10973001, -0.10450777,  0.44174218],\n",
       "        [-0.37502825,  0.12634367,  0.14298683,  0.11441898, -0.3636635 ,\n",
       "          0.06957889,  0.33499843,  0.36338967, -0.27837464, -0.11123529]],\n",
       "       dtype=float32)>,\n",
       " <tf.Variable 'dense_1/bias:0' shape=(10,) dtype=float32, numpy=array([0., 0., 0., 0., 0., 0., 0., 0., 0., 0.], dtype=float32)>]"
      ]
     },
     "execution_count": 4,
     "metadata": {},
     "output_type": "execute_result"
    }
   ],
   "source": [
    "# Print the model summary\n",
    "\n",
    "model.weights"
   ]
  },
  {
   "cell_type": "code",
   "execution_count": 5,
   "metadata": {
    "scrolled": true
   },
   "outputs": [
    {
     "name": "stdout",
     "output_type": "stream",
     "text": [
      "Model: \"sequential\"\n",
      "_________________________________________________________________\n",
      "Layer (type)                 Output Shape              Param #   \n",
      "=================================================================\n",
      "flatten (Flatten)            (None, 784)               0         \n",
      "_________________________________________________________________\n",
      "layer1 (Dense)               (None, 16)                12560     \n",
      "_________________________________________________________________\n",
      "dense (Dense)                (None, 16)                272       \n",
      "_________________________________________________________________\n",
      "dense_1 (Dense)              (None, 10)                170       \n",
      "_________________________________________________________________\n",
      "softmax (Softmax)            (None, 10)                0         \n",
      "=================================================================\n",
      "Total params: 13,002\n",
      "Trainable params: 13,002\n",
      "Non-trainable params: 0\n",
      "_________________________________________________________________\n"
     ]
    }
   ],
   "source": [
    "model.summary()"
   ]
  },
  {
   "cell_type": "markdown",
   "metadata": {},
   "source": [
    "***\n",
    "<a id=\"coding_tutorial_2\"></a>\n",
    "## Convolutional and pooling layers"
   ]
  },
  {
   "cell_type": "code",
   "execution_count": 6,
   "metadata": {},
   "outputs": [],
   "source": [
    "from tensorflow.keras.models import Sequential\n",
    "from tensorflow.keras.layers import Dense, Flatten, Conv2D, MaxPooling2D"
   ]
  },
  {
   "cell_type": "markdown",
   "metadata": {},
   "source": [
    "#### Build a convolutional neural network model"
   ]
  },
  {
   "cell_type": "code",
   "execution_count": 7,
   "metadata": {},
   "outputs": [],
   "source": [
    "# Build the Sequential convolutional neural network model\n",
    "\n",
    "model = Sequential()\n",
    "model.add(Conv2D(16,(3,3),activation=\"relu\",input_shape=(28,28,1),data_format=\"channels_last\"))\n",
    "model.add(MaxPooling2D(pool_size=3,data_format=\"channels_last\"))\n",
    "model.add(Flatten())\n",
    "model.add(Dense(10,activation=\"softmax\"))"
   ]
  },
  {
   "cell_type": "code",
   "execution_count": 8,
   "metadata": {},
   "outputs": [
    {
     "name": "stdout",
     "output_type": "stream",
     "text": [
      "Model: \"sequential_1\"\n",
      "_________________________________________________________________\n",
      "Layer (type)                 Output Shape              Param #   \n",
      "=================================================================\n",
      "conv2d (Conv2D)              (None, 26, 26, 16)        160       \n",
      "_________________________________________________________________\n",
      "max_pooling2d (MaxPooling2D) (None, 8, 8, 16)          0         \n",
      "_________________________________________________________________\n",
      "flatten_1 (Flatten)          (None, 1024)              0         \n",
      "_________________________________________________________________\n",
      "dense_2 (Dense)              (None, 10)                10250     \n",
      "=================================================================\n",
      "Total params: 10,410\n",
      "Trainable params: 10,410\n",
      "Non-trainable params: 0\n",
      "_________________________________________________________________\n"
     ]
    }
   ],
   "source": [
    "# Print the model summary\n",
    "\n",
    "model.summary()"
   ]
  },
  {
   "cell_type": "markdown",
   "metadata": {},
   "source": [
    "***\n",
    "<a id=\"coding_tutorial_3\"></a>\n",
    "## The compile method"
   ]
  },
  {
   "cell_type": "markdown",
   "metadata": {},
   "source": [
    "#### Compile the model"
   ]
  },
  {
   "cell_type": "code",
   "execution_count": 9,
   "metadata": {},
   "outputs": [],
   "source": [
    "# Define the model optimizer, loss function and metrics\n",
    "opt = tf.keras.optimizers.Adam(learning_rate=0.005)\n",
    "acc = tf.keras.metrics.SparseCategoricalAccuracy()\n",
    "mae = tf.keras.metrics.MeanAbsoluteError()\n",
    "\n",
    "model.compile(optimizer=opt,loss=\"sparse_categorical_crossentropy\",metrics=[acc,mae])\n"
   ]
  },
  {
   "cell_type": "code",
   "execution_count": 10,
   "metadata": {},
   "outputs": [
    {
     "name": "stdout",
     "output_type": "stream",
     "text": [
      "sparse_categorical_crossentropy\n",
      "<tensorflow.python.keras.optimizer_v2.adam.Adam object at 0x7fcaf45f9630>\n",
      "[<tensorflow.python.keras.metrics.SparseCategoricalAccuracy object at 0x7fcaf45f9470>, <tensorflow.python.keras.metrics.MeanAbsoluteError object at 0x7fcaf45f93c8>]\n",
      "<tf.Variable 'learning_rate:0' shape=() dtype=float32, numpy=0.005>\n"
     ]
    }
   ],
   "source": [
    "# Print the resulting model attributes\n",
    "\n",
    "print(model.loss)\n",
    "print(model.optimizer)\n",
    "print(model.metrics)\n",
    "print(model.optimizer.lr)"
   ]
  },
  {
   "cell_type": "markdown",
   "metadata": {},
   "source": [
    "***\n",
    "<a id=\"coding_tutorial_4\"></a>\n",
    "## The fit method"
   ]
  },
  {
   "cell_type": "code",
   "execution_count": 11,
   "metadata": {},
   "outputs": [],
   "source": [
    "from tensorflow.keras.preprocessing import image\n",
    "import matplotlib.pyplot as plt\n",
    "import numpy as np\n",
    "import pandas as pd"
   ]
  },
  {
   "cell_type": "markdown",
   "metadata": {},
   "source": [
    "#### Load the data"
   ]
  },
  {
   "cell_type": "code",
   "execution_count": 12,
   "metadata": {},
   "outputs": [],
   "source": [
    "# Load the Fashion-MNIST dataset\n",
    "\n",
    "fashion_mnist_data = tf.keras.datasets.fashion_mnist\n",
    "(train_images, train_labels), (test_images, test_labels) = fashion_mnist_data.load_data()"
   ]
  },
  {
   "cell_type": "code",
   "execution_count": 13,
   "metadata": {},
   "outputs": [
    {
     "data": {
      "text/plain": [
       "(60000, 28, 28)"
      ]
     },
     "execution_count": 13,
     "metadata": {},
     "output_type": "execute_result"
    }
   ],
   "source": [
    "# Print the shape of the training data\n",
    "\n",
    "train_images.shape"
   ]
  },
  {
   "cell_type": "code",
   "execution_count": 14,
   "metadata": {},
   "outputs": [],
   "source": [
    "# Define the labels\n",
    "\n",
    "labels = [\n",
    "    'T-shirt/top',\n",
    "    'Trouser',\n",
    "    'Pullover',\n",
    "    'Dress',\n",
    "    'Coat',\n",
    "    'Sandal',\n",
    "    'Shirt',\n",
    "    'Sneaker',\n",
    "    'Bag',\n",
    "    'Ankle boot'\n",
    "]"
   ]
  },
  {
   "cell_type": "code",
   "execution_count": 15,
   "metadata": {},
   "outputs": [],
   "source": [
    "# Rescale the image values so that they lie in between 0 and 1.\n",
    "train_images = train_images/255.0\n",
    "test_images = test_images/255.0"
   ]
  },
  {
   "cell_type": "code",
   "execution_count": 16,
   "metadata": {},
   "outputs": [
    {
     "data": {
      "image/png": "[encoded data removed]",
      "text/plain": [
       "<Figure size 432x288 with 1 Axes>"
      ]
     },
     "metadata": {
      "needs_background": "light"
     },
     "output_type": "display_data"
    },
    {
     "name": "stdout",
     "output_type": "stream",
     "text": [
      "Label: Ankle boot\n"
     ]
    }
   ],
   "source": [
    "# Display one of the images\n",
    "i = 0\n",
    "img = train_images[i,:,:]\n",
    "plt.imshow(img)\n",
    "plt.show()\n",
    "print(f\"Label: {labels[train_labels[i]]}\")"
   ]
  },
  {
   "cell_type": "markdown",
   "metadata": {},
   "source": [
    "#### Fit the model"
   ]
  },
  {
   "cell_type": "code",
   "execution_count": 17,
   "metadata": {
    "scrolled": false
   },
   "outputs": [
    {
     "name": "stdout",
     "output_type": "stream",
     "text": [
      "Train on 60000 samples\n",
      "Epoch 1/3\n",
      "60000/60000 [==============================] - 54s 906us/sample - loss: 0.5575 - sparse_categorical_accuracy: 0.8053 - mean_absolute_error: 4.4200\n",
      "Epoch 2/3\n",
      "60000/60000 [==============================] - 51s 852us/sample - loss: 0.3731 - sparse_categorical_accuracy: 0.8697 - mean_absolute_error: 4.4200\n",
      "Epoch 3/3\n",
      "60000/60000 [==============================] - 51s 855us/sample - loss: 0.3382 - sparse_categorical_accuracy: 0.8810 - mean_absolute_error: 4.4200\n"
     ]
    }
   ],
   "source": [
    "# Fit the model\n",
    "history = model.fit(train_images[...,np.newaxis],train_labels,epochs=3,batch_size=256)\n"
   ]
  },
  {
   "cell_type": "markdown",
   "metadata": {},
   "source": [
    "#### Plot training history"
   ]
  },
  {
   "cell_type": "code",
   "execution_count": 18,
   "metadata": {},
   "outputs": [
    {
     "name": "stdout",
     "output_type": "stream",
     "text": [
      "Index(['loss', 'sparse_categorical_accuracy', 'mean_absolute_error'], dtype='object')\n"
     ]
    }
   ],
   "source": [
    "# Load the history into a pandas Dataframe\n",
    "\n",
    "df = pd.DataFrame(history.history)\n",
    "print(df.columns)"
   ]
  },
  {
   "cell_type": "code",
   "execution_count": 19,
   "metadata": {},
   "outputs": [
    {
     "data": {
      "text/plain": [
       "[Text(0, 0.5, 'Loss'), Text(0.5, 0, 'Epochs')]"
      ]
     },
     "execution_count": 19,
     "metadata": {},
     "output_type": "execute_result"
    },
    {
     "data": {
      "image/png": "[encoded data removed]",
      "text/plain": [
       "<Figure size 432x288 with 1 Axes>"
      ]
     },
     "metadata": {
      "needs_background": "light"
     },
     "output_type": "display_data"
    }
   ],
   "source": [
    "# Make a plot for the loss\n",
    "\n",
    "loss_plot = df.plot(y=\"loss\",title = \"loss vs epochs\",legend = False)\n",
    "loss_plot.set(xlabel = \"Epochs\",ylabel=\"Loss\")"
   ]
  },
  {
   "cell_type": "code",
   "execution_count": 20,
   "metadata": {},
   "outputs": [
    {
     "data": {
      "text/plain": [
       "[Text(0, 0.5, \"'sparse_categorical_accuracy'\"), Text(0.5, 0, 'epochs')]"
      ]
     },
     "execution_count": 20,
     "metadata": {},
     "output_type": "execute_result"
    },
    {
     "data": {
      "image/png": "[encoded data removed]",
      "text/plain": [
       "<Figure size 432x288 with 1 Axes>"
      ]
     },
     "metadata": {
      "needs_background": "light"
     },
     "output_type": "display_data"
    }
   ],
   "source": [
    "# Make a plot for the accuracy\n",
    "sca_plot = df.plot(y=\"sparse_categorical_accuracy\",title = \"'sparse_categorical_accuracy' vs epochs\",legend = False)\n",
    "sca_plot.set(xlabel = \"epochs\",ylabel=\"'sparse_categorical_accuracy'\")\n"
   ]
  },
  {
   "cell_type": "code",
   "execution_count": 21,
   "metadata": {},
   "outputs": [
    {
     "data": {
      "text/plain": [
       "[Text(0, 0.5, 'mean_absolute_error'), Text(0.5, 0, 'epochs')]"
      ]
     },
     "execution_count": 21,
     "metadata": {},
     "output_type": "execute_result"
    },
    {
     "data": {
      "image/png": "[encoded data removed]",
      "text/plain": [
       "<Figure size 432x288 with 1 Axes>"
      ]
     },
     "metadata": {
      "needs_background": "light"
     },
     "output_type": "display_data"
    }
   ],
   "source": [
    "# Make a plot for the additional metric\n",
    "\n",
    "# Make a plot for the accuracy\n",
    "sca_plot = df.plot(y=\"mean_absolute_error\",title = \"mean_absolute_error vs epochs\",legend = False)\n",
    "sca_plot.set(xlabel = \"epochs\",ylabel=\"mean_absolute_error\")"
   ]
  },
  {
   "cell_type": "markdown",
   "metadata": {},
   "source": [
    "***\n",
    "<a id=\"coding_tutorial_5\"></a>\n",
    "## The evaluate and predict methods"
   ]
  },
  {
   "cell_type": "code",
   "execution_count": 22,
   "metadata": {},
   "outputs": [],
   "source": [
    "import matplotlib.pyplot as plt\n",
    "import numpy as np"
   ]
  },
  {
   "cell_type": "markdown",
   "metadata": {},
   "source": [
    "#### Evaluate the model on the test set"
   ]
  },
  {
   "cell_type": "code",
   "execution_count": 27,
   "metadata": {},
   "outputs": [
    {
     "name": "stdout",
     "output_type": "stream",
     "text": [
      "10000/1 - 5s - loss: 0.3372 - sparse_categorical_accuracy: 0.8771 - mean_absolute_error: 4.4200\n",
      "Loss:0.3492493664741516 \n",
      "Accuracy:0.8770999908447266 \n",
      "MeanAvgError:4.419997215270996\n"
     ]
    }
   ],
   "source": [
    "# Evaluate the model\n",
    "testLoss, testAcc, testMae = model.evaluate(test_images[...,np.newaxis],test_labels,verbose = 2)\n",
    "print(f\"Loss:{testLoss} \\nAccuracy:{testAcc} \\nMeanAvgError:{testMae}\")\n"
   ]
  },
  {
   "cell_type": "markdown",
   "metadata": {},
   "source": [
    "#### Make predictions from the model"
   ]
  },
  {
   "cell_type": "code",
   "execution_count": 24,
   "metadata": {},
   "outputs": [
    {
     "data": {
      "image/png": "[encoded data removed]",
      "text/plain": [
       "<Figure size 432x288 with 1 Axes>"
      ]
     },
     "metadata": {
      "needs_background": "light"
     },
     "output_type": "display_data"
    },
    {
     "name": "stdout",
     "output_type": "stream",
     "text": [
      "Label: Coat\n"
     ]
    }
   ],
   "source": [
    "# Choose a random test image\n",
    "\n",
    "random_inx = np.random.choice(test_images.shape[0])\n",
    "\n",
    "test_image = test_images[random_inx]\n",
    "plt.imshow(test_image)\n",
    "plt.show()\n",
    "print(f\"Label: {labels[test_labels[random_inx]]}\")"
   ]
  },
  {
   "cell_type": "code",
   "execution_count": 29,
   "metadata": {},
   "outputs": [
    {
     "name": "stdout",
     "output_type": "stream",
     "text": [
      "Prediction: Coat\n"
     ]
    }
   ],
   "source": [
    "# Get the model predictions\n",
    "# batch of images for the first dimentions and the number of channels for the last dimention\n",
    "# add dummy variables \n",
    "preds = model.predict(test_image[np.newaxis,...,np.newaxis])\n",
    "print(f\"Prediction: {labels[np.argmax(preds)]}\")"
   ]
  }
 ],
 "metadata": {
  "kernelspec": {
   "display_name": "Python 3",
   "language": "python",
   "name": "python3"
  },
  "language_info": {
   "codemirror_mode": {
    "name": "ipython",
    "version": 3
   },
   "file_extension": ".py",
   "mimetype": "text/x-python",
   "name": "python",
   "nbconvert_exporter": "python",
   "pygments_lexer": "ipython3",
   "version": "3.7.1"
  }
 },
 "nbformat": 4,
 "nbformat_minor": 2
}
