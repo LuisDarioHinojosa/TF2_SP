{
  "cells": [
    {
      "cell_type": "markdown",
      "metadata": {
        "id": "I4cVrp04H8f2"
      },
      "source": [
        "# Capstone Project\n",
        "## Image classifier for the SVHN dataset\n",
        "### Instructions\n",
        "\n",
        "In this notebook, you will create a neural network that classifies real-world images digits. You will use concepts from throughout this course in building, training, testing, validating and saving your Tensorflow classifier model.\n",
        "\n",
        "This project is peer-assessed. Within this notebook you will find instructions in each section for how to complete the project. Pay close attention to the instructions as the peer review will be carried out according to a grading rubric that checks key parts of the project instructions. Feel free to add extra cells into the notebook as required.\n",
        "\n",
        "### How to submit\n",
        "\n",
        "When you have completed the Capstone project notebook, you will submit a pdf of the notebook for peer review. First ensure that the notebook has been fully executed from beginning to end, and all of the cell outputs are visible. This is important, as the grading rubric depends on the reviewer being able to view the outputs of your notebook. Save the notebook as a pdf (File -> Download as -> PDF via LaTeX). You should then submit this pdf for review.\n",
        "\n",
        "### Let's get started!\n",
        "\n",
        "We'll start by running some imports, and loading the dataset. For this project you are free to make further imports throughout the notebook as you wish. "
      ]
    },
    {
      "cell_type": "code",
      "execution_count": 1,
      "metadata": {
        "colab": {
          "base_uri": "https://localhost:8080/"
        },
        "id": "fBP36AkBJQnZ",
        "outputId": "0171208a-cb67-4b2f-98ad-b18c5b51e023"
      },
      "outputs": [
        {
          "name": "stdout",
          "output_type": "stream",
          "text": [
            "Drive already mounted at /content/drive/; to attempt to forcibly remount, call drive.mount(\"/content/drive/\", force_remount=True).\n"
          ]
        }
      ],
      "source": [
        "\n",
        "from google.colab import drive\n",
        "import os\n",
        "drive.mount('/content/drive/')"
      ]
    },
    {
      "cell_type": "code",
      "execution_count": 2,
      "metadata": {
        "colab": {
          "base_uri": "https://localhost:8080/"
        },
        "id": "dAy-yACjJeNy",
        "outputId": "72fe11e3-502b-4611-ebce-aefcf75fb725"
      },
      "outputs": [
        {
          "name": "stdout",
          "output_type": "stream",
          "text": [
            "test_32x32.mat\ttrain_32x32.mat\n"
          ]
        }
      ],
      "source": [
        "! dir /content/drive/MyDrive/data_cp"
      ]
    },
    {
      "cell_type": "code",
      "execution_count": 3,
      "metadata": {
        "id": "a5iA-y7OH8gR"
      },
      "outputs": [],
      "source": [
        "import tensorflow as tf\n",
        "from scipy.io import loadmat\n",
        "import matplotlib.pyplot as plt\n",
        "import numpy as np"
      ]
    },
    {
      "cell_type": "markdown",
      "metadata": {
        "id": "ZFyyKpibH8gW"
      },
      "source": [
        "\n",
        "For the capstone project, you will use the [SVHN dataset](http://ufldl.stanford.edu/housenumbers/). This is an  image dataset of over 600,000 digit images in all, and is a harder dataset than MNIST as the numbers appear in the context of natural scene images. SVHN is obtained from house numbers in Google Street View images. \n",
        "\n",
        "* Y. Netzer, T. Wang, A. Coates, A. Bissacco, B. Wu and A. Y. Ng. \"Reading Digits in Natural Images with Unsupervised Feature Learning\". NIPS Workshop on Deep Learning and Unsupervised Feature Learning, 2011.\n",
        "\n",
        "Your goal is to develop an end-to-end workflow for building, training, validating, evaluating and saving a neural network that classifies a real-world image into one of ten classes."
      ]
    },
    {
      "cell_type": "code",
      "execution_count": 4,
      "metadata": {
        "id": "ublunfj8H8ga"
      },
      "outputs": [],
      "source": [
        "# Run this cell to load the dataset\n",
        "\n",
        "train = loadmat('/content/drive/MyDrive/data_cp/train_32x32.mat')\n",
        "test = loadmat('/content/drive/MyDrive/data_cp/test_32x32.mat')"
      ]
    },
    {
      "cell_type": "markdown",
      "metadata": {
        "id": "nip4RgDqH8ge"
      },
      "source": [
        "Both `train` and `test` are dictionaries with keys `X` and `y` for the input images and labels respectively."
      ]
    },
    {
      "cell_type": "markdown",
      "metadata": {
        "id": "uHJrdQ8xH8gh"
      },
      "source": [
        "## 1. Inspect and preprocess the dataset\n",
        "* Extract the training and testing images and labels separately from the train and test dictionaries loaded for you.\n",
        "* Select a random sample of images and corresponding labels from the dataset (at least 10), and display them in a figure.\n",
        "* Convert the training and test images to grayscale by taking the average across all colour channels for each pixel. _Hint: retain the channel dimension, which will now have size 1._\n",
        "* Select a random sample of the grayscale images and corresponding labels from the dataset (at least 10), and display them in a figure."
      ]
    },
    {
      "cell_type": "code",
      "execution_count": 5,
      "metadata": {
        "colab": {
          "base_uri": "https://localhost:8080/"
        },
        "id": "KyfI37FUH8gk",
        "outputId": "e0e93ee7-ebb7-4ffb-817f-139c5f8f4d09",
        "scrolled": true
      },
      "outputs": [
        {
          "name": "stdout",
          "output_type": "stream",
          "text": [
            "dict_keys(['__header__', '__version__', '__globals__', 'X', 'y'])\n",
            "dict_keys(['__header__', '__version__', '__globals__', 'X', 'y'])\n"
          ]
        }
      ],
      "source": [
        "print(train.keys())\n",
        "print(test.keys())"
      ]
    },
    {
      "cell_type": "code",
      "execution_count": 6,
      "metadata": {
        "colab": {
          "base_uri": "https://localhost:8080/"
        },
        "id": "SbgbhRHVH8gq",
        "outputId": "e496634a-eb77-43c8-abf6-42a4a290e105"
      },
      "outputs": [
        {
          "name": "stdout",
          "output_type": "stream",
          "text": [
            "<class 'numpy.ndarray'>\n",
            "(32, 32, 3, 73257)\n",
            "(73257, 1)\n",
            "(32, 32, 3, 26032)\n",
            "(26032, 1)\n"
          ]
        }
      ],
      "source": [
        "xTrain = train[\"X\"]\n",
        "yTrain = train[\"y\"]\n",
        "xTest = test[\"X\"]\n",
        "yTest = test[\"y\"]\n",
        "print(type(xTrain))\n",
        "print(xTrain.shape)\n",
        "print(yTrain.shape)\n",
        "print(xTest.shape)\n",
        "print(yTest.shape)\n",
        "\n",
        "yTrain[yTrain == 10] = 0\n",
        "yTest[yTest == 10] = 0"
      ]
    },
    {
      "cell_type": "code",
      "execution_count": 7,
      "metadata": {
        "id": "NKL9GN8UH8gt"
      },
      "outputs": [],
      "source": [
        "def dataSet2GrayScale(xTrain,xTest):\n",
        "    # extract number of images from both sets\n",
        "    trainLen = xTrain.shape[3]\n",
        "    testLen = xTest.shape[3]\n",
        "    # get average reshape, normalize\n",
        "    xTrainNew = np.mean(xTrain,2).reshape(32,32,1,trainLen)\n",
        "    xTestNew = np.mean(xTest,2).reshape(32,32,1,testLen)\n",
        "    # reshape and normalize\n",
        "    xTrainNew = np.moveaxis(xTrainNew,-1,0) /255.0\n",
        "    xTestNew = np.moveaxis(xTestNew,-1,0) /255.0\n",
        "    return xTrainNew , xTestNew\n"
      ]
    },
    {
      "cell_type": "code",
      "execution_count": 8,
      "metadata": {
        "colab": {
          "base_uri": "https://localhost:8080/"
        },
        "id": "strVRoZdH8gw",
        "outputId": "e34ccfa0-e998-46c7-814e-3909a4f4a200",
        "scrolled": true
      },
      "outputs": [
        {
          "name": "stdout",
          "output_type": "stream",
          "text": [
            "(73257, 32, 32, 1)\n",
            "(26032, 32, 32, 1)\n"
          ]
        }
      ],
      "source": [
        "xTrainGray, xTestGray = dataSet2GrayScale(xTrain,xTest)\n",
        "print(xTrainGray.shape)\n",
        "print(xTestGray.shape)"
      ]
    },
    {
      "cell_type": "code",
      "execution_count": 9,
      "metadata": {
        "id": "ZX2taoPDH8gz"
      },
      "outputs": [],
      "source": [
        "def plotImages(dataSet,labels,rows,cols):\n",
        "    fig,axes = plt.subplots(rows,cols)\n",
        "    for index,axis in enumerate(axes.flat):\n",
        "        img = np.random.choice(dataSet.shape[0], 1)[-1]\n",
        "        if dataSet[img].shape[2] == 1:\n",
        "            axis.imshow(dataSet[img,:,:,0], cmap='gray')\n",
        "        else:\n",
        "            #print(dataSet[:,:,:,img].shape)\n",
        "            axis.imshow(dataSet[:,:,:,img])\n",
        "        axis.axis('off')\n",
        "        axis.set_title(labels[img])        \n",
        "    "
      ]
    },
    {
      "cell_type": "code",
      "execution_count": 10,
      "metadata": {
        "colab": {
          "base_uri": "https://localhost:8080/",
          "height": 130
        },
        "id": "H66l3aixH8g1",
        "outputId": "06166525-8d80-49b7-ff57-bafcaa3d2d35",
        "scrolled": true
      },
      "outputs": [
        {
          "name": "stderr",
          "output_type": "stream",
          "text": [
            "/usr/local/lib/python3.7/dist-packages/matplotlib/text.py:1165: FutureWarning: elementwise comparison failed; returning scalar instead, but in the future will perform elementwise comparison\n",
            "  if s != self._text:\n"
          ]
        },
        {
          "data": {
            "image/png": "[encoded data removed]",
            "text/plain": [
              "<Figure size 432x288 with 10 Axes>"
            ]
          },
          "metadata": {
            "needs_background": "light"
          },
          "output_type": "display_data"
        }
      ],
      "source": [
        "plotImages(xTrainGray,yTrain,1,10)"
      ]
    },
    {
      "cell_type": "code",
      "execution_count": 11,
      "metadata": {
        "colab": {
          "base_uri": "https://localhost:8080/",
          "height": 130
        },
        "id": "VHoIm13ZH8g2",
        "outputId": "f4883f50-83fc-4816-858e-fd00d51a0b0e",
        "scrolled": true
      },
      "outputs": [
        {
          "name": "stderr",
          "output_type": "stream",
          "text": [
            "/usr/local/lib/python3.7/dist-packages/matplotlib/text.py:1165: FutureWarning: elementwise comparison failed; returning scalar instead, but in the future will perform elementwise comparison\n",
            "  if s != self._text:\n"
          ]
        },
        {
          "data": {
            "image/png": "[encoded data removed]",
            "text/plain": [
              "<Figure size 432x288 with 10 Axes>"
            ]
          },
          "metadata": {
            "needs_background": "light"
          },
          "output_type": "display_data"
        }
      ],
      "source": [
        "plotImages(xTrain,yTrain,1,10)"
      ]
    },
    {
      "cell_type": "markdown",
      "metadata": {
        "id": "h-lt7Gt7H8g4"
      },
      "source": [
        "## 2. MLP neural network classifier\n",
        "* Build an MLP classifier model using the Sequential API. Your model should use only Flatten and Dense layers, with the final layer having a 10-way softmax output. \n",
        "* You should design and build the model yourself. Feel free to experiment with different MLP architectures. _Hint: to achieve a reasonable accuracy you won't need to use more than 4 or 5 layers._\n",
        "* Print out the model summary (using the summary() method)\n",
        "* Compile and train the model (we recommend a maximum of 30 epochs), making use of both training and validation sets during the training run. \n",
        "* Your model should track at least one appropriate metric, and use at least two callbacks during training, one of which should be a ModelCheckpoint callback.\n",
        "* As a guide, you should aim to achieve a final categorical cross entropy training loss of less than 1.0 (the validation loss might be higher).\n",
        "* Plot the learning curves for loss vs epoch and accuracy vs epoch for both training and validation sets.\n",
        "* Compute and display the loss and accuracy of the trained model on the test set."
      ]
    },
    {
      "cell_type": "code",
      "execution_count": 12,
      "metadata": {
        "id": "fUs29NReH8g5"
      },
      "outputs": [],
      "source": [
        "from tensorflow.keras.models import Sequential\n",
        "from tensorflow.keras.callbacks import EarlyStopping, ModelCheckpoint \n",
        "from tensorflow.keras.layers import Dense, Flatten,Conv2D, MaxPool2D,Dropout\n",
        "from sklearn.model_selection import train_test_split\n",
        "\n"
      ]
    },
    {
      "cell_type": "code",
      "execution_count": 13,
      "metadata": {
        "colab": {
          "base_uri": "https://localhost:8080/"
        },
        "id": "cbadhfp9H8g7",
        "outputId": "52e3a509-bd55-4758-f8d8-d222c0843264"
      },
      "outputs": [
        {
          "name": "stdout",
          "output_type": "stream",
          "text": [
            "[0, 1, 2, 3, 4, 5, 6, 7, 8, 9] 10\n"
          ]
        }
      ],
      "source": [
        "labels = list(np.unique(yTrain))\n",
        "print(labels,len(labels))"
      ]
    },
    {
      "cell_type": "code",
      "execution_count": 14,
      "metadata": {
        "id": "dAQNop4WH8g8"
      },
      "outputs": [],
      "source": [
        "yTrain = tf.keras.utils.to_categorical(yTrain)\n",
        "yTest = tf.keras.utils.to_categorical(yTest)"
      ]
    },
    {
      "cell_type": "code",
      "execution_count": 15,
      "metadata": {
        "colab": {
          "base_uri": "https://localhost:8080/",
          "height": 36
        },
        "id": "illqGixFH8g9",
        "outputId": "8a3526bc-7849-4fd3-aca9-7ab028bb09dc",
        "scrolled": true
      },
      "outputs": [
        {
          "data": {
            "application/vnd.google.colaboratory.intrinsic+json": {
              "type": "string"
            },
            "text/plain": [
              "'\\nyr = np.where(yTrain==10)\\nindex = yr[0][69]\\nprint(yTrain[index])\\nplt.imshow(xTrain[:,:,:,index])\\n'"
            ]
          },
          "execution_count": 15,
          "metadata": {},
          "output_type": "execute_result"
        }
      ],
      "source": [
        "\"\"\"\n",
        "yr = np.where(yTrain==10)\n",
        "index = yr[0][69]\n",
        "print(yTrain[index])\n",
        "plt.imshow(xTrain[:,:,:,index])\n",
        "\"\"\"\n"
      ]
    },
    {
      "cell_type": "code",
      "execution_count": 16,
      "metadata": {
        "id": "OHjkoaYBH8g-"
      },
      "outputs": [],
      "source": [
        "def decodeOutout(yHat,labels=labels):\n",
        "    index = np.argmax(yHat)\n",
        "    return labels[index-1]"
      ]
    },
    {
      "cell_type": "code",
      "execution_count": 17,
      "metadata": {
        "colab": {
          "base_uri": "https://localhost:8080/"
        },
        "id": "fYGAmOXqH8hA",
        "outputId": "4b850efd-bf4b-4b15-9c16-64e3b2e0622a"
      },
      "outputs": [
        {
          "name": "stdout",
          "output_type": "stream",
          "text": [
            "(58605, 32, 32, 1)\n",
            "(14652, 32, 32, 1)\n",
            "(58605, 10)\n",
            "(14652, 10)\n"
          ]
        }
      ],
      "source": [
        "# train-validation split\n",
        "xTrainGray, xValGray, yTrainGray, yValGray = train_test_split(xTrainGray, yTrain, test_size=0.2)\n",
        "print(xTrainGray.shape)\n",
        "print(xValGray.shape)\n",
        "print(yTrainGray.shape)\n",
        "print(yValGray.shape)"
      ]
    },
    {
      "cell_type": "code",
      "execution_count": 18,
      "metadata": {
        "id": "NOdEmFstH8hB",
        "scrolled": false
      },
      "outputs": [],
      "source": [
        "model = Sequential()\n",
        "model.add(Flatten(input_shape=(32,32,1)))\n",
        "model.add(Dense(512,activation=\"relu\"))\n",
        "model.add(Dense(128,activation=\"relu\"))\n",
        "model.add(Dense(64,activation=\"relu\"))\n",
        "model.add(Dense(10,activation=\"softmax\"))\n",
        "\n",
        "\n"
      ]
    },
    {
      "cell_type": "code",
      "execution_count": 19,
      "metadata": {
        "colab": {
          "base_uri": "https://localhost:8080/"
        },
        "id": "h_Airx9Td_7d",
        "outputId": "442c212a-ad32-4149-9e66-70ad76fc5193"
      },
      "outputs": [
        {
          "name": "stdout",
          "output_type": "stream",
          "text": [
            "Model: \"sequential\"\n",
            "_________________________________________________________________\n",
            " Layer (type)                Output Shape              Param #   \n",
            "=================================================================\n",
            " flatten (Flatten)           (None, 1024)              0         \n",
            "                                                                 \n",
            " dense (Dense)               (None, 512)               524800    \n",
            "                                                                 \n",
            " dense_1 (Dense)             (None, 128)               65664     \n",
            "                                                                 \n",
            " dense_2 (Dense)             (None, 64)                8256      \n",
            "                                                                 \n",
            " dense_3 (Dense)             (None, 10)                650       \n",
            "                                                                 \n",
            "=================================================================\n",
            "Total params: 599,370\n",
            "Trainable params: 599,370\n",
            "Non-trainable params: 0\n",
            "_________________________________________________________________\n"
          ]
        }
      ],
      "source": [
        "model.summary()"
      ]
    },
    {
      "cell_type": "code",
      "execution_count": 20,
      "metadata": {
        "id": "eJWOwamYH8hC",
        "scrolled": false
      },
      "outputs": [],
      "source": [
        "model.compile(optimizer='adam', loss='categorical_crossentropy', metrics=['accuracy'])\n"
      ]
    },
    {
      "cell_type": "code",
      "execution_count": 21,
      "metadata": {
        "id": "i2S4EazxH8hD"
      },
      "outputs": [],
      "source": [
        "path = \"modelCheckpoints/checkpoint\"\n",
        "check = ModelCheckpoint(filepath=path,save_weights_only=True,frequency=\"epoch\")\n",
        "stop = EarlyStopping(mode=\"min\",patience = 5,min_delta = 0.05)"
      ]
    },
    {
      "cell_type": "code",
      "execution_count": 22,
      "metadata": {
        "colab": {
          "base_uri": "https://localhost:8080/"
        },
        "id": "-VL7EyGjH8hF",
        "outputId": "35414cf6-d39c-4926-8415-4b9567011504",
        "scrolled": true
      },
      "outputs": [
        {
          "name": "stdout",
          "output_type": "stream",
          "text": [
            "Epoch 1/30\n",
            "1832/1832 [==============================] - 11s 5ms/step - loss: 2.0117 - accuracy: 0.2817 - val_loss: 1.5826 - val_accuracy: 0.4554\n",
            "Epoch 2/30\n",
            "1832/1832 [==============================] - 11s 6ms/step - loss: 1.4254 - accuracy: 0.5195 - val_loss: 1.2537 - val_accuracy: 0.5874\n",
            "Epoch 3/30\n",
            "1832/1832 [==============================] - 9s 5ms/step - loss: 1.2186 - accuracy: 0.6026 - val_loss: 1.1647 - val_accuracy: 0.6244\n",
            "Epoch 4/30\n",
            "1832/1832 [==============================] - 7s 4ms/step - loss: 1.1308 - accuracy: 0.6368 - val_loss: 1.0799 - val_accuracy: 0.6619\n",
            "Epoch 5/30\n",
            "1832/1832 [==============================] - 7s 4ms/step - loss: 1.0744 - accuracy: 0.6583 - val_loss: 1.0496 - val_accuracy: 0.6703\n",
            "Epoch 6/30\n",
            "1832/1832 [==============================] - 7s 4ms/step - loss: 1.0312 - accuracy: 0.6747 - val_loss: 1.0268 - val_accuracy: 0.6763\n",
            "Epoch 7/30\n",
            "1832/1832 [==============================] - 8s 4ms/step - loss: 0.9970 - accuracy: 0.6845 - val_loss: 0.9445 - val_accuracy: 0.7109\n",
            "Epoch 8/30\n",
            "1832/1832 [==============================] - 7s 4ms/step - loss: 0.9683 - accuracy: 0.6945 - val_loss: 0.9668 - val_accuracy: 0.6939\n",
            "Epoch 9/30\n",
            "1832/1832 [==============================] - 7s 4ms/step - loss: 0.9443 - accuracy: 0.7027 - val_loss: 0.9769 - val_accuracy: 0.6912\n",
            "Epoch 10/30\n",
            "1832/1832 [==============================] - 7s 4ms/step - loss: 0.9298 - accuracy: 0.7048 - val_loss: 0.9366 - val_accuracy: 0.7095\n",
            "Epoch 11/30\n",
            "1832/1832 [==============================] - 7s 4ms/step - loss: 0.9164 - accuracy: 0.7108 - val_loss: 0.9027 - val_accuracy: 0.7198\n",
            "Epoch 12/30\n",
            "1832/1832 [==============================] - 7s 4ms/step - loss: 0.8950 - accuracy: 0.7170 - val_loss: 0.9983 - val_accuracy: 0.6805\n"
          ]
        }
      ],
      "source": [
        "hist = model.fit(xTrainGray,yTrainGray,epochs=30,validation_data=(xValGray,yValGray),callbacks=[check,stop])"
      ]
    },
    {
      "cell_type": "code",
      "execution_count": 23,
      "metadata": {
        "colab": {
          "base_uri": "https://localhost:8080/"
        },
        "id": "RwgnxBOMH8hH",
        "outputId": "566c8110-f06b-4649-d052-ff6db38515ec",
        "scrolled": true
      },
      "outputs": [
        {
          "name": "stdout",
          "output_type": "stream",
          "text": [
            "dict_keys(['loss', 'accuracy', 'val_loss', 'val_accuracy'])\n"
          ]
        }
      ],
      "source": [
        "print(hist.history.keys())"
      ]
    },
    {
      "cell_type": "code",
      "execution_count": 24,
      "metadata": {
        "colab": {
          "base_uri": "https://localhost:8080/",
          "height": 312
        },
        "id": "rpVuES7_H8hI",
        "outputId": "81234935-dd4a-494a-f973-836933e639f0",
        "scrolled": true
      },
      "outputs": [
        {
          "data": {
            "text/plain": [
              "<matplotlib.legend.Legend at 0x7fa722099b90>"
            ]
          },
          "execution_count": 24,
          "metadata": {},
          "output_type": "execute_result"
        },
        {
          "data": {
            "image/png": "[encoded data removed]",
            "text/plain": [
              "<Figure size 432x288 with 2 Axes>"
            ]
          },
          "metadata": {
            "needs_background": "light"
          },
          "output_type": "display_data"
        }
      ],
      "source": [
        "plt.figure()\n",
        "plt.subplot(1,2,1)\n",
        "plt.plot(hist.history[\"loss\"])\n",
        "plt.plot(hist.history[\"val_loss\"])\n",
        "plt.title(\"loss vs epochs\")\n",
        "plt.xlabel(\"epochs\")\n",
        "plt.ylabel(\"loss\")\n",
        "plt.legend([\"training\",\"validation\"])\n",
        "plt.subplot(1,2,2)\n",
        "plt.plot(hist.history[\"accuracy\"])\n",
        "plt.plot(hist.history[\"val_accuracy\"])\n",
        "plt.title(\"accuracy vs epochs\")\n",
        "plt.xlabel(\"epochs\")\n",
        "plt.ylabel(\"accuracy\")\n",
        "plt.legend([\"training\",\"validation\"])"
      ]
    },
    {
      "cell_type": "code",
      "execution_count": 25,
      "metadata": {
        "colab": {
          "base_uri": "https://localhost:8080/"
        },
        "id": "-BQE22KaH8hJ",
        "outputId": "ca19928c-678f-491c-df1e-40097350ec08"
      },
      "outputs": [
        {
          "name": "stdout",
          "output_type": "stream",
          "text": [
            "loss: 1.113389492034912\n",
            " accuracy: 0.6563460230827332%\n"
          ]
        }
      ],
      "source": [
        "testLoss, testAcc = model.evaluate(xTestGray, yTest, verbose=0)\n",
        "print(f\"loss: {testLoss}\\n accuracy: {testAcc}%\")"
      ]
    },
    {
      "cell_type": "markdown",
      "metadata": {
        "id": "w4zy4vuJH8hK"
      },
      "source": [
        "## 3. CNN neural network classifier\n",
        "* Build a CNN classifier model using the Sequential API. Your model should use the Conv2D, MaxPool2D, BatchNormalization, Flatten, Dense and Dropout layers. The final layer should again have a 10-way softmax output. \n",
        "* You should design and build the model yourself. Feel free to experiment with different CNN architectures. _Hint: to achieve a reasonable accuracy you won't need to use more than 2 or 3 convolutional layers and 2 fully connected layers.)_\n",
        "* The CNN model should use fewer trainable parameters than your MLP model.\n",
        "* Compile and train the model (we recommend a maximum of 30 epochs), making use of both training and validation sets during the training run.\n",
        "* Your model should track at least one appropriate metric, and use at least two callbacks during training, one of which should be a ModelCheckpoint callback.\n",
        "* You should aim to beat the MLP model performance with fewer parameters!\n",
        "* Plot the learning curves for loss vs epoch and accuracy vs epoch for both training and validation sets.\n",
        "* Compute and display the loss and accuracy of the trained model on the test set."
      ]
    },
    {
      "cell_type": "code",
      "execution_count": 26,
      "metadata": {
        "id": "FB83Yl_aH8hK"
      },
      "outputs": [],
      "source": [
        "#l1Rate = 0.05\n",
        "#l2Rate = 0.005 ,kernel_regularizer=tf.keras.regularizers.l1_l2(l1=l1Rate,l2=l2Rate) \n",
        "dropoutRate = 0.2\n",
        "model2 = Sequential()\n",
        "model2.add(Conv2D(32,kernel_size=3,padding=\"SAME\",activation=\"relu\",input_shape=(32,32,1)))\n",
        "model2.add(MaxPool2D(pool_size = 2))\n",
        "model2.add(Conv2D(64,kernel_size=3,padding=\"SAME\",activation=\"relu\"))\n",
        "model2.add(MaxPool2D(pool_size = 2))\n",
        "model2.add(Flatten())\n",
        "model2.add(Dense(128,activation=\"relu\"))\n",
        "model2.add(Dropout(dropoutRate))\n",
        "model2.add(Dense(32,activation=\"relu\"))\n",
        "model2.add(Dense(10,activation=\"softmax\"))\n",
        "\n",
        "\n"
      ]
    },
    {
      "cell_type": "code",
      "execution_count": 27,
      "metadata": {
        "colab": {
          "base_uri": "https://localhost:8080/"
        },
        "id": "0a9umQHIeDYj",
        "outputId": "9e705759-6e80-452c-a015-0ff7fb2ac999"
      },
      "outputs": [
        {
          "name": "stdout",
          "output_type": "stream",
          "text": [
            "Model: \"sequential_1\"\n",
            "_________________________________________________________________\n",
            " Layer (type)                Output Shape              Param #   \n",
            "=================================================================\n",
            " conv2d (Conv2D)             (None, 32, 32, 32)        320       \n",
            "                                                                 \n",
            " max_pooling2d (MaxPooling2D  (None, 16, 16, 32)       0         \n",
            " )                                                               \n",
            "                                                                 \n",
            " conv2d_1 (Conv2D)           (None, 16, 16, 64)        18496     \n",
            "                                                                 \n",
            " max_pooling2d_1 (MaxPooling  (None, 8, 8, 64)         0         \n",
            " 2D)                                                             \n",
            "                                                                 \n",
            " flatten_1 (Flatten)         (None, 4096)              0         \n",
            "                                                                 \n",
            " dense_4 (Dense)             (None, 128)               524416    \n",
            "                                                                 \n",
            " dropout (Dropout)           (None, 128)               0         \n",
            "                                                                 \n",
            " dense_5 (Dense)             (None, 32)                4128      \n",
            "                                                                 \n",
            " dense_6 (Dense)             (None, 10)                330       \n",
            "                                                                 \n",
            "=================================================================\n",
            "Total params: 547,690\n",
            "Trainable params: 547,690\n",
            "Non-trainable params: 0\n",
            "_________________________________________________________________\n"
          ]
        }
      ],
      "source": [
        "model2.summary()"
      ]
    },
    {
      "cell_type": "code",
      "execution_count": 28,
      "metadata": {
        "id": "1dftZVO7H8hL"
      },
      "outputs": [],
      "source": [
        "model2.compile(optimizer='adam', loss='categorical_crossentropy', metrics=['accuracy'])\n"
      ]
    },
    {
      "cell_type": "code",
      "execution_count": 29,
      "metadata": {
        "id": "1iY3Ux0tH8hM"
      },
      "outputs": [],
      "source": [
        "newPath = \"convCheckpoint/checkpoint\"\n",
        "newCheck = ModelCheckpoint(filepath=newPath, frequency='epoch', save_weights_only=True)\n",
        "newStop = EarlyStopping(mode=\"min\",patience = 5,min_delta = 0.05)"
      ]
    },
    {
      "cell_type": "code",
      "execution_count": 30,
      "metadata": {
        "colab": {
          "base_uri": "https://localhost:8080/"
        },
        "id": "cIwfpZEEH8hN",
        "outputId": "3549570a-2843-4a1e-b4d7-f57bf0f95732",
        "scrolled": false
      },
      "outputs": [
        {
          "name": "stdout",
          "output_type": "stream",
          "text": [
            "Epoch 1/30\n",
            "1832/1832 [==============================] - 12s 6ms/step - loss: 1.0723 - accuracy: 0.6475 - val_loss: 0.5704 - val_accuracy: 0.8339\n",
            "Epoch 2/30\n",
            "1832/1832 [==============================] - 9s 5ms/step - loss: 0.5619 - accuracy: 0.8289 - val_loss: 0.4919 - val_accuracy: 0.8548\n",
            "Epoch 3/30\n",
            "1832/1832 [==============================] - 9s 5ms/step - loss: 0.4788 - accuracy: 0.8535 - val_loss: 0.4380 - val_accuracy: 0.8685\n",
            "Epoch 4/30\n",
            "1832/1832 [==============================] - 10s 5ms/step - loss: 0.4307 - accuracy: 0.8676 - val_loss: 0.3999 - val_accuracy: 0.8814\n",
            "Epoch 5/30\n",
            "1832/1832 [==============================] - 9s 5ms/step - loss: 0.4001 - accuracy: 0.8769 - val_loss: 0.3969 - val_accuracy: 0.8823\n",
            "Epoch 6/30\n",
            "1832/1832 [==============================] - 9s 5ms/step - loss: 0.3724 - accuracy: 0.8857 - val_loss: 0.4158 - val_accuracy: 0.8793\n",
            "Epoch 7/30\n",
            "1832/1832 [==============================] - 9s 5ms/step - loss: 0.3535 - accuracy: 0.8911 - val_loss: 0.3894 - val_accuracy: 0.8877\n",
            "Epoch 8/30\n",
            "1832/1832 [==============================] - 10s 6ms/step - loss: 0.3363 - accuracy: 0.8960 - val_loss: 0.3781 - val_accuracy: 0.8881\n",
            "Epoch 9/30\n",
            "1832/1832 [==============================] - 9s 5ms/step - loss: 0.3181 - accuracy: 0.9012 - val_loss: 0.3732 - val_accuracy: 0.8896\n",
            "Epoch 10/30\n",
            "1832/1832 [==============================] - 9s 5ms/step - loss: 0.3021 - accuracy: 0.9064 - val_loss: 0.3822 - val_accuracy: 0.8887\n",
            "Epoch 11/30\n",
            "1832/1832 [==============================] - 10s 6ms/step - loss: 0.2881 - accuracy: 0.9099 - val_loss: 0.3957 - val_accuracy: 0.8884\n",
            "Epoch 12/30\n",
            "1832/1832 [==============================] - 9s 5ms/step - loss: 0.2744 - accuracy: 0.9137 - val_loss: 0.3880 - val_accuracy: 0.8933\n",
            "Epoch 13/30\n",
            "1832/1832 [==============================] - 9s 5ms/step - loss: 0.2653 - accuracy: 0.9167 - val_loss: 0.3826 - val_accuracy: 0.8911\n"
          ]
        }
      ],
      "source": [
        "hist2 = model2.fit(xTrainGray,yTrainGray,epochs=30,validation_data=(xValGray,yValGray),callbacks=[newCheck,newStop])"
      ]
    },
    {
      "cell_type": "code",
      "execution_count": 31,
      "metadata": {
        "colab": {
          "base_uri": "https://localhost:8080/"
        },
        "id": "oz4g1ew5H8hO",
        "outputId": "2ecc1197-f529-41c2-ac01-922ba7a956d8",
        "scrolled": true
      },
      "outputs": [
        {
          "name": "stdout",
          "output_type": "stream",
          "text": [
            "dict_keys(['loss', 'accuracy', 'val_loss', 'val_accuracy'])\n"
          ]
        }
      ],
      "source": [
        "print(hist2.history.keys())"
      ]
    },
    {
      "cell_type": "code",
      "execution_count": 32,
      "metadata": {
        "colab": {
          "base_uri": "https://localhost:8080/",
          "height": 312
        },
        "id": "Nu4tjf_fH8hP",
        "outputId": "d00ad892-1f02-44e0-e060-e4d712e8eeb6"
      },
      "outputs": [
        {
          "data": {
            "text/plain": [
              "<matplotlib.legend.Legend at 0x7fa79fffe890>"
            ]
          },
          "execution_count": 32,
          "metadata": {},
          "output_type": "execute_result"
        },
        {
          "data": {
            "image/png": "[encoded data removed]",
            "text/plain": [
              "<Figure size 432x288 with 2 Axes>"
            ]
          },
          "metadata": {
            "needs_background": "light"
          },
          "output_type": "display_data"
        }
      ],
      "source": [
        "plt.figure()\n",
        "plt.subplot(1,2,1)\n",
        "plt.plot(hist2.history[\"loss\"])\n",
        "plt.plot(hist2.history[\"val_loss\"])\n",
        "plt.title(\"loss vs epochs\")\n",
        "plt.xlabel(\"epochs\")\n",
        "plt.ylabel(\"loss\")\n",
        "plt.legend([\"training\",\"validation\"])\n",
        "plt.subplot(1,2,2)\n",
        "plt.plot(hist2.history[\"accuracy\"])\n",
        "plt.plot(hist2.history[\"val_accuracy\"])\n",
        "plt.title(\"accuracy vs epochs\")\n",
        "plt.xlabel(\"epochs\")\n",
        "plt.ylabel(\"accuracy\")\n",
        "plt.legend([\"training\",\"validation\"])"
      ]
    },
    {
      "cell_type": "code",
      "execution_count": 33,
      "metadata": {
        "colab": {
          "base_uri": "https://localhost:8080/"
        },
        "id": "4b_vVJt6H8hR",
        "outputId": "49f29c9f-c186-4efb-f299-3d0e9d47fb7a"
      },
      "outputs": [
        {
          "name": "stdout",
          "output_type": "stream",
          "text": [
            "loss: 0.40843114256858826\n",
            " accuracy: 0.8887138962745667%\n"
          ]
        }
      ],
      "source": [
        "testLoss2, testAcc2 = model2.evaluate(xTestGray, yTest, verbose=0)\n",
        "print(f\"loss: {testLoss2}\\n accuracy: {testAcc2}%\")"
      ]
    },
    {
      "cell_type": "markdown",
      "metadata": {
        "id": "AjU4SJt5H8hS"
      },
      "source": [
        "## 4. Get model predictions\n",
        "* Load the best weights for the MLP and CNN models that you saved during the training run.\n",
        "* Randomly select 5 images and corresponding labels from the test set and display the images with their labels.\n",
        "* Alongside the image and label, show each model’s predictive distribution as a bar chart, and the final model prediction given by the label with maximum probability."
      ]
    },
    {
      "cell_type": "code",
      "execution_count": 34,
      "metadata": {
        "id": "9BDF-Q2OH8hU"
      },
      "outputs": [],
      "source": [
        "def getNeuralModel():\n",
        "    model = Sequential()\n",
        "    model.add(Flatten(input_shape=(32,32,1)))\n",
        "    model.add(Dense(512,activation=\"relu\"))\n",
        "    model.add(Dense(128,activation=\"relu\"))\n",
        "    model.add(Dense(64,activation=\"relu\"))\n",
        "    model.add(Dense(10,activation=\"softmax\"))\n",
        "    model.compile(optimizer='adam', loss='categorical_crossentropy', metrics=['accuracy']) \n",
        "    return model\n",
        "    \n",
        "def getConvModel():\n",
        "    dropoutRate = 0.2\n",
        "    model2 = Sequential()\n",
        "    model2.add(Conv2D(32,kernel_size=3,padding=\"SAME\",activation=\"relu\",input_shape=(32,32,1)))\n",
        "    model2.add(MaxPool2D(pool_size = 2))\n",
        "    model2.add(Conv2D(64,kernel_size=3,padding=\"SAME\",activation=\"relu\"))\n",
        "    model2.add(MaxPool2D(pool_size = 2))\n",
        "    model2.add(Flatten())\n",
        "    model2.add(Dense(128,activation=\"relu\"))\n",
        "    model2.add(Dropout(dropoutRate))\n",
        "    model2.add(Dense(32,activation=\"relu\"))\n",
        "    model2.add(Dense(10,activation=\"softmax\"))  \n",
        "    model2.compile(optimizer='adam', loss='categorical_crossentropy', metrics=['accuracy'])\n",
        "    return model2"
      ]
    },
    {
      "cell_type": "code",
      "execution_count": 35,
      "metadata": {
        "id": "qo5Pbk-oH8hV"
      },
      "outputs": [],
      "source": [
        "def accuracyModel(model,xTest = xTestGray,yTest=yTest):\n",
        "    loss,acc = model.evaluate(xTest,yTest,verbose = 0)\n",
        "    print(f\"accuracy:{acc} | loss: {loss}\")"
      ]
    },
    {
      "cell_type": "code",
      "execution_count": 36,
      "metadata": {
        "id": "6UNGMJSwH8hW"
      },
      "outputs": [],
      "source": [
        "neuralFile =  tf.train.latest_checkpoint(\"modelCheckpoints\")\n",
        "convFile = tf.train.latest_checkpoint(\"convCheckpoint\")"
      ]
    },
    {
      "cell_type": "code",
      "execution_count": 37,
      "metadata": {
        "colab": {
          "base_uri": "https://localhost:8080/"
        },
        "id": "yNEunfK-H8hX",
        "outputId": "11837968-3c34-4b60-8a35-77755940bcab"
      },
      "outputs": [
        {
          "name": "stdout",
          "output_type": "stream",
          "text": [
            "accuracy:0.6563460230827332 | loss: 1.113389492034912\n"
          ]
        }
      ],
      "source": [
        "neuralModel = getNeuralModel()\n",
        "neuralModel.load_weights(neuralFile)\n",
        "accuracyModel(neuralModel)"
      ]
    },
    {
      "cell_type": "code",
      "execution_count": 38,
      "metadata": {
        "colab": {
          "base_uri": "https://localhost:8080/"
        },
        "id": "vYEWv4i2H8hZ",
        "outputId": "507c65fa-0791-400e-83d5-56d1122043d6"
      },
      "outputs": [
        {
          "name": "stdout",
          "output_type": "stream",
          "text": [
            "accuracy:0.8887138962745667 | loss: 0.40843114256858826\n"
          ]
        }
      ],
      "source": [
        "convModel = getConvModel()\n",
        "convModel.load_weights(convFile)\n",
        "accuracyModel(convModel)"
      ]
    },
    {
      "cell_type": "code",
      "execution_count": 39,
      "metadata": {
        "id": "TYrRlxV3H8hZ"
      },
      "outputs": [],
      "source": [
        "neuralPredictions = neuralModel.predict(xTestGray)"
      ]
    },
    {
      "cell_type": "code",
      "execution_count": 40,
      "metadata": {
        "id": "mMphwJabH8ha",
        "scrolled": true
      },
      "outputs": [],
      "source": [
        "convPredictions = convModel.predict(xTestGray)"
      ]
    },
    {
      "cell_type": "code",
      "execution_count": 41,
      "metadata": {
        "id": "qBepFnniH8hc"
      },
      "outputs": [],
      "source": [
        "def plotImageNice(label,image,prediction):\n",
        "    pred = list(range(10))[np.argmax(prediction)]\n",
        "    lab = list(range(10))[np.argmax(label)]\n",
        "    plt.figure()\n",
        "    plt.subplot(1,2,1)\n",
        "    plt.xticks([])\n",
        "    plt.yticks([])\n",
        "    plt.title(f\"Prediction: {pred} | real: {lab}\")\n",
        "    plt.imshow(image,cmap=\"gray\")\n",
        "    plt.subplot(1,2,2)\n",
        "    plt.title(\"softmax probability Distribution\")\n",
        "    plt.bar(range(10),prediction)"
      ]
    },
    {
      "cell_type": "code",
      "execution_count": 42,
      "metadata": {
        "id": "pyEsz74QO9jy"
      },
      "outputs": [],
      "source": [
        "testLen = yTest.shape[0]\n",
        "indices = np.random.choice(testLen,5)"
      ]
    },
    {
      "cell_type": "code",
      "execution_count": 43,
      "metadata": {
        "id": "86gkSGR_PTGK"
      },
      "outputs": [],
      "source": [
        "convPredictions = convPredictions[indices]\n",
        "labels = yTest[indices]\n",
        "images = xTestGray[indices,:,:,0]"
      ]
    },
    {
      "cell_type": "markdown",
      "metadata": {
        "id": "P7G9__ATW1-o"
      },
      "source": [
        "# Convolutional Neural Network Predictions"
      ]
    },
    {
      "cell_type": "code",
      "execution_count": 44,
      "metadata": {
        "colab": {
          "base_uri": "https://localhost:8080/",
          "height": 1000
        },
        "id": "-QOJMw06SIDQ",
        "outputId": "ccceb7cb-f277-4f0d-ee20-9eca00f3a378"
      },
      "outputs": [
        {
          "data": {
            "image/png": "[encoded data removed]",
            "text/plain": [
              "<Figure size 432x288 with 2 Axes>"
            ]
          },
          "metadata": {
            "needs_background": "light"
          },
          "output_type": "display_data"
        },
        {
          "data": {
            "image/png": "[encoded data removed]",
            "text/plain": [
              "<Figure size 432x288 with 2 Axes>"
            ]
          },
          "metadata": {
            "needs_background": "light"
          },
          "output_type": "display_data"
        },
        {
          "data": {
            "image/png": "[encoded data removed]",
            "text/plain": [
              "<Figure size 432x288 with 2 Axes>"
            ]
          },
          "metadata": {
            "needs_background": "light"
          },
          "output_type": "display_data"
        },
        {
          "data": {
            "image/png": "[encoded data removed]",
            "text/plain": [
              "<Figure size 432x288 with 2 Axes>"
            ]
          },
          "metadata": {
            "needs_background": "light"
          },
          "output_type": "display_data"
        },
        {
          "data": {
            "image/png": "[encoded data removed]",
            "text/plain": [
              "<Figure size 432x288 with 2 Axes>"
            ]
          },
          "metadata": {
            "needs_background": "light"
          },
          "output_type": "display_data"
        }
      ],
      "source": [
        "plotImageNice(labels[0],images[0],convPredictions[0])\n",
        "plotImageNice(labels[1],images[1],convPredictions[1])\n",
        "plotImageNice(labels[2],images[2],convPredictions[2])\n",
        "plotImageNice(labels[3],images[3],convPredictions[3])\n",
        "plotImageNice(labels[4],images[4],convPredictions[4])\n",
        "\n"
      ]
    },
    {
      "cell_type": "markdown",
      "metadata": {
        "id": "glXKa-7IWu7h"
      },
      "source": [
        "# Normal Neural Network Predictions"
      ]
    },
    {
      "cell_type": "code",
      "execution_count": 45,
      "metadata": {
        "colab": {
          "base_uri": "https://localhost:8080/",
          "height": 1000
        },
        "id": "YTOxxKkuTxbs",
        "outputId": "a9d69364-ec02-42b4-b3bc-94f9749f511b"
      },
      "outputs": [
        {
          "data": {
            "image/png": "[encoded data removed]",
            "text/plain": [
              "<Figure size 432x288 with 2 Axes>"
            ]
          },
          "metadata": {
            "needs_background": "light"
          },
          "output_type": "display_data"
        },
        {
          "data": {
            "image/png": "[encoded data removed]",
            "text/plain": [
              "<Figure size 432x288 with 2 Axes>"
            ]
          },
          "metadata": {
            "needs_background": "light"
          },
          "output_type": "display_data"
        },
        {
          "data": {
            "image/png": "[encoded data removed]",
            "text/plain": [
              "<Figure size 432x288 with 2 Axes>"
            ]
          },
          "metadata": {
            "needs_background": "light"
          },
          "output_type": "display_data"
        },
        {
          "data": {
            "image/png": "[encoded data removed]",
            "text/plain": [
              "<Figure size 432x288 with 2 Axes>"
            ]
          },
          "metadata": {
            "needs_background": "light"
          },
          "output_type": "display_data"
        },
        {
          "data": {
            "image/png": "[encoded data removed]",
            "text/plain": [
              "<Figure size 432x288 with 2 Axes>"
            ]
          },
          "metadata": {
            "needs_background": "light"
          },
          "output_type": "display_data"
        }
      ],
      "source": [
        "neuralPredictions = neuralPredictions[indices]\n",
        "plotImageNice(labels[0],images[0],neuralPredictions[0])\n",
        "plotImageNice(labels[1],images[1],neuralPredictions[1])\n",
        "plotImageNice(labels[2],images[2],neuralPredictions[2])\n",
        "plotImageNice(labels[3],images[3],neuralPredictions[3])\n",
        "plotImageNice(labels[4],images[4],neuralPredictions[4])"
      ]
    }
  ],
  "metadata": {
    "accelerator": "GPU",
    "colab": {
      "collapsed_sections": [],
      "name": "Capstone Project.ipynb",
      "provenance": [],
      "toc_visible": true
    },
    "kernelspec": {
      "display_name": "Python 3",
      "language": "python",
      "name": "python3"
    },
    "language_info": {
      "codemirror_mode": {
        "name": "ipython",
        "version": 3
      },
      "file_extension": ".py",
      "mimetype": "text/x-python",
      "name": "python",
      "nbconvert_exporter": "python",
      "pygments_lexer": "ipython3",
      "version": "3.7.1"
    }
  },
  "nbformat": 4,
  "nbformat_minor": 0
}
